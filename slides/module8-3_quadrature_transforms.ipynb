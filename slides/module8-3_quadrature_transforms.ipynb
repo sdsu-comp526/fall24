{
 "cells": [
  {
   "cell_type": "markdown",
   "id": "4159be0e",
   "metadata": {
    "hideCode": false,
    "hidePrompt": false,
    "slideshow": {
     "slide_type": "slide"
    }
   },
   "source": [
    "# 31) Transformed Quadrature\n",
    "\n",
    "## Last time\n",
    "\n",
    "* Polynomial interpolation for integration\n",
    "* Gauss quadrature\n",
    "\n",
    "## Today\n",
    "\n",
    "1. Recap on Gauss Quadrature\n",
    "2. Activity: six myths of polynomial interpolation and quadrature \n",
    "3. Singular integrals and _tanh-sinh_ quadrature\n",
    "4. Adaptive integration\n",
    "5. Integration in multiple dimensions"
   ]
  },
  {
   "cell_type": "code",
   "execution_count": null,
   "id": "eb781a7a",
   "metadata": {
    "slideshow": {
     "slide_type": "skip"
    }
   },
   "outputs": [],
   "source": [
    "using LinearAlgebra\n",
    "using Plots\n",
    "using LaTeXStrings\n",
    "default(linewidth=4, legendfontsize=12)\n",
    "\n",
    "function vander_legendre(x, k=nothing)\n",
    "    if isnothing(k)\n",
    "        k = length(x) # Square by default\n",
    "    end\n",
    "    m = length(x)\n",
    "    Q = ones(m, k)\n",
    "    Q[:, 2] = x\n",
    "    for n in 1:k-2\n",
    "        Q[:, n+2] = ((2*n + 1) * x .* Q[:, n+1] - n * Q[:, n]) / (n + 1)\n",
    "    end\n",
    "    Q\n",
    "end\n",
    "\n",
    "CosRange(a, b, n) = (a + b)/2 .+ (b - a)/2 * cos.(LinRange(-pi, 0, n))\n",
    "\n",
    "F_expx(x) = exp(2x) / (1 + x^2)\n",
    "f_expx(x) = 2*exp(2x) / (1 + x^2) - 2x*exp(2x)/(1 + x^2)^2\n",
    "\n",
    "F_dtanh(x) = tanh(x)\n",
    "f_dtanh(x) = cosh(x)^-2\n",
    "\n",
    "F_rsqrt(x) = 2 * sqrt(x + 1)\n",
    "f_rsqrt(x) = 1 / sqrt(x + 1)\n",
    "\n",
    "integrands = [f_expx, f_dtanh, f_rsqrt]\n",
    "antiderivatives = [F_expx, F_dtanh, F_rsqrt]\n",
    "tests = zip(integrands, antiderivatives)\n",
    "\n",
    "function plot_accuracy(fint, tests, ns; ref=[1,2])\n",
    "    a, b = -1, 1\n",
    "    p = plot(xscale=:log10, yscale=:log10, xlabel=\"n\", ylabel=\"error\")\n",
    "    for (f, F) in tests\n",
    "        Is = [fint(f, a, b, n=n) for n in ns]\n",
    "        Errors = abs.(Is .- (F(b) - F(a)))\n",
    "        scatter!(ns, Errors, label=f)\n",
    "    end\n",
    "    for k in ref\n",
    "        plot!(ns, ns.^(-1. * k), label=\"\\$n^{-$k}\\$\")\n",
    "    end\n",
    "    p\n",
    "end"
   ]
  },
  {
   "cell_type": "markdown",
   "id": "6e83e8fa",
   "metadata": {
    "cell_style": "center",
    "slideshow": {
     "slide_type": "slide"
    }
   },
   "source": [
    "## 1. Recap on Gauss Quadrature\n",
    "\n",
    "### Newton–Cotes quadrature corresponds to equispaced points, Clenshaw–Curtis quadrature to Chebyshev points,and Gauss quadrature to Legendre points.\n",
    "\n",
    "We want to approximate\n",
    "\n",
    "$$\\int_{-1}^1 f(x) dx \\approx \\sum_{i=1}^n w_i f(x_i) = \\mathbf w^T f(\\mathbf x)$$\n",
    "\n",
    "We call $w_i$ the *quadrature weights* and $x_i$ the *quadrature points* or *abscissa*.\n",
    "\n",
    "How do we choose the points?\n",
    "\n",
    "Recall that the Legendre polynomials $P_0(x) = 1$, $P_1(x) = x$, ..., are pairwise orthogonal\n",
    "\n",
    "$$\\int_{-1}^1 P_m(x) P_n(x) = 0, \\quad \\forall m\\ne n.$$\n",
    "\n",
    "### How does this work?\n",
    "\n",
    "Suppose a polynomial $P(x)$ on the interval $[-1,1]$ can be written as\n",
    "\n",
    "$$ P(x) = P_n(x) q(x) + r(x) $$\n",
    "\n",
    "where $P_n(x)$ is the $n$ th Legendre polnomials and both $q(x)$ and $r(x)$ are polynomials of maximum degree $n-1$. We know we can write this form by using long division of polynomials.\n",
    "\n",
    "* Why is $\\int_{-1}^1 P_n(x) q(x) = 0$?\n",
    "  - Since Gaussian quadrature is exact on the polynomial $r(x)$, since it is just integration of the interpolating polynomial of degree $n-1$, which is identical to $r(x)$.\n",
    "* Can every polynomials of degree $2n-1$ be written in the above form?\n",
    "  - Yes, by long division of polynomials.\n",
    "* How many roots does $P_n(x)$ have on the interval?\n",
    "  - $n$ complex-valued, considering their multiplicity (Fundamental Theorem of Algebra: every non-zero, single-variable, degree $n$ polynomial with complex coefficients has, counted with multiplicity, exactly $n$ complex roots.).\n",
    "* Can we choose points $\\{x_i\\}$ such that the first term is 0?\n",
    "  - At the roots $x_i$ of the $n$-th Legendre polynomial, $P(x_i) = r(x_i)$, since $P_n (x_i ) = 0$ for all $i$.\n",
    "\n",
    "If $P_n(x_i) = 0$ for each $x_i$, then we need only integrate $r(x)$, which is done exactly by integrating its interpolating polynomial.  How do we find these roots $x_i$?\n"
   ]
  },
  {
   "cell_type": "markdown",
   "id": "4f0a83df",
   "metadata": {},
   "source": [
    "We approximate\n",
    "\n",
    "$$\n",
    "\\int_{-1}^{-1} f(x) dx \\approx \\sum_{i=1}^{n} w_i f(x_i)\n",
    "$$\n",
    "\n",
    "where $w_i$ are the weights defined as \n",
    "\n",
    "$$\n",
    "w_i = \\int_{-1}^{1}L_i(x) dx \\quad i=1, \\dots, n\n",
    "$$\n",
    "\n",
    "the Lagrange interpolating polynomial with $n$ interpolating nodes, and the quadrature nodes $x_i$ are the roots of the $n$-th Legendre polynomial on $[-1,1]$.\n",
    "\n",
    "**Note**:\n",
    "\n",
    "To approximate integrals on a general interval $[a,b]$, the problem needs to be translated to $[-1,1]$ with a simple change of variables. Using the substitution $t = (2x - a - b) / (b-a)$, we find\n",
    "\n",
    "$$\n",
    "\\int_a^b f(x) dx = \\int_{-1}^{1} f \\left( \\frac{(b-a)t + b + a}{2} \\right)  \\frac{(b-a)}{2} dt\n",
    "$$"
   ]
  },
  {
   "cell_type": "markdown",
   "id": "9a6e5cd8",
   "metadata": {},
   "source": [
    "### Julia packages\n",
    "\n",
    "Recall the Julia package [FastGaussQuadrature.jl](https://juliaapproximation.github.io/FastGaussQuadrature.jl/stable/) that offers different quadrature formulae."
   ]
  },
  {
   "cell_type": "code",
   "execution_count": null,
   "id": "94fe194b",
   "metadata": {
    "cell_style": "split"
   },
   "outputs": [],
   "source": [
    "using FastGaussQuadrature\n",
    "\n",
    "n = 10\n",
    "x, q = gausslegendre(n)\n",
    "scatter(x, q, label=\"Gauss-Legendre\", ylabel=\"weight\", xlims=(-1, 1))\n",
    "scatter!(gausslobatto(n)..., label=\"Gauss-Lobatto\")"
   ]
  },
  {
   "cell_type": "markdown",
   "id": "5067574f",
   "metadata": {},
   "source": [
    "### Spectral Element Method (SEM)\n",
    "\n",
    "Gauss-Lobatto nodes are preferred in the quadrature formulae for the Spectral Element Method (SEM), a high-order (\"spectral\" or \"exponential\") method for the solution of Partial Differential Equations.\n",
    "\n",
    "In finite element formulations, the weak form of a Partial Differential Equation (PDE) is evaluated on a subdomain $\\Omega_e$ (_element_) and the local results are composed into a larger system of equations that models the entire problem on the global domain $\\Omega$. The weak-form involves the $L^2$ inner product (integral) of a variational formulation with suitable basis functions and trial/test functions.\n",
    "\n",
    "Gauss-Lobatto nodes are preferred because they include nodes at the endpoints $-1$ and $1$, hence ensuring continuity of the basis functions across element boundaries.\n",
    "\n",
    "The more general formulation of SEM, that instead of special points, uses equispaced points is called the Finite Element Method (FEM).\n",
    "\n",
    "### Finite Element Methods (FEM)\n",
    "\n",
    "Main ideas:\n",
    "\n",
    "* Need to integrate the product of basis functions over every element\n",
    "* Choose a quadrature (e.g., Gauss) to minimize number of points for sufficient accuracy\n",
    "* Bad effects if insufficient points"
   ]
  },
  {
   "cell_type": "markdown",
   "id": "52887abe",
   "metadata": {
    "cell_style": "split"
   },
   "source": [
    "## 2. Activity 34.1: Read [Trefethen, *Six Myths of Polynomial Interpolation and Quadrature*](https://people.maths.ox.ac.uk/trefethen/mythspaper.pdf) and discuss."
   ]
  },
  {
   "cell_type": "code",
   "execution_count": null,
   "id": "63d66a87",
   "metadata": {
    "cell_style": "split"
   },
   "outputs": [],
   "source": [
    "# how fast/slow if the FastGaussQuadrature.jl package implementation?\n",
    "\n",
    "@time gausslegendre(10000000);"
   ]
  },
  {
   "cell_type": "markdown",
   "id": "2e2eabdd",
   "metadata": {
    "slideshow": {
     "slide_type": "slide"
    }
   },
   "source": [
    "## 3. Singular integrands"
   ]
  },
  {
   "cell_type": "code",
   "execution_count": null,
   "id": "af31dde9",
   "metadata": {
    "cell_style": "split",
    "scrolled": false
   },
   "outputs": [],
   "source": [
    "plot([sqrt log x->.5*x^(-.5)], xlim=(0, 2), ylim=(-4, 4), label = [L\"\\sqrt{x}\" L\"\\log{x}\" L\"\\frac{1}{2x^5}\"])"
   ]
  },
  {
   "cell_type": "code",
   "execution_count": null,
   "id": "de8295e0",
   "metadata": {
    "cell_style": "split"
   },
   "outputs": [],
   "source": [
    "function fint_gauss(f, a, b, n)\n",
    "    x, w = gausslegendre(n)\n",
    "    x = (a+b)/2 .+ (b-a)/2*x # change of variables\n",
    "    w *= (b - a)/2 # change of variables\n",
    "    w' * f.(x)\n",
    "end"
   ]
  },
  {
   "cell_type": "code",
   "execution_count": null,
   "id": "9a7bb156",
   "metadata": {
    "cell_style": "split"
   },
   "outputs": [],
   "source": [
    "plot(3:4:100,\n",
    "    n -> abs(fint_gauss(x -> .5*x^(-.5), 0, 1, n) - 1),\n",
    "    marker=:auto, yscale=:log10, xscale=:log10, label = L\"\\int_{0}^{1}\\frac{1}{2x^5} = 1\")\n",
    "plot!(n -> 1/n,  label = L\"\\frac{1}{n}\", title = \"Error\")"
   ]
  },
  {
   "cell_type": "markdown",
   "id": "2bade183",
   "metadata": {
    "slideshow": {
     "slide_type": "slide"
    }
   },
   "source": [
    "### Tanh-Sinh quadrature\n",
    "\n",
    "Main idea: make everything smooth."
   ]
  },
  {
   "cell_type": "markdown",
   "id": "4462081d",
   "metadata": {
    "cell_style": "split",
    "slideshow": {
     "slide_type": ""
    }
   },
   "source": [
    "When functions have singularities near the endpoints, it is usually more efficient to integrate via a change of variables.  Suppose we have a strictly monotone differentiable function $\\phi: (-\\infty, \\infty) \\to (-1, 1)$.\n",
    "\n",
    "Then with $x = \\phi(s)$, our integral transforms as\n",
    "\n",
    "$$ \\int_{-1}^1 f(x) \\mathrm dx = \\int_{-\\infty}^\\infty f(\\phi(s)) \\phi'(s) \\mathrm d s . $$\n",
    "\n",
    "The _tanh-sinh_ method uses a transformation such that $\\phi'(s) \\to 0$ faster than the singularity $f(\\phi(s))$ grows, such that the integrand goes to 0 at finite $s$."
   ]
  },
  {
   "cell_type": "code",
   "execution_count": null,
   "id": "ee73a670",
   "metadata": {
    "cell_style": "split"
   },
   "outputs": [],
   "source": [
    "tanhsinh(s) = tanh(pi/2*sinh(s))\n",
    "\n",
    "function dtanhsinh(s)\n",
    "    ds = 1\n",
    "    t = pi/2 * sinh(s)\n",
    "    dt = pi/2 * cosh(s) * ds\n",
    "    (1 - tanh(t)^2) * dt\n",
    "end\n",
    "\n",
    "p = plot([tanhsinh], color=:black, label=\"tanhsinh(s)\",\n",
    "    xlims=(-3, 3),\n",
    "    xlabel=\"s\", title=\"tanh-sinh function and integrands\")\n",
    "for f in integrands\n",
    "    plot!(s -> f(tanhsinh(s))*dtanhsinh(s), label=\"$f ∘ tanhsinh\")\n",
    "end\n",
    "p"
   ]
  },
  {
   "cell_type": "markdown",
   "id": "b32c2a8a",
   "metadata": {},
   "source": [
    "### Implementation\n",
    "\n",
    "The function below implements tanh-sinh quadrature on the interval $(-1,1)$.  Given the number of points, we need to choose both the limits of integration (we can't afford to integrate all the way to infinity) and the spacing.  Here we make an arbitrary choice to integrate on the interval $(-L, L)$ where $L = \\log n$. The grid spacing thus scales as $h \\approx 2 \\log n / n$.\n",
    "\n",
    "Modify the quadrature so it can be used to integrate on an arbitrary interval $(a,b)$."
   ]
  },
  {
   "cell_type": "code",
   "execution_count": null,
   "id": "0f19b3c5",
   "metadata": {
    "cell_style": "split"
   },
   "outputs": [],
   "source": [
    "function fint_tanhsinh(f, a, b; n=9)\n",
    "    L = log(n)\n",
    "    h = 2 * L / (n - 1)\n",
    "    s = LinRange(-L, L, n)\n",
    "    x = tanhsinh.(s)\n",
    "    w = h * dtanhsinh.(s)\n",
    "\n",
    "    ## Challenge: modify the weights w and points x to integrated on (a,b), not (-1, 1)\n",
    "\n",
    "    w' * f.(x)\n",
    "end"
   ]
  },
  {
   "cell_type": "code",
   "execution_count": null,
   "id": "4ead0886",
   "metadata": {
    "cell_style": "split"
   },
   "outputs": [],
   "source": [
    "plot_accuracy(fint_tanhsinh, tests, 9:4:60, ref=[2,3,4])\n",
    "plot!(xscale=:identity,)"
   ]
  },
  {
   "cell_type": "code",
   "execution_count": null,
   "id": "988c3783",
   "metadata": {},
   "outputs": [],
   "source": [
    "# If you complete the challenge above uncomment the following two lines\n",
    "\n",
    "# @assert fint_tanhsinh(log, 0, 1, n=20) ≈ -1\n",
    "# println(\"Tests pass\")"
   ]
  },
  {
   "cell_type": "markdown",
   "id": "9ae3a719",
   "metadata": {
    "slideshow": {
     "slide_type": "slide"
    }
   },
   "source": [
    "### Functions that are rough or discontinuous in the interior\n",
    "\n",
    "If a function has rough or singular behavior in the interior of the domain, we'll get low accuracy results."
   ]
  },
  {
   "cell_type": "code",
   "execution_count": null,
   "id": "ecd461f8",
   "metadata": {
    "cell_style": "split"
   },
   "outputs": [],
   "source": [
    "using Pkg\n",
    "Pkg.add(\"SpecialFunctions\")\n",
    "\n",
    "using SpecialFunctions\n",
    "\n",
    "f_heaviside(x) = 1.0 * (x > 0)\n",
    "F_heaviside(x) = max(x, 0) # ramp function is the antiderivative of the Heaviside function\n",
    "\n",
    "f_mollify(x, sigma=.02) = 1/(sigma * sqrt(2*π)) * exp(-.5*(x/sigma)^2)\n",
    "F_mollify(x, sigma=.02) = .5*erf(x/(sigma*sqrt(2))) # erf is the Gauss error function\n",
    "\n",
    "rough_tests = [(f_heaviside, F_heaviside), (f_mollify, F_mollify)]\n",
    "plot([f_heaviside, f_mollify], xlim=(-1, 1), label = [\"Heaviside\" \"Mollify\"])"
   ]
  },
  {
   "cell_type": "code",
   "execution_count": null,
   "id": "a9a85a75",
   "metadata": {
    "cell_style": "split",
    "slideshow": {
     "slide_type": "fragment"
    }
   },
   "outputs": [],
   "source": [
    "plot_accuracy(fint_tanhsinh, rough_tests, 5:4:800, ref=[2,3,4]); plot!(legend=:bottomleft)"
   ]
  },
  {
   "cell_type": "markdown",
   "id": "404f7692",
   "metadata": {
    "slideshow": {
     "slide_type": "slide"
    }
   },
   "source": [
    "## 4. Adaptive integration\n",
    "\n",
    "_H-adaptive integration_ computes the integral, adaptively subdividing the integration area/volume into smaller and smaller pieces until convergence is achieved to the desired tolerance."
   ]
  },
  {
   "cell_type": "markdown",
   "id": "f7a0df7b",
   "metadata": {},
   "source": [
    "### A Julia package: [HCubature.jl](https://github.com/JuliaMath/HCubature.jl)"
   ]
  },
  {
   "cell_type": "code",
   "execution_count": null,
   "id": "ad073ec6",
   "metadata": {
    "cell_style": "split"
   },
   "outputs": [],
   "source": [
    "using Pkg\n",
    "Pkg.add(\"HCubature\")\n",
    "\n",
    "using HCubature\n",
    "\n",
    "@show F_heaviside(1 - .3) - F_heaviside(-1 - .3)\n",
    "hquadrature(x -> f_heaviside(x - 0.3), -1, 1, maxevals=1000) #  The return value of hcubature is a tuple (I, E) of the estimated integral I and an estimated error E."
   ]
  },
  {
   "cell_type": "code",
   "execution_count": null,
   "id": "de095772",
   "metadata": {
    "cell_style": "split"
   },
   "outputs": [],
   "source": [
    "hquadrature(f_mollify, -1, 1, maxevals=1000)"
   ]
  },
  {
   "cell_type": "code",
   "execution_count": null,
   "id": "b5bd9ad9",
   "metadata": {
    "cell_style": "split"
   },
   "outputs": [],
   "source": [
    "F_mollify(1) - F_mollify(-1)"
   ]
  },
  {
   "cell_type": "markdown",
   "id": "6a42d11d",
   "metadata": {
    "slideshow": {
     "slide_type": "slide"
    }
   },
   "source": [
    "### Quadrature/cubature for multi-dimensional integration in Python: [quadpy](https://pypi.org/project/quadpy/)"
   ]
  },
  {
   "cell_type": "markdown",
   "id": "a3fd72e6",
   "metadata": {},
   "source": [
    "### Notes on integration\n",
    "\n",
    "- Transforms can make the integrand smooth\n",
    "- Transforms can make the domain shape more convenient\n",
    "- Adaptive integration\n",
    "- Curse of dimensionality\n",
    "    * Sparse grids ([Smolyak quadrature](https://en.wikipedia.org/wiki/Sparse_grid#Smolyak%27s_quadrature_rule))\n",
    "    * Adaptive randomized methods (Markov Chain Monte Carlo)"
   ]
  }
 ],
 "metadata": {
  "@webio": {
   "lastCommId": null,
   "lastKernelId": null
  },
  "celltoolbar": "Slideshow",
  "hide_code_all_hidden": false,
  "kernelspec": {
   "display_name": "Julia 1.10.6",
   "language": "julia",
   "name": "julia-1.10"
  },
  "language_info": {
   "file_extension": ".jl",
   "mimetype": "application/julia",
   "name": "julia",
   "version": "1.10.6"
  },
  "rise": {
   "enable_chalkboard": true
  }
 },
 "nbformat": 4,
 "nbformat_minor": 5
}
