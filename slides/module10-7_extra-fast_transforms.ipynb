{
 "cells": [
  {
   "cell_type": "markdown",
   "id": "564f980e",
   "metadata": {
    "slideshow": {
     "slide_type": "slide"
    }
   },
   "source": [
    "# 44) Fast transforms\n",
    "\n",
    "\n",
    "1. Discrete Signals\n",
    "2. Approximation by Fourier Basis\n",
    "3. Fast Fourier Transform"
   ]
  },
  {
   "cell_type": "code",
   "execution_count": null,
   "id": "5202bcbe",
   "metadata": {
    "slideshow": {
     "slide_type": "skip"
    }
   },
   "outputs": [],
   "source": [
    "using LinearAlgebra\n",
    "using Plots\n",
    "default(linewidth=3, legendfontsize=12, xtickfontsize=12, ytickfontsize=12)\n",
    "using LaTeXStrings"
   ]
  },
  {
   "cell_type": "markdown",
   "id": "d8cf3b2a",
   "metadata": {
    "slideshow": {
     "slide_type": "slide"
    }
   },
   "source": [
    "## 1. Discrete signals\n",
    "\n",
    "Consider a function $f(x)$ defined on an integer grid $x \\in \\mathbb Z$.\n",
    "\n",
    "We define the Fourier modes\n",
    "\n",
    "$$ \\phi(x, \\theta) = e^{i\\theta x} $$\n",
    "\n",
    "for continuous $\\theta$.\n",
    "\n",
    "Question: Is it possible to distinguish $e^{i\\theta x}$ from $e^{i(\\theta+2\\pi)x}$?"
   ]
  },
  {
   "cell_type": "code",
   "execution_count": null,
   "id": "b6854db8",
   "metadata": {
    "cell_style": "split",
    "slideshow": {
     "slide_type": "fragment"
    }
   },
   "outputs": [],
   "source": [
    "phi(x, theta) = exp(1im * theta * x)\n",
    "rphi(x, theta) = real(phi(x, theta)) # real part\n",
    "x = -4:4\n",
    "theta = 3.14\n",
    "plot([x -> rphi(x, theta), x -> rphi(x, theta+2π), x -> rphi(x, theta-2π)], label = [L\"Re(\\phi(x,\\theta))\" L\"Re(\\phi(x,\\theta+ 2 \\pi))\" L\"Re(\\phi(x,\\theta - 2 \\pi))\"])\n",
    "scatter!(x, rphi.(x, theta), color=:black, label = L\"Re(\\phi(x, \\theta))\")"
   ]
  },
  {
   "cell_type": "markdown",
   "id": "4bd60d69",
   "metadata": {
    "cell_style": "split"
   },
   "source": [
    "We say $\\theta = \\pm \\pi$ is the [Nyquist Frequency](https://en.wikipedia.org/wiki/Nyquist_frequency) for the integer grid.\n",
    "* It corresponds to \"two points per wavelength\""
   ]
  },
  {
   "cell_type": "markdown",
   "id": "f6d728e4",
   "metadata": {
    "slideshow": {
     "slide_type": "slide"
    }
   },
   "source": [
    "## 2. Approximation by Fourier basis\n",
    "\n",
    "Just like we can approximate functions using linear combinations of polynomials, we can approximate *periodic* functions using a linear combination of Fourier modes."
   ]
  },
  {
   "cell_type": "markdown",
   "id": "e43cb8a0",
   "metadata": {
    "cell_style": "split"
   },
   "source": [
    "$$ f(x) \\approx \\sum_{k=1}^n \\underbrace{\\hat f(\\theta_k)}_{\\hat f_k} e^{i\\theta_k x} . $$\n",
    "\n",
    "This is reminiscent of linear algebra... We saw how linear combinations can be expressed as column-wise matrix-vector products:\n",
    "\n",
    "\\begin{align} \\Bigg[ f(x) \\Bigg] &= \\Bigg[ e^{i\\theta_1 x} \\Bigg| e^{i\\theta_2 x} \\Bigg| \\dotsm \\Bigg] \\begin{bmatrix} \\hat f_1 \\\\ \\hat f_2 \\\\ \\vdots \\end{bmatrix} \\\\\n",
    "&= \\Bigg[ e^{i\\theta_1 x} \\Bigg] \\hat f_1 + \\Bigg[ e^{i\\theta_2 x} \\Bigg] \\hat f_2 + \\dotsb .\n",
    "\\end{align}\n"
   ]
  },
  {
   "cell_type": "markdown",
   "id": "22e9b908",
   "metadata": {
    "cell_style": "split"
   },
   "source": [
    "### Continuous  $\\theta$: infinite domain\n",
    "\n",
    "If we take $\\theta \\in (-\\pi, \\pi]$ as a continuous quantity (instead of a discrete set of modes), the sum becomes and integral and we get equality (for \"nice enough\" $f(x)$),\n",
    "\n",
    "$$ f(x) = \\int_{-\\pi}^\\pi \\hat f(\\theta) e^{i\\theta x} d\\theta, $$\n",
    "\n",
    "in which $\\hat f(\\theta)$ is the Fourier transform (specifically, the [discrete time transform](https://en.wikipedia.org/wiki/Discrete-time_Fourier_transform)) of $f(x)$.  This representation is valuable for analyzing convergence of multigrid methods, among other applications.\n"
   ]
  },
  {
   "cell_type": "markdown",
   "id": "a93d89f7",
   "metadata": {
    "slideshow": {
     "slide_type": "slide"
    }
   },
   "source": [
    "### Computing $\\hat f(\\theta)$"
   ]
  },
  {
   "cell_type": "markdown",
   "id": "553685e4",
   "metadata": {
    "cell_style": "split",
    "slideshow": {
     "slide_type": ""
    }
   },
   "source": [
    "If we select a finite number of points $x$ and compute the square Vandermonde matrix\n",
    "\n",
    "$$ \\mathcal F = \\Bigg[ e^{i\\theta_1 x} \\Bigg| e^{i\\theta_2 x} \\Bigg| \\dotsm \\Bigg] $$\n",
    "\n",
    "then, knowing the vector $f$, we could solve\n",
    "\n",
    "$$ \\mathcal F \\hat f = f $$\n",
    "\n",
    "for $\\hat f$.  This would require $O(n^3)$ where $n$ is the number of points."
   ]
  },
  {
   "cell_type": "code",
   "execution_count": null,
   "id": "f0c8c9a3",
   "metadata": {
    "cell_style": "split"
   },
   "outputs": [],
   "source": [
    "function vander_fourier(x, n=nothing)\n",
    "    if isnothing(n)\n",
    "        n = length(x)\n",
    "    end\n",
    "    theta = LinRange(-pi + 2pi/n, pi, n)\n",
    "    F = exp.(1im * x * theta')\n",
    "end\n",
    "\n",
    "x = LinRange(-20, 20, 41)\n",
    "F = vander_fourier(x)\n",
    "plot(x, imag.(F[:, 19:22]))"
   ]
  },
  {
   "cell_type": "markdown",
   "id": "2c64ac83",
   "metadata": {
    "slideshow": {
     "slide_type": "slide"
    }
   },
   "source": [
    "### $\\mathcal F$ as a matrix"
   ]
  },
  {
   "cell_type": "code",
   "execution_count": null,
   "id": "4aadfdde",
   "metadata": {
    "cell_style": "split"
   },
   "outputs": [],
   "source": [
    "x = LinRange(-2, 2, 5)\n",
    "F = vander_fourier(x) / sqrt(5)\n",
    "@show norm(F' * F - I)\n",
    "@show norm(F * F' - I);"
   ]
  },
  {
   "cell_type": "markdown",
   "id": "cefbae0c",
   "metadata": {
    "cell_style": "split",
    "slideshow": {
     "slide_type": "fragment"
    }
   },
   "source": [
    "* Every $\\mathcal F$ (suitably normalized) is a unitary matrix\n",
    "  * a unitary matrix is the complex-valued generalization of \"orthogonal matrix\"\n",
    "  * $\\mathcal F^H \\mathcal F = \\mathcal F \\mathcal F^H = I$\n",
    "* Typical notation is $\\mathcal F^*$ or $\\mathcal F^H$ representing \"Hermitian transpose\" or conjugate transpose"
   ]
  },
  {
   "cell_type": "code",
   "execution_count": null,
   "id": "c8c5b032",
   "metadata": {
    "cell_style": "split"
   },
   "outputs": [],
   "source": [
    "# Remember, the ' in Julia is the Hermitian adjoint\n",
    "vander_fourier([-1, 0, 1])'"
   ]
  },
  {
   "cell_type": "markdown",
   "id": "b4796c51",
   "metadata": {
    "cell_style": "split",
    "slideshow": {
     "slide_type": "fragment"
    }
   },
   "source": [
    "#### What does this mean for cost?\n",
    "\n",
    "Fitting a discrete signal in the Fourier basis requires solving\n",
    "\n",
    "$$\\mathcal F \\hat y = y$$"
   ]
  },
  {
   "cell_type": "markdown",
   "id": "67f5a919",
   "metadata": {
    "slideshow": {
     "slide_type": "slide"
    }
   },
   "source": [
    "## 3. Fast Fourier Transform"
   ]
  },
  {
   "cell_type": "markdown",
   "id": "85808534",
   "metadata": {
    "cell_style": "split",
    "slideshow": {
     "slide_type": ""
    }
   },
   "source": [
    "In this discrete context, the transform we need to evaluate is\n",
    "\n",
    "$$ \\hat f_k = \\sum_\\ell e^{-i\\theta_k x_\\ell} f_\\ell $$\n",
    "\n",
    "where $f_\\ell$ are samples $f(x_\\ell)$ at integers $x_\\ell = \\ell$ and $\\theta_k$ are the frequencies $2 \\pi k/n$ (because the branch $\\theta \\in (-\\pi, \\pi]$ is arbitrary)."
   ]
  },
  {
   "cell_type": "markdown",
   "id": "fb06cdfb",
   "metadata": {
    "cell_style": "split"
   },
   "source": [
    "\\begin{align}\n",
    "\\hat f_k &= \\sum_{\\ell=0}^{n-1} e^{-2\\pi i \\frac{k \\ell}{n}} f_\\ell \\\\\n",
    " &= \\underbrace{\\sum_{\\ell=0}^{n/2-1} e^{-2\\pi i \\frac{k (2\\ell)}{n}} f_{2\\ell}}_{\\text{even}} +\n",
    " \\underbrace{\\sum_{\\ell=0}^{n/2-1} e^{-2\\pi i \\frac{k (2\\ell+1)}{n}} f_{2\\ell+1}}_{\\text{odd}} \\\\\n",
    " &= \\underbrace{\\sum_{\\ell=0}^{n/2-1} e^{-2\\pi i \\frac{k \\ell}{n/2}} f_{2\\ell}}_{\\text{transform of even data}} + e^{-2\\pi i \\frac k n} \\underbrace{\\sum_{\\ell=0}^{n/2-1} e^{-2\\pi i \\frac{k \\ell}{n/2}} f_{2\\ell+1}}_{\\text{transform of odd data}}\n",
    "\\end{align}"
   ]
  },
  {
   "cell_type": "markdown",
   "id": "1e50347b",
   "metadata": {
    "slideshow": {
     "slide_type": "slide"
    }
   },
   "source": [
    "### Periodicity"
   ]
  },
  {
   "cell_type": "markdown",
   "id": "39b6bccf",
   "metadata": {
    "cell_style": "center"
   },
   "source": [
    "When the original signal $f$ is periodic, $f_{\\ell} = f_{(\\ell + n) \\bmod n}$, then\n",
    "\\begin{align}\n",
    "\\hat f_{k+n/2} &= \\sum_{\\ell=0}^{n/2-1} e^{-2\\pi i \\frac{(k+n/2) \\ell}{n/2}} f_{2\\ell} + e^{-2\\pi i \\frac{(k+n/2)}{n}} \\sum_{\\ell=0}^{n/2-1} e^{-2\\pi i \\frac{(k+n/2) \\ell}{n/2}} f_{2\\ell+1} \\\\\n",
    "&= \\sum_{\\ell=0}^{n/2-1} e^{-2\\pi i \\frac{k \\ell}{n/2}} f_{2\\ell} + e^{-2\\pi i \\frac{k}{n}} e^{-\\pi i} \\sum_{\\ell=0}^{n/2-1} e^{-2\\pi i \\frac{k\\ell}{n/2}} f_{2\\ell+1} \\\\\n",
    "&= \\sum_{\\ell=0}^{n/2-1} e^{-2\\pi i \\frac{k \\ell}{n/2}} f_{2\\ell} - e^{-2\\pi i \\frac{k}{n}} \\sum_{\\ell=0}^{n/2-1} e^{-2\\pi i \\frac{k \\ell}{n/2}} f_{2\\ell+1}\n",
    "\\end{align}\n",
    "where we have used that\n",
    "$$ e^{-2\\pi i \\ell} = \\Big( e^{-2\\pi i} \\Big)^\\ell = 1^\\ell = 1 .$$\n"
   ]
  },
  {
   "cell_type": "markdown",
   "id": "4763f453",
   "metadata": {
    "cell_style": "center",
    "slideshow": {
     "slide_type": "fragment"
    }
   },
   "source": [
    "We've reduced a Fourier transform of length $n$ (at a cost of $n^2$) to two transforms of length $n/2$ (at a cost of $2 n^2/4 = n^2/2$).\n",
    "Repeating this recursively yields a complexity of $O(n\\log n)$."
   ]
  },
  {
   "cell_type": "markdown",
   "id": "dfcb9c0d",
   "metadata": {
    "slideshow": {
     "slide_type": "slide"
    }
   },
   "source": [
    "### Visualization"
   ]
  },
  {
   "cell_type": "code",
   "execution_count": null,
   "id": "13d53e5e",
   "metadata": {
    "cell_style": "split"
   },
   "outputs": [],
   "source": [
    "using Pkg\n",
    "Pkg.add(\"FastTransforms\")\n",
    "using FastTransforms\n",
    "\n",
    "n = 64; m = 62\n",
    "x = 0:n-1\n",
    "f = exp.(2im * pi * m * x / n)\n",
    "plot(x, real.(f), ylim=(-1.1, 1.1), marker=:circle)"
   ]
  },
  {
   "cell_type": "code",
   "execution_count": null,
   "id": "11522794",
   "metadata": {
    "cell_style": "split"
   },
   "outputs": [],
   "source": [
    "fhat = fft(f) # built-in Julia function int the FastTransforms package\n",
    "scatter([abs.(fhat), abs.(fftshift(fhat))], marker=[:square :circle])"
   ]
  },
  {
   "cell_type": "markdown",
   "id": "26c91b2e",
   "metadata": {
    "cell_style": "center",
    "slideshow": {
     "slide_type": "slide"
    }
   },
   "source": [
    "### Example: Transform a Gaussian bump $e^{-x^2}$\n",
    "\n"
   ]
  },
  {
   "cell_type": "code",
   "execution_count": null,
   "id": "e61701a0",
   "metadata": {
    "cell_style": "split"
   },
   "outputs": [],
   "source": [
    "n = 64; w = 1\n",
    "x = 0:n-1\n",
    "f = exp.(-((x .- n/2)/w) .^ 2)\n",
    "scatter(x, real.(f), ylim=(-1.1, 1.1))"
   ]
  },
  {
   "cell_type": "code",
   "execution_count": null,
   "id": "36dea7ab",
   "metadata": {
    "cell_style": "split"
   },
   "outputs": [],
   "source": [
    "fhat = fft(f)\n",
    "scatter([abs.(fhat), abs.(fftshift(fhat))])"
   ]
  },
  {
   "cell_type": "markdown",
   "id": "7cebc332",
   "metadata": {
    "slideshow": {
     "slide_type": "slide"
    }
   },
   "source": [
    "### Compute derivatives using the Fourier transform"
   ]
  },
  {
   "cell_type": "markdown",
   "id": "7ebed3a6",
   "metadata": {
    "cell_style": "center"
   },
   "source": [
    "How do we differentiate this?\n",
    "\n",
    "$$f(x) = \\sum_k e^{i\\theta_k x} \\hat f_k$$\n"
   ]
  },
  {
   "cell_type": "markdown",
   "id": "0b1fe555",
   "metadata": {
    "cell_style": "center",
    "slideshow": {
     "slide_type": "fragment"
    }
   },
   "source": [
    "* Evidently, we need only compute\n",
    "$$f'(x) = \\mathcal F^{-1} (i \\theta_k \\hat f_k)$$"
   ]
  },
  {
   "cell_type": "markdown",
   "id": "ace130e2",
   "metadata": {
    "cell_style": "split"
   },
   "source": [
    "#### Generalizations\n",
    "* Non-power of 2\n",
    "* Non-uniform grids\n",
    "* Multiple dimensions\n",
    "* Butterfly algorithms for integral operators\n",
    "$$ (\\mathcal K f)(x) = \\int_{Y} K(x,y) f(y) dy $$\n",
    "See [Poulson et al., A parallel butterfly algorithm](https://math.mit.edu/icg/papers/butterfly-parallel.pdf)."
   ]
  },
  {
   "cell_type": "markdown",
   "id": "24bef04d",
   "metadata": {
    "cell_style": "split",
    "slideshow": {
     "slide_type": "fragment"
    }
   },
   "source": [
    "### Applications\n",
    "\n",
    "* Everywhere in signal processing\n",
    "* ECMWF global climate and weather model\n",
    "* Particle-Mesh Ewald for long-range forces in molecular dynamics\n",
    "* Turbulence simulation\n",
    "\n",
    "### Parallel implications: Bisection bandwidth of the network"
   ]
  },
  {
   "cell_type": "code",
   "execution_count": null,
   "id": "9215f1fe",
   "metadata": {
    "slideshow": {
     "slide_type": "skip"
    }
   },
   "outputs": [],
   "source": [
    "function vander_chebyshev(x, n=nothing)\n",
    "    if isnothing(n)\n",
    "        n = length(x) # Square by default\n",
    "    end\n",
    "    m = length(x)\n",
    "    T = ones(m, n)\n",
    "    if n > 1\n",
    "        T[:, 2] = x\n",
    "    end\n",
    "    for k in 3:n\n",
    "        #T[:, k] = x .* T[:, k-1]\n",
    "        T[:, k] = 2 * x .* T[:,k-1] - T[:, k-2]\n",
    "    end\n",
    "    T\n",
    "end\n",
    "\n",
    "CosRange(a, b, n) = (a + b)/2 .+ (b - a)/2 * cos.(LinRange(0, π, n))"
   ]
  },
  {
   "cell_type": "markdown",
   "id": "4e2ceafa",
   "metadata": {
    "slideshow": {
     "slide_type": "slide"
    }
   },
   "source": [
    "### Derivative of a function on the Chebyshev (`CosRange`) points"
   ]
  },
  {
   "cell_type": "code",
   "execution_count": null,
   "id": "47a96ec7",
   "metadata": {
    "cell_style": "split"
   },
   "outputs": [],
   "source": [
    "function chebfft(y)\n",
    "    # Adapted from Trefethen's Spectral Methods in Matlab\n",
    "    n = length(y) - 1\n",
    "    x = CosRange(-1, 1, n+1)\n",
    "    Y = [y; reverse(y[2:n])]\n",
    "    ii = 0:n-1\n",
    "    U = real.(fft(Y))\n",
    "    W = real.(ifft(1im * [ii; 0; 1-n:-1] .* U))\n",
    "    w = zeros(n + 1)\n",
    "    w[2:n] = -W[2:n] ./ sqrt.(1 .- x[2:n] .^ 2)\n",
    "    w[1] = sum(ii .^ 2 .* U[ii .+ 1]) / n + .5 * n * U[n+1]\n",
    "    w[n+1] = sum((-1) .^ (ii .+ 1) .* ii .^ 2 .* U[ii .+ 1]) / n + .5 * (-1) ^ (n+1) * n * U[n+1]\n",
    "    w\n",
    "end\n",
    "\n",
    "chebfft([1,2,0,3])"
   ]
  },
  {
   "cell_type": "code",
   "execution_count": null,
   "id": "c23daf76",
   "metadata": {
    "cell_style": "split"
   },
   "outputs": [],
   "source": [
    "x = CosRange(-1, 1, 40)\n",
    "g(x) = cos(3x - 1)\n",
    "dg(x) = -3 * sin(3x - 1) # for verification\n",
    "y = g.(x)\n",
    "dy = chebfft(y)\n",
    "plot(x, dy, marker=:circle)\n",
    "plot!(dg)"
   ]
  }
 ],
 "metadata": {
  "celltoolbar": "Slideshow",
  "kernelspec": {
   "display_name": "Julia 1.10.6",
   "language": "julia",
   "name": "julia-1.10"
  },
  "language_info": {
   "file_extension": ".jl",
   "mimetype": "application/julia",
   "name": "julia",
   "version": "1.10.6"
  }
 },
 "nbformat": 4,
 "nbformat_minor": 5
}
