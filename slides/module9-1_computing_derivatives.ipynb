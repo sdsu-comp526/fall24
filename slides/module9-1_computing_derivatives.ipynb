{
 "cells": [
  {
   "cell_type": "markdown",
   "id": "4159be0e",
   "metadata": {
    "hideCode": false,
    "hidePrompt": false,
    "slideshow": {
     "slide_type": "slide"
    }
   },
   "source": [
    "# 37) Computing Derivatives\n",
    "\n",
    "## Last time\n",
    "\n",
    "* Gradient descent\n",
    "* Nonlinear models\n",
    "\n",
    "## Today\n",
    "1. Computing derivatives  \n",
    "  1.1 Numeric  \n",
    "  1.2 Analytic by hand  \n",
    "  1.3 Algorithmic (automatic) differentiation  \n",
    "2. Ill-conditioned optimization"
   ]
  },
  {
   "cell_type": "markdown",
   "id": "627277ab",
   "metadata": {
    "slideshow": {
     "slide_type": "slide"
    }
   },
   "source": [
    "## 1. Computing derivatives "
   ]
  },
  {
   "cell_type": "markdown",
   "id": "a8f69462",
   "metadata": {
    "slideshow": {
     "slide_type": "fragment"
    }
   },
   "source": [
    "We know the definition of the difference quotient from Calculus:\n",
    "\n",
    "$$\\lim_{h\\to 0} \\frac{f(x+h) - f(x)}{h}$$"
   ]
  },
  {
   "cell_type": "markdown",
   "id": "73b1b145",
   "metadata": {
    "slideshow": {
     "slide_type": "fragment"
    }
   },
   "source": [
    "* How should we choose $h$?"
   ]
  },
  {
   "cell_type": "markdown",
   "id": "6a6d0812",
   "metadata": {
    "slideshow": {
     "slide_type": "slide"
    }
   },
   "source": [
    "### Taylor series\n",
    "\n",
    "Classical accuracy analysis assumes that functions are sufficiently smooth, meaning that derivatives exist and Taylor expansions are valid within a neighborhood.  In particular,\n",
    "$$ f(x+h) = f(x) + f'(x) h + f''(x) \\frac{h^2}{2!} + \\underbrace{f'''(x) \\frac{h^3}{3!} + \\dotsb}_{O(h^3)} . $$\n",
    "\n",
    "The big-$O$ notation is meant in the limit $h\\to 0$.  Specifically, a function $g(h) \\in O(h^p)$ (sometimes written $g(h) = O(h^p)$) when\n",
    "there exists a constant $C$ such that\n",
    "$$ g(h) \\le C h^p $$\n",
    "for all sufficiently *small* $h$."
   ]
  },
  {
   "cell_type": "markdown",
   "id": "9c564912",
   "metadata": {
    "slideshow": {
     "slide_type": "slide"
    }
   },
   "source": [
    "### Rounding error\n",
    "\n",
    "We have an additional source of error, *rounding error*, which comes from not being able to compute $f(x)$ or $f(x+h)$ exactly, nor subtract them exactly.  Suppose that we can, however, compute these functions with a relative error on the order of $\\epsilon_{\\text{machine}}$.  This leads to\n",
    "$$ \\begin{split}\n",
    "\\tilde f(x) &= f(x)(1 + \\epsilon_1) \\\\\n",
    "\\tilde f(x \\oplus h) &= \\tilde f((x+h)(1 + \\epsilon_2)) \\\\\n",
    "&= f((x + h)(1 + \\epsilon_2))(1 + \\epsilon_3) \\\\\n",
    "&= [f(x+h) + f'(x+h)(x+h)\\epsilon_2 + O(\\epsilon_2^2)](1 + \\epsilon_3) \\\\\n",
    "&= f(x+h)(1 + \\epsilon_3) + f'(x+h)x\\epsilon_2 + O(\\epsilon_{\\text{machine}}^2 + \\epsilon_{\\text{machine}} h)\n",
    "\\end{split}\n",
    "$$"
   ]
  },
  {
   "cell_type": "markdown",
   "id": "a3b39cf8",
   "metadata": {
    "slideshow": {
     "slide_type": "slide"
    }
   },
   "source": [
    "### Tedious error propagation\n",
    "$$ \\begin{split}\n",
    "\\left\\lvert \\frac{\\tilde f(x+h) \\ominus \\tilde f(x)}{h} - \\frac{f(x+h) - f(x)}{h} \\right\\rvert &=\n",
    "  \\left\\lvert \\frac{f(x+h)(1 + \\epsilon_3) + f'(x+h)x\\epsilon_2 + O(\\epsilon_{\\text{machine}}^2 + \\epsilon_{\\text{machine}} h) - f(x)(1 + \\epsilon_1) - f(x+h) + f(x)}{h} \\right\\rvert \\\\\n",
    "  &\\le \\frac{|f(x+h)\\epsilon_3| + |f'(x+h)x\\epsilon_2| + |f(x)\\epsilon_1| + O(\\epsilon_{\\text{machine}}^2 + \\epsilon_{\\text{machine}}h)}{h} \\\\\n",
    "  &\\le \\frac{(2 \\max_{[x,x+h]} |f| + \\max_{[x,x+h]} |f' x| \\epsilon_{\\text{machine}} + O(\\epsilon_{\\text{machine}}^2 + \\epsilon_{\\text{machine}} h)}{h} \\\\\n",
    "  &= (2\\max|f| + \\max|f'x|) \\frac{\\epsilon_{\\text{machine}}}{h} + O(\\epsilon_{\\text{machine}}) \\\\\n",
    "\\end{split} $$\n",
    "where we have assumed that $h \\ge \\epsilon_{\\text{machine}}$.\n",
    "This error becomes large (relative to $f'$ -- we are concerned with relative error after all).\n",
    "\n",
    "What can be problematic:\n",
    "\n",
    "* $f$ is large compared to $f'$\n",
    "* $x$ is large\n",
    "* $h$ is too small"
   ]
  },
  {
   "cell_type": "markdown",
   "id": "6d442032",
   "metadata": {
    "slideshow": {
     "slide_type": "slide"
    }
   },
   "source": [
    "### Automatic step size selection \n",
    "\n",
    "Reference: [Numerical Optimization](https://www.math.uci.edu/~qnie/Publications/NumericalOptimization.pdf).\n",
    "\n",
    "* Walker and Pernice\n",
    "* Dennis and Schnabel"
   ]
  },
  {
   "cell_type": "code",
   "execution_count": null,
   "id": "2508cef2",
   "metadata": {
    "cell_style": "center",
    "slideshow": {
     "slide_type": ""
    }
   },
   "outputs": [],
   "source": [
    "diff(f, x; h=1e-8) = (f(x+h) - f(x)) / h\n",
    "\n",
    "function diff_wp(f, x; h=1e-8)\n",
    "    \"\"\"Diff using Walker and Pernice (1998) choice of step\"\"\"\n",
    "    h *= (1 + abs(x))\n",
    "    (f(x+h) - f(x)) / h\n",
    "end\n",
    "\n",
    "x = 1000\n",
    "diff_wp(sin, x) - cos(x)"
   ]
  },
  {
   "cell_type": "markdown",
   "id": "13598631",
   "metadata": {
    "slideshow": {
     "slide_type": "slide"
    }
   },
   "source": [
    "## 1.1 Symbolic differentiation"
   ]
  },
  {
   "cell_type": "code",
   "execution_count": null,
   "id": "fa185815",
   "metadata": {
    "cell_style": "split"
   },
   "outputs": [],
   "source": [
    "using Pkg\n",
    "Pkg.add(\"Symbolics\")\n",
    "\n",
    "using Symbolics\n",
    "\n",
    "@variables x\n",
    "Dx = Differential(x)\n",
    "\n",
    "y = sin(x)\n",
    "Dx(y)"
   ]
  },
  {
   "cell_type": "code",
   "execution_count": null,
   "id": "537e4153",
   "metadata": {
    "cell_style": "split"
   },
   "outputs": [],
   "source": [
    "expand_derivatives(Dx(y))"
   ]
  },
  {
   "cell_type": "markdown",
   "id": "55f8ae35",
   "metadata": {
    "slideshow": {
     "slide_type": "slide"
    }
   },
   "source": [
    "Awesome, what about products?"
   ]
  },
  {
   "cell_type": "code",
   "execution_count": null,
   "id": "0a4243eb",
   "metadata": {},
   "outputs": [],
   "source": [
    "y = x\n",
    "for _ in 1:2\n",
    "    y = cos(y^pi) * log(y)\n",
    "end\n",
    "expand_derivatives(Dx(y))"
   ]
  },
  {
   "cell_type": "markdown",
   "id": "34b799be",
   "metadata": {
    "slideshow": {
     "slide_type": "fragment"
    }
   },
   "source": [
    "* The size of these expressions can grow **exponentially**"
   ]
  },
  {
   "cell_type": "markdown",
   "id": "d0a680f1",
   "metadata": {
    "slideshow": {
     "slide_type": "slide"
    }
   },
   "source": [
    "## 1.2 Hand-coding (analytic) derivatives\n",
    "\n",
    "$$ df = f'(x) dx $$"
   ]
  },
  {
   "cell_type": "code",
   "execution_count": null,
   "id": "c24fb506",
   "metadata": {
    "cell_style": "split"
   },
   "outputs": [],
   "source": [
    "function f(x)\n",
    "    y = x\n",
    "    for _ in 1:2\n",
    "        a = y^pi\n",
    "        b = cos(a)\n",
    "        c = log(y)\n",
    "        y = b * c\n",
    "    end\n",
    "    y\n",
    "end\n",
    "\n",
    "f(1.9), diff_wp(f, 1.9)"
   ]
  },
  {
   "cell_type": "code",
   "execution_count": null,
   "id": "d8dec50b",
   "metadata": {
    "cell_style": "split",
    "slideshow": {
     "slide_type": "fragment"
    }
   },
   "outputs": [],
   "source": [
    "function df(x, dx)\n",
    "    y = x\n",
    "    dy = dx\n",
    "    for _ in 1:2\n",
    "        a = y ^ pi\n",
    "        da = pi * y^(pi - 1) * dy\n",
    "        b = cos(a)\n",
    "        db = -sin(a) * da\n",
    "        c = log(y)\n",
    "        dc = dy / y\n",
    "        y = b * c\n",
    "        dy = db * c + b * dc\n",
    "    end\n",
    "    y, dy\n",
    "end\n",
    "\n",
    "df(1.9, 1)"
   ]
  },
  {
   "cell_type": "markdown",
   "id": "3fb72ae9",
   "metadata": {
    "slideshow": {
     "slide_type": "slide"
    }
   },
   "source": [
    "### We can go the other way\n",
    "\n",
    "We can differentiate a composition $h(g(f(x)))$ as\n",
    "\n",
    "\\begin{align}\n",
    "  \\operatorname{d} h &= h' \\operatorname{d} g \\\\\n",
    "  \\operatorname{d} g &= g' \\operatorname{d} f \\\\\n",
    "  \\operatorname{d} f &= f' \\operatorname{d} x.\n",
    "\\end{align}\n",
    "\n",
    "What we've done above is called \"forward mode\", and amounts to placing the parentheses in the chain rule like\n",
    "\n",
    "$$ \\operatorname d h = \\frac{dh}{dg} \\left(\\frac{dg}{df} \\left(\\frac{df}{dx} \\operatorname d x \\right) \\right) .$$\n",
    "\n",
    "The expression means the same thing if we rearrange the parentheses,\n",
    "\n",
    "$$ \\operatorname d h = \\left( \\left( \\left( \\frac{dh}{dg} \\right) \\frac{dg}{df} \\right) \\frac{df}{dx} \\right) \\operatorname d x $$\n",
    "\n",
    "\n",
    "which we can compute in reverse order via\n",
    "\n",
    "$$ \\underbrace{\\bar x}_{\\frac{dh}{dx}} = \\underbrace{\\bar g \\frac{dg}{df}}_{\\bar f} \\frac{df}{dx} .$$\n",
    "\n",
    "#### A reverse mode example\n",
    "\n",
    "$$ \\underbrace{\\bar x}_{\\frac{dh}{dx}} = \\underbrace{\\bar g \\frac{dg}{df}}_{\\bar f} \\frac{df}{dx} .$$"
   ]
  },
  {
   "cell_type": "code",
   "execution_count": null,
   "id": "78eae478",
   "metadata": {},
   "outputs": [],
   "source": [
    "function g(x)\n",
    "    a = x^pi\n",
    "    b = cos(a)\n",
    "    c = log(x)\n",
    "    y = b * c\n",
    "    y\n",
    "end\n",
    "(g(1.4), diff_wp(g, 1.4))"
   ]
  },
  {
   "cell_type": "code",
   "execution_count": null,
   "id": "0784210d",
   "metadata": {},
   "outputs": [],
   "source": [
    "function gback(x, y_)\n",
    "    a = x^pi\n",
    "    b = cos(a)\n",
    "    c = log(x)\n",
    "    y = b * c\n",
    "    # backward pass\n",
    "    c_ = y_ * b\n",
    "    b_ = c * y_\n",
    "    a_ = -sin(a) * b_\n",
    "    x_ = 1/x * c_ + pi * x^(pi-1) * a_\n",
    "    x_\n",
    "end\n",
    "gback(1.4, 1)"
   ]
  },
  {
   "cell_type": "markdown",
   "id": "12e01ae1",
   "metadata": {
    "slideshow": {
     "slide_type": "slide"
    }
   },
   "source": [
    "## 1.3 Automatic differentiation: [Zygote.jl](https://github.com/FluxML/Zygote.jl)"
   ]
  },
  {
   "cell_type": "code",
   "execution_count": null,
   "id": "7052e15a",
   "metadata": {
    "cell_style": "split"
   },
   "outputs": [],
   "source": [
    "using Pkg\n",
    "Pkg.add(\"Zygote\")\n",
    "\n",
    "import Zygote"
   ]
  },
  {
   "cell_type": "code",
   "execution_count": null,
   "id": "2aabcb46",
   "metadata": {
    "cell_style": "split"
   },
   "outputs": [],
   "source": [
    "Zygote.gradient(f, 1.9)"
   ]
  },
  {
   "cell_type": "code",
   "execution_count": null,
   "id": "9cee1ed6",
   "metadata": {},
   "outputs": [],
   "source": [
    "g(x) = exp(x) + x^2\n",
    "@code_llvm Zygote.gradient(g, 1.9)"
   ]
  },
  {
   "cell_type": "markdown",
   "id": "0885cd2b",
   "metadata": {},
   "source": [
    "### How does Zygote work?"
   ]
  },
  {
   "cell_type": "code",
   "execution_count": null,
   "id": "3466c4bb",
   "metadata": {},
   "outputs": [],
   "source": [
    "square(x) = x^2\n",
    "@code_llvm square(1.5)"
   ]
  },
  {
   "cell_type": "code",
   "execution_count": null,
   "id": "65be958d",
   "metadata": {},
   "outputs": [],
   "source": [
    "@code_llvm Zygote.gradient(square, 1.5)"
   ]
  },
  {
   "cell_type": "markdown",
   "id": "1444972c",
   "metadata": {},
   "source": [
    "### Kinds of algorithmic differentation\n",
    "\n",
    "* Source transformation: Fortran code in, Fortran code out\n",
    "  * Duplicates compiler features, usually incomplete language coverage\n",
    "  * Produces efficient code\n",
    "* Operator overloading: C++ types\n",
    "  * Hard to vectorize\n",
    "  * Loops are effectively unrolled/inefficient\n",
    "* Just-in-time compilation: tightly coupled with compiler\n",
    "  * JIT lag\n",
    "  * Needs dynamic language features (JAX) or tight integration with compiler (Zygote, Enzyme)\n",
    "  * Some [sharp bits](https://jax.readthedocs.io/en/latest/notebooks/Common_Gotchas_in_JAX.html#control-flow) in Python's JAX"
   ]
  },
  {
   "cell_type": "markdown",
   "id": "b083ed85",
   "metadata": {},
   "source": [
    "### Forward or reverse?\n",
    "\n",
    "It all depends on the shape.\n",
    "\n",
    "* If you have one input, many outputs: use forward mode\n",
    "  * \"One input\" can be looking in one direction\n",
    "* If you have many inputs, one output: use reverse mode\n",
    "  * Will need to traverse execution backwards (\"tape\")\n",
    "  * Hierarchical checkpointing\n",
    "* What about square cases (same number of input/output)? Forward is usually a bit more efficient."
   ]
  },
  {
   "cell_type": "markdown",
   "id": "2da89829",
   "metadata": {},
   "source": [
    "## 2. Ill-conditioned optimization\n",
    "\n",
    "$$ L(c; x, y) = \\frac 1 2 \\lVert \\underbrace{f(x, c) - y}_{r(c)} \\rVert^2 $$\n",
    "\n",
    "Recall that the computation of the gradient of the loss function $L$ requires the Jacobian, denoted by $J$, of the model $f$ differentiated w. r. t. the constants $c$.\n",
    "\n",
    "$$ g(c) = \\nabla_c L = r^T \\underbrace{\\nabla_c f}_{J} $$\n",
    "\n",
    "We can find the constants $c$ for which $g(c) = 0$ using a Newton method\n",
    "\n",
    "$$ g(c + \\delta c) = g(c) + \\underbrace{\\nabla_c g}_H\\delta c + O((\\delta c)^2) $$\n",
    "\n",
    "The Hessian requires the second derivative of $f$, which can cause problems.\n",
    "\n",
    "$$ H = J^T J + r^T (\\nabla_c J)$$"
   ]
  },
  {
   "cell_type": "markdown",
   "id": "04b4584a",
   "metadata": {},
   "source": [
    "### Newton-like methods for optimization\n",
    "\n",
    "We want to solve\n",
    "\n",
    "$$ H \\delta c = -g(c) $$\n",
    "\n",
    "Update\n",
    "$$c \\gets c + \\gamma \\delta c$$ \n",
    "using a line search or trust region."
   ]
  },
  {
   "cell_type": "markdown",
   "id": "eeb0de4d",
   "metadata": {},
   "source": [
    "#### Outlook on optimization\n",
    "\n",
    "* The optimization problem can be solved using a Newton method.  It can be onerous to implement the needed derivatives.\n",
    "* The [Gauss-Newton method](https://en.wikipedia.org/wiki/Gauss%E2%80%93Newton_algorithm) is often more practical than Newton while being faster than gradient descent, though it lacks robustness.\n",
    "* The [Levenberg-Marquardt method](https://en.wikipedia.org/wiki/Levenberg%E2%80%93Marquardt_algorithm) provides a sort of middle-ground between Gauss-Newton and gradient descent.\n",
    "* Many globalization techniques are used for models that possess many local minima.\n",
    "* One pervasive approach is stochastic gradient descent, where small batches (e.g., 1, 10 or 20) are selected randomly from the corpus of observations (500 in the example we've seen with many realizations), and a step of gradient descent is applied to that reduced set of observations.  This helps to escape saddle points and weak local minima.\n",
    "* Among expressive models $f(x,c)$, some may converge much more easily than others.  Having a good optimization algorithm is essential for nonlinear regression with complicated models, especially those with many parameters $c$.\n",
    "* Classification is a very similar problem to regression, but the observations $y$ are discrete, thus, in this case\n",
    "\n",
    "    - models $f(x,c)$ must have discrete output\n",
    "    - the least squares loss function is not appropriate.\n",
    "* Reading: [Why momentum really works](https://distill.pub/2017/momentum/)"
   ]
  }
 ],
 "metadata": {
  "@webio": {
   "lastCommId": null,
   "lastKernelId": null
  },
  "celltoolbar": "Slideshow",
  "hide_code_all_hidden": false,
  "kernelspec": {
   "display_name": "Julia 1.10.6",
   "language": "julia",
   "name": "julia-1.10"
  },
  "language_info": {
   "file_extension": ".jl",
   "mimetype": "application/julia",
   "name": "julia",
   "version": "1.10.6"
  },
  "rise": {
   "enable_chalkboard": true
  }
 },
 "nbformat": 4,
 "nbformat_minor": 5
}
