{
 "cells": [
  {
   "cell_type": "markdown",
   "metadata": {},
   "source": [
    "# 32) Numerical Intergration\n",
    "\n",
    "Last time:\n",
    "\n",
    "* Splines conditioning\n",
    "* Boundary Value Problems\n",
    "* Higher dimensions\n",
    "\n",
    "Today:\n",
    "\n",
    "1. Numerical Integration  \n",
    "  1.1 Midpoint rule  \n",
    "  1.2 Trapezoid rule  \n",
    "2. Extrapolation\n",
    "3. Polynomial interpolation for integration"
   ]
  },
  {
   "cell_type": "code",
   "execution_count": null,
   "metadata": {},
   "outputs": [],
   "source": [
    "using LinearAlgebra\n",
    "using Plots\n",
    "default(linewidth=4, legendfontsize=12)\n",
    "\n",
    "function vander_legendre(x, k=nothing)\n",
    "    if isnothing(k)\n",
    "        k = length(x) # Square by default\n",
    "    end\n",
    "    m = length(x)\n",
    "    Q = ones(m, k)\n",
    "    Q[:, 2] = x\n",
    "    for n in 1:k-2\n",
    "        Q[:, n+2] = ((2*n + 1) * x .* Q[:, n+1] - n * Q[:, n]) / (n + 1)\n",
    "    end\n",
    "    Q\n",
    "end\n",
    "\n",
    "CosRange(a, b, n) = (a + b)/2 .+ (b - a)/2 * cos.(LinRange(-pi, 0, n))"
   ]
  },
  {
   "cell_type": "markdown",
   "metadata": {},
   "source": [
    "## 1. Numerical Integration\n",
    "\n",
    "\n",
    "We're interested in computing definite integrals\n",
    "\n",
    "$$ \\int_a^b f(x) dx $$\n",
    "\n",
    "and will usually consider finite domains $-\\infty < a <b < \\infty$.\n",
    "\n",
    "Observations:\n",
    "\n",
    "* Cost: (usually) how many times we need to evaluate the function $f(x)$\n",
    "* Accuracy\n",
    "  * compare to a reference value\n",
    "  * compare to the same method using more evaluations\n",
    "* Consideration: how smooth is $f$?"
   ]
  },
  {
   "cell_type": "markdown",
   "metadata": {},
   "source": [
    "### Some test functions"
   ]
  },
  {
   "cell_type": "code",
   "execution_count": null,
   "metadata": {},
   "outputs": [],
   "source": [
    "F_expx(x) = exp(2x) / (1 + x^2)\n",
    "f_expx(x) = 2*exp(2x) / (1 + x^2) - 2x*exp(2x)/(1 + x^2)^2\n",
    "\n",
    "F_dtanh(x) = tanh(x)\n",
    "f_dtanh(x) = cosh(x)^-2\n",
    "\n",
    "integrands = [f_expx, f_dtanh]\n",
    "antiderivatives = [F_expx, F_dtanh]\n",
    "tests = zip(integrands, antiderivatives)"
   ]
  },
  {
   "cell_type": "code",
   "execution_count": null,
   "metadata": {},
   "outputs": [],
   "source": [
    "plot(integrands, xlims=(-1, 1))"
   ]
  },
  {
   "cell_type": "markdown",
   "metadata": {},
   "source": [
    "\n",
    "### Fundamental Theorem of Calculus\n",
    "\n",
    "Let $f(x)$ be a continuous function and define $F(x)$ by\n",
    "$$ F(x) = \\int_a^x f(s) ds . $$\n",
    "Then $F(x)$ is uniformly continuous, differentiable, and\n",
    "$$ F'(x) = f(x) . $$\n",
    "We say that $F$ is an antiderivative of $f$.\n",
    "This implies that\n",
    "$$ \\int_a^b f(x) dx = F(b) - F(a) . $$\n",
    "We will test the accuracy of our integration schemes using an antiderivative provided in our tests."
   ]
  },
  {
   "cell_type": "markdown",
   "metadata": {},
   "source": [
    "### Method of Manufactured Solutions\n",
    "\n",
    "* Analytically integrating an arbitrary function is hard\n",
    "  * tends to require trickery (e.g., u substitution)\n",
    "  * not always possible to express in closed form (e.g., [elliptic integrals](https://en.wikipedia.org/wiki/Elliptic_integral))\n",
    "  * sometimes needs special functions $\\operatorname{erf} x = \\frac{2}{\\sqrt\\pi} \\int_0^x e^{-t^2} dt$\n",
    "  * don't know when to give up\n",
    "  \n",
    "* On the other hand, analytic differentation\n",
    "  * involves straightforward application of the product rule and chain rule.\n",
    "  \n",
    "So if we just choose an arbitrary function $F$ (the antiderivative), we can\n",
    "\n",
    "1. compute $f = F'$\n",
    "2. numerically integrate $\\int_a^b f$ and compare to $F(b) - F(a)$"
   ]
  },
  {
   "cell_type": "markdown",
   "metadata": {},
   "source": [
    "## Newton-Cotes methods\n",
    "\n",
    "Approximate $f(x)$ using piecewise polynomials (an interpolation problem) and integrate the polynomials.\n",
    "\n",
    "### 1.1 [Midpoint method](https://en.wikipedia.org/wiki/Midpoint_method)"
   ]
  },
  {
   "cell_type": "code",
   "execution_count": null,
   "metadata": {},
   "outputs": [],
   "source": [
    "function fint_midpoint(f, a, b; n=20)\n",
    "    dx = (b - a) / n\n",
    "    x = LinRange(a + dx/2, b - dx/2, n)\n",
    "    sum(f.(x)) * dx\n",
    "end\n",
    "\n",
    "for (f, F) in tests\n",
    "    a, b = -2, 2\n",
    "    I_num = fint_midpoint(f, a, b, n=20)\n",
    "    I_analytic = F(b) - F(a)\n",
    "    println(\"$f: $I_num error=$(I_num - I_analytic)\")\n",
    "end"
   ]
  },
  {
   "cell_type": "markdown",
   "metadata": {},
   "source": [
    "How does the accuracy change as we use more points?"
   ]
  },
  {
   "cell_type": "code",
   "execution_count": null,
   "metadata": {},
   "outputs": [],
   "source": [
    "function plot_accuracy(fint, tests, ns; ref=[1,2])\n",
    "    a, b = -2, 2\n",
    "    p = plot(xscale=:log10, yscale=:log10, xlabel=\"n\", ylabel=\"error\")\n",
    "    for (f, F) in tests\n",
    "        Is = [fint(f, a, b, n=n) for n in ns]\n",
    "        Errors = abs.(Is .- (F(b) - F(a)))\n",
    "        scatter!(ns, Errors, label=f)\n",
    "    end\n",
    "    for k in ref\n",
    "        plot!(ns, ns.^(-1. * k), label=\"\\$n^{-$k}\\$\")\n",
    "    end\n",
    "    p\n",
    "end\n",
    "plot_accuracy(fint_midpoint, tests, 2 .^ (0:10))"
   ]
  },
  {
   "cell_type": "markdown",
   "metadata": {},
   "source": [
    "## 1.2 Trapezoid Rule\n",
    "\n",
    "The trapezoid rule uses piecewise linear functions on each interval.\n",
    "\n",
    "$$\\begin{split} \\int_a^b \\left[ f(a) + \\frac{f(b) - f(a)}{b - a} (x - a) \\right] &= f(a) (x-a) + \\frac{f(b) - f(a)}{2(b - a)} (x - a)^2 \\Big|_{x=a}^b \\\\\n",
    "&= f(a) (b-a) + \\frac{f(b) - f(a)}{2(b - a)} (b-a)^2 \\\\\n",
    "&= \\frac{b-a}{2} \\big( f(a) + f(b) \\big) .\n",
    "\\end{split} $$\n",
    "\n",
    "* Can you get to the same result using a geometric argument?\n",
    "* What happens when we sum over a bunch of adjacent intervals?\n",
    "\n",
    "Code for the Trapezoid Rule:"
   ]
  },
  {
   "cell_type": "code",
   "execution_count": null,
   "metadata": {},
   "outputs": [],
   "source": [
    "function fint_trapezoid(f, a, b; n=20)\n",
    "    dx = (b - a) / (n - 1)\n",
    "    x = LinRange(a, b, n)\n",
    "    fx = f.(x)\n",
    "    fx[1] /= 2\n",
    "    fx[end] /= 2\n",
    "    sum(fx) * dx\n",
    "end\n",
    "\n",
    "plot_accuracy(fint_trapezoid, tests, 2 .^ (1:10))"
   ]
  },
  {
   "cell_type": "markdown",
   "metadata": {},
   "source": [
    "## 2. Extrapolation\n",
    "\n",
    "Let's switch our plot around to use $h = \\Delta x$ instead of number of points $n$."
   ]
  },
  {
   "cell_type": "code",
   "execution_count": null,
   "metadata": {},
   "outputs": [],
   "source": [
    "function plot_accuracy_h(fint, tests, ns; ref=[1,2])\n",
    "    a, b = -2, 2\n",
    "    p = plot(xscale=:log10, yscale=:log10, xlabel=\"h\", ylabel=\"error\",\n",
    "        legend=:bottomright)\n",
    "    hs = (b - a) ./ ns\n",
    "    for (f, F) in tests\n",
    "        Is = [fint(f, a, b, n=n) for n in ns]\n",
    "        Errors = abs.(Is .- (F(b) - F(a)))\n",
    "        scatter!(hs, Errors, label=f)\n",
    "    end\n",
    "    for k in ref\n",
    "        plot!(hs, .1 * hs.^k, label=\"\\$h^{$k}\\$\")\n",
    "    end\n",
    "    p\n",
    "end"
   ]
  },
  {
   "cell_type": "code",
   "execution_count": null,
   "metadata": {},
   "outputs": [],
   "source": [
    "plot_accuracy_h(fint_midpoint, tests, 2 .^ (2:10))"
   ]
  },
  {
   "cell_type": "markdown",
   "metadata": {},
   "source": [
    "The trapezoid rule with $n$ points has an interval spacing of $h = 1/(n-1)$. \n",
    "\n",
    "Let $I_h$ be the value of the integral approximated using an interval $h$.  We have numerical evidence that the leading error term is $O(h^2)$, i.e.,\n",
    "\n",
    "$$ I_h - I_0 = c h^2 + O(h^3) $$\n",
    "\n",
    "for some as-yet unknown constant $c$ that will depend on the function being integrated and the domain of integration.\n",
    "\n",
    "If we can determine $c$ from two approximations, say $I_h$ and $I_{2h}$, then we can extrapolate to $h=0$.\n",
    "\n",
    "For sufficiently small $h$, we can neglect $O(h^3)$ and write\n",
    "\n",
    "$$\\begin{split} I_h - I_0 &= c h^2 \\\\\n",
    "I_{2h} - I_0 &= c (2h)^2 .\n",
    "\\end{split}$$\n",
    "\n",
    "Subtracting these two lines, we have\n",
    "\n",
    "$$ I_{h} - I_{2h} = c (h^2 - 4 h^2) $$\n",
    "\n",
    "which can be solved for $c$ as\n",
    "\n",
    "$$ c = \\frac{I_{h} - I_{2h}}{h^2 - 4 h^2} . $$\n",
    "\n",
    "Substituting back into the first equation, we solve for $I_0$ as\n",
    "\n",
    "$$ I_0 = I_h - c h^2 = I_h + \\frac{I_{h} - I_{2h}}{4 - 1} .$$\n",
    "\n",
    "This is called **Richardson extrapolation**.\n",
    "\n",
    "Extrapolation code:"
   ]
  },
  {
   "cell_type": "code",
   "execution_count": null,
   "metadata": {},
   "outputs": [],
   "source": [
    "function fint_richardson(f, a, b; n=20)\n",
    "    n = div(n, 2) * 2 + 1\n",
    "    h = (b - a) / (n - 1)\n",
    "    x = LinRange(a, b, n)\n",
    "    fx = f.(x)\n",
    "    fx[[1, end]] /= 2\n",
    "    I_h = sum(fx) * h\n",
    "    I_2h = sum(fx[1:2:end]) * 2h\n",
    "    I_h + (I_h - I_2h) / 3\n",
    "end\n",
    "plot_accuracy_h(fint_richardson, tests, 2 .^ (2:10), ref=1:5)"
   ]
  },
  {
   "cell_type": "markdown",
   "metadata": {},
   "source": [
    "Observations: \n",
    "\n",
    "* we now have a sequence of accurate approximations\n",
    "* it's possible to apply extrapolation recursively\n",
    "* works great if you have a power of 2 number of points\n",
    "  * and your function is nice enough"
   ]
  },
  {
   "cell_type": "code",
   "execution_count": null,
   "metadata": {},
   "outputs": [],
   "source": [
    "F_sin(x) = sin(30x)\n",
    "f_sin(x) = 30*cos(30x)\n",
    "plot_accuracy_h(fint_richardson, zip([f_sin], [F_sin]), 2 .^ (2:10), ref=1:5)"
   ]
  },
  {
   "cell_type": "markdown",
   "metadata": {},
   "source": [
    "## 3. Polynomial interpolation for integration"
   ]
  },
  {
   "cell_type": "code",
   "execution_count": null,
   "metadata": {},
   "outputs": [],
   "source": [
    "x = LinRange(-1, 1, 100)\n",
    "P = vander_legendre(x, 10)\n",
    "plot(x, P, legend=:none)"
   ]
  },
  {
   "cell_type": "markdown",
   "metadata": {},
   "source": [
    "Main ideas:\n",
    "\n",
    "* Sample the function $f(x)$ at some points $x \\in [-1, 1]$\n",
    "* Fit a polynomial through those points\n",
    "* Return the integral of that interpolating polynomial\n",
    "\n",
    "Questions:\n",
    "\n",
    "* What points do we sample on?\n",
    "* How do we integrate the interpolating polynomial?\n",
    "\n",
    "Recall that the Legendre polynomials $P_0(x) = 1$, $P_1(x) = x$, ..., are pairwise orthogonal\n",
    "\n",
    "$$\\int_{-1}^1 P_m(x) P_n(x) = 0, \\quad \\forall m\\ne n.$$"
   ]
  },
  {
   "cell_type": "markdown",
   "metadata": {},
   "source": [
    "### Integration using Legendre polynomials"
   ]
  },
  {
   "cell_type": "code",
   "execution_count": null,
   "metadata": {},
   "outputs": [],
   "source": [
    "function plot_accuracy_n(fint, tests, ns; ref=[1,2])\n",
    "    a, b = -2, 2\n",
    "    p = plot(xscale=:log10, yscale=:log10, xlabel=\"n\", ylabel=\"error\",\n",
    "        legend=:bottomright)\n",
    "    for (f, F) in tests\n",
    "        Is = [fint(f, a, b, n=n) for n in ns]\n",
    "        Errors = abs.(Is .- (F(b) - F(a)))\n",
    "        scatter!(ns, Errors, label=f)\n",
    "    end\n",
    "    p\n",
    "end"
   ]
  },
  {
   "cell_type": "code",
   "execution_count": null,
   "metadata": {},
   "outputs": [],
   "source": [
    "function fint_legendre(f, a, b; n=20)\n",
    "    x = CosRange(-1, 1, n)\n",
    "    P = vander_legendre(x)\n",
    "    x_ab = (a+b)/2 .+ (b-a)/2*x\n",
    "    c = P \\ f.(x_ab)\n",
    "    (b - a) * c[1]\n",
    "end\n",
    "\n",
    "fint_legendre(x -> 1 + x, -1, 1, n=2)"
   ]
  },
  {
   "cell_type": "code",
   "execution_count": null,
   "metadata": {},
   "outputs": [],
   "source": [
    "p = plot_accuracy_h(fint_legendre, tests, 4:20, ref=1:5)"
   ]
  },
  {
   "cell_type": "markdown",
   "metadata": {},
   "source": []
  }
 ],
 "metadata": {
  "kernelspec": {
   "display_name": "Julia 1.10.4",
   "language": "julia",
   "name": "julia-1.10"
  },
  "language_info": {
   "file_extension": ".jl",
   "mimetype": "application/julia",
   "name": "julia",
   "version": "1.10.4"
  }
 },
 "nbformat": 4,
 "nbformat_minor": 2
}
