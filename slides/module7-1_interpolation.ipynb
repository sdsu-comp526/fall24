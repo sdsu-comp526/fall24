{
 "cells": [
  {
   "cell_type": "markdown",
   "id": "4159be0e",
   "metadata": {
    "hideCode": false,
    "hidePrompt": false,
    "slideshow": {
     "slide_type": "slide"
    }
   },
   "source": [
    "# 25) Interpolation\n",
    "\n",
    "## Last time:\n",
    "- Introduction to Fortran\n",
    "\n",
    "## Today:\n",
    " 1. Interpolation using polynomials  \n",
    " 2. Lagrange Interpolating Polynomials  \n",
    " 3. Newton polynomials  \n",
    " 4. Choice of points and choice of bases"
   ]
  },
  {
   "cell_type": "code",
   "execution_count": null,
   "id": "eb781a7a",
   "metadata": {
    "slideshow": {
     "slide_type": "skip"
    }
   },
   "outputs": [],
   "source": [
    "using LinearAlgebra\n",
    "using Plots\n",
    "using LaTeXStrings\n",
    "default(linewidth=4, legendfontsize=12)\n",
    "\n",
    "function vander(x, k=nothing)\n",
    "    if isnothing(k)\n",
    "        k = length(x)\n",
    "    end\n",
    "    m = length(x)\n",
    "    V = ones(m, k)\n",
    "    for j in 2:k\n",
    "        V[:, j] = V[:, j-1] .* x\n",
    "    end\n",
    "    V\n",
    "end\n",
    "\n",
    "function peanut()\n",
    "    theta = LinRange(0, 2*pi, 50)\n",
    "    r = 1 .+ .4*sin.(3*theta) + .6*sin.(2*theta)\n",
    "    r' .* [cos.(theta) sin.(theta)]'\n",
    "end\n",
    "\n",
    "function circle()\n",
    "    theta = LinRange(0, 2*pi, 50)\n",
    "    [cos.(theta) sin.(theta)]'\n",
    "end\n",
    "\n",
    "function Aplot(A)\n",
    "    \"Plot a transformation from X to Y\"\n",
    "    X = peanut()\n",
    "    Y = A * X\n",
    "    p = scatter(X[1,:], X[2,:], label=\"in\")\n",
    "    scatter!(p, Y[1,:], Y[2,:], label=\"out\")\n",
    "    X = circle()\n",
    "    Y = A * X\n",
    "    q = scatter(X[1,:], X[2,:], label=\"in\")\n",
    "    scatter!(q, Y[1,:], Y[2,:], label=\"out\")\n",
    "    plot(p, q, layout=2, aspect_ratio=:equal)\n",
    "end"
   ]
  },
  {
   "cell_type": "markdown",
   "id": "a2b2335c",
   "metadata": {
    "slideshow": {
     "slide_type": "slide"
    }
   },
   "source": [
    "## 1. Interpolation using polynomials  \n",
    "\n",
    "### What is interpolation?\n",
    "\n",
    "Given data $(x_i, y_i)$, find a (smooth?) function $f(x)$ such that $f(x_i) = y_i$."
   ]
  },
  {
   "cell_type": "markdown",
   "id": "e154abef",
   "metadata": {
    "cell_style": "split"
   },
   "source": [
    "### Data in\n",
    "\n",
    "* direct field observations/measurement of a physical or social system\n",
    "* numerically processed observations, perhaps by applying physical principles\n",
    "* output from an expensive \"exact\" numerical computation\n",
    "* output from an approximate numerical computation"
   ]
  },
  {
   "cell_type": "markdown",
   "id": "749c9094",
   "metadata": {
    "cell_style": "split"
   },
   "source": [
    "### Functions to use as interpolants\n",
    "\n",
    "* Polynomials\n",
    "* Piecewise polynomials (includes nearest-neighbor)\n",
    "* Powers and exponentials\n",
    "* Trigonometric functions (sine and cosine)\n",
    "* Neural networks"
   ]
  },
  {
   "cell_type": "markdown",
   "id": "dff874fb",
   "metadata": {
    "slideshow": {
     "slide_type": "fragment"
    }
   },
   "source": [
    "Interpolation fits the data exactly!"
   ]
  },
  {
   "cell_type": "markdown",
   "id": "2648d8e3",
   "metadata": {
    "slideshow": {
     "slide_type": "slide"
    }
   },
   "source": [
    "### Polynomial interpolation\n",
    "\n",
    "Recall that in the [Linear Algebra lecture](https://sdsu-comp526.github.io/fall24/slides/module4-1_linear_algebra.html), we've seen how we can fit a polynomial using Vandermonde matrices, one column per basis function and one row per observation.\n",
    "\n",
    "$$\n",
    "\\begin{bmatrix}  1 & x_0 & x_0^2 & x_0^3 & \\ldots \\\\ \n",
    "                    1 & x_1 & x_1^2 & x_1^3 & \\ldots \\\\\n",
    "                    \\vdots & \\vdots & \\vdots & \\vdots & \\vdots \\\\\n",
    "                    1 & x_n & x_n^2 & x_n^3 & \\ldots  \\end{bmatrix}_{A \\in \\mathbb R^{(n+1) \\times m}}\n",
    "\\begin{bmatrix} p_0 \\\\ p_1 \\\\ \\vdots \\\\ p_n \\end{bmatrix} = \n",
    "\\begin{bmatrix} y_0 \\\\ y_1 \\\\ \\vdots \\\\ y_n \\end{bmatrix}\n",
    "$$\n",
    "\n",
    "which is the matrix form of the system of equations:\n",
    "\n",
    "$$\n",
    "\\begin{align*}\n",
    "p(x_0) &= a_0 + a_1 x_0 + a_2 x_0^2 + \\ldots + a_n x_0^m = y_0\\\\\n",
    "p(x_1) &= a_0 + a_1 x_1 + a_2 x_1^2 + \\ldots + a_n x_1^m = y_1\\\\\n",
    "p(x_2) &= a_0 + a_1 x_2 + a_2 x_2^2 + \\ldots + a_n x_2^m = y_2\\\\ \n",
    "\n",
    "\\vdots &  \\\\\n",
    "p(x_n) &= a_0 + a_1 x_n + a_2 x_n^2 + \\ldots + a_n x_n^m = y_n\\\\\n",
    "\\end{align*}\n",
    "$$\n",
    "\n",
    "#### [Poll 25.1](https://PollEv.com/multiple_choice_polls/ABH24H6oH93cm4B7BEVtI/respond): It's possible to find a unique interpolating polynomial $\\mathbf p \\in P_n$ when which of the following are true?\n",
    "\n",
    "1. $m \\le n+1$\n",
    "2. $m = n+1$\n",
    "3. $m \\ge n+1$"
   ]
  },
  {
   "cell_type": "markdown",
   "id": "8bf90450",
   "metadata": {
    "slideshow": {
     "slide_type": "slide"
    }
   },
   "source": [
    "### Polynomial interpolation with a Vandermonde matrix"
   ]
  },
  {
   "cell_type": "code",
   "execution_count": null,
   "id": "bf3cb05c",
   "metadata": {
    "scrolled": false
   },
   "outputs": [],
   "source": [
    "x = LinRange(-1.5, 2, 4)\n",
    "y = sin.(x)\n",
    "A = vander(x)\n",
    "p = A \\ y # p = A^{-1} y\n",
    "\n",
    "scatter(x, y)\n",
    "s = LinRange(-3, 3, 50)\n",
    "plot!(s, [sin.(s) vander(s, length(p)) * p])"
   ]
  },
  {
   "cell_type": "markdown",
   "id": "f439641a",
   "metadata": {
    "slideshow": {
     "slide_type": "slide"
    }
   },
   "source": [
    "### Vandermonde matrices can be ill-conditioned"
   ]
  },
  {
   "cell_type": "code",
   "execution_count": null,
   "id": "4c05f26d",
   "metadata": {
    "slideshow": {
     "slide_type": ""
    }
   },
   "outputs": [],
   "source": [
    "A = vander(LinRange(-1, 1, 20))\n",
    "cond(A)"
   ]
  },
  {
   "cell_type": "markdown",
   "id": "991aa90d",
   "metadata": {
    "slideshow": {
     "slide_type": "fragment"
    }
   },
   "source": [
    "Reflection:\n",
    "\n",
    "1. It's because of the points $x$?\n",
    "2. It's because of the basis functions $\\{ 1, x, x^2, x^3, \\dotsc \\}$?"
   ]
  },
  {
   "cell_type": "markdown",
   "id": "4c9fde1d",
   "metadata": {
    "slideshow": {
     "slide_type": "slide"
    }
   },
   "source": [
    "## 2. [Lagrange Interpolating Polynomials](https://en.wikipedia.org/wiki/Lagrange_polynomial)\n",
    "\n",
    "Suppose we are given function values $y_0, \\dotsc, y_m$ at the _distinct_ points $x_0, \\dotsc, x_m$ and we would like to build a polynomial of degree $m$ that goes through all these points.  This explicit construction is attributed to Lagrange (though it is said that he was not first):\n",
    "\n",
    "\n",
    "$$\n",
    "l_i(x)= \\frac{(x-x_0)(x-x_1) \\cdots (x-x_{i-1})(x-x_{i+1}) \\cdots (x-x_m)}{(x_i-x_0)(x_i-x_1) \\cdots (x_i-x_{i-1})(x_i-x_{i+1}) \\cdots (x_i-x_m)} \\qquad , \\; i=0, 1, \\ldots, \\, m \\ .\n",
    "$$\n",
    "\n",
    "By construction, this is a degree $m$ polynomial, with $l_i(x_j) = \\delta_{ij}$ (where $\\delta_{ij}$ denotes the [Kronecker delta](https://en.wikipedia.org/wiki/Kronecker_delta)). Hence, we notice that the Lagrange basis for polynomials of degree $≤ m$ for those nodes is the set of polynomials $\\{l_0(x), l_1(x), \\ldots, l_m(x) \\}$ which take values $l_j(x_k) = 0$ if $k \\neq j$ and $l_j(x_j)=1$.\n",
    "\n",
    "Lagrange’s interpolating formula\n",
    "\n",
    "$$ p(x) = \\sum_{i=0}^m y_i \\prod_{j \\ne i} \\frac{x - x_j}{x_i - x_j} $$\n",
    "\n",
    "* What is the degree of this polynomial?\n",
    "* Why is $p(x_i) = y_i$?\n",
    "* How expensive (in terms of $m$) is it to evaluate $p(x)$?\n",
    "* How expensive (in terms of $m$) is it to convert to standard form $p(x) = \\sum_{i=0}^m a_i x^i$?\n",
    "* Can we easily evaluate the derivative $p'(x)$?\n",
    "* What can go wrong? Is this formulation numerically stable?\n",
    "\n",
    "Let's look at some concrete examples:\n",
    "- Suppose we are given the three points $(x_0, y_0), (x_1, y_1), (x_2, y_2)$. Then the polynomial\n",
    "\n",
    "$$ p_2(x) = y_0 \\frac{(x-x_1)(x-x_2)}{(x_0-x_1)(x_0-x_2)} +  y_1 \\frac{(x-x_0)(x-x_2)}{(x_1-x_0)(x_1-x_2)} + y_2 \\frac{(x-x_0)(x-x_1)}{(x_2-x_0)(x_2-x_1)}$$\n",
    "\n",
    "is the Lagrange’s interpolating for these points. First we notice that the polynomial exactly interpolate the data points. In fact, When $x_1$ is substituted for $x$, the terms evaluate to $y_0 + 0 + 0 = y_0$. Second, notice that the polynomial is of degree 2 in the variable $x$.\n",
    "\n",
    "### Example:\n",
    "Find an interpolating polynomial for the data points $(0, 1)$, $(2, 2)$, and $(3, 4)$. Substituting into Lagrange’s formula yields:\n",
    "\n",
    "$$\n",
    "\\begin{align*}\n",
    "p_2(x) =& 1 \\frac{(x-2)(x-3)}{(0-2)(0-3)} +2 \\frac{(x-0)(x-3)}{(2-0)(2-3)} +4\\frac{(x-0)(x-2)}{(3-0)(3-2)} = \\\\\n",
    "       =& \\frac{1}{6}(x^2 - 5x +6) +2\\left(-\\frac{1}{2} \\right)(x^2 - 3x) +4\\left( \\frac{1}{3} \\right) (x^2 -2x) = \\\\\n",
    "       =& \\frac{x^2}{2} - \\frac{x}{2} +1.\n",
    "\n",
    "\\end{align*}\n",
    "$$\n",
    "\n",
    "Check that $p_2(0)=1$, $p_2(2)=2$, and $p_2(3)=4$.\n",
    "\n"
   ]
  },
  {
   "cell_type": "code",
   "execution_count": null,
   "id": "52d62f56",
   "metadata": {},
   "outputs": [],
   "source": [
    "x = [0,2,3]\n",
    "y = [1,2,4]\n",
    "scatter(x, y, label = L\"(x_i, y_i)\")"
   ]
  },
  {
   "cell_type": "markdown",
   "id": "6f679447",
   "metadata": {
    "slideshow": {
     "slide_type": "slide"
    }
   },
   "source": [
    "### Lagrange interpolation in code"
   ]
  },
  {
   "cell_type": "code",
   "execution_count": null,
   "id": "3e15e8c6",
   "metadata": {
    "cell_style": "split"
   },
   "outputs": [],
   "source": [
    "function lagrange(x, y)\n",
    "    function p(t)\n",
    "        m = length(x)\n",
    "        w = 0\n",
    "        for (i, yi) in enumerate(y)\n",
    "            w += yi * (prod(t .- x[1:i-1]) * prod(t .- x[i+1:end])\n",
    "                / (prod(x[i] .- x[1:i-1]) * prod(x[i] .- x[i+1:end])))\n",
    "        end\n",
    "        w\n",
    "    end\n",
    "    return p\n",
    "end\n",
    "\n",
    "\n",
    "x = LinRange(-1.5, 2, 4)\n",
    "y = sin.(x)\n",
    "p = lagrange(x, y)\n",
    "\n",
    "scatter(x, y, label = L\"(x_i, y_i)\")\n",
    "s = LinRange(-3, 3, 50)\n",
    "\n",
    "plot!(s, [sin.(s) p.(s)], label = [\"sin(x)\" \"p(x)\"])"
   ]
  },
  {
   "cell_type": "code",
   "execution_count": null,
   "id": "5dd6338b",
   "metadata": {
    "cell_style": "split",
    "slideshow": {
     "slide_type": "fragment"
    }
   },
   "outputs": [],
   "source": [
    "# Notice how important this is\n",
    "prod(Float64[])"
   ]
  },
  {
   "cell_type": "markdown",
   "id": "920f0df3",
   "metadata": {
    "slideshow": {
     "slide_type": "slide"
    }
   },
   "source": [
    "#### We don't have `cond(lagrange(x, y))`"
   ]
  },
  {
   "cell_type": "markdown",
   "id": "52af5a0f",
   "metadata": {
    "cell_style": "split",
    "slideshow": {
     "slide_type": ""
    }
   },
   "source": [
    "It's just a function and we know\n",
    "$$ \\kappa(f) = \\lvert f' \\rvert \\frac{|x|}{|f|} $$\n",
    "but this definition depends on the input $x$ and it's difficult to explore that space.\n",
    "\n",
    "* We also don't have an easy way to evaluate derivatives."
   ]
  },
  {
   "cell_type": "code",
   "execution_count": null,
   "id": "3b2b660f",
   "metadata": {
    "cell_style": "split"
   },
   "outputs": [],
   "source": [
    "k = 5; xx = LinRange(-1, 1, k)\n",
    "B = vander(s, k) / vander(xx) # 50×5 Matrix\n",
    "plot(s, B) # plot the columns of B\n",
    "scatter!(xx, [zero.(xx) one.(xx)], color=:black, legend=:none, ylims=(-2, 2)) # a closer look ylims=(-2, 2)"
   ]
  },
  {
   "cell_type": "markdown",
   "id": "9db6acff",
   "metadata": {
    "slideshow": {
     "slide_type": "slide"
    }
   },
   "source": [
    "## 3. Newton polynomials\n",
    "\n",
    "Given the set of data points $(x_0,y_0), (x_1,y_1), \\ldots, (x_m,y_m)$, the [Newton interpolation polynomial](https://en.wikipedia.org/wiki/Newton_polynomial) is a linear combination of Newton basis polynomials:\n",
    "\n",
    "$$\n",
    "N(x) = \\sum_{k=0}^{m} a_k n_k(x)\n",
    "$$\n",
    "\n",
    "with the Newton basis polynomials defined as\n",
    "\n",
    "$$ n_k(x) = \\prod_{i=0}^{k-1} (x - x_i) $$\n",
    "\n",
    "where no two $x_j$ are the same.\n",
    "\n",
    "This gives the Vandermonde interpolation problem as\n",
    "\n",
    "$$ \\Big[ 1 \\Big| (x - x_0) \\Big| (x - x_0)(x - x_1) \\Big| \\dotsb \\Big] \\Big[ p \\Big] = \\Big[ y \\Big] $$\n",
    "\n",
    "* How does the Vandermonde procedure change if we replace the monomial $x^k$ with $n_k(x)$?\n",
    "* Does the matrix have recognizable structure?"
   ]
  },
  {
   "cell_type": "code",
   "execution_count": null,
   "id": "07d45852",
   "metadata": {
    "cell_style": "split",
    "slideshow": {
     "slide_type": "slide"
    }
   },
   "outputs": [],
   "source": [
    "function vander_newton(x, abscissa=nothing)\n",
    "    if isnothing(abscissa)\n",
    "        abscissa = x\n",
    "    end\n",
    "    n = length(abscissa)\n",
    "    A = ones(length(x), n)\n",
    "    for i in 2:n\n",
    "        A[:,i] = A[:,i-1] .* (x .- abscissa[i-1])\n",
    "    end\n",
    "    A\n",
    "end\n",
    "\n",
    "A = vander_newton(s, x)\n",
    "plot(s, A, ylims=(-3, 3), label = [\"A_1\" \"A_2\" \"A_3\" \"A_4\"])\n",
    "scatter!(x, [zero.(x)], color=:black, label=nothing)"
   ]
  },
  {
   "cell_type": "code",
   "execution_count": null,
   "id": "83f9545e",
   "metadata": {
    "cell_style": "split",
    "scrolled": true,
    "slideshow": {
     "slide_type": "fragment"
    }
   },
   "outputs": [],
   "source": [
    "p = vander_newton(x, x) \\ y\n",
    "scatter(x, y)\n",
    "plot!(s, [sin.(s), vander_newton(s, x) * p], label = [\"sin(x)\" \"vander_newton p(x)\"])"
   ]
  },
  {
   "cell_type": "markdown",
   "id": "a4581240",
   "metadata": {
    "slideshow": {
     "slide_type": "slide"
    }
   },
   "source": [
    "### Newton Vandermonde matrix structure\n",
    "\n",
    "* How much does it cost to solve with a general $n\\times n$ dense matrix?\n",
    "  1. $O(n \\log n)$\n",
    "  2. $O(n^2)$\n",
    "  3. $O(n^3)$"
   ]
  },
  {
   "cell_type": "code",
   "execution_count": null,
   "id": "83aac4c6",
   "metadata": {
    "slideshow": {
     "slide_type": "fragment"
    }
   },
   "outputs": [],
   "source": [
    "vander_newton(LinRange(-1, 1, 5))"
   ]
  },
  {
   "cell_type": "markdown",
   "id": "54743e9d",
   "metadata": {
    "slideshow": {
     "slide_type": "fragment"
    }
   },
   "source": [
    "* How much does it cost to solve with a Newton Vandermonde matrix?\n",
    "\n",
    "You can rearrange the Newton Vandermonde interpolation problem using _nested multiplications_ that reduces the problem to $O(n^2)$. "
   ]
  },
  {
   "cell_type": "markdown",
   "id": "3508fcce",
   "metadata": {
    "slideshow": {
     "slide_type": "slide"
    }
   },
   "source": [
    "#### How is the conditioning of these matrices?\n",
    "\n"
   ]
  },
  {
   "cell_type": "code",
   "execution_count": null,
   "id": "140ab242",
   "metadata": {},
   "outputs": [],
   "source": [
    "vcond(mat, points, nmax) = [cond(mat(points(-1, 1, n))) for n in 2:nmax]\n",
    "\n",
    "plot([vcond(vander, LinRange, 20)], yscale=:log10, legend=:none)"
   ]
  },
  {
   "cell_type": "markdown",
   "id": "dcaea6b6",
   "metadata": {
    "slideshow": {
     "slide_type": "slide"
    }
   },
   "source": [
    "### A well-conditioned basis"
   ]
  },
  {
   "cell_type": "code",
   "execution_count": null,
   "id": "22f1907d",
   "metadata": {
    "cell_style": "split"
   },
   "outputs": [],
   "source": [
    "function vander_legendre(x, k=nothing)\n",
    "    if isnothing(k)\n",
    "        k = length(x) # Square by default\n",
    "    end\n",
    "    m = length(x)\n",
    "    Q = ones(m, k)\n",
    "    Q[:, 2] = x\n",
    "    for n in 1:k-2\n",
    "        Q[:, n+2] = ((2*n + 1) * x .* Q[:, n+1] - n * Q[:, n]) / (n + 1)\n",
    "    end\n",
    "    Q\n",
    "end"
   ]
  },
  {
   "cell_type": "code",
   "execution_count": null,
   "id": "4b9cca3d",
   "metadata": {
    "cell_style": "split",
    "scrolled": false
   },
   "outputs": [],
   "source": [
    "plot([vcond(vander_legendre, LinRange, 20)], yscale=:log10)"
   ]
  },
  {
   "cell_type": "markdown",
   "id": "cd393434",
   "metadata": {
    "slideshow": {
     "slide_type": "slide"
    }
   },
   "source": [
    "## 4. Choice of points and choice of bases\n",
    "\n",
    "### Let's look at different set of points"
   ]
  },
  {
   "cell_type": "code",
   "execution_count": null,
   "id": "8b51cf56",
   "metadata": {},
   "outputs": [],
   "source": [
    "CosRange(a, b, n) = (a + b)/2 .+ (b - a)/2 * cos.(LinRange(-pi, 0, n))\n",
    "\n",
    "plot([vcond(vander, LinRange, 20)], yscale=:log10, legend=:topleft, label= \"vander LinRange\")\n",
    "plot!([vcond(vander, CosRange, 20)], yscale=:log10, label = \"vander CosRange\")\n",
    "plot!([vcond(vander_legendre, LinRange, 20)], yscale=:log10, label = \"vander_legendre LinRange\")\n",
    "plot!([vcond(vander_legendre, CosRange, 20)], yscale=:log10, label =  \"vander_legendre CosRange\")"
   ]
  },
  {
   "cell_type": "markdown",
   "id": "86928c03",
   "metadata": {
    "slideshow": {
     "slide_type": "slide"
    }
   },
   "source": [
    "### What's wrong with ill-conditioning?"
   ]
  },
  {
   "cell_type": "code",
   "execution_count": null,
   "id": "54e4a0d9",
   "metadata": {
    "cell_style": "split"
   },
   "outputs": [],
   "source": [
    "runge1(x) = 1 / (1 + 10*x^2)\n",
    "\n",
    "x_lin = LinRange(-1, 1, 20)\n",
    "x_cos = CosRange(-1, 1, 20)\n",
    "y_lin = runge1.(x_lin)\n",
    "y_cos = runge1.(x_cos)\n",
    "plot(runge1, xlims=(-1, 1))\n",
    "scatter!(x_lin, y_lin)"
   ]
  },
  {
   "cell_type": "code",
   "execution_count": null,
   "id": "c8705053",
   "metadata": {},
   "outputs": [],
   "source": [
    "plot(runge1, xlims=(-1, 1))\n",
    "scatter!(x_cos, y_cos)"
   ]
  },
  {
   "cell_type": "code",
   "execution_count": null,
   "id": "70be849e",
   "metadata": {
    "cell_style": "split"
   },
   "outputs": [],
   "source": [
    "ourvander = vander_legendre\n",
    "p = ourvander(x) \\ y;\n",
    "scatter(x, y, label = L\"(x_i,y_i)\")\n",
    "s = LinRange(-1, 1, 100)\n",
    "plot!(s, runge1.(s), label = \"runge\")\n",
    "plot!(s, ourvander(s, length(x)) * p, label = \"vander_legendre\")"
   ]
  },
  {
   "cell_type": "code",
   "execution_count": null,
   "id": "6142e144",
   "metadata": {
    "cell_style": "split"
   },
   "outputs": [],
   "source": [
    "ourvander(s, length(x)) # 100×20 matrix\n",
    "ourvander(x) # 20x20 matrix\n",
    "ourvander(s, length(x)) / ourvander(x) # 100×20 matrix\n",
    "cond(ourvander(s, length(x)) / ourvander(x))"
   ]
  },
  {
   "cell_type": "code",
   "execution_count": null,
   "id": "65d2ed71",
   "metadata": {
    "cell_style": "split"
   },
   "outputs": [],
   "source": [
    "cond(ourvander(x))"
   ]
  },
  {
   "cell_type": "markdown",
   "id": "91a71778",
   "metadata": {
    "slideshow": {
     "slide_type": "slide"
    }
   },
   "source": [
    "### The worst vector"
   ]
  },
  {
   "cell_type": "code",
   "execution_count": null,
   "id": "cbf08db7",
   "metadata": {
    "cell_style": "split"
   },
   "outputs": [],
   "source": [
    "A = ourvander(s, length(x)) / ourvander(x)\n",
    "\n",
    "U, S, V = svd(A) # Vt factor is 20×20\n",
    "V[:, 1:1] # extract first column\n",
    "plot(x, V[:, 1:1])"
   ]
  },
  {
   "cell_type": "code",
   "execution_count": null,
   "id": "793c5a24",
   "metadata": {
    "cell_style": "split"
   },
   "outputs": [],
   "source": [
    "plot(s, U[:,1])"
   ]
  },
  {
   "cell_type": "code",
   "execution_count": null,
   "id": "33c215da",
   "metadata": {},
   "outputs": [],
   "source": [
    "@show S[1]"
   ]
  },
  {
   "cell_type": "markdown",
   "id": "dfada148",
   "metadata": {},
   "source": [
    "### Recommended Reading: \n",
    ":::{note} Read the following Wiki page\n",
    "This is known as the [Runge's phenomenon](https://en.wikipedia.org/wiki/Runge%27s_phenomenon).\n",
    ":::"
   ]
  }
 ],
 "metadata": {
  "@webio": {
   "lastCommId": null,
   "lastKernelId": null
  },
  "celltoolbar": "Slideshow",
  "hide_code_all_hidden": false,
  "kernelspec": {
   "display_name": "Julia 1.10.4",
   "language": "julia",
   "name": "julia-1.10"
  },
  "language_info": {
   "file_extension": ".jl",
   "mimetype": "application/julia",
   "name": "julia",
   "version": "1.10.4"
  },
  "rise": {
   "enable_chalkboard": true
  }
 },
 "nbformat": 4,
 "nbformat_minor": 5
}
