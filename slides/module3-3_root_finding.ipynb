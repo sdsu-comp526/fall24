{
 "cells": [
  {
   "cell_type": "markdown",
   "id": "4159be0e",
   "metadata": {
    "hideCode": false,
    "hidePrompt": false,
    "slideshow": {
     "slide_type": "slide"
    }
   },
   "source": [
    "# 10) Rootfinding\n",
    "\n",
    "## Last time\n",
    "\n",
    "* More on floating point\n",
    "* Discuss Taylor Series activity\n",
    "* Condition numbers\n",
    "\n",
    "## Today\n",
    "\n",
    " 1. Intro to forward and backward error\n",
    " 2. Computing volume of a polygon\n",
    " 3. Rootfinding\n",
    " 4. Bisection Method"
   ]
  },
  {
   "cell_type": "code",
   "execution_count": null,
   "id": "eb781a7a",
   "metadata": {
    "slideshow": {
     "slide_type": "skip"
    }
   },
   "outputs": [],
   "source": [
    "using Plots\n",
    "default(linewidth=4)"
   ]
  },
  {
   "cell_type": "markdown",
   "id": "ca3502f6",
   "metadata": {
    "slideshow": {
     "slide_type": "slide"
    }
   },
   "source": [
    "What we're hoping for is for our problems (functions) and algorithms to be reliable (i.e., we can trust the result that our computer spits out). Reliable = well-conditioned and stable. But unfortunately\n",
    "\n",
    "**Mathematical functions $f(x)$ can be ill-conditioned: (big $\\kappa$)**\n",
    "* Modeling is how we turn an abstract question into a mathematical function\n",
    "* We want well-conditioned models (small $\\kappa$)\n",
    "* Some systems are intrinsically sensitive: fracture, chaotic systems, combustion\n",
    "\n",
    "**Algorithms `f(x)` can be unstable**\n",
    "* Unreliable, though sometimes practical\n",
    "* Unstable algorithms are constructed from ill-conditioned parts"
   ]
  },
  {
   "cell_type": "markdown",
   "id": "e6129d2f",
   "metadata": {
    "slideshow": {
     "slide_type": "slide"
    }
   },
   "source": [
    "## 1. Introduction to forward and backward error\n",
    "\n"
   ]
  },
  {
   "cell_type": "markdown",
   "id": "53bdc8fa",
   "metadata": {
    "cell_style": "split"
   },
   "source": [
    "* Activity: Read [Backward error](https://fncbook.github.io/fnc/intro/stability.html)\n",
    "\n",
    "- Backward error measures what change to the original data would reproduce the result found by an algorithm.\n",
    "\n",
    "![](https://fncbook.github.io/fnc/_images/backwarderror.svg)\n",
    "\n",
    "* Let $\\tilde{y} = \\tilde{f}(x)$ be a computed result for the original data $x$. If there is a value $\\tilde{x}$ such that\n",
    "\n",
    "$$ f(\\tilde{x})=\\tilde{y} =\\tilde{f}(x), $$\n",
    "\n",
    "then we call $|\\tilde{x} −x|/|x|$ the (relative) **backward error** of the result. \n",
    "\n",
    "* Instead of asking, \"How close to the true answer is your answer?\", backward error asks, \"How close to the true question is the question you answered?\" \n",
    "\n",
    ":::{admonition} Aside: Verification and Validation (V&V)\n",
    "This is similar to the difference between **Verification and Validation (V&V)** of your results. \n",
    "- In Numerical Analysis, the concepts of Verification and Validation can be oversimplified in a succinct manner by saying that \"_verification_ is checking that you are solving the equations right\" (verifying the numerics) and \"_validation_ is checking that you are solving the right equations\" (for physical or engineering problems this involves verifying the physics - often done by comparing model results with actual data given by observations). \n",
    "- Similarly, in Software Engineering, we can say that _verification_ is asking the question: \"are we building the product right (i.e., correctly)?\" and _validation_: \"are we building the right product (i.e., does it match the original plan/design)?\"\n",
    "- From a modeling and simulation point of view in scientific computing, we can have best practices like checking the convergence or order of accuracy of a numerical scheme (more on this later) and this would be part of _verification_. While, if we are modeling a physical system, using conservatiion laws, then checking that the quantities of interest are really conserved is part of _validation_ (in fact, we would check that our assumptions are not violated). \n",
    ":::\n",
    "\n",
    "* For ill-conditioned functions, the best we can hope for is small backward error.\n",
    "\n",
    "* If an algorithm always produces small backward errors, then it is **stable**. But the converse is not always true: some stable algorithms may produce a large backward error."
   ]
  },
  {
   "cell_type": "markdown",
   "id": "9a15e2e3",
   "metadata": {
    "slideshow": {
     "slide_type": "slide"
    }
   },
   "source": [
    "## Exercise 10.1\n",
    "\n",
    "* Find a function $f(x)$ that models something you're interested in\n",
    "* Plot its condition number $\\kappa$ as a function of $x$\n",
    "* Plot the relative error (using single or double precision; compare using Julia's `big`)\n",
    "* Is the relative error ever much bigger than $\\kappa \\epsilon_{\\text{machine}}$?\n",
    "* If so, can you find what caused the instability in your algorithm?\n",
    "\n",
    "\n",
    "### Further reading: [FNC Introduction](https://fncbook.github.io/fnc/intro/overview.html)"
   ]
  },
  {
   "cell_type": "markdown",
   "id": "6b384a37",
   "metadata": {
    "slideshow": {
     "slide_type": "slide"
    }
   },
   "source": [
    "## 2. Stability demo: Volume of a polygon\n",
    "\n",
    "- Activity: run the following code and comment on the result "
   ]
  },
  {
   "cell_type": "code",
   "execution_count": null,
   "id": "f45333ac",
   "metadata": {
    "cell_style": "split",
    "scrolled": true
   },
   "outputs": [],
   "source": [
    "X = [1 0; 2 1; 1 3; 0 1; -1 1.5; -2 -1; .5 -2; 1 0]\n",
    "R(θ) = [cos(θ) -sin(θ); sin(θ) cos(θ)] # rotation matrix\n",
    "Y = X * R(deg2rad(30))' .+ [0 0]\n",
    "plot(Y[:,1], Y[:,2], seriestype=:shape, aspect_ratio=:equal, xlims=(-3, 3), ylims=(-3, 3))"
   ]
  },
  {
   "cell_type": "code",
   "execution_count": null,
   "id": "1ea4925d",
   "metadata": {
    "cell_style": "split"
   },
   "outputs": [],
   "source": [
    "using LinearAlgebra\n",
    "function pvolume(X)\n",
    "    n = size(X, 1)\n",
    "    vol = sum(det(X[i:i+1, :]) / 2 for i in 1:n-1)\n",
    "end\n",
    "\n",
    "@show ref_vol = pvolume(X)\n",
    "@show rotated_vol = pvolume(Y)"
   ]
  },
  {
   "cell_type": "markdown",
   "id": "7f7fce01",
   "metadata": {},
   "source": [
    ":::{tip}\n",
    "If not familiar with, see [this](https://en.wikipedia.org/wiki/Shoelace_formula).\n",
    ":::\n",
    "\n",
    "- What happens if this polygon is translated, perhaps far away? (We'll see more next time)"
   ]
  },
  {
   "cell_type": "markdown",
   "id": "cc20233c",
   "metadata": {
    "slideshow": {
     "slide_type": "slide"
    }
   },
   "source": [
    "## 3. Rootfinding\n",
    "\n",
    "> Given $f(x)$, find $x$ such that $f(x) = 0$.\n",
    "\n",
    "We'll work with scalars ($f$ and $x$ are just numbers) for now, but keep in mind that they can be vector-valued."
   ]
  },
  {
   "cell_type": "markdown",
   "id": "eb9574ab",
   "metadata": {
    "cell_style": "split"
   },
   "source": [
    "### Exercise 10.2 \n",
    "Solve for $x$\n",
    "\n",
    "* $f(x; b) = x^2 - b$\n",
    "  * $x(b) = \\sqrt{b}$\n",
    "* $f(x; b) = \\tan x - b$\n",
    "  * $x(b) = \\arctan b$\n",
    "* $f(x) = \\cos x + x - b$\n",
    "  * $x(b) = ?$"
   ]
  },
  {
   "cell_type": "markdown",
   "id": "b7c09eb2",
   "metadata": {
    "cell_style": "split",
    "slideshow": {
     "slide_type": ""
    }
   },
   "source": [
    "We aren't given $f(x)$, but rather an algorithm `f(x)` that approximates it.\n",
    "* Sometimes we get extra information, like `fp(x)` that approximates $f'(x)$\n",
    "* If we have source code for `f(x)`, maybe it can be transformed \"automatically\" to obtain `fp(x)`"
   ]
  },
  {
   "cell_type": "markdown",
   "id": "217175a9",
   "metadata": {
    "slideshow": {
     "slide_type": "slide"
    }
   },
   "source": [
    "### Example: Queueing\n",
    "\n",
    "In a [simple queueing model](https://en.wikipedia.org/wiki/Queueing_theory#Simple_two-equation_queue), there is an arrival rate and a departure (serving) rate.  While waiting in the queue, there is a probability of \"dropping out\". The length of the queue in this model is\n",
    "\n",
    "$$ \\text{length} = \\frac{\\text{arrival} - \\text{drop}}{\\text{departure}} $$\n",
    "\n",
    "One model for the waiting time (where these rates are taken from exponential distributions) is"
   ]
  },
  {
   "cell_type": "code",
   "execution_count": null,
   "id": "672b000b",
   "metadata": {},
   "outputs": [],
   "source": [
    "wait(arrival, departure) = log(arrival / departure) / departure\n",
    "\n",
    "plot(d -> wait(1, d), xlims=(.1, 1), xlabel=\"departure\", ylabel=\"wait\", label = \"wait\")"
   ]
  },
  {
   "cell_type": "markdown",
   "id": "724dd4c3",
   "metadata": {
    "slideshow": {
     "slide_type": "slide"
    }
   },
   "source": [
    "#### Departure rate given wait\n",
    "\n",
    "* Easy to measure wait\n",
    "* I have a limited tolerance for waiting"
   ]
  },
  {
   "cell_type": "code",
   "execution_count": null,
   "id": "7c824d4c",
   "metadata": {
    "cell_style": "split"
   },
   "outputs": [],
   "source": [
    "my_wait = 0.8\n",
    "plot([d -> wait(1, d) - my_wait, d -> 0], xlims=(.1, 1), xlabel=\"departure\", ylabel=\"wait\")"
   ]
  },
  {
   "cell_type": "code",
   "execution_count": null,
   "id": "54c5fe04",
   "metadata": {
    "cell_style": "split"
   },
   "outputs": [],
   "source": [
    "import Pkg; Pkg.add(\"Roots\")\n",
    "using Roots\n",
    "d0 = find_zero(d -> wait(1, d) - my_wait, 1)\n",
    "plot([d -> wait(1, d) - my_wait, d -> 0], xlims=(.1, 1), xlabel=\"departure\", ylabel=\"wait\")\n",
    "scatter!([d0], [0], marker=:circle, color=:black, title=\"d0 = $d0\")"
   ]
  },
  {
   "cell_type": "markdown",
   "id": "c357cd63",
   "metadata": {
    "slideshow": {
     "slide_type": "slide"
    }
   },
   "source": [
    "## 4. Bisection Method\n",
    "\n",
    "Bisection is a rootfinding technique that starts with an interval $[a,b]$ containing a root and does not require derivatives. Suppose $f$ is continuous. What is a **sufficient** condition for $f$ to have a root on $[a,b]$?"
   ]
  },
  {
   "cell_type": "code",
   "execution_count": null,
   "id": "2ce66073",
   "metadata": {},
   "outputs": [],
   "source": [
    "hasroot(f, a, b) = f(a) * f(b) < 0\n",
    "\n",
    "f(x) = cos(x) - x\n",
    "plot(f, label = \"cos(x) - x\")"
   ]
  },
  {
   "cell_type": "markdown",
   "id": "8f67e113",
   "metadata": {
    "slideshow": {
     "slide_type": "slide"
    }
   },
   "source": [
    "### Bisection Algorithm"
   ]
  },
  {
   "cell_type": "code",
   "execution_count": null,
   "id": "b400680b",
   "metadata": {},
   "outputs": [],
   "source": [
    "function bisect(f, a, b, tol)\n",
    "    mid = (a + b) / 2\n",
    "    if abs(b - a) < tol\n",
    "        return mid\n",
    "    elseif hasroot(f, a, mid)\n",
    "        return bisect(f, a, mid, tol)\n",
    "    else\n",
    "        return bisect(f, mid, b, tol)\n",
    "    end\n",
    "end\n",
    "\n",
    "x0 = bisect(f, -1, 3, 1e-5)\n",
    "x0, f(x0)"
   ]
  },
  {
   "cell_type": "markdown",
   "id": "4a23a9c0",
   "metadata": {
    "slideshow": {
     "slide_type": "slide"
    }
   },
   "source": [
    "### How fast does it converge?"
   ]
  },
  {
   "cell_type": "code",
   "execution_count": null,
   "id": "65c2febb",
   "metadata": {
    "cell_style": "split",
    "slideshow": {
     "slide_type": ""
    }
   },
   "outputs": [],
   "source": [
    "function bisect_hist(f, a, b, tol)\n",
    "    mid = (a + b) / 2\n",
    "    if abs(b - a) < tol\n",
    "        return [mid]\n",
    "    elseif hasroot(f, a, mid)\n",
    "        return prepend!(bisect_hist(f, a, mid, tol), [mid])\n",
    "    else\n",
    "        return prepend!(bisect_hist(f, mid, b, tol), [mid])\n",
    "    end\n",
    "end"
   ]
  },
  {
   "cell_type": "code",
   "execution_count": null,
   "id": "9e4e7ebf",
   "metadata": {
    "cell_style": "split"
   },
   "outputs": [],
   "source": [
    "bisect_hist(f, -1, 3, 1e-4)"
   ]
  },
  {
   "cell_type": "markdown",
   "id": "ce914f4e",
   "metadata": {
    "slideshow": {
     "slide_type": "slide"
    }
   },
   "source": [
    "### Iterative bisection: an optimized algorithm\n",
    "\n",
    "* Data structures often optimized for appending rather than prepending.\n",
    "* Saves stack space"
   ]
  },
  {
   "cell_type": "code",
   "execution_count": null,
   "id": "76489e23",
   "metadata": {
    "cell_style": "split"
   },
   "outputs": [],
   "source": [
    "function bisect_iter(f, a, b, tol)\n",
    "    hist = Float64[]\n",
    "    while abs(b - a) > tol\n",
    "        mid = (a + b) / 2\n",
    "        push!(hist, mid)\n",
    "        if hasroot(f, a, mid)\n",
    "            b = mid\n",
    "        else\n",
    "            a = mid\n",
    "        end\n",
    "    end\n",
    "    hist\n",
    "end"
   ]
  },
  {
   "cell_type": "code",
   "execution_count": null,
   "id": "3bc94db0",
   "metadata": {
    "cell_style": "split"
   },
   "outputs": [],
   "source": [
    "bisect_iter(f, -1, 3, 1e-4)"
   ]
  },
  {
   "cell_type": "markdown",
   "id": "6a970a26",
   "metadata": {
    "slideshow": {
     "slide_type": "slide"
    }
   },
   "source": [
    "#### Let's plot the error\n",
    "\n",
    "$$ \\lvert \\texttt{bisect}^k(f, a, b) - r \\rvert, \\quad k = 1, 2, \\dotsc $$\n",
    "\n",
    "where $r$ is the true root, $f(r) = 0$."
   ]
  },
  {
   "cell_type": "code",
   "execution_count": null,
   "id": "2ab5c98b",
   "metadata": {
    "cell_style": "split"
   },
   "outputs": [],
   "source": [
    "r = bisect(f, -1, 3, 1e-14) # what are we trusting?\n",
    "hist = bisect_hist(f, -1, 3, 1e-10)\n",
    "scatter( abs.(hist .- r), yscale=:log10)\n",
    "ks = 1:length(hist)\n",
    "plot!(ks, 4 * (.5 .^ ks))"
   ]
  },
  {
   "cell_type": "markdown",
   "id": "4b5d448c",
   "metadata": {
    "cell_style": "split",
    "slideshow": {
     "slide_type": "fragment"
    }
   },
   "source": [
    "Evidently the error $e_k = x_k - x_*$ after $k$ bisections satisfies the bound\n",
    "$$ |e^k| \\le c 2^{-k} . $$"
   ]
  },
  {
   "cell_type": "markdown",
   "id": "0389e1ee",
   "metadata": {},
   "source": [
    "- The absolute error is **halved** at each step so the method converges **linearly**. But is this all there is to it? We'll see more next time."
   ]
  }
 ],
 "metadata": {
  "@webio": {
   "lastCommId": "d005758a2c014970b1ecb25bdfe0e5ce",
   "lastKernelId": "6b2d1577-a396-467b-b12c-4c035d941eea"
  },
  "celltoolbar": "Slideshow",
  "hide_code_all_hidden": false,
  "kernelspec": {
   "display_name": "Julia 1.10.4",
   "language": "julia",
   "name": "julia-1.10"
  },
  "language_info": {
   "file_extension": ".jl",
   "mimetype": "application/julia",
   "name": "julia",
   "version": "1.10.4"
  },
  "rise": {
   "enable_chalkboard": true
  }
 },
 "nbformat": 4,
 "nbformat_minor": 5
}
