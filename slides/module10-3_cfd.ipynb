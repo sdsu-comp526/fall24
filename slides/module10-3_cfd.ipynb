{
 "cells": [
  {
   "cell_type": "markdown",
   "id": "3471b94b",
   "metadata": {
    "cell_style": "center",
    "slideshow": {
     "slide_type": "slide"
    }
   },
   "source": [
    "# 40) CFD examples"
   ]
  },
  {
   "cell_type": "markdown",
   "id": "4159be0e",
   "metadata": {
    "cell_style": "split",
    "slideshow": {
     "slide_type": ""
    }
   },
   "source": [
    "## Today\n",
    "\n",
    "1. Computational Fluid Dynamics Examples\n",
    "2. Conservation\n",
    "3. Hamiltonians\n",
    "4. Symplectic integrators"
   ]
  },
  {
   "cell_type": "code",
   "execution_count": null,
   "id": "e82d841d",
   "metadata": {
    "hideOutput": true,
    "slideshow": {
     "slide_type": "skip"
    }
   },
   "outputs": [],
   "source": [
    "using Plots\n",
    "default(linewidth=3)\n",
    "using LinearAlgebra\n",
    "using LaTeXStrings\n",
    "using SparseArrays\n",
    "\n",
    "function plot_stability(Rz, title; xlims=(-2, 2), ylims=(-2, 2))\n",
    "    x = LinRange(xlims[1], xlims[2], 100)\n",
    "    y = LinRange(ylims[1], ylims[2], 100)\n",
    "    heatmap(x, y, (x, y) -> abs(Rz(x + 1im*y)), c=:bwr, clims=(0, 2), aspect_ratio=:equal, title=title)\n",
    "end\n",
    "\n",
    "struct RKTable\n",
    "    A::Matrix\n",
    "    b::Vector\n",
    "    c::Vector\n",
    "    function RKTable(A, b)\n",
    "        s = length(b)\n",
    "        A = reshape(A, s, s)\n",
    "        c = vec(sum(A, dims=2))\n",
    "        new(A, b, c)\n",
    "    end\n",
    "end\n",
    "\n",
    "function rk_stability(z, rk)\n",
    "    s = length(rk.b)\n",
    "    1 + z * rk.b' * ((I - z*rk.A) \\ ones(s))\n",
    "end\n",
    "\n",
    "rk4 = RKTable([0 0 0 0; .5 0 0 0; 0 .5 0 0; 0 0 1 0], [1, 2, 2, 1] / 6)\n",
    "\n",
    "function ode_rk_explicit(f, u0; tfinal=1., h=0.1, table=rk4)\n",
    "    u = copy(u0)\n",
    "    t = 0.\n",
    "    n, s = length(u), length(table.c)\n",
    "    fY = zeros(n, s)\n",
    "    thist = [t]\n",
    "    uhist = [u0]\n",
    "    while t < tfinal\n",
    "        tnext = min(t+h, tfinal)\n",
    "        h = tnext - t\n",
    "        for i in 1:s\n",
    "            ti = t + h * table.c[i]\n",
    "            Yi = u + h * sum(fY[:,1:i-1] * table.A[i,1:i-1], dims=2)\n",
    "            fY[:,i] = f(ti, Yi)\n",
    "        end\n",
    "        u += h * fY * table.b\n",
    "        t = tnext\n",
    "        push!(thist, t)\n",
    "        push!(uhist, u)\n",
    "    end\n",
    "    thist, hcat(uhist...)\n",
    "end"
   ]
  },
  {
   "cell_type": "markdown",
   "id": "8bede52a",
   "metadata": {
    "slideshow": {
     "slide_type": "slide"
    }
   },
   "source": [
    "## 1. Computational Fluid Dynamics (CFD) examples\n",
    "\n",
    "### Gas equations of state"
   ]
  },
  {
   "cell_type": "markdown",
   "id": "da08bece",
   "metadata": {
    "cell_style": "split"
   },
   "source": [
    "There are many ways to describe a gas\n",
    "\n",
    "| Name | variable | units |\n",
    "|------|----------|-------|\n",
    "| pressure | $p$ | force/area |\n",
    "| density | $\\rho$ | mass/volume |\n",
    "| temperature | $T$ | Kelvin |\n",
    "| (specific) internal energy | $e$ | [energy]/mass |\n",
    "| entropy | $s$ | [energy]/Kelvin |"
   ]
  },
  {
   "cell_type": "markdown",
   "id": "d72e942e",
   "metadata": {
    "cell_style": "split"
   },
   "source": [
    "### Equation of state\n",
    "\n",
    "$$ \\rho, e \\mapsto p, T $$\n",
    "\n",
    "#### Ideal gas\n",
    "\n",
    "\\begin{align} p &= \\rho R T & e &= e(T)\n",
    "\\end{align}\n",
    "$$ p = (\\gamma - 1) \\rho e $$"
   ]
  },
  {
   "cell_type": "code",
   "execution_count": null,
   "id": "7d52ea73",
   "metadata": {
    "cell_style": "split"
   },
   "outputs": [],
   "source": [
    "pressure(rho, T) = rho*T\n",
    "contour(LinRange(0, 2, 30), LinRange(0, 2, 30), pressure, xlabel=\"\\$\\\\rho\\$\", ylabel=\"\\$T\\$\")"
   ]
  },
  {
   "cell_type": "code",
   "execution_count": null,
   "id": "7a4a842b",
   "metadata": {
    "cell_style": "split"
   },
   "outputs": [],
   "source": [
    "temperature(rho, pressure) = pressure / rho\n",
    "contour(LinRange(0, 2, 30), LinRange(0, 2, 30), temperature, xlabel=\"\\$\\\\rho\\$\", ylabel=\"\\$p\\$\")"
   ]
  },
  {
   "cell_type": "markdown",
   "id": "d6b95883",
   "metadata": {
    "slideshow": {
     "slide_type": "slide"
    }
   },
   "source": [
    "### Conservation equations"
   ]
  },
  {
   "cell_type": "markdown",
   "id": "c6c951f5",
   "metadata": {
    "cell_style": "split"
   },
   "source": [
    "#### Conservation of mass\n",
    "\n",
    "Let $\\mathbf u$ be the fluid velocity. The mass flux (mass/time) moving through an area $A$ is\n",
    "\n",
    "$$ \\int_A \\rho \\mathbf u \\cdot \\hat{\\mathbf n} .$$\n",
    "\n",
    "If mass is conserved in a volume $V$ with surface $A$, then the total mass inside the volume must evolve as\n",
    "\n",
    "$$ \n",
    "\\int_V \\rho_t = \\left( \\int_V \\rho \\right)_t = - \\underbrace{\\int_A \\rho\\mathbf u \\cdot \\hat{\\mathbf n}}_{\\int_V \\nabla\\cdot (\\rho\\mathbf u)},$$\n",
    "\n",
    "where we have applied Gauss' divergence theorem. \n",
    "\n",
    "Dropping the integrals over arbitrary volumes, we have the evolution equation for conservation of mass:\n",
    "\n",
    "$$ \\rho_t + \\nabla\\cdot (\\rho \\mathbf u) = 0, $$\n",
    "\n",
    "also called the _continuity equation_."
   ]
  },
  {
   "cell_type": "markdown",
   "id": "58f036a8",
   "metadata": {
    "cell_style": "split"
   },
   "source": [
    "#### Conservation of linear momentum\n",
    "\n",
    "The momentum $\\rho \\mathbf u$ has a flux that includes\n",
    "\n",
    "* convection $\\rho \\mathbf u \\otimes \\mathbf u$\n",
    "  * this is saying that each component of momentum is carried along in the vector velocity field\n",
    "* pressure $p I$\n",
    "* stress tensor $-\\boldsymbol\\tau$ due to viscosity (internal friction forces)\n",
    "\n",
    "A similar integral principle leads to the momentum equation\n",
    "\n",
    "$$ (\\rho \\mathbf u)_t + \\nabla\\cdot\\big[ \\rho \\mathbf u \\otimes \\mathbf u + p I - \\boldsymbol \\tau \\big] = 0 $$"
   ]
  },
  {
   "cell_type": "markdown",
   "id": "1a502019",
   "metadata": {
    "slideshow": {
     "slide_type": "slide"
    }
   },
   "source": [
    "### Simplifications"
   ]
  },
  {
   "cell_type": "markdown",
   "id": "8af6088d",
   "metadata": {
    "cell_style": "split"
   },
   "source": [
    "* In the case of inviscid fluids (e.g, water, air) we ignore the viscous stress tensor $\\boldsymbol \\tau$\n",
    "* Ignore energy equation (not yet written) and assume constant temperature\n",
    "  * $p = a^2 \\rho$ where $a$ is the acoustic wave speed\n",
    "\n",
    "$$\\begin{pmatrix} \\rho \\\\ \\rho \\mathbf u \\end{pmatrix}_t + \\nabla\\cdot \\begin{bmatrix}\n",
    "\\rho \\mathbf u \\\\ \\rho \\mathbf u \\otimes \\mathbf u + \\rho a^2 I \\end{bmatrix} = 0 $$"
   ]
  },
  {
   "cell_type": "markdown",
   "id": "4cd8a7f3",
   "metadata": {
    "cell_style": "split"
   },
   "source": [
    "### Linearization\n",
    "\n",
    "Split each state variable into a mean state (denoted by bar) and a small fluctuation (denoted by tilde)\n",
    "\n",
    "* $\\rho = \\bar\\rho + \\tilde\\rho$\n",
    "* $u = \\bar u + \\tilde u$\n",
    "\n",
    "Let $\\widetilde{\\rho u} = (\\bar\\rho + \\tilde\\rho) (\\bar u + \\tilde u) - \\bar\\rho\\bar u \\approx \\tilde \\rho \\bar u + \\bar\\rho \\tilde u$, where we have dropped the second order term $\\tilde \\rho\\tilde u$ because both are assumed small.\n",
    "\n",
    "We consider background state $\\bar u = 0$ and constant $\\bar\\rho(x,y,t) = \\bar\\rho$. Then\n",
    "$$\\begin{pmatrix} \\tilde \\rho \\\\ \\bar\\rho \\mathbf{\\tilde u} \\end{pmatrix}_t + \\nabla\\cdot \\begin{bmatrix}\n",
    "\\bar\\rho \\mathbf{\\tilde u} \\\\ \\tilde \\rho a^2 I \\end{bmatrix} = 0 $$"
   ]
  },
  {
   "cell_type": "markdown",
   "id": "73ec6381",
   "metadata": {
    "slideshow": {
     "slide_type": "slide"
    }
   },
   "source": [
    "#### Two forms of acoustic wave equation"
   ]
  },
  {
   "cell_type": "markdown",
   "id": "12de4385",
   "metadata": {
    "cell_style": "split"
   },
   "source": [
    "Divide the momentum equation through by background density and dropping the tildes yields the standard form.\n",
    "$$\\begin{pmatrix} \\rho \\\\ \\mathbf u \\end{pmatrix}_t + \\nabla\\cdot \\begin{bmatrix}\n",
    "\\bar\\rho \\mathbf u \\\\ \\rho \\frac{a^2}{\\bar\\rho} I \\end{bmatrix} = 0 .$$\n",
    "\n",
    "Let's examine the second equation term:\n",
    "\n",
    "$$ \\frac{a^2}{\\bar\\rho} \\nabla\\cdot\\big[ \\rho I \\big] = \\frac{a^2}{\\bar\\rho} \\nabla \\rho $$\n",
    "and thus\n",
    "\n",
    "$$\n",
    "\\begin{pmatrix} \\rho \\\\ \\mathbf u \\end{pmatrix}_t +\n",
    "\\begin{bmatrix} & \\bar\\rho \\nabla\\cdot \\\\\n",
    "\\frac{a^2}{\\bar\\rho} \\nabla & \\\\\n",
    "\\end{bmatrix}\n",
    "\\begin{pmatrix} \\rho \\\\ \\mathbf u \\end{pmatrix} = 0.\n",
    "$$\n"
   ]
  },
  {
   "cell_type": "markdown",
   "id": "30cb6485",
   "metadata": {
    "cell_style": "split"
   },
   "source": [
    "Let's differentiate the first equation in time,\n",
    "\n",
    "$$ \\rho_{tt} + \\bar\\rho\\nabla\\cdot(\\mathbf u_t) = 0$$\n",
    "\n",
    "and substitute in the second equation\n",
    "\n",
    "$$ \\rho_{tt} = a^2 \\nabla\\cdot(\\nabla \\rho).$$\n",
    "\n",
    "* Note: we had to assume these derivatives exist!\n",
    "\n",
    "Any $n$-th order linear ODE can be rewritten as $n$ first-order ODEs. Hence, we can reduce this to a system of two first-order equations as\n",
    "\n",
    "$$\\begin{pmatrix} \\rho \\\\ \\dot \\rho \\end{pmatrix}_t + \\begin{bmatrix} & -I \\\\ -a^2 \\nabla\\cdot\\nabla & \\end{bmatrix}\n",
    "\\begin{pmatrix} \\rho \\\\ \\dot\\rho \\end{pmatrix} = 0$$"
   ]
  },
  {
   "cell_type": "markdown",
   "id": "732c2f8b",
   "metadata": {
    "slideshow": {
     "slide_type": "fragment"
    }
   },
   "source": [
    "#### Question\n",
    "* How is the problem size different?\n",
    "* What might we be concerned about in choosing the second formulation?"
   ]
  },
  {
   "cell_type": "markdown",
   "id": "62f87535",
   "metadata": {
    "slideshow": {
     "slide_type": "slide"
    }
   },
   "source": [
    "### Example: Laplacian in a periodic domain"
   ]
  },
  {
   "cell_type": "code",
   "execution_count": null,
   "id": "d43b2f05",
   "metadata": {
    "cell_style": "split",
    "slideshow": {
     "slide_type": ""
    }
   },
   "outputs": [],
   "source": [
    "function laplacian_matrix(n)\n",
    "    h = 2 / n\n",
    "    rows = Vector{Int64}()\n",
    "    cols = Vector{Int64}()\n",
    "    vals = Vector{Float64}()\n",
    "    wrap(i) = (i + n - 1) % n + 1\n",
    "    idx(i, j) = (wrap(i)-1)*n + wrap(j)\n",
    "    stencil_diffuse = [-1, -1, 4, -1, -1] / h^2 # centered diff on uniform grid\n",
    "    for i in 1:n\n",
    "        for j in 1:n\n",
    "            append!(rows, repeat([idx(i,j)], 5))\n",
    "            append!(cols, [idx(i-1,j), idx(i,j-1), idx(i,j), idx(i+1,j), idx(i,j+1)])\n",
    "            append!(vals, stencil_diffuse)\n",
    "        end\n",
    "    end\n",
    "    sparse(rows, cols, vals)\n",
    "end\n",
    "cond(Matrix(laplacian_matrix(5)))"
   ]
  },
  {
   "cell_type": "code",
   "execution_count": null,
   "id": "92cea88a",
   "metadata": {
    "cell_style": "split"
   },
   "outputs": [],
   "source": [
    "L = laplacian_matrix(10)\n",
    "ev = eigvals(Matrix(L))\n",
    "scatter(real(ev), imag(ev), label = \"eigenvalues\", xlims = (-50, 200), ylims = (-50, 200))"
   ]
  },
  {
   "cell_type": "markdown",
   "id": "531b0118",
   "metadata": {
    "slideshow": {
     "slide_type": "slide"
    }
   },
   "source": [
    "### The wave operator\n",
    "\n",
    "Let's focus on the second equation in the system, a wave equation:\n",
    "\n",
    "$$\\begin{pmatrix} \\rho \\\\ \\dot \\rho \\end{pmatrix}_t = \\begin{bmatrix} & I \\\\ a^2 \\nabla\\cdot\\nabla & \\end{bmatrix}\n",
    "\\begin{pmatrix} \\rho \\\\ \\dot\\rho \\end{pmatrix}$$"
   ]
  },
  {
   "cell_type": "code",
   "execution_count": null,
   "id": "08a74470",
   "metadata": {
    "cell_style": "split"
   },
   "outputs": [],
   "source": [
    "function acoustic_wave_matrix(n; a=1)\n",
    "    Z = spzeros(n^2, n^2)\n",
    "    L = laplacian_matrix(n)\n",
    "    [Z I; -a^2*L Z]\n",
    "end\n",
    "acoustic_wave_matrix(2)"
   ]
  },
  {
   "cell_type": "code",
   "execution_count": null,
   "id": "dd821792",
   "metadata": {
    "cell_style": "split"
   },
   "outputs": [],
   "source": [
    "A = acoustic_wave_matrix(8; a=2) * .1\n",
    "ev = eigvals(Matrix(A))\n",
    "plot_stability(z -> rk_stability(z, rk4), \"RK4\", xlims=(-4, 4), ylims=(-4, 4))\n",
    "scatter!(real(ev), imag(ev), color=:black, label = \"eigenvalues\", xlims=(-4, 4), ylims=(-4, 4), xlabel = L\"Re(z)\", ylabel = L\"Im(z)\")"
   ]
  },
  {
   "cell_type": "markdown",
   "id": "1aa3d38b",
   "metadata": {
    "slideshow": {
     "slide_type": "fragment"
    }
   },
   "source": [
    "#### Question: would forward Euler work?"
   ]
  },
  {
   "cell_type": "markdown",
   "id": "6395bc23",
   "metadata": {
    "slideshow": {
     "slide_type": "slide"
    }
   },
   "source": [
    "### Example: 2D wave solver with RK4"
   ]
  },
  {
   "cell_type": "code",
   "execution_count": null,
   "id": "3e5585db",
   "metadata": {
    "cell_style": "split"
   },
   "outputs": [],
   "source": [
    "n = 20\n",
    "A = acoustic_wave_matrix(n)\n",
    "x = LinRange(-1, 1, n+1)[1:end-1]\n",
    "y = x\n",
    "rho0 = vec(exp.(-9*((x .+ 1e-4).^2 .+ y'.^2)))\n",
    "sol0 = vcat(rho0, zero(rho0))\n",
    "thist, solhist = ode_rk_explicit((t, sol) -> A * sol, sol0, h=.02)\n",
    "size(solhist)"
   ]
  },
  {
   "cell_type": "code",
   "execution_count": null,
   "id": "6cb81bfe",
   "metadata": {
    "cell_style": "split",
    "slideshow": {
     "slide_type": "fragment"
    }
   },
   "outputs": [],
   "source": [
    "@gif for tstep in 1:length(thist)\n",
    "    rho = solhist[1:n^2, tstep]\n",
    "    contour(x, y, reshape(rho, n, n), title=\"\\$ t = $(thist[tstep])\\$\")\n",
    "end"
   ]
  },
  {
   "cell_type": "markdown",
   "id": "581ea7dc",
   "metadata": {
    "slideshow": {
     "slide_type": "slide"
    }
   },
   "source": [
    "## 2. Conservation\n",
    "\n",
    "### Accuracy and conservation of mass with RK4"
   ]
  },
  {
   "cell_type": "code",
   "execution_count": null,
   "id": "5f19eed8",
   "metadata": {
    "cell_style": "split",
    "scrolled": false
   },
   "outputs": [],
   "source": [
    "thist, solhist = ode_rk_explicit((t, sol) -> A * sol, sol0, h=.05,\n",
    "    tfinal=1)\n",
    "\n",
    "tfinal = thist[end]\n",
    "M = exp(Matrix(A*tfinal))\n",
    "sol_exact = M * sol0\n",
    "sol_final = solhist[:, end]\n",
    "norm(sol_final - sol_exact)"
   ]
  },
  {
   "cell_type": "code",
   "execution_count": null,
   "id": "276be886",
   "metadata": {
    "cell_style": "split",
    "slideshow": {
     "slide_type": "fragment"
    }
   },
   "outputs": [],
   "source": [
    "mass = vec(sum(solhist[1:n^2, :], dims=1))\n",
    "plot(thist[2:end], mass[2:end] .- mass[1], label = \"mass conservation\", xlabel = \"t\", ylabel = L\"mass_{t_f} - mass_{t_0}\")"
   ]
  },
  {
   "cell_type": "markdown",
   "id": "e5e98c0c",
   "metadata": {
    "slideshow": {
     "slide_type": "slide"
    }
   },
   "source": [
    "Let's analyze the conservation of energy with RK4."
   ]
  },
  {
   "cell_type": "markdown",
   "id": "40f3b161",
   "metadata": {
    "cell_style": "split"
   },
   "source": [
    "## 3. Hamiltonians\n",
    "\n",
    "We can express the total energy for our system as a sum of kinetic and potential energy:\n",
    "\n",
    "$$H(\\rho, \\dot\\rho) = \\underbrace{\\frac 1 2 \\int_\\Omega (\\dot\\rho)^2}_{\\text{kinetic}} + \\underbrace{\\frac{a^2}{2} \\int_\\Omega \\lVert \\nabla \\rho \\rVert^2}_{\\text{potential}}$$\n",
    "\n",
    "where we identify $\\rho$ as a generalized position and $\\dot\\rho$ as generalized momentum. Hamilton's equations state that the equations of motion are\n",
    "\n",
    "$$ \\begin{pmatrix} \\rho \\\\ \\dot\\rho \\end{pmatrix}_t = \\begin{bmatrix}\n",
    "\\frac{\\partial H}{\\partial \\dot\\rho} \\\\\n",
    "-\\frac{\\partial H}{\\partial \\rho}\n",
    "\\end{bmatrix} = \\begin{bmatrix}\n",
    "\\dot\\rho \\\\\n",
    "- a^2 L \\rho\n",
    "\\end{bmatrix} $$\n",
    "\n",
    "where we have used the _weak form_ to associate $\\int \\nabla v \\cdot \\nabla u = v^T L u$."
   ]
  },
  {
   "cell_type": "code",
   "execution_count": null,
   "id": "eff4eda9",
   "metadata": {
    "cell_style": "split",
    "slideshow": {
     "slide_type": "fragment"
    }
   },
   "outputs": [],
   "source": [
    "function energy(sol, n)\n",
    "    L = laplacian_matrix(n)\n",
    "    rho = sol[1:end÷2]\n",
    "    rhodot = sol[end÷2+1:end]\n",
    "    kinetic = .5 * norm(rhodot)^2\n",
    "    potential = .5 * rho' * L * rho\n",
    "    kinetic + potential\n",
    "end\n",
    "ehist = [energy(solhist[:,i], n) for i in 1:length(thist)]\n",
    "plot(thist, ehist, xlabel = \"t\", ylabel = \"e\", label = \"e\")"
   ]
  },
  {
   "cell_type": "markdown",
   "id": "10eb76d7",
   "metadata": {
    "slideshow": {
     "slide_type": "slide"
    }
   },
   "source": [
    "### Velocity Verlet integrator"
   ]
  },
  {
   "cell_type": "code",
   "execution_count": null,
   "id": "48d5c752",
   "metadata": {
    "cell_style": "split"
   },
   "outputs": [],
   "source": [
    "function wave_verlet(n, u0; tfinal=1., h=0.1)\n",
    "    L = laplacian_matrix(n)\n",
    "    u = copy(u0)\n",
    "    t = 0.\n",
    "    thist = [t]\n",
    "    uhist = [u0]\n",
    "    irho = 1:n^2\n",
    "    irhodot = n^2+1:2*n^2\n",
    "    accel = -L * u[irho]\n",
    "    while t < tfinal\n",
    "        tnext = min(t+h, tfinal)\n",
    "        h = tnext - t\n",
    "        u[irho] += h * u[irhodot] + h^2/2 * accel\n",
    "        accel_next = -L * u[irho]\n",
    "        u[irhodot] += h/2 * (accel + accel_next)\n",
    "        accel = accel_next\n",
    "        t = tnext\n",
    "        push!(thist, t)\n",
    "        push!(uhist, copy(u))\n",
    "    end\n",
    "    thist, hcat(uhist...)\n",
    "end"
   ]
  },
  {
   "cell_type": "code",
   "execution_count": null,
   "id": "e7d63d29",
   "metadata": {
    "cell_style": "split"
   },
   "outputs": [],
   "source": [
    "thist, solhist = wave_verlet(n, sol0, h=.04)\n",
    "@gif for tstep in 1:length(thist)\n",
    "    rho = solhist[1:n^2, tstep]\n",
    "    contour(x, y, reshape(rho, n, n), title=\"\\$ t = $(thist[tstep])\\$\")\n",
    "end"
   ]
  },
  {
   "cell_type": "markdown",
   "id": "7471ae72",
   "metadata": {
    "slideshow": {
     "slide_type": "slide"
    }
   },
   "source": [
    "#### Accuracy and conservation for Verlet"
   ]
  },
  {
   "cell_type": "code",
   "execution_count": null,
   "id": "8a8eb24f",
   "metadata": {
    "cell_style": "split"
   },
   "outputs": [],
   "source": [
    "thist, solhist = wave_verlet(n, sol0, h=.05, tfinal=50)\n",
    "tfinal = thist[end]\n",
    "M = exp(Matrix(A*tfinal))\n",
    "sol_exact = M * sol0\n",
    "sol_final = solhist[:, end]\n",
    "@show norm(sol_final - sol_exact)\n",
    "\n",
    "mass = vec(sum(solhist[1:n^2, :], dims=1))\n",
    "plot(thist[2:end], mass[2:end] .- mass[1], label = \"mass conservation\", xlabel = \"t\", ylabel = L\"mass_{t_f} - mass_{t_0}\")"
   ]
  },
  {
   "cell_type": "code",
   "execution_count": null,
   "id": "7c8d2548",
   "metadata": {
    "cell_style": "split"
   },
   "outputs": [],
   "source": [
    "ehist = [energy(solhist[:,i], n) for i in 1:length(thist)]\n",
    "plot(thist, ehist, xlabel = \"t\", ylabel = \"e\", label = \"e\")"
   ]
  },
  {
   "cell_type": "markdown",
   "id": "cb268a32",
   "metadata": {
    "cell_style": "center",
    "slideshow": {
     "slide_type": "slide"
    }
   },
   "source": [
    "### Notes on time integrators\n",
    "\n",
    "* We need stability on the imaginary axis for our discretization (and the physical system)\n",
    "* If the model is dissipative (e.g., we didn't make the zero-viscosity assumption), then we need stability in the left half plane.\n",
    "* The split form $\\rho, \\rho\\mathbf u$ form is usually used with (nonlinear) upwinding, and thus will have dissipation.\n",
    "\n",
    "### Runge-Kutta methods\n",
    "* Easy to use, stability region designed for spatial discretization\n",
    "* Energy drift generally present\n",
    "\n",
    "### Verlet/leapfrog/Newmark and symplectic integrators\n",
    "\n",
    "* These preserve the \"geometry of the Hamiltonian\"\n",
    "  * energy is not exactly conserved, but it doesn't drift over time\n",
    "  * such methods are called \"symplectic integrators\"\n",
    "* May not have stability away from the imaginary axis (for dissipation)\n",
    "* Most require a generalized position/momentum split, \"canonical variables\""
   ]
  }
 ],
 "metadata": {
  "@webio": {
   "lastCommId": null,
   "lastKernelId": null
  },
  "celltoolbar": "Slideshow",
  "kernelspec": {
   "display_name": "Julia 1.10.6",
   "language": "julia",
   "name": "julia-1.10"
  },
  "language_info": {
   "file_extension": ".jl",
   "mimetype": "application/julia",
   "name": "julia",
   "version": "1.10.6"
  },
  "rise": {
   "enable_chalkboard": true
  }
 },
 "nbformat": 4,
 "nbformat_minor": 5
}
