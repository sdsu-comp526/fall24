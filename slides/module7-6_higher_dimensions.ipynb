{
 "cells": [
  {
   "cell_type": "markdown",
   "metadata": {},
   "source": [
    "# 30) Higher Dimensions\n",
    "\n",
    "## Last time\n",
    "\n",
    "* Accuracy of piecewise constant (nearest neighbor) interpolation\n",
    "* Piecewise polynomial methods\n",
    "* Cubic Splines\n",
    "* Interpolations.jl Library\n",
    "\n",
    "## Today\n",
    "\n",
    "1. Splines conditioning\n",
    "2. Boundary Value Problems\n",
    "3. Higher dimensions"
   ]
  },
  {
   "cell_type": "code",
   "execution_count": null,
   "metadata": {},
   "outputs": [],
   "source": [
    "using LinearAlgebra\n",
    "using Plots\n",
    "default(linewidth=4, legendfontsize=12)\n",
    "using LaTeXStrings\n",
    "\n",
    "function vander(x, k=nothing)\n",
    "    if isnothing(k)\n",
    "        k = length(x)\n",
    "    end\n",
    "    m = length(x)\n",
    "    V = ones(m, k)\n",
    "    for j in 2:k\n",
    "        V[:, j] = V[:, j-1] .* x\n",
    "    end\n",
    "    V\n",
    "end\n",
    "\n",
    "function vander_chebyshev(x, n=nothing)\n",
    "    if isnothing(n)\n",
    "        n = length(x) # Square by default\n",
    "    end\n",
    "    m = length(x)\n",
    "    T = ones(m, n)\n",
    "    if n > 1\n",
    "        T[:, 2] = x\n",
    "    end\n",
    "    for k in 3:n\n",
    "        T[:, k] = 2 * x .* T[:,k-1] - T[:, k-2]\n",
    "    end\n",
    "    T\n",
    "end\n",
    "\n",
    "function interp_nearest(x, s)\n",
    "    A = zeros(length(s), length(x))\n",
    "    for (i, t) in enumerate(s)\n",
    "        loc = nothing\n",
    "        dist = Inf\n",
    "        for (j, u) in enumerate(x)\n",
    "            if abs(t - u) < dist\n",
    "                loc = j\n",
    "                dist = abs(t - u)\n",
    "            end\n",
    "        end\n",
    "        A[i, loc] = 1\n",
    "    end\n",
    "    A\n",
    "end\n",
    "\n",
    "runge(x) = 1 / (1 + 10*x^2)\n",
    "\n",
    "CosRange(a, b, n) = (a + b)/2 .+ (b - a)/2 * cos.(LinRange(-pi, 0, n))\n",
    "\n",
    "vcond(mat, points, nmax) = [cond(mat(points(-1, 1, n))) for n in 2:nmax]\n"
   ]
  },
  {
   "cell_type": "markdown",
   "metadata": {},
   "source": [
    "## Recap spline bases\n"
   ]
  },
  {
   "cell_type": "code",
   "execution_count": null,
   "metadata": {},
   "outputs": [],
   "source": [
    "using Interpolations\n",
    "\n",
    "x = LinRange(-1, 1, 9)\n",
    "y = runge.(x)\n",
    "flin = LinearInterpolation(x, y)\n",
    "fspline = CubicSplineInterpolation(x, y)\n",
    "plot([runge, t -> fspline(t)], xlims=(-1, 1))\n",
    "scatter!(x, y, label = L\"(x_i,y_i)\")"
   ]
  },
  {
   "cell_type": "code",
   "execution_count": null,
   "metadata": {},
   "outputs": [],
   "source": [
    "function interp_spline(x, s)\n",
    "    m, n = length(s), length(x)\n",
    "    A = diagm(m, n, ones(n))\n",
    "    for j in 1:n\n",
    "        fspline = CubicSplineInterpolation(x, A[1:n,j])\n",
    "        A[:,j] = fspline.(s)\n",
    "    end\n",
    "    A\n",
    "end\n",
    "\n",
    "s = LinRange(-1, 1, 100)\n",
    "A = interp_spline(x, s) # here A is 100×9\n",
    "plot(s, A, legend=:none)"
   ]
  },
  {
   "cell_type": "markdown",
   "metadata": {},
   "source": [
    "## 1. Spline conditioning"
   ]
  },
  {
   "cell_type": "code",
   "execution_count": null,
   "metadata": {},
   "outputs": [],
   "source": [
    "function my_spy(A)\n",
    "    cmax = norm(vec(A), Inf)\n",
    "    s = max(1, ceil(120 / size(A, 1)))\n",
    "    spy(A, marker=(:square, s), c=:diverging_rainbow_bgymr_45_85_c67_n256, clims=(-cmax, cmax))\n",
    "end\n",
    "\n",
    "A = interp_spline(LinRange(-1, 1, 40), s) # here A is 100×40\n",
    "cond(A)"
   ]
  },
  {
   "cell_type": "markdown",
   "metadata": {},
   "source": [
    "This function uses `spy` (similar to Matlab's `spy` function) to visualize a matrix sparsity pattern. We use a spy plot to see the locations of nonzeros and the values given by the color map."
   ]
  },
  {
   "cell_type": "code",
   "execution_count": null,
   "metadata": {},
   "outputs": [],
   "source": [
    "my_spy(A)"
   ]
  },
  {
   "cell_type": "markdown",
   "metadata": {},
   "source": [
    "### Splines accuracy"
   ]
  },
  {
   "cell_type": "code",
   "execution_count": null,
   "metadata": {},
   "outputs": [],
   "source": [
    "function interp_chebyshev(x, xx)\n",
    "    vander_chebyshev(xx, length(x)) * inv(vander_chebyshev(x))\n",
    "end\n",
    "\n",
    "function interp_monomial(x, xx)\n",
    "    vander(xx, length(x)) * inv(vander(x))\n",
    "end\n",
    "\n",
    "function interp_error(ieval, x, xx, test)\n",
    "    \"\"\"Compute norm of interpolation error for function test\n",
    "    using method interp_and_eval from points x to points xx.\n",
    "    \"\"\"\n",
    "    A = ieval(x, xx)\n",
    "    y = test.(x)\n",
    "    yy = test.(xx)\n",
    "    norm(A * y - yy, Inf)\n",
    "end\n",
    "\n",
    "function plot_convergence(ievals, ptspaces; xscale=:log10, yscale=:log10, maxpts=40)\n",
    "    \"\"\"Plot convergence rates for an interpolation scheme applied\n",
    "    to a set of tests.\n",
    "    \"\"\"\n",
    "    xx = LinRange(-1, 1, 100)\n",
    "    ns = 2:maxpts\n",
    "    fig = plot(title=\"Convergence\",\n",
    "        xlabel=\"Number of points\",\n",
    "        ylabel=\"Interpolation error\",\n",
    "        xscale=xscale,\n",
    "        yscale=yscale,\n",
    "        legend=:bottomleft,\n",
    "        size=(1200, 800))\n",
    "    for ieval in ievals\n",
    "        for ptspace in ptspaces\n",
    "            for test in [runge]\n",
    "                try\n",
    "                    errors = [interp_error(ieval, ptspace(-1, 1, n), xx, test)\n",
    "                             for n in ns]\n",
    "                    plot!(ns, errors, marker=:circle, label=\"$ieval/$ptspace\")\n",
    "                catch\n",
    "                    continue\n",
    "                end\n",
    "            end\n",
    "        end\n",
    "    end\n",
    "    for k in [1, 2, 3]\n",
    "        plot!(ns, ns .^ (-1.0*k), color=:black, label=\"\\$n^{-$k}\\$\")\n",
    "    end\n",
    "    fig\n",
    "end\n"
   ]
  },
  {
   "cell_type": "code",
   "execution_count": null,
   "metadata": {},
   "outputs": [],
   "source": [
    "plot_convergence([interp_monomial, interp_chebyshev, interp_nearest, interp_spline], [LinRange, CosRange], maxpts=60)"
   ]
  },
  {
   "cell_type": "markdown",
   "metadata": {},
   "source": [
    "Note that this convergence plot is specifically for the Runge function example given above, i.e., $f(x) = \\frac{1}{1+x^2}$. In general, convergence rates depend on smoothness of $f$.\n",
    "\n",
    "In general, a smoother f $\\Rightarrow$ faster convergence."
   ]
  },
  {
   "cell_type": "markdown",
   "metadata": {},
   "source": [
    "## 2. Boundary Value Problems\n",
    "\n",
    "How can generalize all this?\n",
    "\n",
    "We saw that to create a Vandermonde matrix, we choose a family of functions $\\phi_j(x)$ and a set of points $x_i$, then create the matrix\n",
    "$$ V_{ij} = \\phi_j(x_i) .$$\n",
    "\n",
    "### What if we wanted to approximate integrals of functions?\n",
    "\n",
    "$$ B_{ij} = \\int_{(x_{i-1} + x_i)/2}^{(x_i + x_{i+1})/2} \\phi_j(s) ds$$\n",
    "\n",
    "This leads to conservative reconstruction, which is an important part of finite volume methods, which are industry standard for shock dynamics.\n",
    "\n",
    "\n",
    "### What if we wanted to approximate derivatives of functions?\n",
    "\n",
    "\n",
    "What if we instead computed derivatives?\n",
    "\n",
    "$$ A_{ij} = \\phi_j'(x_i) $$"
   ]
  },
  {
   "cell_type": "markdown",
   "metadata": {},
   "source": [
    "If we have the canonical, monomial basis, say up to third degree:\n",
    "\n",
    "$$\\Bigg[ 1 \\Bigg|\\, x \\Bigg|\\, x^2 \\,\\Bigg|\\, x^3 \\Bigg] $$"
   ]
  },
  {
   "cell_type": "markdown",
   "metadata": {},
   "source": [
    "Then the derivative looks like:\n",
    "\n",
    "$$\n",
    "\\Bigg[ 0 \\Bigg|\\, 1 \\Bigg|\\, 2x \\,\\Bigg|\\, 3x^2 \\Bigg] $$"
   ]
  },
  {
   "cell_type": "code",
   "execution_count": null,
   "metadata": {},
   "outputs": [],
   "source": [
    "function diff_monomial(x)\n",
    "    n = length(x)\n",
    "    A = zeros(n, n)\n",
    "    A[:,2] = one.(x)\n",
    "    for j in 3:n\n",
    "        A[:,j] = A[:,j-1] .* x * (j - 1) / (j - 2)\n",
    "    end\n",
    "    A\n",
    "end\n",
    "\n",
    "diff_monomial(LinRange(-1, 1, 4))"
   ]
  },
  {
   "cell_type": "markdown",
   "metadata": {},
   "source": [
    "### A stable basis: Chebyshev polynomials\n",
    "\n",
    "Recall that Chebyshev polynomials satisfy a convenient recurrence:\n",
    "$$\\begin{split}\n",
    "T_0(x) &= 1 \\\\\n",
    "T_1(x) &= x \\\\\n",
    "T_{n+1}(x) &= 2 x T_n(x) - T_{n-1}(x)\n",
    "\\end{split}$$\n",
    "\n",
    "Derivatives of Chebyshev polynomials also satisfy a recurrence.\n"
   ]
  },
  {
   "cell_type": "code",
   "execution_count": null,
   "metadata": {},
   "outputs": [],
   "source": [
    "function chebdiff(x, n=nothing)\n",
    "    T = vander_chebyshev(x, n)\n",
    "    m, n = size(T)\n",
    "    dT = zero(T)\n",
    "    dT[:,2:3] = [one.(x) 4*x]\n",
    "    for j in 3:n-1\n",
    "        dT[:,j+1] = j * (2 * T[:,j] + dT[:,j-1] / (j-2))\n",
    "    end\n",
    "    ddT = zero(T)\n",
    "    ddT[:,3] .= 4\n",
    "    for j in 3:n-1\n",
    "        ddT[:,j+1] = j * (2 * dT[:,j] + ddT[:,j-1] / (j-2))\n",
    "    end\n",
    "    T, dT, ddT\n",
    "end"
   ]
  },
  {
   "cell_type": "code",
   "execution_count": null,
   "metadata": {},
   "outputs": [],
   "source": [
    "x = CosRange(-1, 1, 7)\n",
    "T, dT, ddT = chebdiff(x)\n",
    "c = T \\ cos.(3x)\n",
    "scatter(x, dT * c, label =L\"(x_i,y_i)\")\n",
    "plot!(s -> -3sin(3s), label =L\"-3\\sin(3x)\")"
   ]
  },
  {
   "cell_type": "markdown",
   "metadata": {},
   "source": [
    "### Solving a BVP with Chebyshev collocation\n",
    "\n",
    "In our Midterm Project, we already saw a boundary value problem (BVP). We asked ourselves to find a function $u(x)$ satisfying an equation like:\n",
    "\n",
    "$$ -u_{xx}(x) = f(x) $$\n",
    "subject to **Boundary Conditions**. This time, let's use the following boundary conditions:\n",
    " $$u(-1) = a \\quad \\textrm{ and } \\quad u'(1) = b$$\n",
    "\n",
    "The above Boundary Conditions are mixed: at the left endpoint of the interval, we have the Dirichelet Boundary Condition (which imposes a condition on the function $u$ itself). At the right endpoint of the interval, we have a Neumann Boundary Condition (which imposes a condition on the first derivative of the function).\n",
    "\n",
    "We'll use the \"**method of manufactured solutions**\": \n",
    "\n",
    "choose $u(x) = \\tanh(2x)$ and solve with the corresponding $f(x)$. In practice, $f(x)$ comes from the physics of the problem or observations, and you need to solve for the unknown $u(x)$."
   ]
  },
  {
   "cell_type": "code",
   "execution_count": null,
   "metadata": {},
   "outputs": [],
   "source": [
    "function poisson_cheb(n, rhsfunc, leftbc=(0, zero), rightbc=(0, zero))\n",
    "    x = CosRange(-1, 1, n)\n",
    "    T, dT, ddT = chebdiff(x)\n",
    "    L = -ddT\n",
    "    rhs = rhsfunc.(x)\n",
    "    for (index, deriv, func) in\n",
    "            [(1, leftbc...), (n, rightbc...)]\n",
    "        L[index,:] = (T, dT)[deriv+1][index,:]\n",
    "        rhs[index] = func(x[index])\n",
    "    end\n",
    "    x, L / T, rhs\n",
    "end"
   ]
  },
  {
   "cell_type": "code",
   "execution_count": null,
   "metadata": {},
   "outputs": [],
   "source": [
    "manufactured(x) = tanh(2x)\n",
    "d_manufactured(x) = 2*cosh(2x)^-2\n",
    "mdd_manufactured(x) = 8 * tanh(2x) / cosh(2x)^2\n",
    "x, A, rhs = poisson_cheb(11, mdd_manufactured,\n",
    "    (0, manufactured), (1, d_manufactured))\n",
    "plot(x, A \\ rhs, marker=:auto)\n",
    "plot!(manufactured, legend=:bottomright)"
   ]
  },
  {
   "cell_type": "markdown",
   "metadata": {},
   "source": [
    "### “Spectral” (Exponential) convergence"
   ]
  },
  {
   "cell_type": "code",
   "execution_count": null,
   "metadata": {},
   "outputs": [],
   "source": [
    "function poisson_error(n)\n",
    "    x, A, rhs = poisson_cheb(n, mdd_manufactured, (0, manufactured), (1, d_manufactured))\n",
    "    u = A \\ rhs\n",
    "    norm(u - manufactured.(x), Inf)\n",
    "end\n",
    "\n",
    "ns = 3:20\n",
    "ps = [1 2 3]\n",
    "plot(ns, abs.(poisson_error.(ns)), marker=:auto, yscale=:log10, xlabel=\"# points\", ylabel=\"error\")\n",
    "plot!([n -> n^-p for p in ps], label=map(p -> \"\\$n^{-$p}\\$\", ps), size=(1000, 600))"
   ]
  },
  {
   "cell_type": "markdown",
   "metadata": {},
   "source": [
    "## 3. Higher dimensions: Curse of Dimensionality\n",
    "\n",
    "Suppose we use a naive Vandermonde matrix to interpolate $n$ data points in an $n$-dimensional space of functions, e.g., predicting $z(x, y)$ from data $(x_i, y_i, z_i)$\n",
    "\n",
    "$$ \\underbrace{\\Bigg[ 1 \\Bigg| x \\Bigg| y \\Bigg| xy \\Bigg| x^2 \\Big| y^2 \\Big| x^2 y \\Big| xy^2 \\Big| x^2y^2 \\Big| \\dotsb \\Bigg]}_{V} \\Bigg[ \\mathbf c \\Bigg] = \\Bigg[ \\mathbf z \\Bigg] $$"
   ]
  },
  {
   "cell_type": "code",
   "execution_count": null,
   "metadata": {},
   "outputs": [],
   "source": [
    "# A grid with 10 data points in each of d dimensions.\n",
    "points(d) = 10. ^ d\n",
    "flops(n) = n ^ 3\n",
    "joules(flops) = flops / 20e9 # 20 GF/joule for best hardware today\n",
    "scatter(1:10, d -> joules(flops(points(d))), xlims=(0, 10), yscale=:log10, legend=:none)"
   ]
  },
  {
   "cell_type": "code",
   "execution_count": null,
   "metadata": {},
   "outputs": [],
   "source": [
    "barrels_of_oil(flops) = joules(flops) / 6e9\n",
    "scatter(1:10, d -> barrels_of_oil(flops(points(d))), xlims=(0, 10), yscale=:log10)"
   ]
  },
  {
   "cell_type": "markdown",
   "metadata": {},
   "source": [
    "### Fourier series and tensor product structure\n",
    "\n",
    "For periodic data on the interval $[-\\pi, \\pi)$, we can use a basis $\\{ 1, \\sin x, \\cos x, \\sin 2x, \\cos 2x, \\dotsc\\}$, which is equivalent to $\\{ 1, e^{ix}, e^{i2x}, \\dotsc \\}$ with suitable complex coefficients. \n",
    "\n",
    "If we're given equally spaced points on the interval, the Vandermonde matrix $V$ (with suitable scaling) is unitary (like orthogonal for complex matrices) and can be applied in $O(n \\log n)$ (with small constants) using the Fast Fourier Transform. This also works for Chebyshev polynomials sampled on `CosRange` points."
   ]
  },
  {
   "cell_type": "code",
   "execution_count": null,
   "metadata": {},
   "outputs": [],
   "source": [
    "points(d) = 10. ^ d\n",
    "flops(n) = 5n * log2(n)\n",
    "joules(flops) = flops / 20e9 # 20 GF/joule for best hardware today\n",
    "scatter(1:10, d -> joules(flops(points(d))), xlims=(0, 10), yscale=:log10)"
   ]
  },
  {
   "cell_type": "markdown",
   "metadata": {},
   "source": [
    "### Lower-degree polynomials to fit noise-free data\n",
    "\n",
    "We can fit $m$ data points using an $n < m$ dimensional space of functions. This involves solving a \"least squares problem\" for the coefficients\n",
    "\n",
    "$$ \\min_c \\lVert V c - y \\rVert $$"
   ]
  },
  {
   "cell_type": "code",
   "execution_count": null,
   "metadata": {},
   "outputs": [],
   "source": [
    "function chebyshev_regress_eval(x, xx, n)\n",
    "    V = vander_chebyshev(x, n)\n",
    "    @show cond(V)\n",
    "    vander_chebyshev(xx, n) / V\n",
    "end\n",
    "ndata, nbasis = 30, 20\n",
    "x = LinRange(-1, 1, ndata)\n",
    "xx = LinRange(-1, 1, 500)\n",
    "C = chebyshev_regress_eval(x, xx, nbasis)\n",
    "plot(xx, [runge.(xx), C * runge.(x)])\n",
    "scatter!(x, runge)"
   ]
  },
  {
   "cell_type": "code",
   "execution_count": null,
   "metadata": {},
   "outputs": [],
   "source": [
    "S = svdvals(C)\n",
    "scatter(S, yscale=:log10)"
   ]
  },
  {
   "cell_type": "markdown",
   "metadata": {},
   "source": []
  }
 ],
 "metadata": {
  "kernelspec": {
   "display_name": "Julia 1.10.4",
   "language": "julia",
   "name": "julia-1.10"
  },
  "language_info": {
   "file_extension": ".jl",
   "mimetype": "application/julia",
   "name": "julia",
   "version": "1.10.4"
  }
 },
 "nbformat": 4,
 "nbformat_minor": 2
}
