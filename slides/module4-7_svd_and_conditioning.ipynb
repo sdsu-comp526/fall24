{
 "cells": [
  {
   "cell_type": "markdown",
   "metadata": {},
   "source": [
    "# 20) SVD Geometry\n",
    "\n",
    "## Last time\n",
    "- Condition number of a matrix\n",
    "- Least squares and normal equations\n",
    "- Intro to SVD\n",
    "- Geometry of the Singular Value Decomposition\n",
    "\n",
    "## Today\n",
    "1. Recap on matrix norm and condition number    \n",
    "2. Condition number via SVD  \n",
    "  2.1. Relationship between conditioning and singular values  \n",
    "3. Singular Value Decomposition for solving systems\n",
    "4. Costs of decompositions seen"
   ]
  },
  {
   "cell_type": "code",
   "execution_count": null,
   "metadata": {},
   "outputs": [],
   "source": [
    "using LinearAlgebra\n",
    "using Plots\n",
    "default(linewidth=4, legendfontsize=12)\n",
    "\n",
    "function vander(x, k=nothing)\n",
    "    if isnothing(k)\n",
    "        k = length(x)\n",
    "    end\n",
    "    m = length(x)\n",
    "    V = ones(m, k)\n",
    "    for j in 2:k\n",
    "        V[:, j] = V[:, j-1] .* x\n",
    "    end\n",
    "    V\n",
    "end\n",
    "\n",
    "function gram_schmidt_naive(A)\n",
    "    m, n = size(A)\n",
    "    Q = zeros(m, n)\n",
    "    R = zeros(n, n)\n",
    "    for j in 1:n\n",
    "        v = A[:,j]\n",
    "        for k in 1:j-1\n",
    "            r = Q[:,k]' * v\n",
    "            v -= Q[:,k] * r\n",
    "            R[k,j] = r\n",
    "        end\n",
    "        R[j,j] = norm(v)\n",
    "        Q[:,j] = v / R[j,j]\n",
    "    end\n",
    "    Q, R\n",
    "end\n",
    "\n",
    "function gram_schmidt_classical(A)\n",
    "    m, n = size(A)\n",
    "    Q = zeros(m, n)\n",
    "    R = zeros(n, n)\n",
    "    for j in 1:n\n",
    "        v = A[:,j]\n",
    "        R[1:j-1,j] = Q[:,1:j-1]' * v\n",
    "        v -= Q[:,1:j-1] * R[1:j-1,j]\n",
    "        R[j,j] = norm(v)\n",
    "        Q[:,j] = v / R[j,j]\n",
    "    end\n",
    "    Q, R\n",
    "end\n",
    "\n",
    "function qr_householder(A)\n",
    "    m, n = size(A)\n",
    "    R = copy(A)\n",
    "    V = [] # list of reflectors\n",
    "    for j in 1:n\n",
    "        v = copy(R[j:end, j])\n",
    "        v[1] += sign(v[1]) * norm(v) # <--- here we pick the sign of v so that moves it the largest distance\n",
    "        v = normalize(v)\n",
    "        R[j:end,j:end] -= 2 * v * v' * R[j:end,j:end]\n",
    "        push!(V, v)\n",
    "    end\n",
    "    V, R\n",
    "end\n",
    "\n",
    "function qr_chol(A)\n",
    "    R = cholesky(A' * A).U\n",
    "    Q = A / R\n",
    "    Q, R\n",
    "end\n",
    "\n",
    "function qr_chol2(A)\n",
    "    Q, R = qr_chol(A)\n",
    "    Q, R1 = qr_chol(Q)\n",
    "    Q, R1 * R\n",
    "end\n"
   ]
  },
  {
   "cell_type": "markdown",
   "metadata": {},
   "source": [
    "## 1. Recap on matrix norm and condition number  \n",
    "\n",
    "The condition number of matrix-vector multiplication depends on the vector.  The condition number of the matrix is the worst case (maximum) of the condition number for any vector, i.e.,\n",
    "\n",
    "$$ \\kappa(A) = \\max_{x \\ne 0} \\lVert A \\rVert \\frac{\\lVert x \\rVert}{\\lVert A x \\rVert} .$$\n",
    "\n",
    "If $A$ is _invertible_, then we can rephrase as\n",
    "\n",
    "$$ \\kappa(A) = \\max_{x \\ne 0} \\lVert A \\rVert \\frac{\\lVert A^{-1} (A x) \\rVert}{\\lVert A x \\rVert} =\n",
    "\\max_{A x \\ne 0} \\lVert A \\rVert \\frac{\\lVert A^{-1} (A x) \\rVert}{\\lVert A x \\rVert} = \\lVert A \\rVert \\lVert A^{-1} \\rVert . $$\n",
    "\n",
    "Evidently multiplying by a matrix is just as ill-conditioned of an operation as solving a linear system using that matrix."
   ]
  },
  {
   "cell_type": "markdown",
   "metadata": {},
   "source": [
    "### Matrix norms induced by vector norms\n",
    "Recall\n",
    "\n",
    "$$ \\lVert A \\rVert = \\max_{\\lVert x \\rVert = 1} \\lVert A x \\rVert . $$"
   ]
  },
  {
   "cell_type": "markdown",
   "metadata": {},
   "source": [
    "## 2. Condition number via SVD\n",
    "\n",
    "$$ \\kappa(A) = \\lVert A \\rVert \\ \\lVert A^{-1} \\rVert $$\n",
    "\n",
    "Or, in terms of the SVD\n",
    "\n",
    "$$ U \\Sigma V^T = \\texttt{svd}(A) $$\n",
    "where\n",
    "$$ \\Sigma = \\begin{bmatrix} \\sigma_{\\max} && \\\\ & \\ddots & \\\\ && \\sigma_{\\min} \\end{bmatrix}, $$\n",
    "\n",
    "where, $(\\sigma_{1}, \\sigma_{2}, \\ldots)$ are the non-negative real numbers called **singular values** of $A$ (usually listed in decreasing order).\n",
    "\n",
    "We have that the matrix condition number is given by:\n",
    "\n",
    "$$ \\kappa(A) = \\frac{\\sigma_{\\max}}{\\sigma_{\\min}} = \\texttt{cond}(A) $$"
   ]
  },
  {
   "cell_type": "markdown",
   "metadata": {},
   "source": [
    "## 2.1 Relationship between conditioning and singular values\n",
    "What makes a matrix ill-conditioned?\n"
   ]
  },
  {
   "cell_type": "code",
   "execution_count": null,
   "metadata": {},
   "outputs": [],
   "source": [
    "A = [10 5; .9 .5]\n",
    "@show cond(A)\n",
    "svdvals(A) # Julia built-in that returns singular values in decreasing order"
   ]
  },
  {
   "cell_type": "markdown",
   "metadata": {},
   "source": [
    "There are two orders of magnitude difference between $\\sigma_{\\textrm{max}}$ and $\\sigma_{\\textrm{min}}$."
   ]
  },
  {
   "cell_type": "code",
   "execution_count": null,
   "metadata": {},
   "outputs": [],
   "source": [
    "m = 100\n",
    "x = LinRange(-1, 1, m)\n",
    "A = vander(x, 20)\n",
    "@show cond(A)\n",
    "svdvals(A)"
   ]
  },
  {
   "cell_type": "markdown",
   "metadata": {},
   "source": [
    "Six orders of magnitude here!"
   ]
  },
  {
   "cell_type": "markdown",
   "metadata": {},
   "source": [
    "Since\n",
    "$$ \\kappa(A) = \\frac{\\sigma_{\\max}}{\\sigma_{\\min}} = \\texttt{cond}(A) $$\n",
    "\n",
    "we can see how the larger the ratio between the largest and the smallest singular values is, the larger the condition number of a matrix is (hence, the more it is ill-conditioned)."
   ]
  },
  {
   "cell_type": "markdown",
   "metadata": {},
   "source": [
    "## 3. Singular Value Decomposition for solving systems\n",
    "\n",
    "Recall $$ U \\Sigma V^T = A $$\n",
    "where $U$ and $V$ have orthonormal columns and $\\Sigma$ is diagonal with nonnegative entries.\n",
    "\n",
    "The entries of $\\Sigma$ are called **singular values** and this decomposition is the **singular value decomposition** (SVD).\n",
    "It may remind you of an eigenvalue decomposition $X \\Lambda X^{-1} = A$, but\n",
    "* the SVD exists for all matrices (including non-square and deficient matrices)\n",
    "* $U,V$ have orthogonal columns (while $X$ can be arbitrarily ill-conditioned).\n",
    "* Indeed, if a matrix is symmetric and positive definite (all positive eigenvalues), then $U=V$ and $\\Sigma = \\Lambda$.\n",
    "* Once you have the SVD decomposition of a matrix $A$, you can solve the linear system $Ax=b$ pretty efficiently (more ont this in a bit)."
   ]
  },
  {
   "cell_type": "markdown",
   "metadata": {},
   "source": [
    "## 4. Costs of decompositions seen\n",
    "\n",
    "Although I mentioned already in class that counting flops is a bad model for modern high-performance computing, it is not the focus of this course to go too much in depth in the performance models for modern architectures. Let's review the costs in the classical sense of algorithm complexity (i.e., depending on problem size)\n",
    "\n",
    "Recall that we'd say an algorithm costs $O(n^2)$ if its running time on input of size $n$ is less than $c n^2$ for some constant $c$ and sufficiently large $n$.\n",
    "\n",
    "Sometimes we write $\\operatorname{cost}(\\texttt{algorithm}, n) = O(n^2)$ or (preferably) $\\operatorname{cost}(\\texttt{algorithm}) \\in O(n^2)$.\n",
    "\n",
    "Note that $O(\\log n) \\subset O(n) \\subset O(n\\log n) \\subset O(n^2) \\subset \\dotsb$.\n",
    "\n",
    "We say the algorithm is in $\\Theta(n^2)$ (\"big theta\") if\n",
    "$$ c_1 n^2 < \\operatorname{cost}(\\texttt{algorithm}) < c_2 n^2 $$\n",
    "for some positive constants $c_1,c_2$ and sufficiently large $n$."
   ]
  },
  {
   "cell_type": "markdown",
   "metadata": {},
   "source": [
    "### 4.1 Cost of Gram-Schmidt?\n",
    "* We'll count flops (addition, multiplication, division*)\n",
    "* *division is special. Since most processors can do an addition, comparison, or multiplication in a single cycle, those are all counted as one flop. But division always takes longer. How much longer depends on the processor. (Also division can be performed as multiplication by the inverse).\n",
    "* Inner product $\\sum_{i=1}^m x_i y_i$?\n",
    "* Vector \"axpy\": $y_i = a x_i + y_i$, $i \\in [1, 2, \\dotsc, m]$.\n",
    "* In the function `gram_schmidt_naive`, let's look at the inner loop:\n",
    "```julia\n",
    "for k in 1:j-1\n",
    "    r = Q[:,k]' * v\n",
    "    v -= Q[:,k] * r\n",
    "    R[k,j] = r\n",
    "end\n",
    "```"
   ]
  },
  {
   "cell_type": "markdown",
   "metadata": {},
   "source": [
    "#### Counting flops is a bad model\n",
    "\n",
    "* We load a single entry (8 bytes) and do 2 flops (add + multiply). That's an **arithmetic intensity** of 0.25 flops/byte.\n",
    "* Current hardware can do about 10 flops per byte, so our best algorithms will run at about 2% efficiency.\n",
    "* Need to focus on **memory bandwidth**, not flops.\n",
    "\n",
    "#### Dense matrix-matrix mulitply libraries\n",
    "\n",
    "* [BLIS project](https://github.com/flame/blis/)\n",
    "* [Analytic modeling](https://www.cs.utexas.edu/users/flame/pubs/TOMS-BLIS-Analytical.pdf)"
   ]
  },
  {
   "cell_type": "markdown",
   "metadata": {},
   "source": [
    "### 4.2 Cost of QR (by Householder)\n",
    "Solve $R x = Q^T b$.\n",
    "\n",
    "* QR factorization costs $2 m n^2 - \\frac 2 3 n^3$ operations and is done once per matrix $A$.\n",
    "* Computing $Q^T b$ costs $4 (m-n)n + 2 n^2 = 4 mn - 2n^2$ (using the elementary reflectors, which are stable and lower storage than naive storage of $Q$).\n",
    "* Solving with $R$ costs $n^2$ operations.  Total cost per right hand side is thus $4 m n - n^2$.\n",
    "\n",
    "This method is stable and accurate."
   ]
  },
  {
   "cell_type": "markdown",
   "metadata": {},
   "source": [
    "### 4.3 Cost of Cholesky\n",
    "\n",
    "The mathematically equivalent form $(A^T A) x = A^T b$ are called the **normal equations**.  The solution process involves factoring the symmetric and positive definite $n\\times n$ matrix $A^T A$.\n",
    "\n",
    "* Computing $A^T A$ costs $m n^2$ flops, exploiting symmetry.\n",
    "* Factoring $A^T A = R^T R$ costs $\\frac 1 3 n^3$ flops.  The total factorization cost is thus $m n^2 + \\frac 1 3 n^3$.\n",
    "* Computing $A^T b$ costs $2 m n$.\n",
    "* Solving with $R^T$ costs $n^2$.\n",
    "* Solving with $R$ costs $n^2$.  Total cost per right hand side is thus $2 m n + 2 n^2$.\n",
    "\n",
    "The product $A^T A$ is ill-conditioned: $\\kappa(A^T A) = \\kappa(A)^2$ and can reduce the accuracy of a least squares solution."
   ]
  },
  {
   "cell_type": "markdown",
   "metadata": {},
   "source": [
    "### 4.4 Cost of SVD\n",
    "\n",
    "* We saw that the SVD exists for all matrices (including non-square and deficient matrices)\n",
    "* $U,V$ have orthogonal columns (while $X$ can be arbitrarily ill-conditioned).\n",
    "* Indeed, if a matrix is symmetric and positive definite (all positive eigenvalues), then $U=V$ and $\\Sigma = \\Lambda$.\n",
    "\n",
    "Computing an SVD requires a somewhat complicated iterative algorithm, but a crude estimate of the cost is $2 m n^2 + 11 n^3$.  Note that this is similar to the cost of $QR$ when $m \\gg n$, but much more expensive for square matrices.\n",
    "\n",
    "One you have the SVD decomposition of a matrix $A$, then you can solve the linear system: $Ax=b$.\n",
    "\n",
    "Solving it with the SVD involves:\n",
    "* Compute $U^T b$ at a cost of $2 m n$.\n",
    "* Solve with the diagonal $n\\times n$ matrix $\\Sigma$ at a cost of $n$.\n",
    "* Apply $V$ at a cost of $2 n^2$.  The total cost per right hand side is thus $2 m n + 2n^2$ (not bad at all)."
   ]
  },
  {
   "cell_type": "markdown",
   "metadata": {},
   "source": [
    "#### SVD gives the unique minimum norm solution when $A$ is rank deficient"
   ]
  },
  {
   "cell_type": "markdown",
   "metadata": {},
   "source": [
    "#### Observation: \n",
    "\n",
    "Orthogonal transformations don’t affect singular values (or conditioning).\n",
    "\n",
    "Recall the \"Geometry of the Singular Value Decomposition\" activity"
   ]
  },
  {
   "cell_type": "code",
   "execution_count": null,
   "metadata": {},
   "outputs": [],
   "source": [
    "default(aspect_ratio=:equal)\n",
    "\n",
    "function peanut()\n",
    "    theta = LinRange(0, 2*pi, 50)\n",
    "    r = 1 .+ .4*sin.(3*theta) + .6*sin.(2*theta)\n",
    "    r' .* [cos.(theta) sin.(theta)]'\n",
    "end\n",
    "\n",
    "function circle()\n",
    "    theta = LinRange(0, 2*pi, 50)\n",
    "    [cos.(theta) sin.(theta)]'\n",
    "end\n",
    "\n",
    "function Aplot(A)\n",
    "    \"Plot a transformation from X to Y, first applied to a peanut shape and then to a circle\"\n",
    "    X = peanut()\n",
    "    Y = A * X\n",
    "    p = scatter(X[1,:], X[2,:], label=\"in\")\n",
    "    scatter!(p, Y[1,:], Y[2,:], label=\"out\")\n",
    "    X = circle()\n",
    "    Y = A * X\n",
    "    q = scatter(X[1,:], X[2,:], label=\"in\")\n",
    "    scatter!(q, Y[1,:], Y[2,:], label=\"out\")\n",
    "    plot(p, q, layout=2)\n",
    "end"
   ]
  },
  {
   "cell_type": "code",
   "execution_count": null,
   "metadata": {},
   "outputs": [],
   "source": [
    "U, S, V = svd(randn(2,2))\n",
    "@show S\n",
    "@show S[1] / S[end]\n",
    "@show diagm(S) # create diagonal matrix with S values\n",
    "Aplot(diagm(S))"
   ]
  },
  {
   "cell_type": "markdown",
   "metadata": {},
   "source": [
    "## Recommended video to watch at home: \n",
    "\n",
    "[The Singular Value Decomposition Saves the Universe](https://www.mathworks.com/videos/the-singular-value-decomposition-saves-the-universe-1481294462044.html)\n",
    " "
   ]
  }
 ],
 "metadata": {
  "kernelspec": {
   "display_name": "Julia 1.10.4",
   "language": "julia",
   "name": "julia-1.10"
  },
  "language_info": {
   "file_extension": ".jl",
   "mimetype": "application/julia",
   "name": "julia",
   "version": "1.10.4"
  }
 },
 "nbformat": 4,
 "nbformat_minor": 2
}
