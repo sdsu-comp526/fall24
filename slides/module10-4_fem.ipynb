{
 "cells": [
  {
   "cell_type": "markdown",
   "metadata": {},
   "source": [
    "# 38) FEM/SEM\n",
    "\n",
    "1. Introduction to the Finite/Spectral Element Method\n",
    "2. Matrix-free methods  \n",
    "  2.1 Motivation\n",
    "\n",
    "## 1. Introduction to the Finite/Spectral Element Method\n",
    "\n",
    "- In Finite Element Methods (FEM) formulations, the weak form of a Partial Differential Equation (PDE)-which involves integrating all terms in the PDE over the domain-is evaluated on a subdomain $\\Omega_e$ (element) and the local results are composed into a larger system of equations that models the entire problem on the global domain $\\Omega$.\n",
    "\n",
    "- A finite element space is a function space in which each function is approximated with a finite-dimensional polynomial interpolation in each element. A Spectral Element Method (SEM) is a high-order (\"exponential/spectral\") FEM, in which the nodes are non-equispaced.\n",
    "\n",
    "- Most FEM/SEM packages use polynomials as _basis functions_ to approximate a given function (e.g., solution state). There are different ways of defininig basis functions: _nodal_ basis functions and _modal_ basis functions. Most FEM/SEM packages use _nodal_ basis functions (e.g. by using Lagrange interpolation), which are defined via the values of the polynomials at particular nodal points in each element (termed Finite Element *nodes*). \n",
    "\n",
    "- Even though the basis functions can interpolate globally, it’s better to limit each function to interpolate locally within each element, so to avoid a dense matrix system of equations when adding up the element contributions on the\n",
    "global domain $\\Omega$.\n",
    "\n",
    "- The Finite Element nodes can be chosen to coincide with those of a particular *quadrature rule*, (this is referred to as using _collocated_ nodes) which allows us to integrate functions over the domain without having the souble cost of defining the interpolating polynomial nodes and the quadrature rule nodes.\n",
    "\n",
    "Let us give a concrete example of strong and weak form of a PDE.\n",
    "\n",
    "A Poisson's problem (in strong form) is given by\n",
    "\n",
    "$$\n",
    "   \\nabla \\cdot \\nabla u = f, \\textrm{ for  } \\mathbf{x} \\in \\Omega .\n",
    "$$\n",
    "\n",
    "To obtain the **weak form**, let us multiply all terms by a test function $v$ and integrate by parts (i.e., apply Gauss' divergence theorem in multiple dimensions):\n",
    "\n",
    "$$\n",
    "   \\int_\\Omega \\nabla v \\cdot \\nabla u \\, dV - \\int_{\\partial \\Omega} v \\nabla u \\cdot \\hat{\\mathbf n}\\, dS = \\int_\\Omega  v f \\, dV .\n",
    "$$\n",
    "\n",
    "Often, we choose to represent a field (say, the velocity field) such that $\\nabla u \\cdot \\hat{\\mathbf n} = 0$, so that we're only left with the volumetric parts of the equation above.\n",
    "\n",
    "Most SEM packages use the _Legendre-Gauss-Lobatto (LGL) quadrature nodes that we have seen earlier in the course amd take advantage of **tensor-product** basis functions on quadrilateral or hexaedral elements.\n"
   ]
  },
  {
   "cell_type": "markdown",
   "metadata": {},
   "source": [
    "## 2. Matrix-free methods\n",
    "\n",
    "### 2.1 Motivation\n",
    "\n",
    "Historically, conventional high-order finite element methods were rarely used for industrial problems because the Jacobian rapidly loses sparsity as the order is increased, leading to unaffordable solve times and memory requirements.\n",
    "\n",
    "> [Recommended Reading](https://link.springer.com/article/10.1007/s10915-010-9396-8)\n",
    "\n",
    "\n",
    "This effect typically limited the order of accuracy to at most quadratic, especially because quadratic finite element formulations are computationally advantageous in terms of floating point operations (FLOPS) per degree of freedom (DOF) despite the fast convergence and favorable stability properties offered by higher order discretizations (see below).\n",
    "\n",
    "![Matrix-free cost](../img/MatrixFreePerfPlot.PNG)\n",
    "\n",
    "\n",
    "In the figure above, we analyze and compare the theoretical costs, of different configurations: assembling the sparse matrix representing the action of the operator (labeled as *assembled*), non assembling the matrix and storing only the metric terms needed as an operator setup-phase (labeled as *tensor-qstore*) and non assembling  the matrix and computing the metric terms on the fly and storing a compact representation of the linearization at quadrature points (labeled as *tensor*). In the right panel, we show the cost in terms of FLOPS/DOF.\n",
    "\n",
    "- This metric for computational efficiency made sense historically, when the performance was mostly limited by processors' clockspeed.\n",
    "\n",
    "- A more relevant performance plot for current state-of-the-art high-performance machines (for which the bottleneck of performance is mostly in the memory bandwith) is shown in the left panel of the figure, where the memory bandwith is measured in terms of bytes/DOF.\n",
    "\n",
    "- We can see that high-order methods, implemented properly with only partial assembly, require optimal amount of memory transfers (with respect to the polynomial order) and near-optimal FLOPs for operator evaluation.\n",
    "\n",
    "- Thus, high-order methods in matrix-free representation not only possess favorable properties, such as higher accuracy and faster convergence to solution, but also manifest an efficiency gain compared to their corresponding assembled representations.\n",
    "\n",
    "- Nowadays, high-order numerical methods, such as the spectral element method (SEM)-a special case of nodal p-Finite Element Method (FEM) which can reuse the interpolation nodes for quadrature-are employed, especially with (nearly) affine elements, because linear constant coefficient problems can be very efficiently solved using the fast diagonalization method combined with a multilevel coarse solve.\n",
    "\n"
   ]
  },
  {
   "cell_type": "markdown",
   "metadata": {},
   "source": []
  }
 ],
 "metadata": {
  "language_info": {
   "name": "python"
  }
 },
 "nbformat": 4,
 "nbformat_minor": 2
}
