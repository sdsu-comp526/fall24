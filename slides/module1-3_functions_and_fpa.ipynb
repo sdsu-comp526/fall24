{
 "cells": [
  {
   "cell_type": "markdown",
   "id": "4159be0e",
   "metadata": {
    "hideCode": false,
    "hidePrompt": false,
    "slideshow": {
     "slide_type": "slide"
    }
   },
   "source": [
    "# 3) Functions\n",
    "\n",
    " 1. Using Julia  \n",
    " 2. Introduction to floating point arithmetic   \n",
    "     2.1. Plotting    \n",
    " 3. Machine Epsilon"
   ]
  },
  {
   "cell_type": "markdown",
   "id": "1f28cbbc",
   "metadata": {
    "hideCode": false,
    "hidePrompt": false,
    "slideshow": {
     "slide_type": "slide"
    }
   },
   "source": [
    "# 1. Julia\n",
    "\n",
    "To recap from first class, Julia is a relatively new programming language. Think of it as MATLAB done right, open source, and fast. It's nominally general-purpose, but mostly for numerical/scientific/statistical computing. There are great [learning resources](https://julialang.org/learning/). We'll introduce concepts and language features as we go."
   ]
  },
  {
   "cell_type": "code",
   "execution_count": null,
   "id": "7ab85301",
   "metadata": {
    "hideCode": false,
    "hidePrompt": false
   },
   "outputs": [],
   "source": [
    "# The last line of a cell is output by default\n",
    "x = 3\n",
    "y = 4"
   ]
  },
  {
   "cell_type": "code",
   "execution_count": null,
   "id": "22875437",
   "metadata": {
    "hideCode": false,
    "hidePrompt": false,
    "scrolled": true,
    "slideshow": {
     "slide_type": "fragment"
    }
   },
   "outputs": [],
   "source": [
    "println(\"$x + $y = $(x + y)\") # string formatting/interpolation\n",
    "4;  # trailing semicolon suppresses output"
   ]
  },
  {
   "cell_type": "code",
   "execution_count": null,
   "id": "7773ba94",
   "metadata": {
    "hideCode": false,
    "hidePrompt": false,
    "slideshow": {
     "slide_type": "fragment"
    }
   },
   "outputs": [],
   "source": [
    "@show x + y\n",
    "x * y"
   ]
  },
  {
   "cell_type": "markdown",
   "id": "f8d9c948",
   "metadata": {
    "hideCode": false,
    "hidePrompt": false,
    "slideshow": {
     "slide_type": "slide"
    }
   },
   "source": [
    "## 1.1. Numbers\n",
    "\n",
    ":::{tip}\n",
    "Check this very helpful [Julia documentation page](https://docs.julialang.org/en/v1/manual/integers-and-floating-point-numbers/).\n",
    ":::"
   ]
  },
  {
   "cell_type": "code",
   "execution_count": null,
   "id": "a21a9aae",
   "metadata": {
    "hideCode": false,
    "hidePrompt": false
   },
   "outputs": [],
   "source": [
    "3, 3.0, 3.0f0, big(3.0) # integers, double precision, single precision, and convert to a maximum precision representation"
   ]
  },
  {
   "cell_type": "code",
   "execution_count": null,
   "id": "cad03c36",
   "metadata": {
    "hideCode": false,
    "hidePrompt": false,
    "slideshow": {
     "slide_type": "fragment"
    }
   },
   "outputs": [],
   "source": [
    "typeof(3), typeof(3.0), typeof(3.0f0), typeof(big(3.0))"
   ]
  },
  {
   "cell_type": "code",
   "execution_count": null,
   "id": "fc571720",
   "metadata": {
    "slideshow": {
     "slide_type": "fragment"
    }
   },
   "outputs": [],
   "source": [
    "# automatic promotion\n",
    "@show 3 + 3.0\n",
    "@show 3.0 + 3.0f0\n",
    "@show 3 + 3.0f0;"
   ]
  },
  {
   "cell_type": "code",
   "execution_count": null,
   "id": "941746b3",
   "metadata": {
    "slideshow": {
     "slide_type": "fragment"
    }
   },
   "outputs": [],
   "source": [
    "# floating and integer division\n",
    "@show 4 / 2\n",
    "@show -3 ÷ 2; # type `\\div` and press TAB"
   ]
  },
  {
   "cell_type": "markdown",
   "id": "bcc583c4",
   "metadata": {
    "slideshow": {
     "slide_type": "slide"
    }
   },
   "source": [
    "## 1.2 Arrays"
   ]
  },
  {
   "cell_type": "code",
   "execution_count": null,
   "id": "f70c3592",
   "metadata": {
    "cell_style": "split"
   },
   "outputs": [],
   "source": [
    "[1, 2, 3]"
   ]
  },
  {
   "cell_type": "code",
   "execution_count": null,
   "id": "8a45c6db",
   "metadata": {
    "cell_style": "split",
    "slideshow": {
     "slide_type": "fragment"
    }
   },
   "outputs": [],
   "source": [
    "# explicit typing\n",
    "Float64[1,2,3]"
   ]
  },
  {
   "cell_type": "code",
   "execution_count": null,
   "id": "766b13cd",
   "metadata": {
    "cell_style": "split",
    "slideshow": {
     "slide_type": "fragment"
    }
   },
   "outputs": [],
   "source": [
    "# promotion rules similar to arithmetic\n",
    "[1,2,3.] + [1,2,3]"
   ]
  },
  {
   "cell_type": "code",
   "execution_count": null,
   "id": "5742608a",
   "metadata": {
    "cell_style": "split",
    "slideshow": {
     "slide_type": "fragment"
    }
   },
   "outputs": [],
   "source": [
    "x = [10., 20, 30]\n",
    "x[2] # one-based indexing"
   ]
  },
  {
   "cell_type": "code",
   "execution_count": null,
   "id": "4b566b5e",
   "metadata": {
    "cell_style": "split",
    "slideshow": {
     "slide_type": "fragment"
    }
   },
   "outputs": [],
   "source": [
    "x[2] = 3.5"
   ]
  },
  {
   "cell_type": "code",
   "execution_count": null,
   "id": "6422ea69",
   "metadata": {
    "cell_style": "split",
    "slideshow": {
     "slide_type": "fragment"
    }
   },
   "outputs": [],
   "source": [
    "# multi-dimensional array\n",
    "A = [10 20 30; 40 50 60]"
   ]
  },
  {
   "cell_type": "markdown",
   "id": "08ebda36",
   "metadata": {
    "cell_style": "split"
   },
   "source": [
    "Compare with the Python notation:\n",
    "\n",
    "```python\n",
    "A = np.array([[10, 20, 30], [40, 50, 60]])\n",
    "```"
   ]
  },
  {
   "cell_type": "markdown",
   "id": "c7027d32",
   "metadata": {
    "slideshow": {
     "slide_type": "slide"
    }
   },
   "source": [
    "## 1.3 Functions"
   ]
  },
  {
   "cell_type": "code",
   "execution_count": null,
   "id": "ce304d6a",
   "metadata": {
    "cell_style": "split"
   },
   "outputs": [],
   "source": [
    "# define a function called 'f' that takes three arguments, one of which has a default value\n",
    "function f(x, y; z=3)\n",
    "    sqrt(x*x + y*y) + z\n",
    "end\n",
    "\n",
    "# define another function also called 'f' that only takes two arguments\n",
    "function f(x, y)\n",
    "    sqrt(x*x + y*y)\n",
    "end"
   ]
  },
  {
   "cell_type": "markdown",
   "id": "9672b2b9",
   "metadata": {},
   "source": [
    "What is the difference between a **method** and a **function** in Julia? Check this [resource](https://docs.julialang.org/en/v1/manual/methods/)."
   ]
  },
  {
   "cell_type": "code",
   "execution_count": null,
   "id": "b39fa552",
   "metadata": {
    "cell_style": "split"
   },
   "outputs": [],
   "source": [
    "# if I invoke f this way, which one will the Julia compiler use?\n",
    "f(3, 4, z=5)"
   ]
  },
  {
   "cell_type": "code",
   "execution_count": null,
   "id": "ecd0070c",
   "metadata": {},
   "outputs": [],
   "source": [
    "# if instead I invoke f this way, which one will the Julia compiler use?\n",
    "f(2, 3)"
   ]
  },
  {
   "cell_type": "code",
   "execution_count": null,
   "id": "a51770d4",
   "metadata": {
    "cell_style": "split",
    "slideshow": {
     "slide_type": "fragment"
    }
   },
   "outputs": [],
   "source": [
    "g(x, y) = sqrt(x^2 + y^2)\n",
    "g(3, 4)"
   ]
  },
  {
   "cell_type": "markdown",
   "id": "e3f799f7",
   "metadata": {},
   "source": [
    "We have just seen an example of one of the most powerful features of Julia: **dynamic [(multiple) dispatch](https://en.wikipedia.org/wiki/Multiple_dispatch)**: \n",
    "\n",
    "- Functions can have multiple definitions as long each definition restricts the type of the parameters differently. It is the type of the parameters that define which \"definition\" (or \"method\" in Julia terminology) will be called. \n",
    "\n",
    "- This is the way Julia mimics [polymorphism](https://en.wikipedia.org/wiki/Polymorphism_(computer_science)) that some compiled languages (e.g., C++) have."
   ]
  },
  {
   "cell_type": "markdown",
   "id": "983d933f",
   "metadata": {},
   "source": [
    "**Anonymous functions** are usually functions so short-lived that they do not need a name. This is done with an arrow notation. Example:"
   ]
  },
  {
   "cell_type": "code",
   "execution_count": null,
   "id": "350d604e",
   "metadata": {
    "cell_style": "split",
    "slideshow": {
     "slide_type": "fragment"
    }
   },
   "outputs": [],
   "source": [
    "((x, y) -> sqrt(x^2 + y^2))(3, 4)"
   ]
  },
  {
   "cell_type": "markdown",
   "id": "ed443633",
   "metadata": {
    "slideshow": {
     "slide_type": "slide"
    }
   },
   "source": [
    "## 1.4 Loops"
   ]
  },
  {
   "cell_type": "code",
   "execution_count": null,
   "id": "a72a3693",
   "metadata": {
    "cell_style": "split"
   },
   "outputs": [],
   "source": [
    "# ranges\n",
    "1:50000000"
   ]
  },
  {
   "cell_type": "code",
   "execution_count": null,
   "id": "1cff5422",
   "metadata": {
    "cell_style": "split"
   },
   "outputs": [],
   "source": [
    "collect(1:5)"
   ]
  },
  {
   "cell_type": "code",
   "execution_count": null,
   "id": "6d92702a",
   "metadata": {
    "cell_style": "split",
    "slideshow": {
     "slide_type": "fragment"
    }
   },
   "outputs": [],
   "source": [
    "x = 0\n",
    "for n in 1:50000000\n",
    "    x += 1/n^2\n",
    "end\n",
    "@show x\n",
    "x - pi^2/6 # Basel problem (solved by Euler; generalized by Riemann's zeta function)"
   ]
  },
  {
   "cell_type": "code",
   "execution_count": null,
   "id": "65ed5f01",
   "metadata": {
    "cell_style": "split",
    "scrolled": true,
    "slideshow": {
     "slide_type": "fragment"
    }
   },
   "outputs": [],
   "source": [
    "# list comprehensions\n",
    "sum([1/n^2 for n in 1:1000])"
   ]
  },
  {
   "cell_type": "markdown",
   "id": "400fc848",
   "metadata": {
    "cell_style": "center",
    "hideCode": false,
    "hidePrompt": false,
    "slideshow": {
     "slide_type": "slide"
    }
   },
   "source": [
    "# 2. Floating point arithmetic"
   ]
  },
  {
   "cell_type": "code",
   "execution_count": null,
   "id": "b3206a55",
   "metadata": {
    "cell_style": "split",
    "hideCode": false,
    "hidePrompt": false
   },
   "outputs": [],
   "source": [
    "0.1 + 0.2\n",
    "(1 + 1.2e-16) - 1"
   ]
  },
  {
   "cell_type": "code",
   "execution_count": null,
   "id": "c5ef83b2-6ab5-4bc4-b926-8e2f1b37d721",
   "metadata": {
    "cell_style": "split",
    "hideCode": false,
    "hidePrompt": false,
    "scrolled": true,
    "slideshow": {
     "slide_type": "fragment"
    }
   },
   "outputs": [],
   "source": [
    "using Pkg\n",
    "Pkg.add(\"Plots\")\n",
    "\n",
    "using Plots\n",
    "default(linewidth=4)\n",
    "plot(x -> (1 + x) - 1, xlims=(-1e-15, 1e-15),\n",
    "xlabel=\"x\", ylabel=\"y\")\n",
    "plot!(x -> x)"
   ]
  },
  {
   "cell_type": "markdown",
   "id": "c49bf903",
   "metadata": {
    "hideCode": false,
    "hidePrompt": false,
    "slideshow": {
     "slide_type": "slide"
    }
   },
   "source": [
    "# 3. Machine epsilon\n",
    "\n",
    "We approximate real numbers with **floating point** arithmetic, which can only represent discrete values. In particular, there exists a largest number, which we call $\\epsilon_{\\text{machine}}$, such that\n",
    "$$ 1 \\oplus x = 1 \\quad \\text{for all}\\  \\lvert x \\rvert < \\epsilon_{\\text{machine}}.$$\n",
    "\n",
    "The notation $\\oplus, \\ominus, \\odot, \\oslash$ represent the elementary operation carried out in floating point arithmetic."
   ]
  },
  {
   "cell_type": "code",
   "execution_count": null,
   "id": "86096208",
   "metadata": {
    "cell_style": "split",
    "hideCode": false,
    "hidePrompt": false,
    "slideshow": {
     "slide_type": "fragment"
    }
   },
   "outputs": [],
   "source": [
    "eps = 1\n",
    "while 1 + eps != 1\n",
    "    eps = eps / 2\n",
    "end\n",
    "eps"
   ]
  },
  {
   "cell_type": "code",
   "execution_count": null,
   "id": "0a14ea73",
   "metadata": {
    "cell_style": "split",
    "slideshow": {
     "slide_type": "fragment"
    }
   },
   "outputs": [],
   "source": [
    "eps = 1.f0\n",
    "while 1 + eps != 1\n",
    "    eps = eps / 2\n",
    "end\n",
    "eps"
   ]
  },
  {
   "cell_type": "markdown",
   "id": "56fade8b",
   "metadata": {
    "hideCode": false,
    "hidePrompt": false,
    "slideshow": {
     "slide_type": "slide"
    }
   },
   "source": [
    "## 3.1 Approximating `exp`\n",
    "\n",
    "$$e^x = 1 + x + \\frac{x^2}{2!} + \\frac{x^3}{3!} + \\dotsb$$\n",
    "\n",
    "Suppose we want to compute $f(x) = e^x - 1$ for small values of $x$."
   ]
  },
  {
   "cell_type": "code",
   "execution_count": null,
   "id": "282ad48a",
   "metadata": {
    "cell_style": "split",
    "hideCode": false,
    "hidePrompt": false
   },
   "outputs": [],
   "source": [
    "f1(x) = exp(x) - 1\n",
    "y1 = f1(1e-8)"
   ]
  },
  {
   "cell_type": "code",
   "execution_count": null,
   "id": "eff4a68c",
   "metadata": {
    "cell_style": "split",
    "hideCode": false,
    "hidePrompt": false
   },
   "outputs": [],
   "source": [
    "f2(x) = x + x^2/2 + x^3/6\n",
    "y2 = f2(1e-8)"
   ]
  },
  {
   "cell_type": "markdown",
   "id": "379682f9",
   "metadata": {
    "hideCode": false,
    "hidePrompt": false
   },
   "source": [
    "Which answer is more accurate?"
   ]
  },
  {
   "cell_type": "code",
   "execution_count": null,
   "id": "6081053e",
   "metadata": {
    "hideCode": false,
    "hidePrompt": false
   },
   "outputs": [],
   "source": [
    "@show (y1 - y2)        # Absolute difference\n",
    "@show (y1 - y2) / y2;  # Relative difference"
   ]
  },
  {
   "cell_type": "code",
   "execution_count": null,
   "id": "72039c6a",
   "metadata": {},
   "outputs": [],
   "source": [
    "0 / 0"
   ]
  }
 ],
 "metadata": {
  "celltoolbar": "Slideshow",
  "hide_code_all_hidden": false,
  "kernelspec": {
   "display_name": "Julia 1.10.4",
   "language": "julia",
   "name": "julia-1.10"
  },
  "language_info": {
   "file_extension": ".jl",
   "mimetype": "application/julia",
   "name": "julia",
   "version": "1.10.4"
  },
  "rise": {
   "enable_chalkboard": true
  }
 },
 "nbformat": 4,
 "nbformat_minor": 5
}
