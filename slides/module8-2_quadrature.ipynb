{
 "cells": [
  {
   "cell_type": "markdown",
   "id": "4159be0e",
   "metadata": {
    "hideCode": false,
    "hidePrompt": false,
    "slideshow": {
     "slide_type": "slide"
    }
   },
   "source": [
    "# 33) Quadrature\n",
    "\n",
    "## Last time\n",
    "\n",
    "* Midpoint and trapezoid rules\n",
    "* Extrapolation\n",
    "\n",
    "## Today\n",
    "\n",
    "1. Quadrature\n",
    "2. Polynomial interpolation for integration\n",
    "2. Gauss-Legendre quadrature"
   ]
  },
  {
   "cell_type": "code",
   "execution_count": null,
   "id": "eb781a7a",
   "metadata": {
    "slideshow": {
     "slide_type": "skip"
    }
   },
   "outputs": [],
   "source": [
    "using LinearAlgebra\n",
    "using Plots\n",
    "default(linewidth=4, legendfontsize=12)\n",
    "\n",
    "function vander_legendre(x, k=nothing)\n",
    "    if isnothing(k)\n",
    "        k = length(x) # Square by default\n",
    "    end\n",
    "    m = length(x)\n",
    "    Q = ones(m, k)\n",
    "    Q[:, 2] = x\n",
    "    for n in 1:k-2\n",
    "        Q[:, n+2] = ((2*n + 1) * x .* Q[:, n+1] - n * Q[:, n]) / (n + 1)\n",
    "    end\n",
    "    Q\n",
    "end\n",
    "\n",
    "CosRange(a, b, n) = (a + b)/2 .+ (b - a)/2 * cos.(LinRange(-pi, 0, n))\n",
    "\n",
    "F_expx(x) = exp(2x) / (1 + x^2)\n",
    "f_expx(x) = 2*exp(2x) / (1 + x^2) - 2x*exp(2x)/(1 + x^2)^2\n",
    "\n",
    "F_dtanh(x) = tanh(x)\n",
    "f_dtanh(x) = cosh(x)^-2\n",
    "\n",
    "integrands = [f_expx, f_dtanh]\n",
    "antiderivatives = [F_expx, F_dtanh]\n",
    "tests = zip(integrands, antiderivatives)\n",
    "\n",
    "function plot_accuracy(fint, tests, ns; ref=[1,2])\n",
    "    a, b = -2, 2\n",
    "    p = plot(xscale=:log10, yscale=:log10, xlabel=\"n\", ylabel=\"error\")\n",
    "    for (f, F) in tests\n",
    "        Is = [fint(f, a, b, n=n) for n in ns]\n",
    "        Errors = abs.(Is .- (F(b) - F(a)))\n",
    "        scatter!(ns, Errors, label=f)\n",
    "    end\n",
    "    for k in ref\n",
    "        plot!(ns, ns.^(-1. * k), label=\"\\$n^{-$k}\\$\")\n",
    "    end\n",
    "    p\n",
    "end\n",
    "\n",
    "function fint_trapezoid(f, a, b; n=20)\n",
    "    dx = (b - a) / (n - 1)\n",
    "    x = LinRange(a, b, n)\n",
    "    fx = f.(x)\n",
    "    fx[1] /= 2\n",
    "    fx[end] /= 2\n",
    "    sum(fx) * dx\n",
    "end\n",
    "\n",
    "function plot_accuracy_h(fint, tests, ns; ref=[1,2])\n",
    "    a, b = -2, 2\n",
    "    p = plot(xscale=:log10, yscale=:log10, xlabel=\"h\", ylabel=\"error\",\n",
    "        legend=:bottomright)\n",
    "    hs = (b - a) ./ ns\n",
    "    for (f, F) in tests\n",
    "        Is = [fint(f, a, b, n=n) for n in ns]\n",
    "        Errors = abs.(Is .- (F(b) - F(a)))\n",
    "        scatter!(hs, Errors, label=f)\n",
    "    end\n",
    "    for k in ref\n",
    "        plot!(hs, hs.^k, label=\"\\$h^{$k}\\$\")\n",
    "    end\n",
    "    p\n",
    "end"
   ]
  },
  {
   "cell_type": "markdown",
   "id": "89325fbb",
   "metadata": {
    "slideshow": {
     "slide_type": "slide"
    }
   },
   "source": [
    "## Recap Integration\n",
    "\n",
    "We're interested in computing definite integrals\n",
    "\n",
    "$$ \\int_a^b f(x) dx $$\n",
    "\n",
    "and will usually consider finite domains $-\\infty < a <b < \\infty$.\n",
    "\n",
    "* Cost: (usually) how many times we need to evaluate the function $f(x)$\n",
    "* Accuracy\n",
    "  * compare to a reference value\n",
    "  * compare to the same method using more evaluations\n",
    "* Consideration: how smooth is $f$?"
   ]
  },
  {
   "cell_type": "markdown",
   "id": "4ac2daec",
   "metadata": {
    "slideshow": {
     "slide_type": "slide"
    }
   },
   "source": [
    "## Recap Extrapolation\n",
    "\n",
    "Let's switch our plot around to use $h = \\Delta x$ instead of number of points $n$."
   ]
  },
  {
   "cell_type": "code",
   "execution_count": null,
   "id": "fef4c503",
   "metadata": {
    "cell_style": "center"
   },
   "outputs": [],
   "source": [
    "plot_accuracy_h(fint_trapezoid, tests, 2 .^ (2:10))"
   ]
  },
  {
   "cell_type": "markdown",
   "id": "fc6f54b2",
   "metadata": {
    "slideshow": {
     "slide_type": "slide"
    }
   },
   "source": [
    "## Recap Extrapolation derivation\n",
    "\n",
    "The trapezoid rule with $n$ points has an interval spacing of $h = 1/(n-1)$.  Let $I_h$ be the value of the integral approximated using an interval $h$.  We have numerical evidence that the leading error term is $O(h^2)$, i.e.,\n",
    "\n",
    "$$ I_h - I_0 = c h^2 + O(h^3) $$\n",
    "\n",
    "for some as-yet unknown constant $c$ that will depend on the function being integrated and the domain of integration.\n",
    "\n",
    "If we can determine $c$ from two approximations, say $I_h$ and $I_{2h}$, then we can extrapolate to $h=0$.\n",
    "\n",
    "For sufficiently small $h$, we can neglect $O(h^3)$ and write\n",
    "\n",
    "$$\\begin{split} I_h - I_0 &= c h^2 \\\\\n",
    "I_{2h} - I_0 &= c (2h)^2 .\n",
    "\\end{split}$$\n",
    "\n",
    "Subtracting these two lines, we have\n",
    "\n",
    "$$ I_{h} - I_{2h} = c (h^2 - 4 h^2) $$\n",
    "\n",
    "which can be solved for $c$ as\n",
    "\n",
    "$$ c = \\frac{I_{h} - I_{2h}}{h^2 - 4 h^2} . $$\n",
    "\n",
    "Substituting back into the first equation, we solve for $I_0$ as\n",
    "\n",
    "$$ I_0 = I_h - c h^2 = I_h + \\frac{I_{h} - I_{2h}}{4 - 1} .$$\n",
    "\n",
    "This is called [**Richardson extrapolation**](https://en.wikipedia.org/wiki/Richardson_extrapolation)."
   ]
  },
  {
   "cell_type": "markdown",
   "id": "9725dd52",
   "metadata": {
    "slideshow": {
     "slide_type": "slide"
    }
   },
   "source": [
    "## Extrapolation code"
   ]
  },
  {
   "cell_type": "code",
   "execution_count": null,
   "id": "bd524a79",
   "metadata": {
    "cell_style": "split"
   },
   "outputs": [],
   "source": [
    "function fint_richardson(f, a, b; n=20)\n",
    "    n = div(n, 2) * 2 + 1\n",
    "    h = (b - a) / (n - 1)\n",
    "    x = LinRange(a, b, n)\n",
    "    fx = f.(x)\n",
    "    fx[[1, end]] /= 2\n",
    "    I_h = sum(fx) * h\n",
    "    I_2h = sum(fx[1:2:end]) * 2h\n",
    "    I_h + (I_h - I_2h) / 3\n",
    "end\n",
    "plot_accuracy_h(fint_richardson, tests, 2 .^ (2:10), ref=1:5)"
   ]
  },
  {
   "cell_type": "markdown",
   "id": "9a091300",
   "metadata": {
    "cell_style": "split",
    "slideshow": {
     "slide_type": "fragment"
    }
   },
   "source": [
    "* we now have a sequence of accurate approximations\n",
    "* it's possible to apply extrapolation recursively\n",
    "* works great if you have a power of 2 number of points\n",
    "  * and your function is nice enough"
   ]
  },
  {
   "cell_type": "markdown",
   "id": "85b22f66",
   "metadata": {
    "slideshow": {
     "slide_type": "slide"
    }
   },
   "source": [
    "## 1. Quadrature \n",
    "\n",
    "At the end of the day, we're taking a weighted sum of function values. We call $w_i$ the *quadrature weights* and $x_i$ the *quadrature points* or *abscissa*.\n",
    "\n",
    "$$\\int_a^b f(x) \\approx \\sum_{i=1}^n w_i f(x_i) = \\mathbf w^T f(\\mathbf x)$$"
   ]
  },
  {
   "cell_type": "code",
   "execution_count": null,
   "id": "ac882062",
   "metadata": {
    "cell_style": "split"
   },
   "outputs": [],
   "source": [
    "function quad_trapezoid(a, b; n=20)\n",
    "    dx = (b - a) / (n - 1)\n",
    "    x = LinRange(a, b, n)\n",
    "    w = fill(dx, n)\n",
    "    w[[1, end]] /= 2\n",
    "    x, w\n",
    "end"
   ]
  },
  {
   "cell_type": "code",
   "execution_count": null,
   "id": "23425b2d",
   "metadata": {
    "cell_style": "split"
   },
   "outputs": [],
   "source": [
    "x, w = quad_trapezoid(-1, 1)\n",
    "\n",
    "w' * cos.(x) - fint_trapezoid(cos, -1, 1)"
   ]
  },
  {
   "cell_type": "markdown",
   "id": "ac2a0b04",
   "metadata": {
    "slideshow": {
     "slide_type": "slide"
    }
   },
   "source": [
    "## 2. Polynomial interpolation for integration\n",
    "\n",
    "Recall the Legendre polynomials"
   ]
  },
  {
   "cell_type": "code",
   "execution_count": null,
   "id": "9a984137",
   "metadata": {
    "cell_style": "split"
   },
   "outputs": [],
   "source": [
    "x = LinRange(-1, 1, 100)\n",
    "P = vander_legendre(x, 10)\n",
    "plot(x, P[:,end], legend=:none)"
   ]
  },
  {
   "cell_type": "markdown",
   "id": "a38d4922",
   "metadata": {
    "cell_style": "split"
   },
   "source": [
    "### Main Idea\n",
    "\n",
    "* Sample the function $f(x)$ at some points $x \\in [-1, 1]$\n",
    "* Fit a polynomial through those points\n",
    "* Return the integral of that interpolating polynomial\n",
    "\n",
    "### Questions:\n",
    "\n",
    "* What points do we sample on?\n",
    "* How do we integrate the interpolating polynomial?\n",
    "\n",
    "Recall that the Legendre polynomials $P_0(x) = 1$, $P_1(x) = x$, ..., are pairwise orthogonal\n",
    "\n",
    "$$\\int_{-1}^1 P_m(x) P_n(x) = 0, \\quad \\forall m\\ne n.$$"
   ]
  },
  {
   "cell_type": "markdown",
   "id": "c0d39b6a",
   "metadata": {
    "slideshow": {
     "slide_type": "slide"
    }
   },
   "source": [
    "### Integration using Legendre polynomials"
   ]
  },
  {
   "cell_type": "code",
   "execution_count": null,
   "id": "6f063c65",
   "metadata": {
    "cell_style": "split"
   },
   "outputs": [],
   "source": [
    "function quad_legendre(a, b; n=20)\n",
    "    x = CosRange(-1, 1, n)\n",
    "    P = vander_legendre(x)\n",
    "    x_ab = (a+b)/2 .+ (b-a)/2*x\n",
    "    w = (b - a) * inv(P)[1,:]\n",
    "    x_ab, w\n",
    "end\n",
    "\n",
    "function fint_legendre(f, a, b; n=20)\n",
    "    x, w = quad_legendre(a, b, n=n)\n",
    "    w' * f.(x)\n",
    "end\n",
    "\n",
    "fint_legendre(x -> 1 + x, -1, 1, n=4)"
   ]
  },
  {
   "cell_type": "code",
   "execution_count": null,
   "id": "80408af5",
   "metadata": {
    "cell_style": "split",
    "slideshow": {
     "slide_type": "fragment"
    }
   },
   "outputs": [],
   "source": [
    "p = plot_accuracy(fint_legendre, tests, 4:50, ref=1:5)\n",
    "plot!(p, xscale=:linear)"
   ]
  },
  {
   "cell_type": "markdown",
   "id": "7b7fa331",
   "metadata": {
    "slideshow": {
     "slide_type": "slide"
    }
   },
   "source": [
    "### Can we do better?\n",
    "\n",
    "Suppose a polynomial on the interval $[-1,1]$ can be written as\n",
    "\n",
    "$$ P_n(x) q(x) + r(x) $$\n",
    "\n",
    "where $P_n(x)$ is the $n$ th Legendre polnomials and both $q(x)$ and $r(x)$ are polynomials of maximum degree $n-1$.\n",
    "\n",
    "* Why is $\\int_{-1}^1 P_n(x) q(x) = 0$?\n",
    "* Can every polynomials of degree $2n-1$ be written in the above form?\n",
    "* How many roots does $P_n(x)$ have on the interval?\n",
    "* Can we choose points $\\{x_i\\}$ such that the first term is 0?\n",
    "\n",
    "If $P_n(x_i) = 0$ for each $x_i$, then we need only integrate $r(x)$, which is done exactly by integrating its interpolating polynomial.  How do we find these roots $x_i$?"
   ]
  },
  {
   "cell_type": "markdown",
   "id": "ee05bf00",
   "metadata": {
    "slideshow": {
     "slide_type": "slide"
    }
   },
   "source": [
    "## 3. Gauss-Legendre quadrature\n",
    "\n",
    "1. Solve for the points, compute the weights\n",
    "  * Use a Newton solver to find the roots. You can use the recurrence to write a recurrence for the derivatives.\n",
    "  * Create a Vandermonde matrix and extract the first row of the inverse or (using more structure) the derivatives at the quadrature points.\n",
    "2. Use duality of polynomial roots and matrix eigenvalues.\n",
    "  * A fascinating mathematical voyage; something you might see more in a graduate linear algebra class."
   ]
  },
  {
   "cell_type": "code",
   "execution_count": null,
   "id": "0c0a8f15",
   "metadata": {
    "cell_style": "split"
   },
   "outputs": [],
   "source": [
    "function fint_gauss(f, a, b; n=4)\n",
    "    \"\"\"Gauss-Legendre integration using Golub-Welsch algorithm\"\"\"\n",
    "    beta = @. .5 / sqrt(1 - (2 * (1:n-1))^(-2))\n",
    "    T = diagm(-1 => beta, 1 => beta)\n",
    "    D, V = eigen(T)\n",
    "    w = V[1,:].^2 * (b-a)\n",
    "    x = (a+b)/2 .+ (b-a)/2 * D\n",
    "    w' * f.(x)\n",
    "end\n",
    "fint_gauss(sin, -2, 3, n=4)"
   ]
  },
  {
   "cell_type": "code",
   "execution_count": null,
   "id": "97485ae0",
   "metadata": {
    "cell_style": "split"
   },
   "outputs": [],
   "source": [
    "plot_accuracy(fint_gauss, tests, 3:30, ref=1:4)\n",
    "plot!(xscale=:linear)"
   ]
  },
  {
   "cell_type": "markdown",
   "id": "ad23fe86",
   "metadata": {
    "slideshow": {
     "slide_type": "slide"
    }
   },
   "source": [
    "#### $n$-point Gauss exactly integrates polynomials of degree $2n-1$"
   ]
  },
  {
   "cell_type": "code",
   "execution_count": null,
   "id": "183d8373",
   "metadata": {
    "cell_style": "split"
   },
   "outputs": [],
   "source": [
    "plot_accuracy(fint_gauss, [(x -> 12(x-.2)^11, x->(x-.2)^12)], 3:12)\n",
    "plot!(xscale=:linear)"
   ]
  },
  {
   "cell_type": "code",
   "execution_count": null,
   "id": "b7473f7f",
   "metadata": {
    "cell_style": "split"
   },
   "outputs": [],
   "source": [
    "plot_accuracy(fint_legendre, [(x -> 11x^10, x->x^11)], 3:12)\n",
    "plot!(xscale=:linear)"
   ]
  },
  {
   "cell_type": "markdown",
   "id": "1ca085c7",
   "metadata": {
    "slideshow": {
     "slide_type": "slide"
    }
   },
   "source": [
    "#### [FastGaussQuadrature.jl](https://juliaapproximation.github.io/FastGaussQuadrature.jl/stable/)\n"
   ]
  },
  {
   "cell_type": "code",
   "execution_count": null,
   "id": "71fd8b0d",
   "metadata": {
    "cell_style": "center"
   },
   "outputs": [],
   "source": [
    "using FastGaussQuadrature\n",
    "\n",
    "n = 100\n",
    "x, q = gausslegendre(n)\n",
    "scatter(x, q, label=\"Gauss-Legendre\", ylabel=\"weight\", xlims=(-1, 1))\n",
    "scatter!(gausslobatto(n)..., label=\"Gauss-Lobatto\")"
   ]
  }
 ],
 "metadata": {
  "@webio": {
   "lastCommId": null,
   "lastKernelId": null
  },
  "celltoolbar": "Slideshow",
  "hide_code_all_hidden": false,
  "kernelspec": {
   "display_name": "Julia 1.10.4",
   "language": "julia",
   "name": "julia-1.10"
  },
  "language_info": {
   "file_extension": ".jl",
   "mimetype": "application/julia",
   "name": "julia",
   "version": "1.10.4"
  },
  "rise": {
   "enable_chalkboard": true
  }
 },
 "nbformat": 4,
 "nbformat_minor": 5
}
