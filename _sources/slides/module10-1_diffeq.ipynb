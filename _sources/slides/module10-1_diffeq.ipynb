{
 "cells": [
  {
   "cell_type": "markdown",
   "id": "4159be0e",
   "metadata": {
    "hideCode": false,
    "hidePrompt": false,
    "slideshow": {
     "slide_type": "slide"
    }
   },
   "source": [
    "# 38) Differential Equations\n",
    "\n",
    "## Last time\n",
    "\n",
    "* Computing derivatives \n",
    "* Ill-conditioned optimization\n",
    "* Recap on Finite Differences\n",
    "\n",
    "## Today\n",
    "\n",
    "1. Ordinary differential equations (ODE)\n",
    "2. Explicit methods: Forward Euler method\n",
    "3. Higher-order time-stepping schemes: Runge-Kutta 4 (RK4)\n",
    "4. Stability\n",
    "5. Implicit methods: Backward Euler"
   ]
  },
  {
   "cell_type": "code",
   "execution_count": null,
   "id": "eb781a7a",
   "metadata": {
    "slideshow": {
     "slide_type": "skip"
    }
   },
   "outputs": [],
   "source": [
    "using LinearAlgebra\n",
    "using Plots\n",
    "default(linewidth=4, legendfontsize=12)\n",
    "using LaTeXStrings\n",
    "\n",
    "struct RKTable\n",
    "    A::Matrix\n",
    "    b::Vector\n",
    "    c::Vector\n",
    "    function RKTable(A, b)\n",
    "        s = length(b)\n",
    "        A = reshape(A, s, s)\n",
    "        c = vec(sum(A, dims=2))\n",
    "        new(A, b, c)\n",
    "    end\n",
    "end\n",
    "\n",
    "function rk_stability(z, rk)\n",
    "    s = length(rk.b)\n",
    "    1 + z * rk.b' * ((I - z*rk.A) \\ ones(s))\n",
    "end\n",
    "\n",
    "rk4 = RKTable([0 0 0 0; .5 0 0 0; 0 .5 0 0; 0 0 1 0], [1, 2, 2, 1] / 6)\n",
    "heun = RKTable([0 0; 1 0], [.5, .5])\n",
    "Rz_theta(z, theta) = (1 + (1 - theta)*z) / (1 - theta*z)\n",
    "\n",
    "function ode_rk_explicit(f, u0; tfinal=1, h=0.1, table=rk4)\n",
    "    u = copy(u0)\n",
    "    t = 0.\n",
    "    n, s = length(u), length(table.c)\n",
    "    fY = zeros(n, s)\n",
    "    thist = [t]\n",
    "    uhist = [u0]\n",
    "    while t < tfinal\n",
    "        tnext = min(t+h, tfinal)\n",
    "        h = tnext - t\n",
    "        for i in 1:s\n",
    "            ti = t + h * table.c[i]\n",
    "            Yi = u + h * sum(fY[:,1:i-1] * table.A[i,1:i-1], dims=2)\n",
    "            fY[:,i] = f(ti, Yi)\n",
    "        end\n",
    "        u += h * fY * table.b\n",
    "        t = tnext\n",
    "        push!(thist, t)\n",
    "        push!(uhist, u)\n",
    "    end\n",
    "    thist, hcat(uhist...)\n",
    "end"
   ]
  },
  {
   "cell_type": "markdown",
   "id": "1bcd691a",
   "metadata": {
    "slideshow": {
     "slide_type": "slide"
    }
   },
   "source": [
    "## 1. Ordinary Differential Equations\n",
    "\n",
    "Given **initial condition** $y(t=0)=y(0)=y_0$, we want to find $y(t)$ for $t > 0$ that satisfies\n",
    "\n",
    "$$ y' \\equiv \\dot y \\equiv \\frac{\\partial y}{\\partial t} = f(t, y) $$"
   ]
  },
  {
   "cell_type": "markdown",
   "id": "f0fb11e0",
   "metadata": {
    "cell_style": "split"
   },
   "source": [
    "| Application | $y$ | $f$ |\n",
    "| --- | --- | --- |\n",
    "| Orbital dynamics | position, momentum | conservation of momentum|\n",
    "| Chemical reactions | concentration | conservation of atoms |\n",
    "| Epidemiology | infected/recovered population | transmission and recovery |"
   ]
  },
  {
   "cell_type": "markdown",
   "id": "e8089acc",
   "metadata": {
    "cell_style": "split"
   },
   "source": [
    "* $y$ can be a scalar or a vector"
   ]
  },
  {
   "cell_type": "markdown",
   "id": "1858f407",
   "metadata": {
    "cell_style": "center",
    "slideshow": {
     "slide_type": "slide"
    }
   },
   "source": [
    "## Solving differential equations\n"
   ]
  },
  {
   "cell_type": "markdown",
   "id": "87c81fd0",
   "metadata": {
    "cell_style": "split"
   },
   "source": [
    "### Linear equations\n",
    "\n",
    "$$ y' = A(t) y + \\text{sink}(t)/\\text{source}(t)$$\n",
    "\n",
    "* Autonomous if $A(t) \\equiv A$ and source independent of $t$: $ y' = A y + \\text{sink}/\\text{source}$\n",
    "* Non-autonomous otherwise\n",
    "\n",
    "* Suppose $y$ and $a = A$ are _scalars_:\n",
    "\n",
    "$$ y' = a y$$\n",
    "\n",
    "then there is an an _analytic solution_:\n",
    "\n",
    "$$y(t) = e^{at} y_0$$\n",
    "\n",
    "* We can do the same for systems\n",
    "\n",
    "$$ y(t) = e^{A t} y_0 $$\n",
    "\n",
    "### But what does it mean to exponentiate a matrix?\n",
    "\n",
    "Taylor series again!\n",
    "\n",
    "$$ e^A = 1 + A + \\frac{A^2}{2} + \\frac{A^3}{3!} + \\dotsb $$\n",
    "\n",
    "where here $1$ means the identity matrix $I$, and there are many [practical ways to compute it](https://bpb-us-e1.wpmucdn.com/blogs.cornell.edu/dist/c/9924/files/2021/10/19ways.pdf) (a paper co-authored by the founder of MATLAB).\n",
    "\n",
    "#### Exponentiate a diagonalizable matrix\n",
    "Suppose that the diagonalization $A = X \\Lambda X^{-1}$ exists, how do we derive a finite expression for the matrix exponential of $A$, i.e., $e^A$, using the scalar `exp` function?\n",
    "\n",
    "**Solution**:\n",
    "\n",
    "We have:\n",
    "$$ e^A = 1 + A + \\frac{A^2}{2} + \\frac{A^3}{3!} + \\dotsb $$\n",
    "\n",
    "$$A^n = (X \\Lambda X^{-1})^n = X \\Lambda X^{-1} \\cdot X \\Lambda X^{-1} \\cdot X \\Lambda X^{-1} \\cdot \\ldots \\cdot X \\Lambda X^{-1} = X \\Lambda^n X^{-1}$$\n",
    "\n",
    "Thus,\n",
    "\n",
    "$$\n",
    "e^A = X X^{-1} + X \\Lambda X^{-1} + X \\Lambda^2 X^{-1}/2 + \\dots\n",
    "$$\n",
    "\n",
    "Factoring out the $X$ and $X^{-1}$ on the left and right gives:\n",
    "\n",
    "$$e^A = X (I + \\Lambda  + \\Lambda^2/2 + \\dots) X^{-1} = X e^{\\Lambda}X^{-1}.$$\n",
    "\n"
   ]
  },
  {
   "cell_type": "markdown",
   "id": "ad344c00",
   "metadata": {
    "slideshow": {
     "slide_type": "slide"
    }
   },
   "source": [
    "## 2. Explicit methods for solving ODEs: Forward Euler method\n",
    "\n",
    "The simplest method for solving \n",
    "\n",
    "$$y'(t) = f(t,y)$$\n",
    "\n",
    "is to use numerical differentiation to approximate the derivative.\n",
    "\n",
    "Recall: We know the definition of the difference quotient from Calculus:\n",
    "\n",
    "$$y' = \\lim_{h\\to 0} \\frac{y(t+h) - y(t)}{h}$$\n",
    "\n",
    "Hence, we can use a **forward difference** formula:\n",
    "\n",
    "$$\n",
    "\\frac{\\partial {y^n}^F}{\\partial t} \\approx \\frac{ y^{n+1} - y^{n}}{h} + O(h) \\equiv \\frac{ y^{n+1} - y^{n}}{\\Delta t} + O(\\Delta t)\n",
    "$$\n",
    "\n",
    "this is a _first-order_ approximation, where $h \\equiv \\Delta t$ is the step size, and we have approximated the time domain (temporal axis) with uniform grid spacing $\\Delta t$, so that $y^n = n \\Delta t$, for $n = 0, \\ldots, N$.\n",
    "\n",
    "When $n=0$ we use the **initial condition** given: $y(t=0)=y(0)=y_0$\n",
    "\n",
    "$$ y' \\approx \\frac{y(h) - y(0)}{h} $$\n",
    "\n",
    "which yields \n",
    "\n",
    "$$ y' \\approx \\frac{y(h) - y(0)}{h} = f(0, y(0)) $$\n",
    "\n",
    "Hence, we have the solution estimate\n",
    "\n",
    "$$ \\tilde y(h) = y(0) + h f(0, y(0)) $$\n",
    "\n"
   ]
  },
  {
   "cell_type": "markdown",
   "id": "926c94a3",
   "metadata": {},
   "source": [
    "\n",
    "\n",
    "Let's try this on a scalar problem\n",
    "\n",
    "$$ y' = -k (y - \\cos t) $$\n",
    "\n",
    "where $k$ is a parameter controlling the rate at which the solution $y(t)$ is pulled toward the curve $\\cos t$."
   ]
  },
  {
   "cell_type": "code",
   "execution_count": null,
   "id": "cde76654",
   "metadata": {
    "cell_style": "split"
   },
   "outputs": [],
   "source": [
    "function ode_euler(f, y0; tfinal=10., h=0.1)\n",
    "    y = copy(y0)\n",
    "    t = 0.\n",
    "    thist = [t]\n",
    "    yhist = [y0]\n",
    "    while t < tfinal\n",
    "        tnext = min(t+h, tfinal)\n",
    "        h = tnext - t\n",
    "        y += h * f(t, y)\n",
    "        t = tnext\n",
    "        push!(thist, t)\n",
    "        push!(yhist, y)\n",
    "    end\n",
    "    thist, hcat(yhist...)\n",
    "end"
   ]
  },
  {
   "cell_type": "code",
   "execution_count": null,
   "id": "c1c87f6b",
   "metadata": {
    "cell_style": "split"
   },
   "outputs": [],
   "source": [
    "f1(t, y; k=5) = -k * (y .- cos(t))\n",
    "\n",
    "thist, yhist = ode_euler(f1, [1.], tfinal=10, h=.25)\n",
    "scatter(thist, yhist[1,:], label = \"Forward Euler\")\n",
    "plot!(cos, label = L\"\\cos(x)\")"
   ]
  },
  {
   "cell_type": "markdown",
   "id": "eedad8e0",
   "metadata": {
    "slideshow": {
     "slide_type": "slide"
    }
   },
   "source": [
    "### Forward Euler on a linear system\n",
    "\n",
    "If we have a system of ODEs:\n",
    "\n",
    "$$\n",
    "\\dot{\\mathbf{y}} = A \\mathbf{y}\n",
    "$$\n",
    "\n",
    "For example, a system of two first-order linear ODEs:\n",
    "\n",
    "\\begin{align}\n",
    "y_1' &= y_2\\\\\n",
    "y_2' &= - y_1\\\\\n",
    "\\end{align}\n",
    "\n",
    "In matrix form: \n",
    "\n",
    "\n",
    "$$ \\begin{bmatrix} y_1 \\\\ y_2 \\end{bmatrix}' = \\begin{bmatrix} 0 & 1 \\\\ -1 & 0 \\end{bmatrix} \\begin{bmatrix} y_1 \\\\ y_2 \\end{bmatrix}$$"
   ]
  },
  {
   "cell_type": "code",
   "execution_count": null,
   "id": "d9a8f791",
   "metadata": {
    "cell_style": "split"
   },
   "outputs": [],
   "source": [
    "f2(t, y) = [0 1; -1 0] * y\n",
    "\n",
    "thist, yhist = ode_euler(f2, [0., 1], h=.02, tfinal=10)\n",
    "scatter(thist, yhist', label = [L\"y_1\" L\"y_2\"])\n",
    "plot!([cos, sin], label = [L\"\\cos(x)\" L\"\\sin(x)\"])"
   ]
  },
  {
   "cell_type": "code",
   "execution_count": null,
   "id": "95eb6628",
   "metadata": {
    "cell_style": "split"
   },
   "outputs": [],
   "source": [
    "eigen([0 1; -1 0])"
   ]
  },
  {
   "cell_type": "markdown",
   "id": "e8f3bc6a",
   "metadata": {},
   "source": [
    "This problem has imaginary eigenvalues (the solution is an oscillator). Forward Euler on this problem is **not** the best choice: it is amplifying the oscillations!"
   ]
  },
  {
   "cell_type": "markdown",
   "id": "53e73e58",
   "metadata": {
    "slideshow": {
     "slide_type": "slide"
    }
   },
   "source": [
    "## 3. Higher-order time-stepping schemes: Runge-Kutta 4 (RK4)"
   ]
  },
  {
   "cell_type": "code",
   "execution_count": null,
   "id": "747257b9",
   "metadata": {
    "cell_style": "split"
   },
   "outputs": [],
   "source": [
    "thist, yhist = ode_rk_explicit(f2, [0., 1], h=0.5, tfinal=10)\n",
    "scatter(thist, yhist', label = [L\"y_1\" L\"y_2\"])\n",
    "plot!([cos, sin], size=(800, 500), label = [L\"\\cos(x)\" L\"\\sin(x)\"])"
   ]
  },
  {
   "cell_type": "markdown",
   "id": "b755e16c",
   "metadata": {
    "cell_style": "split"
   },
   "source": [
    "* Apparently it is possible to integrate this system using large time steps.\n",
    "* This method evaluates $f(t)$ _four times per step_, so the cost is about equal when the step size $h$ is 4x larger than forward Euler."
   ]
  },
  {
   "cell_type": "markdown",
   "id": "cb6eed68",
   "metadata": {},
   "source": [
    "But let's run it again with a larger step size\n",
    " "
   ]
  },
  {
   "cell_type": "code",
   "execution_count": null,
   "id": "ebb77eb0",
   "metadata": {},
   "outputs": [],
   "source": [
    "thist, yhist = ode_rk_explicit(f2, [0., 1], h=1, tfinal=10)\n",
    "scatter(thist, yhist', label = [L\"y_1\" L\"y_2\"])\n",
    "plot!([cos, sin], size=(800, 500), label = [L\"\\cos(x)\" L\"\\sin(x)\"])"
   ]
  },
  {
   "cell_type": "markdown",
   "id": "6201b60c",
   "metadata": {
    "slideshow": {
     "slide_type": "slide"
    }
   },
   "source": [
    "## 4. Stability\n",
    "\n",
    "To analyze stability, we use _Linear Stability Analysis (LSA)_.\n",
    "\n",
    "### Linear Stability Analysis\n",
    "\n",
    "Why did Euler diverge (even if slowly) while RK4 solved this problem accurately?\n",
    "\n",
    "And why do both methods diverge if the step size is too large?\n",
    "\n",
    "We can understand the convergence of methods by analyzing the test problem\n",
    "\n",
    "$$ y' = \\lambda y $$\n",
    "\n",
    "for different values of $\\lambda$ in the complex plane.\n",
    "\n",
    "One step of the Euler method with step size $h$ maps\n",
    "\n",
    "$$ y \\to y + h \\lambda y = \\underbrace{(1 + h \\lambda)}_{R(h \\lambda)} y .$$\n",
    "\n",
    "When does this map cause solutions to \"blow up\" and when is it stable?"
   ]
  },
  {
   "cell_type": "code",
   "execution_count": null,
   "id": "295efcde",
   "metadata": {
    "cell_style": "split"
   },
   "outputs": [],
   "source": [
    "function plot_stability(Rz, method; xlim=(-3, 2), ylim=(-1.5, 1.5))\n",
    "    x = xlim[1]:.02:xlim[2]\n",
    "    y = ylim[1]:.02:ylim[2]\n",
    "    plot(title=\"Stability: $method\", aspect_ratio=:equal, xlim=xlim, ylim=ylim)\n",
    "    heatmap!(x, y, (x, y) -> abs(Rz(x + 1im*y)), c=:bwr, clims=(0, 2))\n",
    "    plot!(x->0, color=:black, linewidth=1, label=:none)\n",
    "    plot!([0, 0], [ylim...], color=:black, linewidth=1, label=:none)\n",
    "end"
   ]
  },
  {
   "cell_type": "markdown",
   "id": "b0f21fa4",
   "metadata": {},
   "source": [
    "### Stability of Forward Euler"
   ]
  },
  {
   "cell_type": "code",
   "execution_count": null,
   "id": "f233ed2c",
   "metadata": {
    "cell_style": "split"
   },
   "outputs": [],
   "source": [
    "plot_stability(z -> 1 + z, \"Forward Euler\")"
   ]
  },
  {
   "cell_type": "markdown",
   "id": "708a2cb7",
   "metadata": {
    "slideshow": {
     "slide_type": "slide"
    }
   },
   "source": [
    "### Stability for RK4"
   ]
  },
  {
   "cell_type": "code",
   "execution_count": null,
   "id": "82563216",
   "metadata": {
    "cell_style": "split"
   },
   "outputs": [],
   "source": [
    "plot_stability(z -> rk_stability(4z, rk4), \"RK4\")\n"
   ]
  },
  {
   "cell_type": "code",
   "execution_count": null,
   "id": "653d9295",
   "metadata": {
    "cell_style": "split"
   },
   "outputs": [],
   "source": [
    "plot_stability(z -> rk_stability(2z, heun), \"Heun's method\")"
   ]
  },
  {
   "cell_type": "markdown",
   "id": "eabf6b5d",
   "metadata": {
    "cell_style": "center",
    "slideshow": {
     "slide_type": "slide"
    }
   },
   "source": [
    "## 5. Implicit methods: Backward Euler "
   ]
  },
  {
   "cell_type": "markdown",
   "id": "290a4108",
   "metadata": {
    "cell_style": "split",
    "slideshow": {
     "slide_type": ""
    }
   },
   "source": [
    "Recall that forward Euler is the step\n",
    "\n",
    "$$ \\tilde y(h) = y(0) + h f(0, y(0)) . $$\n",
    "\n",
    "This can be evaluated **explicitly**; all the terms on the right hand side are known so the approximation $\\tilde y(h)$ is computed merely by evaluating the right hand side.\n",
    "\n",
    "Let's consider an alternative, **backward Euler** (or \"implicit Euler\"). \n",
    "\n",
    "Recall the **forward difference** formula:\n",
    "\n",
    "$$\n",
    "\\frac{\\partial {y^n}^F}{\\partial t} \\approx \\frac{ y^{n+1} - y^{n}}{h} + O(h) \\equiv \\frac{ y^{n+1} - y^{n}}{\\Delta t} + O(\\Delta t)\n",
    "$$\n",
    "\n",
    "If instead we use the **backward difference** formula:\n",
    "\n",
    "$$\n",
    "\\frac{\\partial {y^{n}}^B}{\\partial t} \\approx \\frac{ y^{n} - y^{n-1}}{h} + O(h) \\equiv \\frac{ y^{n} - y^{n-1}}{\\Delta t} + O(\\Delta t)\n",
    "$$\n",
    "\n",
    "When $n=1$ we use the **initial condition** given: $y(t=t_0=0)=y(0)=y_0$\n",
    "\n",
    "$$ y'(t=t_1) \\approx \\frac{y(h) - y(0)}{h} $$\n",
    "\n",
    "which yields \n",
    "\n",
    "$$ y'(t=t_1) \\approx \\frac{y(h) - y(0)}{h} = f(t=t_1, y(t=t_1)) $$\n",
    "\n",
    "which yields to the solution estimate\n",
    "\n",
    "$$ \\tilde y(h) = y(0) + h f(h, \\tilde y(h)) . $$\n",
    "\n",
    "This is a (generally) _nonlinear_ equation for $\\tilde y(h)$."
   ]
  },
  {
   "cell_type": "markdown",
   "id": "a601ae0a",
   "metadata": {},
   "source": [
    "### Stability of backward Euler\n",
    "\n",
    "For the test equation $y' = \\lambda y$, the backward Euler method is\n",
    "\n",
    "$$ \\tilde y(h) = y(0) + h \\lambda \\tilde y(h) $$\n",
    "\n",
    "or\n",
    "\n",
    "$$ \\tilde y(h) = \\underbrace{\\frac{1}{1 - h \\lambda}}_{R(h\\lambda)} y(0) . $$"
   ]
  },
  {
   "cell_type": "code",
   "execution_count": null,
   "id": "c9e9d867",
   "metadata": {
    "cell_style": "split"
   },
   "outputs": [],
   "source": [
    "plot_stability(z -> 1/(1-z), \"Backward Euler\")"
   ]
  },
  {
   "cell_type": "markdown",
   "id": "f3a71738",
   "metadata": {
    "cell_style": "split",
    "slideshow": {
     "slide_type": "slide"
    }
   },
   "source": [
    "### Computing with implicit methods\n",
    "\n",
    "$$ \\tilde y(h) = y(0) + h f\\big(\\tilde y(h) \\big) $$"
   ]
  },
  {
   "cell_type": "markdown",
   "id": "0ece15d3",
   "metadata": {
    "cell_style": "split"
   },
   "source": [
    "* Linear solve for linear problem\n",
    "* Nonlinear (often Newton) solve for nonlinear problem\n",
    "* Need Jacobian or finite differencing"
   ]
  },
  {
   "cell_type": "code",
   "execution_count": null,
   "id": "c479bcf4",
   "metadata": {
    "cell_style": "split"
   },
   "outputs": [],
   "source": [
    "plot_stability(z -> Rz_theta(z, .5), \"Midpoint method\")"
   ]
  }
 ],
 "metadata": {
  "@webio": {
   "lastCommId": null,
   "lastKernelId": null
  },
  "celltoolbar": "Slideshow",
  "hide_code_all_hidden": false,
  "kernelspec": {
   "display_name": "Julia 1.10.6",
   "language": "julia",
   "name": "julia-1.10"
  },
  "language_info": {
   "file_extension": ".jl",
   "mimetype": "application/julia",
   "name": "julia",
   "version": "1.10.6"
  },
  "rise": {
   "enable_chalkboard": true
  }
 },
 "nbformat": 4,
 "nbformat_minor": 5
}
