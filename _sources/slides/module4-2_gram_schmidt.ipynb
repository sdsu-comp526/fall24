{
 "cells": [
  {
   "cell_type": "markdown",
   "id": "4159be0e",
   "metadata": {
    "hideCode": false,
    "hidePrompt": false,
    "slideshow": {
     "slide_type": "slide"
    }
   },
   "source": [
    "# 16) Gram-Schmidt and QR\n",
    "\n",
    "\n",
    "## Last time\n",
    "\n",
    "* Linear Algebra\n",
    "* Polynomial evaluation\n",
    "* Orthogonality\n",
    "\n",
    "## Today\n",
    "\n",
    " 1. Revisit orthogonality \n",
    " 2. Constructing orthogonal bases  \n",
    "   2.1 Orthogonal matrices  \n",
    "   2.2 Gram-Schmidt orthogonalization \n",
    " 3. QR factorization"
   ]
  },
  {
   "cell_type": "code",
   "execution_count": null,
   "id": "eb781a7a",
   "metadata": {
    "slideshow": {
     "slide_type": "skip"
    }
   },
   "outputs": [],
   "source": [
    "using LinearAlgebra\n",
    "using Plots\n",
    "using Polynomials\n",
    "default(linewidth=4, legendfontsize=12)\n",
    "\n",
    "function vander(x, k=nothing)\n",
    "    if isnothing(k)\n",
    "        k = length(x)\n",
    "    end\n",
    "    m = length(x)\n",
    "    V = ones(m, k)\n",
    "    for j in 2:k\n",
    "        V[:, j] = V[:, j-1] .* x\n",
    "    end\n",
    "    V\n",
    "end"
   ]
  },
  {
   "cell_type": "markdown",
   "id": "d32bf143",
   "metadata": {
    "slideshow": {
     "slide_type": "slide"
    }
   },
   "source": [
    "## 1. Revisit orthogonality\n",
    "### Polynomials can be orthogonal too!\n"
   ]
  },
  {
   "cell_type": "code",
   "execution_count": null,
   "id": "95341495",
   "metadata": {
    "cell_style": "split"
   },
   "outputs": [],
   "source": [
    "x = LinRange(-1, 1, 50)\n",
    "A = vander(x, 4)\n",
    "M = A * [.5 0 0 0; # 0.5\n",
    "         0  1 0 0;  # x\n",
    "         0  0 1 0]' # x^2\n",
    "# that is, M = [0.5 | x | x^2]\n",
    "scatter(x, M, label = [\"M_1\" \"M_2\" \"M_3\"])\n",
    "plot!(x, 0*x, label=:none, color=:black)"
   ]
  },
  {
   "cell_type": "markdown",
   "id": "fe22f024",
   "metadata": {
    "cell_style": "split"
   },
   "source": [
    "* Which inner product will be zero?\n",
    "\n",
    "  * Which functions are even and odd?\n",
    "\n",
    "### Pairwise inner product\n",
    "The pairwise inner products between two sets of vectors can be expressed by collecting the sets as columns in matrices and writing $A = X^T Y$ where $A_{i,j} = x_i^T y_j$.\n",
    "It follows from this definition that\n",
    "$$ (X^T Y)^T = Y^T X .$$"
   ]
  },
  {
   "cell_type": "code",
   "execution_count": null,
   "id": "e91d4294",
   "metadata": {
    "cell_style": "split"
   },
   "outputs": [],
   "source": [
    "M' * M"
   ]
  },
  {
   "cell_type": "markdown",
   "id": "d8563939",
   "metadata": {
    "slideshow": {
     "slide_type": "slide"
    }
   },
   "source": [
    "### Normalization and orthogonalization"
   ]
  },
  {
   "cell_type": "code",
   "execution_count": null,
   "id": "b3d58104",
   "metadata": {
    "cell_style": "split"
   },
   "outputs": [],
   "source": [
    "q1 = M[:,1]\n",
    "q1 /= norm(q1) # normalize q1\n",
    "Q = [q1 M[:, 2:end]]\n",
    "scatter(x, Q, label = [\"M_1/|M_1|\" \"M_2\" \"M_3\"])\n",
    "plot!(x, 0*x, label=:none, color=:black)"
   ]
  },
  {
   "cell_type": "code",
   "execution_count": null,
   "id": "411e0b89",
   "metadata": {
    "cell_style": "split"
   },
   "outputs": [],
   "source": [
    "Q' * Q # now the first entry of the Q' * Q matrix, after normalizing the first column vector of M, is 1"
   ]
  },
  {
   "cell_type": "markdown",
   "id": "c1bd8be2",
   "metadata": {
    "slideshow": {
     "slide_type": "slide"
    }
   },
   "source": [
    "## 2. Orthogonality\n",
    "\n",
    "### 2.1 Orthogonal matrices\n",
    "\n",
    "If two vectors $x$ and $y$ are such that $x^T y = 0$ then we say $x$ and $y$ are **orthogonal** (or \"$x$ is orthogonal to $y$\").\n",
    "\n",
    "A vector is said to be **normalized** if $\\lVert x \\rVert = 1$.\n",
    "If $x$ is orthogonal to $y$ and $\\lVert x \\rVert = \\lVert y \\rVert = 1$ then we say $x$ and $y$ are **orthonormal**.\n",
    "\n",
    "A square matrix with orthonormal columns is said to be an **orthogonal matrix** (or **orthonormal matrix**).\n",
    "\n",
    "We typically use $Q$ or $U$ and $V$ for matrices that are known/constructed to be orthogonal.\n",
    "\n",
    "Orthogonal matrices are always full rank -- the columns are linearly independent.\n",
    "\n",
    "The inverse of an orthogonal matrix is its transpose:\n",
    "$$ Q^T Q = Q Q^T = I . $$\n",
    "Orthogonal matrices are a powerful building block for robust numerical algorithms."
   ]
  },
  {
   "cell_type": "markdown",
   "id": "08572038",
   "metadata": {
    "slideshow": {
     "slide_type": "slide"
    }
   },
   "source": [
    "### 2.2 Gram-Schmidt orthogonalization\n",
    "\n",
    "For many applications, we find ourselves interested in the column spaces of a matrix $A$:\n",
    "\n",
    "$$\n",
    "\\langle a_1 \\rangle  \\subseteq \\langle a_1, a_2 \\rangle \\subseteq \\langle a_1, a_2, a_3 \\rangle \\ldots \n",
    "$$\n",
    "\n",
    "The idea of QR factorization is the construction of a sequence of orthonormal vectors, $q_1, q_2, \\ldots$ that span these successive spaces.\n",
    "\n",
    "Thus, suppose we want to find an orthogonal basis for the span of the columns of $A$:\n",
    "\n",
    "$$ \\Bigg[ a_1 \\Bigg| a_2 \\Bigg] = \\Bigg[ q_1 \\Bigg| q_2 \\Bigg] \\begin{bmatrix} r_{11} & r_{12} \\\\ 0 & r_{22} \\end{bmatrix} $$"
   ]
  },
  {
   "cell_type": "markdown",
   "id": "85a33f19",
   "metadata": {},
   "source": [
    "Given $a_1, a_2, \\dots$, we can construct vectors $q_1, q_2, \\ldots$ and entries $r_{ij}$, by an iterative process of successive orthogonalization."
   ]
  },
  {
   "cell_type": "markdown",
   "id": "bfe2f87a",
   "metadata": {
    "cell_style": "center",
    "slideshow": {
     "slide_type": "slide"
    }
   },
   "source": [
    "#### A naive algorithm"
   ]
  },
  {
   "cell_type": "code",
   "execution_count": null,
   "id": "fdc56e08",
   "metadata": {
    "cell_style": "split"
   },
   "outputs": [],
   "source": [
    "function gram_schmidt_naive(A)\n",
    "    m, n = size(A)\n",
    "    Q = zeros(m, n)\n",
    "    R = zeros(n, n)\n",
    "    for j in 1:n\n",
    "        v = A[:,j]\n",
    "        for k in 1:j-1\n",
    "            r = Q[:,k]' * v\n",
    "            v -= Q[:,k] * r\n",
    "            R[k,j] = r\n",
    "        end\n",
    "        R[j,j] = norm(v)\n",
    "        Q[:,j] = v / R[j,j]\n",
    "    end\n",
    "    Q, R\n",
    "end"
   ]
  },
  {
   "cell_type": "code",
   "execution_count": null,
   "id": "967f69c1",
   "metadata": {
    "cell_style": "split",
    "slideshow": {
     "slide_type": "fragment"
    }
   },
   "outputs": [],
   "source": [
    "A = vander(x, 4)\n",
    "Q, R = gram_schmidt_naive(A)\n",
    "@show norm(Q' * Q - I) # Q is indeed orthogonal\n",
    "@show norm(Q * R - A); # A is factored as the product of Q and R"
   ]
  },
  {
   "cell_type": "markdown",
   "id": "913dbe1e",
   "metadata": {
    "cell_style": "center",
    "slideshow": {
     "slide_type": "slide"
    }
   },
   "source": [
    "### What do orthogonal polynomials look like?\n",
    "\n",
    "Computations with orthogonal polynomials form the basis of _spectral methods_, one of the most powerful techniques for the numerical solution of partial differential equations (PDE). "
   ]
  },
  {
   "cell_type": "code",
   "execution_count": null,
   "id": "c5c93439",
   "metadata": {
    "scrolled": false
   },
   "outputs": [],
   "source": [
    "x = LinRange(-1, 1, 50)\n",
    "A = vander(x, 6)\n",
    "Q, R = gram_schmidt_naive(A)\n",
    "plot(x, Q, marker=:auto, legend=:none)"
   ]
  },
  {
   "cell_type": "markdown",
   "id": "e970788d",
   "metadata": {
    "slideshow": {
     "slide_type": "fragment"
    }
   },
   "source": [
    "What happens if we use more than 50 values of $x$? "
   ]
  },
  {
   "cell_type": "markdown",
   "id": "25b1f7e8",
   "metadata": {
    "cell_style": "center",
    "slideshow": {
     "slide_type": "slide"
    }
   },
   "source": [
    "#### Theorem:\n",
    "##### Every full-rank $m\\times n$ matrix ($m \\ge n$) has a unique reduced $Q R$ factorization with $R_{j,j} > 0$\n",
    "\n",
    "The algorithm we're using generates this positive matrix due to the line:\n",
    "```julia\n",
    "        R[j,j] = norm(v)\n",
    "```"
   ]
  },
  {
   "cell_type": "markdown",
   "id": "3c5838b3",
   "metadata": {
    "slideshow": {
     "slide_type": "slide"
    }
   },
   "source": [
    "### Solving equations using $QR = A$\n",
    "\n",
    "If $A x = b$ then $Rx = Q^T b$ (because Q is orthogonal)."
   ]
  },
  {
   "cell_type": "code",
   "execution_count": null,
   "id": "8ee71b61",
   "metadata": {},
   "outputs": [],
   "source": [
    "x1 = [-0.9, 0.1, 0.5, 0.8] # points where we know values\n",
    "y1 = [1, 2.4, -0.2, 1.3]\n",
    "scatter(x1, y1)\n",
    "Q, R = gram_schmidt_naive(vander(x1, 3))\n",
    "p = R \\ (Q' * y1)\n",
    "plot!(x, vander(x, 3) * p, label = \"\\$ V(x) p\\$\")"
   ]
  },
  {
   "cell_type": "markdown",
   "id": "39e38b8b",
   "metadata": {
    "slideshow": {
     "slide_type": "slide"
    }
   },
   "source": [
    "#### How accurate is it?"
   ]
  },
  {
   "cell_type": "code",
   "execution_count": null,
   "id": "94fd9d57",
   "metadata": {},
   "outputs": [],
   "source": [
    "m = 20\n",
    "x = LinRange(-1, 1, m) # let's include more columns in the Vandermonde matrix\n",
    "A = vander(x, m)\n",
    "Q, R = gram_schmidt_naive(A)\n",
    "@show norm(Q' * Q - I) # we are losing orthogonality; unstable algorithm\n",
    "@show norm(Q * R - A)"
   ]
  },
  {
   "cell_type": "markdown",
   "id": "efc14559",
   "metadata": {
    "slideshow": {
     "slide_type": "slide"
    }
   },
   "source": [
    "### A variant with more parallelism\n"
   ]
  },
  {
   "cell_type": "code",
   "execution_count": null,
   "id": "3ac43046",
   "metadata": {
    "cell_style": "split"
   },
   "outputs": [],
   "source": [
    "function gram_schmidt_classical(A)\n",
    "    m, n = size(A)\n",
    "    Q = zeros(m, n)\n",
    "    R = zeros(n, n)\n",
    "    for j in 1:n\n",
    "        v = A[:,j]\n",
    "        R[1:j-1,j] = Q[:,1:j-1]' * v\n",
    "        v -= Q[:,1:j-1] * R[1:j-1,j]\n",
    "        R[j,j] = norm(v)\n",
    "        Q[:,j] = v / norm(v)\n",
    "    end\n",
    "    Q, R\n",
    "end"
   ]
  },
  {
   "cell_type": "code",
   "execution_count": null,
   "id": "18964396",
   "metadata": {
    "cell_style": "split"
   },
   "outputs": [],
   "source": [
    "m = 20\n",
    "x = LinRange(-1, 1, m)\n",
    "A = vander(x, m)\n",
    "Q, R = gram_schmidt_classical(A)\n",
    "@show norm(Q' * Q - I) # really not orthogonal\n",
    "@show norm(Q * R - A)"
   ]
  },
  {
   "cell_type": "markdown",
   "id": "9143e194",
   "metadata": {},
   "source": [
    "### Right-looking modified Gram-Schmidt\n",
    "\n",
    "Each outer step of the modified Gram-Schmidt algorithm can be interpreted as a right-multiplication by a square upper-triangular matrix."
   ]
  },
  {
   "cell_type": "code",
   "execution_count": null,
   "id": "37069a64",
   "metadata": {},
   "outputs": [],
   "source": [
    "function gram_schmidt_modified(A)\n",
    "    m, n = size(A)\n",
    "    Q = copy(A)\n",
    "    R = zeros(n, n)\n",
    "    for j in 1:n\n",
    "        R[j,j] = norm(Q[:,j])\n",
    "        Q[:,j] /= R[j,j]\n",
    "        R[j,j+1:end] = Q[:,j]'*Q[:,j+1:end]\n",
    "        Q[:,j+1:end] -= Q[:,j]*R[j,j+1:end]'\n",
    "    end\n",
    "    Q, R\n",
    "end"
   ]
  },
  {
   "cell_type": "code",
   "execution_count": null,
   "id": "933cc1d5",
   "metadata": {},
   "outputs": [],
   "source": [
    "m = 20\n",
    "x = LinRange(-1, 1, m)\n",
    "A = vander(x, m)\n",
    "Q, R = gram_schmidt_modified(A)\n",
    "@show norm(Q' * Q - I) # better, in terms of orthogonality error\n",
    "@show norm(Q * R - A)"
   ]
  },
  {
   "cell_type": "markdown",
   "id": "11c40a2f",
   "metadata": {},
   "source": [
    "The order operations matter!\n",
    "\n",
    "### Classical versus modified?\n",
    "\n",
    "* Classical\n",
    "  * Really unstable, orthogonality error of size $1 \\gg \\epsilon_{\\text{machine}}$\n",
    "  * Don't need to know all the vectors in advance\n",
    "* Modified\n",
    "  * Needs to be right-looking for efficiency\n",
    "  * Less unstable, but orthogonality error $10^{-9} \\gg \\epsilon_{\\text{machine}}$"
   ]
  },
  {
   "cell_type": "code",
   "execution_count": null,
   "id": "58ee4f30",
   "metadata": {},
   "outputs": [],
   "source": [
    "m = 10\n",
    "x = LinRange(-1, 1, m)\n",
    "A = vander(x, m)\n",
    "Q, R = qr(A) # the Julia built-in\n",
    "@show norm(Q' * Q - I) # not so bad at all.."
   ]
  },
  {
   "cell_type": "code",
   "execution_count": null,
   "id": "b588d86c",
   "metadata": {},
   "outputs": [],
   "source": []
  }
 ],
 "metadata": {
  "@webio": {
   "lastCommId": "cd1892c1e2064686902fbdf399e6e3e3",
   "lastKernelId": "6eae1736-6531-4224-a6c2-38e7ff163d19"
  },
  "celltoolbar": "Slideshow",
  "hide_code_all_hidden": false,
  "kernelspec": {
   "display_name": "Julia 1.10.4",
   "language": "julia",
   "name": "julia-1.10"
  },
  "language_info": {
   "file_extension": ".jl",
   "mimetype": "application/julia",
   "name": "julia",
   "version": "1.10.4"
  },
  "rise": {
   "enable_chalkboard": true
  }
 },
 "nbformat": 4,
 "nbformat_minor": 5
}
