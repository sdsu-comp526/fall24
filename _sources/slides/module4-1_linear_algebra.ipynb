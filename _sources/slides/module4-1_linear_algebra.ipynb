{
 "cells": [
  {
   "cell_type": "markdown",
   "id": "4159be0e",
   "metadata": {
    "hideCode": false,
    "hidePrompt": false,
    "slideshow": {
     "slide_type": "slide"
    }
   },
   "source": [
    "# 14) Linear Algebra\n",
    "\n",
    "\n",
    "## Today\n",
    "\n",
    " 1. Matrices as linear transformations  \n",
    " 2. Polynomial evaluation and fitting  \n",
    " 3. Orthogonality"
   ]
  },
  {
   "cell_type": "code",
   "execution_count": 1,
   "id": "eb781a7a",
   "metadata": {
    "slideshow": {
     "slide_type": "skip"
    }
   },
   "outputs": [],
   "source": [
    "using Plots\n",
    "default(linewidth=4, legendfontsize=12)"
   ]
  },
  {
   "cell_type": "markdown",
   "id": "1f18c04a",
   "metadata": {
    "slideshow": {
     "slide_type": "slide"
    }
   },
   "source": [
    "## 1. Matrices as linear transformations\n",
    "\n",
    ":::{tip}\n",
    "Resource: An excellent resource for Linear Algebra is the MIT OpenCourseWare course by Prof. Gilbert Strang (now retired). Here is a link to the [Fall 2011](https://ocw.mit.edu/courses/18-06sc-linear-algebra-fall-2011/download/) undergraduate course edition. Other [video galleries](https://ocw.mit.edu/courses/18-06-linear-algebra-spring-2010/video_galleries/video-lectures/) of his lectures can also be found.\n",
    ":::\n",
    "\n",
    "Linear algebra is the study of linear transformations on vectors, which represent points in a finite dimensional space.  The matrix-vector product $y = A x$ is a linear combination of the columns of $A$.  The familiar definition,\n",
    "\n",
    "$$ y_i = \\sum_j A_{i,j} x_j $$\n",
    "\n",
    "can also be viewed as\n",
    "\n",
    "$$ y = \\Bigg[ A_{:,1} \\Bigg| A_{:,2} \\Bigg| \\dotsm \\Bigg] \\begin{bmatrix} x_1 \\\\ x_2 \\\\ \\vdots \\end{bmatrix}\n",
    "= \\Bigg[ A_{:,1} \\Bigg] x_1 + \\Bigg[ A_{:,2} \\Bigg] x_2 + \\dotsb . $$\n",
    "\n",
    "That is, a linear combination of the columns of A."
   ]
  },
  {
   "cell_type": "markdown",
   "id": "47d22601",
   "metadata": {
    "slideshow": {
     "slide_type": "slide"
    }
   },
   "source": [
    "### Math and Julia Notation\n",
    "\n",
    "The notation $A_{i,j}$ corresponds to the Julia syntax `A[i,j]` and the colon `:` means the entire range (row or column).  So $A_{:,j}$ is the $j$th column and $A_{i,:}$ is the $i$th row.  The corresponding Julia syntax is `A[:,j]` and `A[i,:]`.\n",
    "\n",
    "Julia has syntax for row vectors, column vectors, and arrays."
   ]
  },
  {
   "cell_type": "code",
   "execution_count": null,
   "id": "8000cc46",
   "metadata": {},
   "outputs": [],
   "source": [
    "[1 2 3] # a row vector"
   ]
  },
  {
   "cell_type": "code",
   "execution_count": null,
   "id": "8bbce88b",
   "metadata": {},
   "outputs": [],
   "source": [
    "[1; 2; 3] # a column vector"
   ]
  },
  {
   "cell_type": "code",
   "execution_count": null,
   "id": "ff3361f2",
   "metadata": {
    "cell_style": "split"
   },
   "outputs": [],
   "source": [
    "[1. 2 3; 4 5 6] # a 2x3 real matrix\n",
    "# compare with Python's syntax: np.array([[1, 2, 3], [4, 5, 6]])"
   ]
  },
  {
   "cell_type": "code",
   "execution_count": null,
   "id": "d35b1571",
   "metadata": {
    "cell_style": "split"
   },
   "outputs": [],
   "source": [
    "[1 2; 4 3]"
   ]
  },
  {
   "cell_type": "code",
   "execution_count": null,
   "id": "a32da848",
   "metadata": {
    "cell_style": "split"
   },
   "outputs": [],
   "source": [
    "[1 0; 0 2; 10 3]"
   ]
  },
  {
   "cell_type": "code",
   "execution_count": null,
   "id": "bc208ae0",
   "metadata": {
    "cell_style": "split"
   },
   "outputs": [],
   "source": [
    "[1; 2 + 1im; 3]' # ' is transpose, and for complex-valued matrices is the conjugate transpose (\"adjoint\")"
   ]
  },
  {
   "cell_type": "markdown",
   "id": "5ac73ba3",
   "metadata": {
    "slideshow": {
     "slide_type": "slide"
    }
   },
   "source": [
    "### Implementing multiplication by row"
   ]
  },
  {
   "cell_type": "code",
   "execution_count": null,
   "id": "32665740",
   "metadata": {
    "cell_style": "split"
   },
   "outputs": [],
   "source": [
    "function matmult1(A, x)\n",
    "    m, n = size(A)\n",
    "    y = zeros(m)\n",
    "    for i in 1:m # row index first, i.e., for each row\n",
    "        for j in 1:n # we iterate over the columns\n",
    "            y[i] += A[i,j] * x[j] # we apply the familiar definition\n",
    "        end\n",
    "    end\n",
    "    y\n",
    "end\n"
   ]
  },
  {
   "cell_type": "code",
   "execution_count": null,
   "id": "3ff38e39",
   "metadata": {},
   "outputs": [],
   "source": [
    "A = reshape(1.:12, 3, 4) # a 3x4 matrix with the numbers 1:12"
   ]
  },
  {
   "cell_type": "code",
   "execution_count": null,
   "id": "f1c6abe0",
   "metadata": {},
   "outputs": [],
   "source": [
    "x = [10., 0, 0, 0]"
   ]
  },
  {
   "cell_type": "code",
   "execution_count": null,
   "id": "7d8f619a",
   "metadata": {},
   "outputs": [],
   "source": [
    "matmult1(A, x)"
   ]
  },
  {
   "cell_type": "code",
   "execution_count": null,
   "id": "1e791ea6",
   "metadata": {
    "cell_style": "split"
   },
   "outputs": [],
   "source": [
    "# Dot product\n",
    "A[2, :]' * x"
   ]
  },
  {
   "cell_type": "code",
   "execution_count": null,
   "id": "a0cf9482",
   "metadata": {
    "cell_style": "split"
   },
   "outputs": [],
   "source": [
    "function matmult2(A, x)\n",
    "    m, n = size(A)\n",
    "    y = zeros(m)\n",
    "    for i in 1:m # iterate over rows of A\n",
    "        y[i] = A[i,:]' * x # this way we use the dot product between the transposed row of A and the whole x\n",
    "    end\n",
    "    y\n",
    "end\n",
    "\n",
    "matmult2(A, x)"
   ]
  },
  {
   "cell_type": "markdown",
   "id": "e9a8289a",
   "metadata": {},
   "source": [
    "Curiosity: which one is faster? Which one takes more allocations?\n"
   ]
  },
  {
   "cell_type": "code",
   "execution_count": null,
   "id": "695a2b1d",
   "metadata": {},
   "outputs": [],
   "source": [
    "@time matmult1(A,x)\n",
    "@time matmult2(A,x)"
   ]
  },
  {
   "cell_type": "markdown",
   "id": "4f3af7b3",
   "metadata": {
    "slideshow": {
     "slide_type": "slide"
    }
   },
   "source": [
    "### Implementing multiplication by column\n"
   ]
  },
  {
   "cell_type": "code",
   "execution_count": null,
   "id": "12c1dea5",
   "metadata": {
    "cell_style": "split"
   },
   "outputs": [],
   "source": [
    "function matmult3(A, x)\n",
    "    m, n = size(A)\n",
    "    y = zeros(m)\n",
    "    for j in 1:n # iterate over columns of A\n",
    "        y += A[:, j] * x[j]\n",
    "    end\n",
    "    y\n",
    "end\n",
    "\n",
    "matmult3(A, x)"
   ]
  },
  {
   "cell_type": "code",
   "execution_count": null,
   "id": "8110ed83",
   "metadata": {},
   "outputs": [],
   "source": [
    "@time matmult3(A, x)"
   ]
  },
  {
   "cell_type": "code",
   "execution_count": null,
   "id": "b573daf7",
   "metadata": {
    "cell_style": "split"
   },
   "outputs": [],
   "source": [
    "A * x # built-in matrix-vector multiply"
   ]
  },
  {
   "cell_type": "code",
   "execution_count": null,
   "id": "00a557e1",
   "metadata": {},
   "outputs": [],
   "source": [
    "@time A * x  # We'll use this version"
   ]
  },
  {
   "cell_type": "markdown",
   "id": "713feb52",
   "metadata": {},
   "source": [
    "Check the standard operations [documentation page](https://docs.julialang.org/en/v1/stdlib/LinearAlgebra/#Standard-functions)."
   ]
  },
  {
   "cell_type": "markdown",
   "id": "ffa46c2c",
   "metadata": {
    "slideshow": {
     "slide_type": "slide"
    }
   },
   "source": [
    "## 2. Polynomial evaluation \n",
    "### Polynomial evaluation is (continuous) linear algebra\n",
    "We can evaluate polynomials using matrix-vector multiplication.\n",
    "For example,\n",
    "$$ - 3x + 5x^3 = \\Bigg[ 1 \\Bigg|\\, x \\Bigg|\\, x^2 \\,\\Bigg|\\, x^3 \\Bigg] \\begin{bmatrix}0 \\\\ -3 \\\\ 0 \\\\ 5 \\end{bmatrix} . $$"
   ]
  },
  {
   "cell_type": "code",
   "execution_count": null,
   "id": "a7e1f3dc",
   "metadata": {
    "cell_style": "split"
   },
   "outputs": [],
   "source": [
    "using Pkg\n",
    "Pkg.add(\"Polynomials\")\n",
    "\n",
    "using Polynomials\n",
    "P(x) = Polynomial(x)\n",
    "\n",
    "p = [0, -3, 0, 5] # vector of coefficients for the canonical basis\n",
    "q = [1, 2, 3, 4]\n",
    "@show f = P(p)\n",
    "@show g = P(q)\n",
    "h = f + g\n",
    "@show h\n",
    "@show P(p+q) # we can see that the polynomial evaluation as a linear combination (of matrix columns) is a linear transformation!\n",
    "x = [0., 1, 2]\n",
    "h.(x) # can be applied to each element of a vector with the dot operator"
   ]
  },
  {
   "cell_type": "code",
   "execution_count": null,
   "id": "3c90d1af",
   "metadata": {
    "cell_style": "split"
   },
   "outputs": [],
   "source": [
    "plot(h, legend=:bottomright, xlim=(-2, 2))"
   ]
  },
  {
   "cell_type": "markdown",
   "id": "68418fd7",
   "metadata": {
    "slideshow": {
     "slide_type": "slide"
    }
   },
   "source": [
    "### Polynomial evaluation is (discrete) linear algebra"
   ]
  },
  {
   "cell_type": "code",
   "execution_count": null,
   "id": "6fdc3793",
   "metadata": {
    "cell_style": "split"
   },
   "outputs": [],
   "source": [
    "V = [one.(x) x x.^2 x.^3] # Vandermonde matrix"
   ]
  },
  {
   "cell_type": "code",
   "execution_count": null,
   "id": "a7bd6f28",
   "metadata": {
    "cell_style": "split"
   },
   "outputs": [],
   "source": [
    "V * p + V * q # same as h.(x)"
   ]
  },
  {
   "cell_type": "code",
   "execution_count": null,
   "id": "c18070be",
   "metadata": {
    "cell_style": "split"
   },
   "outputs": [],
   "source": [
    "V * (p + q) # again, matrix multiplication is a linear transformation"
   ]
  },
  {
   "cell_type": "markdown",
   "id": "bcac861a",
   "metadata": {
    "slideshow": {
     "slide_type": "slide"
    }
   },
   "source": [
    "### Vandermonde matrices\n",
    "\n",
    "A [Vandermonde matrix](https://en.wikipedia.org/wiki/Vandermonde_matrix) is one whose columns are polynomials (monomials) evaluated at discrete points.\n",
    "\n",
    "$$V(x) = \\begin{bmatrix} 1 \\Bigg| x \\Bigg| x^2 \\Bigg| x^3 \\Bigg| \\dotsb \\end{bmatrix}$$"
   ]
  },
  {
   "cell_type": "code",
   "execution_count": null,
   "id": "55291bbf",
   "metadata": {
    "cell_style": "split"
   },
   "outputs": [],
   "source": [
    "function vander(x, k=nothing)\n",
    "    if isnothing(k)\n",
    "        k = length(x)\n",
    "    end\n",
    "    m = length(x)\n",
    "    V = ones(m, k)\n",
    "    for j in 2:k\n",
    "        V[:, j] = V[:, j-1] .* x\n",
    "    end\n",
    "    V\n",
    "end"
   ]
  },
  {
   "cell_type": "code",
   "execution_count": null,
   "id": "6151d57b",
   "metadata": {
    "cell_style": "split"
   },
   "outputs": [],
   "source": [
    "@show x = LinRange(-1, 1, 50)\n",
    "V = vander(x, 4)\n",
    "scatter(x, V, legend=:bottomright, label = [\"V_1\" \"V_2\" \"V_3\" \"V_4\"])"
   ]
  },
  {
   "cell_type": "markdown",
   "id": "ce88943a",
   "metadata": {
    "slideshow": {
     "slide_type": "slide"
    }
   },
   "source": [
    "### Fitting (polynomial interpolation) is linear algebra\n",
    "\n",
    "$$ \\underbrace{\\begin{bmatrix} 1 \\Bigg| x \\Bigg| x^2 \\Bigg| x^3 \\Bigg| \\dotsb \\end{bmatrix}}_{V(x)} \\Big[ p \\Big] = \\Bigg[ y \\Bigg]$$"
   ]
  },
  {
   "cell_type": "code",
   "execution_count": null,
   "id": "451865ac",
   "metadata": {
    "cell_style": "split"
   },
   "outputs": [],
   "source": [
    "x1 = [-.9, 0.1, .5, .8]\n",
    "y1 = [1, 2.4, -.2, 1.3]\n",
    "scatter(x1, y1, markersize=8)"
   ]
  },
  {
   "cell_type": "code",
   "execution_count": null,
   "id": "62a84cfe",
   "metadata": {
    "cell_style": "split"
   },
   "outputs": [],
   "source": [
    "V = vander(x1)\n",
    "@show size(V)\n",
    "p = V \\ y1 # write y1 in the polynomial basis; left-division, read V^{-1} * y1 (like solving p V = y1)\n",
    "scatter(x1, y1, markersize=8, xlims=(-1, 1))\n",
    "# plot!(P(p), label=\"P(p)\")\n",
    "plot!(x, vander(x, 4) * p, label=\"\\$ V(x) p\\$\", linestyle=:dash)"
   ]
  },
  {
   "cell_type": "markdown",
   "id": "17d2ea90",
   "metadata": {
    "slideshow": {
     "slide_type": "slide"
    }
   },
   "source": [
    "### Some common terminology\n",
    "\n",
    "* The **range** of $A$ is the space spanned by its columns.  This definition coincides with the range of a function $f(x)$ when $f(x) = A x$.\n",
    "* The (right) **nullspace** of $A$ is the space of vectors $x$ such that $A x = 0$.\n",
    "* The **rank** of $A$ is the dimension of its range.\n",
    "* A matrix has **full rank** if the nullspace of either $A$ or $A^T$ is empty (only the 0 vector).  Equivalently, if all the columns of $A$ (or $A^T$) are linearly independent.\n",
    "* A **nonsingular** (or **invertible**) matrix is a square matrix of full rank.  We call the inverse $A^{-1}$ and it satisfies $A^{-1} A = A A^{-1} = I$."
   ]
  },
  {
   "cell_type": "markdown",
   "id": "e5269948",
   "metadata": {
    "cell_style": "split",
    "slideshow": {
     "slide_type": "slide"
    }
   },
   "source": [
    "$\\DeclareMathOperator{\\rank}{rank} \\DeclareMathOperator{\\null}{null} $\n",
    "\n",
    "#### [Poll 15.1](https://www.polleverywhere.com/multiple_choice_polls/WUil3iBOYpi6MfryOa5OT): If $A \\in \\mathbb{R}^{m\\times m}$, which of these doesn't belong?\n",
    "\n",
    "1. $A$ has an inverse, $A^{-1}$\n",
    "2. $\\rank (A) = m$\n",
    "3. $\\null(A) = \\{0\\}$\n",
    "4. $A A^T = A^T A$\n",
    "5. $\\det(A) \\ne 0$\n",
    "6. $A x = 0$ implies that $x = 0$"
   ]
  },
  {
   "cell_type": "code",
   "execution_count": null,
   "id": "ecf60702",
   "metadata": {
    "cell_style": "split",
    "slideshow": {
     "slide_type": "fragment"
    }
   },
   "outputs": [],
   "source": [
    "Pkg.add(\"LinearAlgebra\")\n",
    "using LinearAlgebra\n",
    "\n",
    "A = rand(4, 4)\n",
    "B = A' * A - A * A' # no. 4! (only valid for orthogonal matrices - more later)\n",
    "@show B\n",
    "det(A)"
   ]
  },
  {
   "cell_type": "markdown",
   "id": "efa97478",
   "metadata": {
    "slideshow": {
     "slide_type": "slide"
    }
   },
   "source": [
    "### What is an inverse?\n",
    "\n",
    "When we write $x = A^{-1} y$, we mean that $x$ is the unique vector such that $A x = y$.\n",
    "(It is rare that we explicitly compute a matrix $A^{-1}$, though [it's not as \"bad\"](https://arxiv.org/abs/1201.6035) as people may have told you.)\n",
    "A vector $y$ is equivalent to $\\sum_i e_i y_i$ where $e_i$ are columns of the identity.\n",
    "Meanwhile, $x = A^{-1} y$ means that we are expressing that same vector $y$ in the basis of the columns of $A$, i.e., $\\sum_i A_{:,i} x_i$.\n"
   ]
  },
  {
   "cell_type": "code",
   "execution_count": null,
   "id": "f44d4a40",
   "metadata": {
    "cell_style": "split"
   },
   "outputs": [],
   "source": [
    "using LinearAlgebra\n",
    "A = rand(4, 4)"
   ]
  },
  {
   "cell_type": "code",
   "execution_count": null,
   "id": "6d5610a3",
   "metadata": {
    "cell_style": "split"
   },
   "outputs": [],
   "source": [
    "A \\ A # left-division, read A^{-1} * A; notice I (all 1's on the diagonal, and numerically 0's elsewhere)"
   ]
  },
  {
   "cell_type": "code",
   "execution_count": null,
   "id": "33f6511a",
   "metadata": {
    "cell_style": "split"
   },
   "outputs": [],
   "source": [
    "inv(A) * A"
   ]
  },
  {
   "cell_type": "markdown",
   "id": "7a8eb495",
   "metadata": {
    "slideshow": {
     "slide_type": "slide"
    }
   },
   "source": [
    "## 3. Orthogonality\n",
    "\n",
    "The **inner product**\n",
    "$$ x^T y = \\sum_i x_i y_i $$\n",
    "of real vectors (or columns of a matrix) tells us about their magnitude and about the angle.\n",
    "The **norm** is induced by the inner product,\n",
    "$$ \\lVert x \\rVert = \\sqrt{x^T x} $$\n",
    "and the angle $\\theta$ is defined by\n",
    "$$ \\cos \\theta = \\frac{x^T y}{\\lVert x \\rVert \\, \\lVert y \\rVert} . $$\n",
    "Inner products are **bilinear**, which means that they satisfy some convenient algebraic properties\n",
    "$$ \\begin{split}\n",
    "(x + y)^T z &= x^T z + y^T z \\\\\n",
    "x^T (y + z) &= x^T y + x^T z \\\\\n",
    "(\\alpha x)^T (\\beta y) &= \\alpha \\beta x^T y \\\\\n",
    "\\end{split} . $$"
   ]
  },
  {
   "cell_type": "markdown",
   "id": "343e1be5",
   "metadata": {
    "slideshow": {
     "slide_type": "slide"
    }
   },
   "source": [
    "### Examples with inner products"
   ]
  },
  {
   "cell_type": "code",
   "execution_count": null,
   "id": "8d795390",
   "metadata": {
    "cell_style": "split"
   },
   "outputs": [],
   "source": [
    "x = [0, 1]\n",
    "y = [1, 1]\n",
    "@show x' * y\n",
    "@show y' * x;"
   ]
  },
  {
   "cell_type": "code",
   "execution_count": null,
   "id": "58505af3",
   "metadata": {
    "cell_style": "split"
   },
   "outputs": [],
   "source": [
    "ϕ = pi/6\n",
    "y = [cos(ϕ), sin(ϕ)]\n",
    "cos_θ = x'*y / (norm(x) * norm(y))\n",
    "@show cos_θ\n",
    "@show cos(ϕ-pi/2);"
   ]
  },
  {
   "cell_type": "markdown",
   "id": "239ef511",
   "metadata": {
    "slideshow": {
     "slide_type": "slide"
    }
   },
   "source": [
    "### Polynomials can be orthogonal too!\n"
   ]
  },
  {
   "cell_type": "code",
   "execution_count": null,
   "id": "95341495",
   "metadata": {
    "cell_style": "split"
   },
   "outputs": [],
   "source": [
    "x = LinRange(-1, 1, 50)\n",
    "A = vander(x, 4)\n",
    "M = A * [.5 0 0 0; # 0.5\n",
    "         0  1 0 0;  # x\n",
    "         0  0 1 0]' # x^2\n",
    "# that is, M = [0.5 | x | x^2]\n",
    "scatter(x, M, label = [\"M_1\" \"M_2\" \"M_3\"])\n",
    "plot!(x, 0*x, label=:none, color=:black)"
   ]
  },
  {
   "cell_type": "markdown",
   "id": "fe22f024",
   "metadata": {
    "cell_style": "split"
   },
   "source": [
    "* Which inner product will be zero?\n",
    "\n",
    "  * Which functions are even and odd?"
   ]
  },
  {
   "cell_type": "markdown",
   "id": "ffae59ed",
   "metadata": {
    "slideshow": {
     "slide_type": "slide"
    }
   },
   "source": [
    "### Polynomial inner products"
   ]
  },
  {
   "cell_type": "code",
   "execution_count": null,
   "id": "3c8c7db8",
   "metadata": {
    "cell_style": "split"
   },
   "outputs": [],
   "source": [
    "M[:,1]' * M[:,2]"
   ]
  },
  {
   "cell_type": "code",
   "execution_count": null,
   "id": "9ee5e1f7",
   "metadata": {
    "cell_style": "split"
   },
   "outputs": [],
   "source": [
    "M[:,1]' * M[:,3]"
   ]
  },
  {
   "cell_type": "code",
   "execution_count": null,
   "id": "68ad1630",
   "metadata": {
    "cell_style": "split"
   },
   "outputs": [],
   "source": [
    "M[:,2]' * M[:,3]"
   ]
  }
 ],
 "metadata": {
  "@webio": {
   "lastCommId": "cd1892c1e2064686902fbdf399e6e3e3",
   "lastKernelId": "6eae1736-6531-4224-a6c2-38e7ff163d19"
  },
  "celltoolbar": "Slideshow",
  "hide_code_all_hidden": false,
  "kernelspec": {
   "display_name": "Julia 1.10.4",
   "language": "julia",
   "name": "julia-1.10"
  },
  "language_info": {
   "file_extension": ".jl",
   "mimetype": "application/julia",
   "name": "julia",
   "version": "1.10.4"
  },
  "rise": {
   "enable_chalkboard": true
  }
 },
 "nbformat": 4,
 "nbformat_minor": 5
}
