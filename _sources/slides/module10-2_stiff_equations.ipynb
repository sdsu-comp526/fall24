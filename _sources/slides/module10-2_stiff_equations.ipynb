{
 "cells": [
  {
   "cell_type": "markdown",
   "id": "4159be0e",
   "metadata": {
    "hideCode": false,
    "hidePrompt": false,
    "slideshow": {
     "slide_type": "slide"
    }
   },
   "source": [
    "# 39) Stiff Equations\n",
    "\n",
    "## Last time\n",
    "\n",
    "* Ordinary differential equations (ODE)\n",
    "* Stability of ODEs\n",
    "* Explicit methods for solving ODE\n",
    "* Linear Stability Analysis\n",
    "* Numerical stability of ODEs\n",
    "\n",
    "## Today\n",
    "\n",
    "1. The $\\theta$ methods\n",
    "2. $A$-stability\n",
    "3. $L$-stability\n",
    "4. Examples of PDEs\n",
    "5. Stiff equations\n",
    "6. Adaptive time integrators (or time stepping schemes)\n"
   ]
  },
  {
   "cell_type": "code",
   "execution_count": null,
   "id": "eb781a7a",
   "metadata": {
    "slideshow": {
     "slide_type": "skip"
    }
   },
   "outputs": [],
   "source": [
    "using LinearAlgebra\n",
    "using Plots\n",
    "default(linewidth=4, legendfontsize=12)\n",
    "using LaTeXStrings\n",
    "\n",
    "struct RKTable\n",
    "    A::Matrix\n",
    "    b::Vector\n",
    "    c::Vector\n",
    "    function RKTable(A, b)\n",
    "        s = length(b)\n",
    "        A = reshape(A, s, s)\n",
    "        c = vec(sum(A, dims=2))\n",
    "        new(A, b, c)\n",
    "    end\n",
    "end\n",
    "\n",
    "function rk_stability(z, rk)\n",
    "    s = length(rk.b)\n",
    "    1 + z * rk.b' * ((I - z*rk.A) \\ ones(s))\n",
    "end\n",
    "\n",
    "rk4 = RKTable([0 0 0 0; .5 0 0 0; 0 .5 0 0; 0 0 1 0], [1, 2, 2, 1] / 6)\n",
    "heun = RKTable([0 0; 1 0], [.5, .5])\n",
    "Rz_theta(z, theta) = (1 + (1 - theta)*z) / (1 - theta*z)\n",
    "\n",
    "function ode_rk_explicit(f, u0; tfinal=1, h=0.1, table=rk4)\n",
    "    u = copy(u0)\n",
    "    t = 0.\n",
    "    n, s = length(u), length(table.c)\n",
    "    fY = zeros(n, s)\n",
    "    thist = [t]\n",
    "    uhist = [u0]\n",
    "    while t < tfinal\n",
    "        tnext = min(t+h, tfinal)\n",
    "        h = tnext - t\n",
    "        for i in 1:s\n",
    "            ti = t + h * table.c[i]\n",
    "            Yi = u + h * sum(fY[:,1:i-1] * table.A[i,1:i-1], dims=2)\n",
    "            fY[:,i] = f(ti, Yi)\n",
    "        end\n",
    "        u += h * fY * table.b\n",
    "        t = tnext\n",
    "        push!(thist, t)\n",
    "        push!(uhist, u)\n",
    "    end\n",
    "    thist, hcat(uhist...)\n",
    "end"
   ]
  },
  {
   "cell_type": "markdown",
   "id": "1bcd691a",
   "metadata": {
    "slideshow": {
     "slide_type": "slide"
    }
   },
   "source": [
    "# Ordinary Differential Equations\n",
    "\n",
    "Given initial condition $y_0 = y(t=0)$, find $y(t)$ for $t > 0$ that satisfies\n",
    "\n",
    "$$ y' \\equiv \\dot y \\equiv \\frac{\\partial y}{\\partial t} = f(t, y) $$"
   ]
  },
  {
   "cell_type": "markdown",
   "id": "f0fb11e0",
   "metadata": {
    "cell_style": "split"
   },
   "source": [
    "| Application | $y$ | $f$ |\n",
    "| --- | --- | --- |\n",
    "| Orbital dynamics | position, momentum | conservation of momentum|\n",
    "| Chemical reactions | concentration | conservation of atoms |\n",
    "| Epidemiology | infected/recovered population | transmission and recovery |"
   ]
  },
  {
   "cell_type": "markdown",
   "id": "e8089acc",
   "metadata": {
    "cell_style": "split"
   },
   "source": [
    "* $y$ can be a scalar or a vector"
   ]
  },
  {
   "cell_type": "markdown",
   "id": "1858f407",
   "metadata": {
    "cell_style": "center",
    "slideshow": {
     "slide_type": "slide"
    }
   },
   "source": [
    "## Recap on solving differential equations\n"
   ]
  },
  {
   "cell_type": "markdown",
   "id": "1d2ffb98",
   "metadata": {
    "cell_style": "split",
    "slideshow": {
     "slide_type": "fragment"
    }
   },
   "source": [
    "### Recap on linear equations\n",
    "\n",
    "$$ y' = A(t) y + \\text{sink}(t)/\\text{source}(t)$$\n",
    "\n",
    "* Autonomous if $A(t) \\equiv A$ and source independent of $t$: $ y' = A y + \\text{sink}/\\text{source}$\n",
    "* Non-autonomous otherwise\n",
    "\n",
    "* Suppose $y$ and $a = A$ are _scalars_:\n",
    "\n",
    "$$ y' = a y$$\n",
    "\n",
    "then there is an an _analytic solution_:\n",
    "\n",
    "$$y(t) = e^{at} y_0$$\n",
    "\n",
    "* We can do the same for systems\n",
    "\n",
    "$$ y(t) = e^{A t} y_0 $$\n",
    "\n",
    "### But what does it mean to exponentiate a matrix?\n",
    "\n",
    "Taylor series again!\n",
    "\n",
    "$$ e^A = 1 + A + \\frac{A^2}{2} + \\frac{A^3}{3!} + \\dotsb $$\n",
    "\n",
    "where here $1$ means the identity matrix $I$, and there are many [practical ways to compute it](https://bpb-us-e1.wpmucdn.com/blogs.cornell.edu/dist/c/9924/files/2021/10/19ways.pdf) (a paper co-authored by the founder of MATLAB).\n",
    "\n",
    "#### Exponentiate a diagonalizable matrix\n",
    "Suppose that the diagonalization $A = X \\Lambda X^{-1}$ exists, how do we derive a finite expression for the matrix exponential of $A$, i.e., $e^A$, using the scalar `exp` function?\n",
    "\n",
    "**Solution**:\n",
    "\n",
    "We have:\n",
    "$$ e^A = 1 + A + \\frac{A^2}{2} + \\frac{A^3}{3!} + \\dotsb $$\n",
    "\n",
    "$$A^n = (X \\Lambda X^{-1})^n = X \\Lambda X^{-1} \\cdot X \\Lambda X^{-1} \\cdot X \\Lambda X^{-1} \\cdot \\ldots \\cdot X \\Lambda X^{-1} = X \\Lambda^n X^{-1}$$\n",
    "\n",
    "Thus,\n",
    "\n",
    "$$\n",
    "e^A = X X^{-1} + X \\Lambda X^{-1} + X \\Lambda^2 X^{-1}/2 + \\dots\n",
    "$$\n",
    "\n",
    "Factoring out the $X$ and $X^{-1}$ on the left and right gives:\n",
    "\n",
    "$$e^A = X (I + \\Lambda  + \\Lambda^2/2 + \\dots) X^{-1} = X e^{\\Lambda}X^{-1}.$$\n",
    "\n",
    "### Stability of ODEs\n",
    "\n",
    "A solution of the ODE \n",
    "\n",
    "$$ y' = f(t, y)\n",
    "$$\n",
    "\n",
    "is **stable** if for every $\\varepsilon > 0$ there is a $\\delta > 0$ s. t. if $\\hat y(t)$ satisfies the ODE and $ \\hat y(t_0) − y(t_0) \\leq \\delta$ then $|| \\hat y(t) - y(t)|| \\leq \\varepsilon$ for all $t \\geq t_0$,\n",
    "\n",
    "that is, it rules out exponential divergence if initial value is perturbed.\n",
    "\n",
    "There are different scenarios:\n",
    "\n",
    "- **Asymptotically stable solution**: $|| \\hat y(t) - y(t)|| \\rightarrow 0 $ as $t \\rightarrow \\infty$\n",
    "\n",
    "![Asymptotically stable ODE.](../img/asymptotically_stable.png)\n",
    "\n",
    "- **Stable solution, but not asymptotically so**: \n",
    "\n",
    "![Stable ODE.](../img/stable.png)\n",
    "\n",
    "- **Unstable solution**: \n",
    "\n",
    "![Unstable ODE.](../img/unstable.png)\n",
    "\n",
    "#### Determining stability\n",
    "\n",
    "To determine stability of an ODE, we think of the simpler case of a linear, homogenous system $ y' = A y $, or even simpler, where we have only a constant $\\lambda$ multiplied by $y$. This is called a \"test\" equation:\n",
    "\n",
    "$$\n",
    "y' = \\lambda y .\n",
    "$$\n",
    "\n",
    "We know this has an analytic solution $y(t) = y_0 e^{\\lambda t}$, for an initial condition $y(0)=y_0$.\n",
    "\n",
    "- If $\\lambda > 0$, **exponential divergence**: every solution is unstable.\n",
    "\n",
    "- $\\lambda < 0$, **asymptotical stability**: every solution is stable as $t \\rightarrow \\infty$.\n",
    "\n",
    "- If $\\lambda $ is complex:\n",
    "  * $e^{\\lambda t} = e^{a t} (\\cos(b t ) + i \\sin( b t))$ \n",
    "  * $Re(\\lambda) = a$. This is the oscillating component multiplied by a real amplification factor\n",
    "    - $Re(\\lambda) > 0$: unstable (solution grows)\n",
    "    - $Re(\\lambda) < 0$: stable (solution decays)\n",
    "    - $Re(\\lambda) = 0$: oscillating (solution oscillates)\n"
   ]
  },
  {
   "cell_type": "markdown",
   "id": "ad344c00",
   "metadata": {
    "slideshow": {
     "slide_type": "slide"
    }
   },
   "source": [
    "## Recap on explicit methods for solving ODEs: Forward Euler method\n",
    "\n",
    "The simplest method for solving \n",
    "\n",
    "$$y'(t) = f(t,y)$$\n",
    "\n",
    "is to use numerical differentiation to approximate the derivative.\n",
    "\n",
    "Recall: We know the definition of the difference quotient from Calculus:\n",
    "\n",
    "$$y' = \\lim_{h\\to 0} \\frac{y(t+h) - y(t)}{h}$$\n",
    "\n",
    "Hence, we can use a **forward difference** formula:\n",
    "\n",
    "$$\n",
    "\\frac{\\partial {y^n}^F}{\\partial t} \\approx \\frac{ y^{n+1} - y^{n}}{h} + O(h) \\equiv \\frac{ y^{n+1} - y^{n}}{\\Delta t} + O(\\Delta t)\n",
    "$$\n",
    "\n",
    "this is a _first-order_ approximation, where $h \\equiv \\Delta t$ is the step size, and we have approximated the time domain (temporal axis) with uniform grid spacing $\\Delta t$, so that $y^n = n \\Delta t$, for $n = 0, \\ldots, N$.\n",
    "\n",
    "When $n=0$ we use the **initial condition** given: $y(t=0)=y(0)=y_0$\n",
    "\n",
    "$$ y' \\approx \\frac{y(h) - y(0)}{h} $$\n",
    "\n",
    "which yields \n",
    "\n",
    "$$ y' \\approx \\frac{y(h) - y(0)}{h} = f(0, y(0)) $$\n",
    "\n",
    "Hence, we have the solution estimate\n",
    "\n",
    "$$ \\tilde y(h) = y(0) + h f(0, y(0)) $$\n",
    "\n",
    "Let's now use again the simplest linear ODE there exists, the \"test\" equation:\n",
    "\n",
    "$$\n",
    "y' = \\lambda y .\n",
    "$$\n",
    "\n",
    "For $n=0$ we obtain the solution at new time step ($n=1$) knowing all information that is given by the initial condition:\n",
    "\n",
    "$$\n",
    "y^{1} = y^0 + h \\lambda y^0 ,\n",
    "$$\n",
    "\n",
    "For multiple steps, $(n \\geq 1))$, we obtain the recurrence relation:\n",
    "\n",
    "$$\n",
    "y^{n+1} = y^n + h \\lambda y^n ,\n",
    "$$\n",
    "\n",
    "$$\n",
    "y^{n+1} = \\left(1 + h \\lambda \\right) y^n .\n",
    "$$\n",
    "\n",
    "If we apply this repeatedly, we obtain the relation: \n",
    "\n",
    "$$\n",
    "y^{n+1} = \\left(1 + h \\lambda \\right)^{n+1} y^0 .\n",
    "$$\n"
   ]
  },
  {
   "cell_type": "markdown",
   "id": "5e100769",
   "metadata": {},
   "source": [
    "### Example:\n",
    "Let's try this on a scalar problem\n",
    "\n",
    "$$ y' = -k (y - \\cos t) $$\n",
    "\n",
    "where $k$ is a parameter controlling the rate at which the solution $y(t)$ is pulled toward the curve $\\cos t$."
   ]
  },
  {
   "cell_type": "code",
   "execution_count": null,
   "id": "cde76654",
   "metadata": {
    "cell_style": "split"
   },
   "outputs": [],
   "source": [
    "function ode_euler(f, y0; tfinal=10., h=0.1)\n",
    "    y = copy(y0)\n",
    "    t = 0.\n",
    "    thist = [t]\n",
    "    yhist = [y0]\n",
    "    while t < tfinal\n",
    "        tnext = min(t+h, tfinal)\n",
    "        h = tnext - t\n",
    "        y += h * f(t, y)\n",
    "        t = tnext\n",
    "        push!(thist, t)\n",
    "        push!(yhist, y)\n",
    "    end\n",
    "    thist, hcat(yhist...)\n",
    "end"
   ]
  },
  {
   "cell_type": "code",
   "execution_count": null,
   "id": "c1c87f6b",
   "metadata": {
    "cell_style": "split"
   },
   "outputs": [],
   "source": [
    "f1(t, y; k=10) = -k * (y .- cos(t))\n",
    "\n",
    "thist, yhist = ode_euler(f1, [1.], tfinal=20, h=.2)\n",
    "plot(thist, yhist[1,:], marker=:circle, label = \"Forward Euler\")\n",
    "plot!(cos, label = L\"\\cos(x)\")"
   ]
  },
  {
   "cell_type": "markdown",
   "id": "eedad8e0",
   "metadata": {
    "slideshow": {
     "slide_type": "slide"
    }
   },
   "source": [
    "### Forward Euler on a linear system\n",
    "\n",
    "If we have a system of ODEs:\n",
    "\n",
    "$$\n",
    "\\dot{\\mathbf{y}} = A \\mathbf{y}\n",
    "$$\n",
    "\n",
    "For example, a system of two first-order linear ODEs:\n",
    "\n",
    "\\begin{align}\n",
    "y_1' &= y_2\\\\\n",
    "y_2' &= - y_1\\\\\n",
    "\\end{align}\n",
    "\n",
    "In matrix form: \n",
    "\n",
    "\n",
    "$$ \\begin{bmatrix} y_1 \\\\ y_2 \\end{bmatrix}' = \\begin{bmatrix} 0 & 1 \\\\ -1 & 0 \\end{bmatrix} \\begin{bmatrix} y_1 \\\\ y_2 \\end{bmatrix}$$"
   ]
  },
  {
   "cell_type": "code",
   "execution_count": null,
   "id": "d9a8f791",
   "metadata": {
    "cell_style": "split"
   },
   "outputs": [],
   "source": [
    "f2(t, y) = [0 1; -1 0] * y\n",
    "\n",
    "thist, yhist = ode_euler(f2, [0., 1], h=.1, tfinal=80)\n",
    "scatter(thist, yhist', label = [L\"y_1\" L\"y_2\"])\n",
    "plot!([cos, sin], label = [L\"\\cos(x)\" L\"\\sin(x)\"])"
   ]
  },
  {
   "cell_type": "code",
   "execution_count": null,
   "id": "95eb6628",
   "metadata": {
    "cell_style": "split"
   },
   "outputs": [],
   "source": [
    "eigvals([0 1; -1 0])"
   ]
  },
  {
   "cell_type": "markdown",
   "id": "53e73e58",
   "metadata": {
    "slideshow": {
     "slide_type": "slide"
    }
   },
   "source": [
    "### Recap on Runge-Kutta 4"
   ]
  },
  {
   "cell_type": "code",
   "execution_count": null,
   "id": "747257b9",
   "metadata": {
    "cell_style": "split"
   },
   "outputs": [],
   "source": [
    "thist, yhist = ode_rk_explicit(f2, [0., 1], h=0.5, tfinal=50)\n",
    "scatter(thist, yhist', label = [L\"y_1\" L\"y_2\"])\n",
    "plot!([cos, sin], label = [L\"\\cos(x)\" L\"\\sin(x)\"])"
   ]
  },
  {
   "cell_type": "markdown",
   "id": "b755e16c",
   "metadata": {
    "cell_style": "split"
   },
   "source": [
    "* Apparently it is possible to integrate this system using large time steps.\n",
    "* This method evaluates $f(t)$ _four times per step_, so the cost is about equal when the step size $h$ is 4x larger than forward Euler."
   ]
  },
  {
   "cell_type": "markdown",
   "id": "1fd5729c",
   "metadata": {},
   "source": [
    "But let's run it again with a larger step size\n",
    " "
   ]
  },
  {
   "cell_type": "code",
   "execution_count": null,
   "id": "6e6a7c0e",
   "metadata": {},
   "outputs": [],
   "source": [
    "thist, yhist = ode_rk_explicit(f2, [0., 1], h=2.9, tfinal=50)\n",
    "scatter(thist, yhist', label = [L\"y_1\" L\"y_2\"])\n",
    "plot!([cos, sin], size=(800, 500), label = [L\"\\cos(x)\" L\"\\sin(x)\"])"
   ]
  },
  {
   "cell_type": "markdown",
   "id": "6201b60c",
   "metadata": {
    "slideshow": {
     "slide_type": "slide"
    }
   },
   "source": [
    "### Recap on stability\n",
    "\n",
    "To analyze stability, we use the **Linear Stability Analysis (LSA)**.\n",
    "\n",
    "#### Linear Stability Analysis\n",
    "\n",
    "Why did Euler diverge (even if slowly) while RK4 solved this problem accurately?\n",
    "\n",
    "And why do both methods diverge if the step size is too large?\n",
    "\n",
    "We can understand the convergence of methods by analyzing the test problem\n",
    "\n",
    "$$ y' = \\lambda y $$\n",
    "\n",
    "for different values of $\\lambda$ in the complex plane.\n",
    "\n",
    "One step of the Euler method with step size $h$ maps\n",
    "\n",
    "$$ y \\to y + h \\lambda y = \\underbrace{(1 + h \\lambda)}_{R(h \\lambda)} y .$$\n",
    "\n",
    "For many ($n \\geq 1 $) steps, we have:\n",
    "\n",
    "$$\n",
    "y^{n+1} = y^n + h \\lambda y^n .\n",
    "$$\n",
    "\n",
    "Hence, we obtain the recurrence relation:\n",
    "\n",
    "$$\n",
    "y^{n+1} = \\underbrace{(1 + h \\lambda)}_{R(h \\lambda)} y^n,\n",
    "$$\n",
    "\n",
    "where $R(h \\lambda)$ is called the **recurrence relation** or **growth/amplification factor**.\n",
    "\n",
    "Our solution will stay bounded, that means the numerical scheme is stable if and only if \n",
    "\n",
    "$$\n",
    "\n",
    "|R(h \\lambda)| \\leq 1 .\n",
    "$$\n",
    "\n",
    "Let's look at examples when this map causes solutions to \"blow up\" or to be stable."
   ]
  },
  {
   "cell_type": "code",
   "execution_count": null,
   "id": "295efcde",
   "metadata": {
    "cell_style": "split"
   },
   "outputs": [],
   "source": [
    "function plot_stability(Rz, method; xlim=(-3, 2), ylim=(-1.5, 1.5))\n",
    "    x = xlim[1]:.02:xlim[2]\n",
    "    y = ylim[1]:.02:ylim[2]\n",
    "    plot(title=\"Stability: $method\", aspect_ratio=:equal, xlim=xlim, ylim=ylim)\n",
    "    heatmap!(x, y, (x, y) -> abs(Rz(x + 1im*y)), c=:bwr, clims=(0, 2))\n",
    "    contour!(x, y, (x, y) -> abs(Rz(x + 1im*y)), color=:black, linewidth=2, levels=[1.])\n",
    "    plot!(x->0, color=:black, linewidth=1, label=:none)\n",
    "    plot!([0, 0], [ylim...], color=:black, linewidth=1, label=:none)\n",
    "end"
   ]
  },
  {
   "cell_type": "code",
   "execution_count": null,
   "id": "f233ed2c",
   "metadata": {
    "cell_style": "split"
   },
   "outputs": [],
   "source": [
    "plot_stability(z -> 1 + z, \"Forward Eulor\")"
   ]
  },
  {
   "cell_type": "markdown",
   "id": "4caf7622",
   "metadata": {},
   "source": [
    "This is a complex $z = \\lambda h $ (or $ z =\\lambda \\Delta t$)-plane."
   ]
  },
  {
   "cell_type": "markdown",
   "id": "708a2cb7",
   "metadata": {
    "slideshow": {
     "slide_type": "slide"
    }
   },
   "source": [
    "### Stability for RK4"
   ]
  },
  {
   "cell_type": "code",
   "execution_count": null,
   "id": "82563216",
   "metadata": {
    "cell_style": "split"
   },
   "outputs": [],
   "source": [
    "plot_stability(z -> rk_stability(4z, rk4), \"RK4\")\n"
   ]
  },
  {
   "cell_type": "markdown",
   "id": "5a6a1d6f",
   "metadata": {},
   "source": [
    "### Stability for [Heun's method](https://en.wikipedia.org/wiki/Heun%27s_method)"
   ]
  },
  {
   "cell_type": "code",
   "execution_count": null,
   "id": "653d9295",
   "metadata": {
    "cell_style": "split"
   },
   "outputs": [],
   "source": [
    "plot_stability(z -> rk_stability(2z, heun), \"Heun's method\")"
   ]
  },
  {
   "cell_type": "markdown",
   "id": "290a4108",
   "metadata": {
    "cell_style": "split",
    "slideshow": {
     "slide_type": ""
    }
   },
   "source": [
    "### Recap on implicit methods: Backward Euler\n",
    "\n",
    "Recall that one forward Euler step is\n",
    "\n",
    "$$ \\tilde y(h) = y(0) + h f(0, y(0)) . $$\n",
    "\n",
    "This can be evaluated **explicitly**; all the terms on the right hand side are known so the approximation $\\tilde y(h)$ is computed merely by evaluating the right hand side.\n",
    "\n",
    "Let's consider an alternative, **backward Euler** (or \"implicit Euler\"). \n",
    "\n",
    "Recall the **forward difference** formula:\n",
    "\n",
    "$$\n",
    "\\frac{\\partial {y^n}^F}{\\partial t} \\approx \\frac{ y^{n+1} - y^{n}}{h} + O(h) \\equiv \\frac{ y^{n+1} - y^{n}}{\\Delta t} + O(\\Delta t)\n",
    "$$\n",
    "\n",
    "If instead we use the **backward difference** formula:\n",
    "\n",
    "$$\n",
    "\\frac{\\partial {y^{n}}^B}{\\partial t} \\approx \\frac{ y^{n} - y^{n-1}}{h} + O(h) \\equiv \\frac{ y^{n} - y^{n-1}}{\\Delta t} + O(\\Delta t)\n",
    "$$\n",
    "\n",
    "When $n=1$ we use the **initial condition** given: $y(t=t_0=0)=y(0)=y_0$\n",
    "\n",
    "$$ y'(t=t_1) \\approx \\frac{y(h) - y(0)}{h} $$\n",
    "\n",
    "which yields \n",
    "\n",
    "$$ y'(t=t_1) \\approx \\frac{y(h) - y(0)}{h} = f(t=t_1, y(t=t_1)) $$\n",
    "\n",
    "which yields to the solution estimate\n",
    "\n",
    "$$ \\tilde y(h) = y(0) + h f(h, \\tilde y(h)) . $$\n",
    "\n",
    "This is a (generally) _nonlinear_ equation for $\\tilde y(h)$.\n",
    "\n",
    "#### Stability of backward Euler\n",
    "\n",
    "For the test equation\n",
    "\n",
    "$$ \n",
    "y' = \\lambda y\n",
    "$$, \n",
    "\n",
    "at the first time step, the backward Euler method is\n",
    "\n",
    "$$ \\tilde y(h) = y(0) + h \\lambda \\tilde y(h), $$\n",
    "\n",
    "or\n",
    "\n",
    "$$  \\left(1 - h \\lambda\\right)   \\tilde y(h) =  y(0) , $$\n",
    "\n",
    "hence\n",
    "\n",
    "$$ \\tilde y(h) = \\underbrace{\\left( \\frac{1}{1 - h \\lambda}\\right)}_{R(h\\lambda)} y(0) . $$\n",
    "\n",
    "For many steps, $(n \\geq 1)$, we obtain:\n",
    "\n",
    "$$\n",
    "y^{n+1} = y^n + h \\lambda y^{n+1} .\n",
    "$$\n",
    "\n",
    "Hence, we obtain the recurrence relation:\n",
    "\n",
    "$$\n",
    "\\left( 1 - h \\lambda \\right) y^{n+1} = y^n,\n",
    "$$\n",
    "\n",
    "$$\n",
    " y^{n+1} =  \\underbrace{\\left( \\frac{1}{1 - h \\lambda}\\right)}_{R(h\\lambda)} y^n.\n",
    "$$\n",
    "\n",
    "If we apply this repeatedly, we obtain:\n",
    "\n",
    "$$\n",
    " y^{n+1} = \\left( \\frac{1}{1 - h \\lambda } \\right)^{n+1} y^0.\n",
    "$$\n",
    "\n",
    "We see that to have stability for the **Backward Euler** scheme we need:\n",
    "\n",
    "$$\n",
    "\\left| \\frac{1}{1 - h \\lambda } \\right| \\leq 1 .\n",
    "$$"
   ]
  },
  {
   "cell_type": "code",
   "execution_count": null,
   "id": "c9e9d867",
   "metadata": {
    "cell_style": "split"
   },
   "outputs": [],
   "source": [
    "plot_stability(z -> 1/(1-z), \"Backward Euler\")"
   ]
  },
  {
   "cell_type": "markdown",
   "id": "339343e5",
   "metadata": {},
   "source": [
    "We can see that the stability region is for $h \\lambda$ anywhere in the left half complex plane, i.e., for any $h>0$ when $Re(\\lambda)<0$.\n",
    "\n",
    "- This means that if the problem of interest is stable $\\Rightarrow$ **Backward Euler** is **unconditionally stable**, i.e., stable for any positive step size $h$."
   ]
  },
  {
   "cell_type": "markdown",
   "id": "f3a71738",
   "metadata": {
    "cell_style": "split",
    "slideshow": {
     "slide_type": "slide"
    }
   },
   "source": [
    "#### Computing with implicit methods\n",
    "\n",
    "$$ \\tilde y(h) = y(0) + h f\\big(\\tilde y(h) \\big) $$"
   ]
  },
  {
   "cell_type": "markdown",
   "id": "0ece15d3",
   "metadata": {
    "cell_style": "split"
   },
   "source": [
    "* Linear solve for linear problem\n",
    "* Nonlinear (often Newton) solve for nonlinear problem\n",
    "* Need Jacobian or finite differencing"
   ]
  },
  {
   "cell_type": "markdown",
   "id": "0bf1ddb9",
   "metadata": {},
   "source": [
    "#### Recap on stability of midpoint [(Crank-Nicolson)](https://en.wikipedia.org/wiki/Crank%E2%80%93Nicolson_method) scheme\n",
    "\n",
    "\n",
    "For the test equation \n",
    "\n",
    "$$y' = \\lambda y, $$\n",
    "\n",
    "one step of the **Crank-Nicolson** scheme is\n",
    "\n",
    "$$\n",
    "\\frac{y(h) - y(0)}{h} = \\frac{1}{2} \\left( f( y(0))  + f(y(h)) \\right)\n",
    "$$,\n",
    "\n",
    "which leads to the solution estimate\n",
    "\n",
    "$$\n",
    "\\tilde y(h)  =  y(0) + h  \\frac{1}{2} \\left( f( y(0))  + f(\\tilde y(h)) \\right) .\n",
    "$$\n",
    "\n",
    "We use the test problem:\n",
    "\n",
    "$$\n",
    "y' = \\lambda y \n",
    "$$, \n",
    "\n",
    "and we obtain:\n",
    "\n",
    "$$\n",
    "\\tilde y(h)  =  y(0) +  \\frac{h \\lambda}{2} y(0)  + \\frac{h \\lambda}{2} \\tilde y(h) ,\n",
    "$$\n",
    "\n",
    "which we can rearrange:\n",
    "\n",
    "$$\n",
    "\\left(1 - \\frac{h \\lambda}{2} \\right) \\tilde y(h)  = \\left(1 + \\frac{h \\lambda}{2} \\right) y(0) ,\n",
    "$$\n",
    "\n",
    "$$\n",
    " \\tilde y(h)  = \\left(\\frac{ 1 + \\frac{h \\lambda}{2}  }{1 - \\frac{h \\lambda}{2}}  \\right) y(0) .\n",
    "$$\n",
    "\n",
    "For many steps, $(n \\geq 1)$, we obtain:\n",
    "\n",
    "$$\n",
    "y^{n+1} = \\left(\\frac{ 1 + \\frac{h \\lambda}{2}  }{1 - \\frac{h \\lambda}{2}}  \\right)  y^n  .\n",
    "$$\n",
    "\n",
    "\n",
    "If we apply this repeatedly, we obtain:\n",
    "\n",
    "$$\n",
    " y^{n+1} = {\\underbrace{\\left(\\frac{ 1 + \\frac{h \\lambda}{2}  }{1 - \\frac{h \\lambda}{2}}  \\right)}_{R(h\\lambda)}}^{n+1} y^0.\n",
    "$$\n",
    "\n",
    "We see that to have stability for the **Crank-Nicolson** scheme we need:\n",
    "\n",
    "$$\n",
    "\\left| \\frac{ 1 + \\frac{h \\lambda}{2}  }{1 - \\frac{h \\lambda}{2}}   \\right| \\leq 1 .\n",
    "$$\n"
   ]
  },
  {
   "cell_type": "code",
   "execution_count": null,
   "id": "c479bcf4",
   "metadata": {
    "cell_style": "split"
   },
   "outputs": [],
   "source": [
    "plot_stability(z -> Rz_theta(z, .5), \"Midpoint method\")"
   ]
  },
  {
   "cell_type": "markdown",
   "id": "ce1a7c09",
   "metadata": {},
   "source": [
    "Again, similarly to the case for Backward Euler, we can see here that the stability region is for $h \\lambda$ anywhere in the left half complex plane, i.e., for any $h>0$ when $Re(\\lambda)<0$.\n",
    "\n",
    "- This means that if the problem of interest is stable $\\Rightarrow$ **Crank-Nicolson** is **unconditionally stable**, i.e., stable for any positive step size $h$."
   ]
  },
  {
   "cell_type": "markdown",
   "id": "6631b25b",
   "metadata": {
    "slideshow": {
     "slide_type": "slide"
    }
   },
   "source": [
    "## 1. The $\\theta$ methods\n"
   ]
  },
  {
   "cell_type": "markdown",
   "id": "4d01c9a3",
   "metadata": {
    "cell_style": "split",
    "slideshow": {
     "slide_type": ""
    }
   },
   "source": [
    "Forward and backward Euler are bookends of the family known as $\\theta$ methods, with Crank-Nicolson (or midpoint) exactly in the middle.\n",
    "\n",
    "We can express a family of methods with the parameter $\\theta$. One step of the $\\theta$-method looks like this:\n",
    "\n",
    "$$ \\tilde u(h) = u(0) + h f\\Big(\\theta h, \\theta\\tilde u(h) + (1-\\theta)u(0) \\Big) $$\n",
    "\n",
    "which, for linear problems, is solved as\n",
    "\n",
    "$$ (I - h \\theta A) u(h) = \\Big(I + h (1-\\theta) A \\Big) u(0) . $$\n",
    "\n",
    "$\\theta=0$ is **explicit Euler**, $\\theta=1$ is **implicit Euler**, and $\\theta=1/2$ is the **midpoint/trapezoid** or **Crank-Nicolson** method (equivalent for linear problems).\n",
    "\n",
    "The stability function (or growth/amplification factor) in this case is:\n",
    "\n",
    "$$ R(z) = \\frac{1 + (1-\\theta)z}{1 - \\theta z}, $$\n",
    "\n",
    "where we have defined $z= h \\lambda$."
   ]
  },
  {
   "cell_type": "code",
   "execution_count": null,
   "id": "a035183c",
   "metadata": {
    "cell_style": "split"
   },
   "outputs": [],
   "source": [
    "Rz_theta(z, theta) = (1 + (1-theta)*z) / (1 - theta*z)\n",
    "theta = .5\n",
    "plot_stability(z -> Rz_theta(z, theta), \"\\$\\\\theta=$theta\\$\",\n",
    "    xlim=(-20, 1))"
   ]
  },
  {
   "cell_type": "markdown",
   "id": "85a81669",
   "metadata": {
    "cell_style": "center",
    "slideshow": {
     "slide_type": "slide"
    }
   },
   "source": [
    "### $\\theta$ method for the oscillator"
   ]
  },
  {
   "cell_type": "code",
   "execution_count": null,
   "id": "f9ac0b5e",
   "metadata": {
    "cell_style": "split"
   },
   "outputs": [],
   "source": [
    "function ode_theta_linear(A, u0; forcing=zero, tfinal=1, h=0.1, theta=.5)\n",
    "    u = copy(u0)\n",
    "    t = 0.\n",
    "    thist = [t]\n",
    "    uhist = [u0]\n",
    "    while t < tfinal\n",
    "        tnext = min(t+h, tfinal)\n",
    "        h = tnext - t\n",
    "        rhs = (I + h*(1-theta)*A) * u .+ h*forcing(t+h*theta)\n",
    "        u = (I - h*theta*A) \\ rhs\n",
    "        t = tnext\n",
    "        push!(thist, t)\n",
    "        push!(uhist, u)\n",
    "    end\n",
    "    thist, hcat(uhist...)\n",
    "end"
   ]
  },
  {
   "cell_type": "code",
   "execution_count": null,
   "id": "8ecc9503",
   "metadata": {
    "cell_style": "split"
   },
   "outputs": [],
   "source": [
    "# Test on oscillator\n",
    "A = [0 1; -1 0]\n",
    "theta = .5\n",
    "thist, uhist = ode_theta_linear(A, [0., 1], h=.6, theta=theta, tfinal=20)\n",
    "scatter(thist, uhist', label = [L\"y_1\" L\"y_2\"], title = L\"\\theta = 0.5\")\n",
    "plot!([cos, sin], label = [L\"\\cos(x)\" L\"\\sin(x)\"])"
   ]
  },
  {
   "cell_type": "markdown",
   "id": "2ff84733",
   "metadata": {},
   "source": [
    "- This is called **dispersion**: the approximated wave is shifted laterally relative to the actual solution, but its height is not damped.\n",
    "- Instead, numerical **dissipation** is when there is amplitude damping of the numerical solution as compared to the exact solution."
   ]
  },
  {
   "cell_type": "markdown",
   "id": "3a83dbf3",
   "metadata": {
    "slideshow": {
     "slide_type": "slide"
    }
   },
   "source": [
    "### $\\theta$ method for the cosine decay"
   ]
  },
  {
   "cell_type": "code",
   "execution_count": null,
   "id": "fdf09c98",
   "metadata": {},
   "outputs": [],
   "source": [
    "k = 500000\n",
    "theta = .7\n",
    "thist, uhist = ode_theta_linear(-k, [.2], forcing=t -> k*cos(t), tfinal=5, h=.1, theta=theta)\n",
    "scatter(thist, uhist[1,:], title=\"\\$\\\\theta = $theta\\$\", label = L\"\\theta = 0.7 \\textrm{ scheme}\")\n",
    "plot!(cos, size=(800, 500))"
   ]
  },
  {
   "cell_type": "markdown",
   "id": "005976a8",
   "metadata": {},
   "source": [
    "- It starts rough but then it approximates the exact solution very closely, with no dispersion or dissipation."
   ]
  },
  {
   "cell_type": "markdown",
   "id": "c536eb9d",
   "metadata": {
    "slideshow": {
     "slide_type": "slide"
    }
   },
   "source": [
    "- Next we are going to talk about different stability classes and the $\\theta$ method\n"
   ]
  },
  {
   "cell_type": "markdown",
   "id": "b984e88a",
   "metadata": {
    "cell_style": "split"
   },
   "source": [
    "## 2. $A$-stability\n",
    "A method is $A$-stable if the stability region\n",
    "$$ \\{ z : |R(z)| \\le 1 \\} $$\n",
    "contains the entire left half plane $$ \\Re[z] \\le 0 .$$\n",
    "This means that the method can take arbitrarily large time steps without becoming unstable (diverging) for any problem that is indeed physically stable."
   ]
  },
  {
   "cell_type": "markdown",
   "id": "232b9cdf",
   "metadata": {
    "cell_style": "split"
   },
   "source": [
    "## 3. $L$-stability\n",
    "A time integrator with stability function $R(z)$ is $L$-stable if\n",
    "$$ \\lim_{z\\to\\infty} R(z) = 0 .$$\n",
    "For the $\\theta$ method, we have\n",
    "$$ \\lim_{z\\to \\infty} \\frac{1 + (1-\\theta)z}{1 - \\theta z} = \\frac{1-\\theta}{\\theta} . $$\n",
    "Evidently only $\\theta=1$ is $L$-stable."
   ]
  },
  {
   "cell_type": "markdown",
   "id": "f8c8e7fa",
   "metadata": {
    "slideshow": {
     "slide_type": "slide"
    }
   },
   "source": [
    "## 4. Examples of PDEs\n",
    "\n",
    "### Heat equation as linear ODE\n",
    "\n",
    "$$\n",
    "\\frac{\\partial u}{\\partial t} =  \\frac{\\partial^2 u}{\\partial x^2}\n",
    "$$\n",
    "\n",
    "on $[-1,1]$, with an initial condition $u(x,t=0)  = u_0 = e^{-200x^2}$, and periodic boundary conditions: $u(-1)=u(1)$.\n",
    "\n",
    "Although this is an example of an Initial Boundary Value Problem, as this is a Partial Differential Equation (PDE), as it has partial derivatives in both time $t$ and space $x$, we are going to analyze it here as a linear ODE, in the sense that it is linear in $u$. In fact, the dependent variable $u$ and its derivatives only appear to the first power, meaning there are no squared terms or nonlinear functions of the derivative of $u$.\n",
    "\n",
    "* How do different $\\theta \\in [0, 1]$ compare in terms of stability?\n",
    "* Are there artifacts even when the solution is stable?"
   ]
  },
  {
   "cell_type": "code",
   "execution_count": null,
   "id": "2ea7e708",
   "metadata": {
    "cell_style": "split"
   },
   "outputs": [],
   "source": [
    "using SparseArrays\n",
    "\n",
    "function heat_matrix(n)\n",
    "    dx = 2 / n\n",
    "    rows = [1]\n",
    "    cols = [1]\n",
    "    vals = [0.]\n",
    "    wrap(j) = (j + n - 1) % n + 1\n",
    "    for i in 1:n\n",
    "        append!(rows, [i, i, i])\n",
    "        append!(cols, wrap.([i-1, i, i+1]))\n",
    "        append!(vals, [1, -2, 1] ./ dx^2)\n",
    "    end\n",
    "    sparse(rows, cols, vals)\n",
    "end\n",
    "heat_matrix(5)"
   ]
  },
  {
   "cell_type": "code",
   "execution_count": null,
   "id": "8b832a79",
   "metadata": {
    "cell_style": "split"
   },
   "outputs": [],
   "source": [
    "n = 200\n",
    "A = heat_matrix(n)\n",
    "x = LinRange(-1, 1, n+1)[1:end-1]\n",
    "u0 = exp.(-200 * x .^ 2)\n",
    "@time thist, uhist = ode_theta_linear(A, u0, h=.1, theta=.5, tfinal=1);\n",
    "nsteps = size(uhist, 2)\n",
    "plot(x, uhist[:, 1:5], title = L\"\\theta = 0.5\") # plot only the first 5 time-steps"
   ]
  },
  {
   "cell_type": "markdown",
   "id": "0ac0a049",
   "metadata": {
    "slideshow": {
     "slide_type": "slide"
    }
   },
   "source": [
    "### Example: Advection as a linear ODE\n",
    "\n",
    "$$\n",
    "\\frac{\\partial u}{\\partial t} = - c  \\frac{\\partial u}{\\partial x}\n",
    "$$\n",
    "\n",
    "on $[-1,1]$, with an initial condition $u(x,t=0)  = u_0 = e^{-9x^2}$, and periodic boundary conditions: $u(-1)=u(1)$.\n",
    "\n",
    "Here $u(x,t)$, $x \\in \\R$ is a scalar (wave), advected by a nonezero constant $c$ during time $t$. The sign of $c$  characterise the direction of wave propagation. If $c>0$, the wave propagates in the positive direction of $x$-axis. On the other hand, if $c<0$  then the wave propagates to the negative direction of $x$-axis. The mangitude of $c$ tells us how fast the wave propagates. The exact solution of this equation is given by its initial value. Assuming that the initial condition is given as $u_0(x,t)= u(x,0)$, then the exact solution of equation is $u(x,t) = u_0 (x-ct)$."
   ]
  },
  {
   "cell_type": "code",
   "execution_count": null,
   "id": "f73784a3",
   "metadata": {
    "cell_style": "split",
    "slideshow": {
     "slide_type": "skip"
    }
   },
   "outputs": [],
   "source": [
    "function advect_matrix(n; upwind=false)\n",
    "    dx = 2 / n\n",
    "    rows = [1]\n",
    "    cols = [1]\n",
    "    vals = [0.]\n",
    "    wrap(j) = (j + n - 1) % n + 1\n",
    "    for i in 1:n\n",
    "        append!(rows, [i, i])\n",
    "        if upwind\n",
    "            append!(cols, wrap.([i-1, i]))\n",
    "            append!(vals, [1., -1] ./ dx)\n",
    "        else\n",
    "            append!(cols, wrap.([i-1, i+1]))\n",
    "            append!(vals, [1., -1] ./ 2dx)\n",
    "        end\n",
    "    end\n",
    "    sparse(rows, cols, vals)\n",
    "end\n",
    "advect_matrix(5)"
   ]
  },
  {
   "cell_type": "code",
   "execution_count": null,
   "id": "0545bfb7",
   "metadata": {
    "cell_style": "split"
   },
   "outputs": [],
   "source": [
    "n = 50\n",
    "A = advect_matrix(n, upwind=false)\n",
    "x = LinRange(-1, 1, n+1)[1:end-1]\n",
    "u0 = exp.(-9 * x .^ 2)\n",
    "@time thist, uhist = ode_theta_linear(A, u0, h=.04, theta=1, tfinal=1.); # run for 25 time steps in total\n",
    "nsteps = size(uhist, 2)\n",
    "plot(x, uhist[:, 1:(nsteps÷8):end], title = L\"\\theta = 1\") # plot solution at every 3 time steps"
   ]
  },
  {
   "cell_type": "markdown",
   "id": "345805bd",
   "metadata": {},
   "source": [
    "- A lot of numerical dissipation!"
   ]
  },
  {
   "cell_type": "markdown",
   "id": "4c61e8fb",
   "metadata": {
    "slideshow": {
     "slide_type": "slide"
    }
   },
   "source": [
    "### Spectrum of operators"
   ]
  },
  {
   "cell_type": "code",
   "execution_count": null,
   "id": "3f736202",
   "metadata": {
    "cell_style": "split"
   },
   "outputs": [],
   "source": [
    "theta=.5\n",
    "h = .1\n",
    "plot_stability(z -> Rz_theta(z, theta), \"\\$\\\\theta=$theta, h=$h\\$, advection equation\")\n",
    "ev = eigvals(Matrix(h*advect_matrix(20, upwind=true)))\n",
    "scatter!(real(ev), imag(ev), label = \"eigenvalues\")"
   ]
  },
  {
   "cell_type": "code",
   "execution_count": null,
   "id": "c825ef36",
   "metadata": {},
   "outputs": [],
   "source": [
    "n = 50\n",
    "A = advect_matrix(n, upwind=false)\n",
    "x = LinRange(-1, 1, n+1)[1:end-1]\n",
    "u0 = exp.(-9 * x .^ 2)\n",
    "@time thist, uhist = ode_theta_linear(A, u0, h=.1, theta=0.5, tfinal=1.); # run for 25 time steps in total\n",
    "nsteps = size(uhist, 2)\n",
    "plot(x, uhist[:, 1:(nsteps÷8):end], title = L\"\\theta = 0.5\") # plot solution at every 3 time steps"
   ]
  },
  {
   "cell_type": "code",
   "execution_count": null,
   "id": "833e0984",
   "metadata": {
    "cell_style": "split"
   },
   "outputs": [],
   "source": [
    "theta=.5\n",
    "h = .2 / 4\n",
    "plot_stability(z -> Rz_theta(z, theta), \"\\$\\\\theta=$theta, h=$h\\$, heat equation\")\n",
    "ev = eigvals(Matrix(h*heat_matrix(20)))\n",
    "scatter!(real(ev), imag(ev), label = \"eigenvalues\")"
   ]
  },
  {
   "cell_type": "markdown",
   "id": "0ca56102",
   "metadata": {},
   "source": [
    "## 5. [Stiff equations](https://en.wikipedia.org/wiki/Stiff_equation)\n",
    "\n",
    "> Stiff equations are problems for which explicit methods don’t work. (Hairer and Wanner, 2002)\n",
    "\n",
    "* “stiff” dates to Curtiss and Hirschfelder (1952)\n",
    "\n",
    "In general, a **stiff equation** is a differential equation for which certain numerical methods for solving the equation are numerically unstable, unless the step size is taken to be _extremely small_.\n",
    "\n",
    "It has proven difficult to formulate a precise definition of stiffness, but the main idea is that the equation includes some terms that can lead to rapid variation in the solution.\n",
    "\n",
    "We'll use the cosine relaxation example \n",
    "\n",
    "$$y_t = -k(y - \\cos t)$$\n",
    "\n",
    "using the $\\theta$ method, varying $k$ and $\\theta$."
   ]
  },
  {
   "cell_type": "code",
   "execution_count": null,
   "id": "ba3fbf22",
   "metadata": {},
   "outputs": [],
   "source": [
    "function ode_error(h; theta=.5, k=10)\n",
    "    u0 = [.2]\n",
    "    thist, uhist = ode_theta_linear(-k, u0, forcing=t -> k*cos(t), tfinal=3, h=h, theta=theta)\n",
    "    T = thist[end]\n",
    "    u_exact = (u0 .- k^2/(k^2+1)) * exp(-k*T) .+ k*(sin(T) + k*cos(T))/(k^2 + 1)\n",
    "    uhist[1,end] .- u_exact\n",
    "end"
   ]
  },
  {
   "cell_type": "code",
   "execution_count": null,
   "id": "93055b7a",
   "metadata": {},
   "outputs": [],
   "source": [
    "hs = .5 .^ (1:8)\n",
    "errors = ode_error.(hs, theta=0, k=100) # vary theta and k and re-run\n",
    "plot(hs, norm.(errors), marker=:circle, xscale=:log10, yscale=:log10, ylim=(1e-6, 2), title =\" \\$\\\\theta=$theta \\$\", label = \"error\")\n",
    "plot!(hs, hs, label=\"\\$h\\$\", legend=:topleft)\n",
    "plot!(hs, hs.^2, label=\"\\$h^2\\$\", ylabel=\"error\", xlabel=\"\\$\\\\Delta t\\$\")"
   ]
  },
  {
   "cell_type": "markdown",
   "id": "c30ab855",
   "metadata": {},
   "source": [
    "## 6. Adaptive time integrators (or time stepping schemes)\n",
    "\n",
    "### Example\n",
    "\n",
    "The [Oregonator](http://www.scholarpedia.org/article/Oregonator) mechanism in chemical kinetics describes an oscillatory chemical system. \n",
    "\n",
    "It consists of three species with concentrations $\\mathbf x = [x_0,x_1,x_2]^T$ (scaled units) and the evolution equations\n",
    "\n",
    "$$ \\mathbf {x'} = \\begin{bmatrix} 77.27 \\big(x_1 + x_0 (1 - 8.375\\cdot 10^{-6} x_0 - x_1) \\big) \\\\\n",
    "                    \\frac{1}{77.27} \\big(x_2 - (1 + x_0) x_1 \\big) \\\\\n",
    "                    0.161 (x_0 - x_2)\n",
    "                    \\end{bmatrix} , $$\n",
    "                    \n",
    "starting from the initial conditions $\\mathbf x_0 = [1, 2, 3]^T$.\n",
    "\n",
    "![Oregonator.](../img/oregonator.png)\n",
    "\n",
    "For these systems, it is best to use [**adaptive step size**](https://en.wikipedia.org/wiki/Adaptive_step_size) for the time integrators or time-stepping scheme.\n",
    "\n",
    "- Using an adaptive stepsize is of particular importance when there is a large variation in the size of the derivative.\n",
    "- Adaptive time step means that you decrease your time step when the physical system you are trying to simulate has rapid variation dynamics, and larger time steps when your solution changes more slowly and is more stable. "
   ]
  }
 ],
 "metadata": {
  "@webio": {
   "lastCommId": null,
   "lastKernelId": null
  },
  "celltoolbar": "Slideshow",
  "hide_code_all_hidden": false,
  "kernelspec": {
   "display_name": "Julia 1.10.6",
   "language": "julia",
   "name": "julia-1.10"
  },
  "language_info": {
   "file_extension": ".jl",
   "mimetype": "application/julia",
   "name": "julia",
   "version": "1.10.6"
  },
  "rise": {
   "enable_chalkboard": true
  }
 },
 "nbformat": 4,
 "nbformat_minor": 5
}
