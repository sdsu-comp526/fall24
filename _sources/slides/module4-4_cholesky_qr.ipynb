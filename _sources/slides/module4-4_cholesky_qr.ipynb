{
 "cells": [
  {
   "cell_type": "markdown",
   "id": "4159be0e",
   "metadata": {
    "hideCode": false,
    "hidePrompt": false,
    "slideshow": {
     "slide_type": "slide"
    }
   },
   "source": [
    "# 18) Cholesky QR\n",
    "\n",
    "## Last time\n",
    "\n",
    "* Householder QR\n",
    "\n",
    "## Today\n",
    "\n",
    "1. Recap on Householder QR\n",
    "2. Composition of reflectors\n",
    "3. Cholesky Decomposition\n",
    "4. Profiling\n"
   ]
  },
  {
   "cell_type": "code",
   "execution_count": null,
   "id": "eb781a7a",
   "metadata": {
    "slideshow": {
     "slide_type": "skip"
    }
   },
   "outputs": [],
   "source": [
    "using LinearAlgebra\n",
    "using Plots\n",
    "default(linewidth=4, legendfontsize=12)\n",
    "\n",
    "function vander(x, k=nothing)\n",
    "    if isnothing(k)\n",
    "        k = length(x)\n",
    "    end\n",
    "    m = length(x)\n",
    "    V = ones(m, k)\n",
    "    for j in 2:k\n",
    "        V[:, j] = V[:, j-1] .* x\n",
    "    end\n",
    "    V\n",
    "end\n",
    "\n",
    "function gram_schmidt_classical(A)\n",
    "    m, n = size(A)\n",
    "    Q = zeros(m, n)\n",
    "    R = zeros(n, n)\n",
    "    for j in 1:n\n",
    "        v = A[:,j]\n",
    "        R[1:j-1,j] = Q[:,1:j-1]' * v\n",
    "        v -= Q[:,1:j-1] * R[1:j-1,j]\n",
    "        R[j,j] = norm(v)\n",
    "        Q[:,j] = v / R[j,j]\n",
    "    end\n",
    "    Q, R\n",
    "end"
   ]
  },
  {
   "cell_type": "code",
   "execution_count": null,
   "id": "94bacf9d",
   "metadata": {
    "cell_style": "split"
   },
   "outputs": [],
   "source": [
    "function reflectors_mult(V, x)\n",
    "    y = copy(x)\n",
    "    for v in reverse(V)\n",
    "        n = length(v) - 1\n",
    "        y[end-n:end] -= 2 * v * (v' * y[end-n:end])\n",
    "    end\n",
    "    y\n",
    "end\n",
    "\n",
    "function reflectors_to_dense(V)\n",
    "    m = length(V[1])\n",
    "    Q = diagm(ones(m))\n",
    "    for j in 1:m\n",
    "        Q[:,j] = reflectors_mult(V, Q[:,j])\n",
    "    end\n",
    "    Q\n",
    "end"
   ]
  },
  {
   "cell_type": "markdown",
   "id": "dfdc9bdc",
   "metadata": {
    "slideshow": {
     "slide_type": "slide"
    }
   },
   "source": [
    "![Choosing the better of two Householder reflectors (Trefethen and Bau, 1999).](../img/TB-Householder2reflectors.png)"
   ]
  },
  {
   "cell_type": "markdown",
   "id": "8a394278",
   "metadata": {
    "slideshow": {
     "slide_type": "slide"
    }
   },
   "source": [
    "## 1. Recap on Householder QR\n",
    "\n",
    "### Householder: An improved algorithm\n",
    "\n"
   ]
  },
  {
   "cell_type": "code",
   "execution_count": null,
   "id": "20b3e5b3",
   "metadata": {
    "cell_style": "split"
   },
   "outputs": [],
   "source": [
    "function qr_householder(A)\n",
    "    m, n = size(A)\n",
    "    R = copy(A)\n",
    "    V = [] # list of reflectors\n",
    "    for j in 1:n\n",
    "        v = copy(R[j:end, j])\n",
    "        v[1] += sign(v[1]) * norm(v) # <--- here we pick the sign of v so that moves it the largest distance\n",
    "        v = normalize(v)\n",
    "        R[j:end,j:end] -= 2 * v * v' * R[j:end,j:end]\n",
    "        push!(V, v)\n",
    "    end\n",
    "    V, R\n",
    "end"
   ]
  },
  {
   "cell_type": "code",
   "execution_count": null,
   "id": "40de033a",
   "metadata": {
    "cell_style": "split"
   },
   "outputs": [],
   "source": [
    "A = [1 0; 0 1]\n",
    "V, R = qr_householder(A)\n",
    "tau = [2*v[1]^2 for v in V]\n",
    "@show tau\n",
    "V1 = [v ./ v[1] for v in V]\n",
    "@show V1\n",
    "R"
   ]
  },
  {
   "cell_type": "markdown",
   "id": "47bb1f9b",
   "metadata": {
    "slideshow": {
     "slide_type": "slide"
    }
   },
   "source": [
    "### Householder is backward stable"
   ]
  },
  {
   "cell_type": "code",
   "execution_count": null,
   "id": "730f14aa",
   "metadata": {
    "cell_style": "split"
   },
   "outputs": [],
   "source": [
    "m = 40\n",
    "x = LinRange(-1, 1, m)\n",
    "A = vander(x, m)\n",
    "V, R = qr_householder(A)\n",
    "Q = reflectors_to_dense(V)\n",
    "@show norm(Q' * Q - I)\n",
    "@show norm(Q * R - A);"
   ]
  },
  {
   "cell_type": "code",
   "execution_count": null,
   "id": "4665ab0e",
   "metadata": {
    "cell_style": "split"
   },
   "outputs": [],
   "source": [
    "A = [1 0; 0 1.]\n",
    "V, R = qr_householder(A)  # we don't get NaNs anymore\n",
    "qr(A) # Julia built-in"
   ]
  },
  {
   "cell_type": "markdown",
   "id": "eeb5a77b",
   "metadata": {
    "slideshow": {
     "slide_type": "slide"
    }
   },
   "source": [
    "### Orthogonality is preserved"
   ]
  },
  {
   "cell_type": "code",
   "execution_count": null,
   "id": "6fb11962",
   "metadata": {
    "cell_style": "split"
   },
   "outputs": [],
   "source": [
    "x = LinRange(-1, 1, 20)\n",
    "A = vander(x) # [1 | x | x^2 | ... x^19]\n",
    "Q, _ = gram_schmidt_classical(A)\n",
    "@show norm(Q' * Q - I)\n",
    "v = A[:,end]\n",
    "@show norm(v)\n",
    "scatter(abs.(Q[:,1:end-1]' * v), yscale=:log10, title=\"Classical Gram-Schmidt\")"
   ]
  },
  {
   "cell_type": "code",
   "execution_count": null,
   "id": "5cecbced",
   "metadata": {
    "cell_style": "split"
   },
   "outputs": [],
   "source": [
    "Q = reflectors_to_dense(qr_householder(A)[1])\n",
    "@show norm(Q' * Q - I)\n",
    "scatter(abs.(Q[:,1:end-1]' * v), yscale=:log10, title=\"Householder QR\") # they are less linearly dependent, i.e., more linearly independent"
   ]
  },
  {
   "cell_type": "markdown",
   "id": "50d7700a",
   "metadata": {},
   "source": [
    "### Summary: \n",
    "- Classic Gram-Schmidt: Usually very poor orthogonality.\n",
    "- Modified Gram-Schmidt: Depends upon condition of $A$. Fails completely when $A$ is singular.\n",
    "- Householder triangularization: Always good orthogonality and backward stable."
   ]
  },
  {
   "cell_type": "markdown",
   "id": "0df4de0d",
   "metadata": {
    "slideshow": {
     "slide_type": "slide"
    }
   },
   "source": [
    "## 2. Composition of reflectors\n",
    "\n",
    "\\begin{align}\n",
    "(I - 2 v v^T) (I - 2 w w^T) &= I - 2 v v^T - 2 w w^T + 4 v (v^T w) w^T \\\\\n",
    "&= I - \\Bigg[v \\Bigg| w \\Bigg] \\begin{bmatrix} 2 & -4 v^T w \\\\ 0 & 2 \\end{bmatrix} \\begin{bmatrix} v^T \\\\ w^T \\end{bmatrix}\n",
    "\\end{align}\n",
    "\n",
    "This turns applying reflectors from a sequence of vector operations to a sequence of (smallish) matrix operations. It's the key to high performance and the native format (`QRCompactWY`) returned by Julia `qr()`."
   ]
  },
  {
   "cell_type": "code",
   "execution_count": null,
   "id": "c21e1e5e",
   "metadata": {},
   "outputs": [],
   "source": [
    "Q, R = qr(A) # Julia built-in"
   ]
  },
  {
   "cell_type": "markdown",
   "id": "57039d94",
   "metadata": {
    "slideshow": {
     "slide_type": "slide"
    }
   },
   "source": [
    "### This works even for very nonsquare matrices"
   ]
  },
  {
   "cell_type": "code",
   "execution_count": null,
   "id": "790bb615",
   "metadata": {
    "slideshow": {
     "slide_type": ""
    }
   },
   "outputs": [],
   "source": [
    "A = rand(1000000, 5)\n",
    "Q, R = qr(A)\n",
    "@show size(Q)\n",
    "@show norm(Q*R - A)\n",
    "R"
   ]
  },
  {
   "cell_type": "markdown",
   "id": "cd14dfaf",
   "metadata": {
    "slideshow": {
     "slide_type": "fragment"
    }
   },
   "source": [
    "This is known as a \"full\" (or \"complete\") QR factorization, in contrast to a reduced QR factorization in which $Q$ has the same shape as $A$.\n",
    "* How much memory does $Q$ use?"
   ]
  },
  {
   "cell_type": "markdown",
   "id": "8aed5e91",
   "metadata": {
    "slideshow": {
     "slide_type": "slide"
    }
   },
   "source": [
    "### Compare to Python's [`numpy.linalg.qr`](https://numpy.org/doc/stable/reference/generated/numpy.linalg.qr.html)\n",
    "\n",
    "* Need to decide up-front whether you want full or reduced QR.\n",
    "* Full QR is expensive to represent."
   ]
  },
  {
   "cell_type": "markdown",
   "id": "7ec2f869",
   "metadata": {
    "slideshow": {
     "slide_type": "slide"
    }
   },
   "source": [
    "## 3. Cholesky decomposition\n",
    "\n",
    "First some definitions:\n",
    "\n",
    "A matrix $A \\in \\R^{n \\times n}$ is _symmetric_ if $A = A^{T}$ and _positive definite_ if $x^{T}Ax > 0$ for all nonzero $x \\in \\R^n$. Symmetric _and_ positive definite matrices, i.e., _symmetric positive definite (SPD)_ matrices, are the most important class of specially structured matrices that arise in applications.\n",
    "\n",
    "Intuitively, the largest entry in an SPD matrix is on the diagonal and, more qualitatively, SPD matrices have more \"mass\" on the diagonal than off the diagonal.\n",
    "\n",
    "If $A$ can be factored in a QR-factorization, i.e., $A = QR$, then we can write:\n",
    "\n",
    "$$(QR)^T QR = A^T A$$\n",
    "\n",
    "By applying the transpose of a product, we get:\n",
    "\n",
    "\n",
    "$$R^T Q^T  QR = A^T A$$\n",
    "\n",
    "And since Q is orthogonal (remember: $QQ^T = Q^TQ =I$), we get:\n",
    "\n",
    "$$R^T( Q^T  Q)R = A^T A$$\n",
    "$$R^T R = A^T A$$\n",
    "\n",
    "If, A is SPD, then it is possible to find a _lower triangular_ matrix $L$ such that:\n",
    "\n",
    "$$L L^T = A^T A$$\n",
    "\n",
    "and then we can write $Q = A L^{-T}$."
   ]
  },
  {
   "cell_type": "code",
   "execution_count": null,
   "id": "d8bba8a1",
   "metadata": {
    "cell_style": "split"
   },
   "outputs": [],
   "source": [
    "function qr_chol(A)\n",
    "    R = cholesky(A' * A).U\n",
    "    Q = A / R\n",
    "    Q, R\n",
    "end\n",
    "\n",
    "A = rand(10,4) # use a random matrix\n",
    "Q, R = qr_chol(A)\n",
    "@show norm(Q' * Q - I)\n",
    "@show norm(Q * R - A)"
   ]
  },
  {
   "cell_type": "code",
   "execution_count": null,
   "id": "5b4167c8",
   "metadata": {
    "cell_style": "split",
    "slideshow": {
     "slide_type": "fragment"
    }
   },
   "outputs": [],
   "source": [
    "x = LinRange(-1, 1, 15)\n",
    "A = vander(x) # use the Vadermonde matrix\n",
    "Q, R = qr_chol(A)\n",
    "@show norm(Q' * Q - I) # really not orthogonal\n",
    "@show norm(Q * R - A);"
   ]
  },
  {
   "cell_type": "markdown",
   "id": "bc52e84f",
   "metadata": {
    "slideshow": {
     "slide_type": "slide"
    }
   },
   "source": [
    "### Can we fix this?\n",
    "\n",
    "Note that the product of two triangular matrices is triangular."
   ]
  },
  {
   "cell_type": "code",
   "execution_count": null,
   "id": "640aa2ec",
   "metadata": {
    "cell_style": "split"
   },
   "outputs": [],
   "source": [
    "R = triu(rand(5,5))\n",
    "R * R"
   ]
  },
  {
   "cell_type": "code",
   "execution_count": null,
   "id": "b81eb674",
   "metadata": {
    "cell_style": "split"
   },
   "outputs": [],
   "source": [
    "function qr_chol2(A)\n",
    "    Q, R = qr_chol(A)\n",
    "    Q, R1 = qr_chol(Q)\n",
    "    Q, R1 * R\n",
    "end\n",
    "\n",
    "x = LinRange(-1, 1, 15)\n",
    "A = vander(x) # use the Vadermonde matrix\n",
    "Q, R = qr_chol2(A)\n",
    "@show norm(Q' * Q - I) # orthogonal to machine precision now!\n",
    "@show norm(Q * R - A);"
   ]
  },
  {
   "cell_type": "markdown",
   "id": "d845fd38",
   "metadata": {
    "slideshow": {
     "slide_type": "slide"
    }
   },
   "source": [
    "### How fast are these methods?\n",
    "\n",
    "Let's do some timing with Julia's macro [`@time`](https://docs.julialang.org/en/v1/manual/performance-tips/#Measure-performance-with-[@time](@ref)-and-pay-attention-to-memory-allocation)."
   ]
  },
  {
   "cell_type": "code",
   "execution_count": null,
   "id": "ce4c6d9a",
   "metadata": {
    "cell_style": "split"
   },
   "outputs": [],
   "source": [
    "m, n = 5000, 2000\n",
    "A = randn(m, n)\n",
    "\n",
    "@time qr(A); # Julia's built-in"
   ]
  },
  {
   "cell_type": "code",
   "execution_count": null,
   "id": "2bbae91e",
   "metadata": {
    "cell_style": "split"
   },
   "outputs": [],
   "source": [
    "A = randn(m, n)\n",
    "@time qr_chol(A);"
   ]
  },
  {
   "cell_type": "markdown",
   "id": "4c375979",
   "metadata": {
    "slideshow": {
     "slide_type": "slide"
    }
   },
   "source": [
    "## 4. Profiling"
   ]
  },
  {
   "cell_type": "code",
   "execution_count": null,
   "id": "8c9fcd68",
   "metadata": {},
   "outputs": [],
   "source": [
    "using Pkg\n",
    "Pkg.add(\"ProfileSVG\")\n",
    "\n",
    "using ProfileSVG\n",
    "\n",
    "ProfileSVG.@profview qr(A)"
   ]
  }
 ],
 "metadata": {
  "@webio": {
   "lastCommId": null,
   "lastKernelId": null
  },
  "celltoolbar": "Slideshow",
  "hide_code_all_hidden": false,
  "kernelspec": {
   "display_name": "Julia 1.10.4",
   "language": "julia",
   "name": "julia-1.10"
  },
  "language_info": {
   "file_extension": ".jl",
   "mimetype": "application/julia",
   "name": "julia",
   "version": "1.10.4"
  },
  "rise": {
   "enable_chalkboard": true
  }
 },
 "nbformat": 4,
 "nbformat_minor": 5
}
