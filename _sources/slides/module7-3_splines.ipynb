{
 "cells": [
  {
   "cell_type": "markdown",
   "metadata": {},
   "source": [
    "# 27) Spline Interpolation\n",
    "\n",
    "## Last time\n",
    "\n",
    "* Chebyshev polynomials  \n",
    "* Chebyshev polynomials are well-conditioned\n",
    "* Introduction to Piecewise Interpolation\n",
    "\n",
    "## Today\n",
    "\n",
    "1. Accuracy of piecewise constant (nearest neighbor) interpolation\n",
    "2. Cubic Splines\n",
    "3. Interpolations.jl Library"
   ]
  },
  {
   "cell_type": "code",
   "execution_count": null,
   "metadata": {},
   "outputs": [],
   "source": [
    "using LinearAlgebra\n",
    "using Plots\n",
    "default(linewidth=4, legendfontsize=12)\n",
    "\n",
    "function vander(x, k=nothing)\n",
    "    if isnothing(k)\n",
    "        k = length(x)\n",
    "    end\n",
    "    m = length(x)\n",
    "    V = ones(m, k)\n",
    "    for j in 2:k\n",
    "        V[:, j] = V[:, j-1] .* x\n",
    "    end\n",
    "    V\n",
    "end\n",
    "\n",
    "runge(x) = 1 / (1 + 10*x^2)\n",
    "\n",
    "CosRange(a, b, n) = (a + b)/2 .+ (b - a)/2 * cos.(LinRange(-pi, 0, n))\n",
    "\n",
    "vcond(mat, points, nmax) = [cond(mat(points(-1, 1, n))) for n in 2:nmax]"
   ]
  },
  {
   "cell_type": "markdown",
   "metadata": {},
   "source": [
    "## Recap on [Chebyshev polynomials](https://en.wikipedia.org/wiki/Chebyshev_polynomials)\n",
    "\n",
    "$$\\begin{split}\n",
    "T_0(x) &= 1 \\\\\n",
    "T_1(x) &= x \\\\\n",
    "T_{n+1}(x) &= 2 x T_n(x) - T_{n-1}(x)\n",
    "\\end{split}$$"
   ]
  },
  {
   "cell_type": "code",
   "execution_count": null,
   "metadata": {},
   "outputs": [],
   "source": [
    "function vander_chebyshev(x, n=nothing)\n",
    "    if isnothing(n)\n",
    "        n = length(x) # Square by default\n",
    "    end\n",
    "    m = length(x)\n",
    "    T = ones(m, n)\n",
    "    if n > 1\n",
    "        T[:, 2] = x\n",
    "    end\n",
    "    for k in 3:n\n",
    "        #T[:, k] = x .* T[:, k-1]\n",
    "        T[:, k] = 2 * x .* T[:,k-1] - T[:, k-2]\n",
    "    end\n",
    "    T\n",
    "end"
   ]
  },
  {
   "cell_type": "code",
   "execution_count": null,
   "metadata": {},
   "outputs": [],
   "source": [
    "x = LinRange(-1, 1, 50)\n",
    "plot(x, vander_chebyshev(x, 5), title=\"Chebyshev polynomials\")"
   ]
  },
  {
   "cell_type": "markdown",
   "metadata": {},
   "source": [
    "### Chebyshev polynomials are well-conditioned"
   ]
  },
  {
   "cell_type": "code",
   "execution_count": null,
   "metadata": {},
   "outputs": [],
   "source": [
    "plot_vcond(mat, points) = plot!([\n",
    "        cond(mat(points(-1, 1, n)))\n",
    "        for n in 2:30], label=\"$mat/$points\", marker=:auto, yscale=:log10)\n",
    "\n",
    "plot(title=\"Vandermonde condition numbers\", legend=:topleft, size=(1000, 600))\n",
    "plot_vcond(vander, LinRange)\n",
    "plot_vcond(vander, CosRange)\n",
    "plot_vcond(vander_chebyshev, LinRange)\n",
    "plot_vcond(vander_chebyshev, CosRange)"
   ]
  },
  {
   "cell_type": "markdown",
   "metadata": {},
   "source": [
    "### Lagrange interpolating polynomials revisited\n",
    "\n",
    "Let's re-examine the Lagrange polynomials as we vary the points.\n",
    "\n",
    "When using Chebyshev nodes in a Vandermonde matrix, the corresponding Lagrange basis functions are constructed using these nodes, allowing for a well-conditioned interpolation process."
   ]
  },
  {
   "cell_type": "code",
   "execution_count": null,
   "metadata": {},
   "outputs": [],
   "source": [
    "x_cos = CosRange(-1, 1, 11)\n",
    "x_lin = LinRange(-1, 1, 100)\n",
    "A = vander_chebyshev(x_lin, length(x_cos)) /\n",
    "    vander_chebyshev(x_cos)\n",
    "@show cond(A)\n",
    "plot(x_lin, A[:,1:5], size=(800, 600))\n",
    "scatter!(x_cos[1:5], ones(5), color=:black, label=nothing)\n",
    "scatter!(x_cos, zero(x_cos), color=:black, label=nothing)"
   ]
  },
  {
   "cell_type": "markdown",
   "metadata": {},
   "source": [
    "## 1. Accuracy of piecewise constant (nearest neighbor) interpolation\n",
    "\n",
    "### Recap on Piecewise Interpolation\n",
    "\n",
    "Main idea: Break the domain into subdomains, apply polynomial interpolation on each subdomain (interpolation points/nodes now called \"knots\").\n",
    "\n",
    "The simplest piecewise interpolation is the [piecewise constant interpolation](https://en.wikipedia.org/wiki/Interpolation#Piecewise_constant_interpolation).\n"
   ]
  },
  {
   "cell_type": "code",
   "execution_count": null,
   "metadata": {},
   "outputs": [],
   "source": [
    "function interp_nearest(x, s)\n",
    "    A = zeros(length(s), length(x))\n",
    "    for (i, t) in enumerate(s)\n",
    "        loc = nothing\n",
    "        dist = Inf\n",
    "        for (j, u) in enumerate(x)\n",
    "            if abs(t - u) < dist\n",
    "                loc = j\n",
    "                dist = abs(t - u)\n",
    "            end\n",
    "        end\n",
    "        A[i, loc] = 1\n",
    "    end\n",
    "    A\n",
    "end\n",
    "\n",
    "interp_nearest(LinRange(-1, 1, 3), LinRange(0, 1, 4))"
   ]
  },
  {
   "cell_type": "code",
   "execution_count": null,
   "metadata": {},
   "outputs": [],
   "source": [
    "A = interp_nearest(x_cos, x_lin)\n",
    "plot(x_lin, A[:, 1:5])\n",
    "scatter!(x_cos, ones(length(x_cos)))"
   ]
  },
  {
   "cell_type": "markdown",
   "metadata": {},
   "source": [
    "Are there any visual artifacts?"
   ]
  },
  {
   "cell_type": "code",
   "execution_count": null,
   "metadata": {},
   "outputs": [],
   "source": [
    "s = LinRange(-1, 1, 100)\n",
    "x = LinRange(-1, 1, 30)\n",
    "A = interp_nearest(x, s)\n",
    "cond(A)"
   ]
  },
  {
   "cell_type": "code",
   "execution_count": null,
   "metadata": {},
   "outputs": [],
   "source": [
    "plot(s, A * runge.(x))\n",
    "plot!(s, runge.(s))\n",
    "scatter!(x, runge.(x))"
   ]
  },
  {
   "cell_type": "code",
   "execution_count": null,
   "metadata": {},
   "outputs": [],
   "source": [
    "function interp_chebyshev(x, xx)\n",
    "    vander_chebyshev(xx, length(x)) / vander_chebyshev(x)\n",
    "end\n",
    "\n",
    "function interp_monomial(x, xx)\n",
    "    vander(xx, length(x)) * inv(vander(x))\n",
    "end\n",
    "\n",
    "function interp_error(ieval, x, xx, test)\n",
    "    \"\"\"Compute norm of interpolation error for function test\n",
    "    using method interp_and_eval from points x to points xx.\n",
    "    \"\"\"\n",
    "    A = ieval(x, xx)\n",
    "    y = test.(x)\n",
    "    yy = test.(xx)\n",
    "    norm(A * y - yy, Inf)\n",
    "end\n",
    "\n",
    "function plot_convergence(ievals, ptspaces; xscale=:log10, yscale=:log10, maxpts=40)\n",
    "    \"\"\"Plot convergence rates for an interpolation scheme applied\n",
    "    to a set of tests.\n",
    "    \"\"\"\n",
    "    xx = LinRange(-1, 1, 100)\n",
    "    ns = 2:maxpts\n",
    "    fig = plot(title=\"Convergence\",\n",
    "        xlabel=\"Number of points\",\n",
    "        ylabel=\"Interpolation error\",\n",
    "        xscale=xscale,\n",
    "        yscale=yscale,\n",
    "        legend=:bottomleft,\n",
    "        size=(1000, 800))\n",
    "    for ieval in ievals\n",
    "        for ptspace in ptspaces\n",
    "            for test in [runge]\n",
    "                errors = [interp_error(ieval, ptspace(-1, 1, n), xx, test)\n",
    "                         for n in ns]\n",
    "                plot!(ns, errors, marker=:circle, label=\"$ieval/$ptspace\")\n",
    "            end\n",
    "        end\n",
    "    end\n",
    "    for k in [1, 2, 3]\n",
    "        plot!(ns, ns .^ (-1.0*k), color=:black, label=\"\\$n^{-$k}\\$\")\n",
    "    end\n",
    "    fig\n",
    "end\n"
   ]
  },
  {
   "cell_type": "markdown",
   "metadata": {},
   "source": [
    "### So how accurate is it?"
   ]
  },
  {
   "cell_type": "code",
   "execution_count": null,
   "metadata": {},
   "outputs": [],
   "source": [
    "plot_convergence([interp_monomial, interp_chebyshev, interp_nearest], [LinRange, CosRange])"
   ]
  },
  {
   "cell_type": "markdown",
   "metadata": {},
   "source": [
    "Note that this convergence plot is specifically for the Runge function example given above, i.e., $f(x) = \\frac{1}{1+x^2}$. In general, convergence rates depend on smoothness of $f$.\n",
    "\n",
    "In general, a smoother f $\\Rightarrow$ faster convergence."
   ]
  },
  {
   "cell_type": "markdown",
   "metadata": {},
   "source": [
    "### Observations\n",
    "\n",
    "* Piecewise constant interpolation is **well conditioned** on any set of points, but it is not that accurate\n",
    "* Piecewise constant interpolation **converges very slowly** (needs many points to increase accuracy)\n",
    "* Chebyshev/polynomial interpolation **requires special input points**, otherwise it is **ill conditioned**\n",
    "* Chebyshev/polynomial interpolation has **\"exponential\" convergence** for smooth enough functions\n",
    "\n",
    "\n",
    "### How could we improve the accuracy?\n"
   ]
  },
  {
   "cell_type": "markdown",
   "metadata": {},
   "source": [
    "## 2. Cubic splines\n",
    "\n",
    "The main ideas with cubic splines are:\n",
    "\n",
    "* Piecewise cubic function\n",
    "* Continuous values\n",
    "* Continuous derivatives\n",
    "\n",
    "But let's see more generally what does Spline Interpolation looks like.\n",
    "\n",
    "### Splines\n",
    "\n",
    "\n",
    ":::{admonition} Did you know?\n",
    "Piecewise Interpolation (with a special set of functions, especially non-uniform rational basis splines, aka [NURBS](https://en.wikipedia.org/wiki/Non-uniform_rational_B-spline)) are widely used in CAD/CAM systems and Computer Graphics applications, such as in the Animation and Video Game industry.\n",
    "\n",
    "The name \"spline\" comes from a tool used by ship designers to draw smooth curves by hand.\n",
    "\n",
    "If we are given an arbitrary distribution of points, interpolation with a single polynomial is not robust.  Piecewise constant interpolation is not very accurate and gives a rough function.\n",
    "\n",
    "We could improve the accuracy by using a piecewise linear function, but the accuracy is still limited and the function still isn't smooth (there is a \"corner\" where the slope changes at each data point).\n",
    "\n",
    "Splines are a way to guarantee an arbitrary amount of smoothness.\n",
    "\n",
    "The idea is that given sorted input points $\\{x_i\\}_{i=0}^n$, we compute an interpolating polynomial $s_i(x)$ on every interval $(x_i, x_{i+1})$.\n",
    "\n",
    "In general, a spline of degree $k$ is a piecewise polynomial that is _continuously differentiable_ $k - 1$ times.\n",
    "\n"
   ]
  },
  {
   "cell_type": "markdown",
   "metadata": {},
   "source": [
    "## Spline Interpolation\n",
    "\n",
    "Given a function value $y_i$ at each $x_i$, we require\n",
    "$$\\begin{split}\n",
    "  s_i(x_i) &= y_i \\\\\n",
    "  s_i(x_{i+1}) &= y_{i+1}\n",
    "  \\end{split} $$\n",
    "so that the polynomial interpolates our data.\n",
    "\n",
    "If the polynomial has order greater than 1, we are left with some extra degrees of freedom.\n",
    "\n",
    "To provide a unique solution, we'll need to add conditions."
   ]
  },
  {
   "cell_type": "markdown",
   "metadata": {},
   "source": [
    "### Smoothness\n",
    "\n",
    "The conditions above guarantee continuity, but not smoothness.  We use our extra degree(s) of freedom to impose smoothness conditions of the form\n",
    "\n",
    "$$\\begin{split}\n",
    "  s_i'(x_{i+1}) &= s_{i+1}'(x_{i+1}) \\\\\n",
    "  s_i''(x_{i+1}) &= s_{i+1}''(x_{i+1}) .\n",
    "\\end{split}$$\n",
    "\n",
    "These conditions, which are applied at the interior nodes ($x=1,\\dotsc,n-1$) couple the splines from adjacent intervals and causes the spline approximation to be globally coupled."
   ]
  },
  {
   "cell_type": "markdown",
   "metadata": {},
   "source": [
    "### End-point conditions\n",
    "\n",
    "The conditions above are still not enough to guarantee a unique spline.\n",
    "\n",
    "Suppose we use quadratic polynomials for each $s_i$. Then with $n$ intervals, we have $n$ degrees of freedom after imposing the interpolation condition. Meanwhile, there are only $n-1$ internal nodes. If we impose continuity of the first derivative, we have $n - (n-1) = 1$ undetermined degrees of freedom. We could fix this by imposing a boundary condition, such as that the slope at one end-point (e.g., $s_0'(x_0)$) was equal to a known value. This is not symmetric and is often an unnatural condition.\n",
    "\n",
    "Suppose we use cubic polynomials. Now we have two degrees of freedom per interval after imposing the interpolation condition. If we impose continuity of the first and second derivatives, we have $2n - 2(n-1) = 2$ remaining degrees of freedom. A common choice here is the \"natural spline\", $s_0''(x_0) = 0$ and $s_n''(x_n) = 0$. Cubic splines are the most popular spline in this family."
   ]
  },
  {
   "cell_type": "markdown",
   "metadata": {},
   "source": [
    "### Solving spline interpolation problems\n",
    "\n",
    "We need to choose a basis for the polynomials $s_i(x)$. A cubic spline $\\in C^2[a,b]$.\n",
    "\n",
    "Continuous second derivatives $\\Rightarrow$ looks smooth to the eye.\n",
    "\n",
    "We could choose\n",
    "$$ s_i(x) = a_i + b_i x + c_i x^2 + d_i x^3 $$\n",
    "but this would be very ill-conditioned when the interval $(x_i,x_{i+1})$ is far from zero.\n",
    "A better-conditioned choice is\n",
    "$$ s_i(x) = a_i + b_i(x - x_i) + c_i(x - x_i)^2 + d_i(x - x_i)^3 . $$\n",
    "The interpolation property gives\n",
    "$$\\begin{split}\n",
    "a_i &= y_i \\\\\n",
    "a_i + b_i(x_{i+1} - x_i) + c_i(x_{i+1} - x_i)^2 + d_i(x_{i+1} - x_i)^3 &= y_{i+1}\n",
    "\\end{split}$$\n",
    "and continuity of the first and second derivatives gives\n",
    "$$\\begin{split}\n",
    "  s_i'(x_{i+1}) = b_i + 2c_i(x_{i+1} - x_i) + 3d_i(x_{i+1}-x_i)^2 &= b_{i+1} = s_{i+1}'(x_{i+1}) \\\\\n",
    "  2c_i + 6d_i(x_{i+1} - x_i) &= 2 c_{i+1} .\n",
    "\\end{split}$$\n",
    "After trivially eliminating the $a_i$, this is a block bidiagonal system ($3\\times 3$ blocks).  We can reduce this to a scalar tridiagonal system.  Define $\\delta_i = x_{i+1} - x_i$ and $\\Delta_i = y_{i+1} - y_i$.  Then eliminate $d_i$ using\n",
    "$$ d_i = \\frac{c_{i+1} - c_i}{3\\delta_i} $$\n",
    "and $b_i$ using\n",
    "$$\\begin{split}\n",
    "  b_i\\delta i &= \\Delta_i - c_i\\delta_i^2 - \\underbrace{\\frac{c_{i+1} - c_i}{3\\delta_i}}_{d_i} \\delta_i^3 \\\\\n",
    "  b_i &= \\frac{\\Delta_i}{\\delta_i} - \\frac{\\delta_i}{3}(c_{i+1} + 2c_i) .\n",
    "\\end{split}$$\n",
    "Substituting into the equation for continuity of the first derivative gives\n",
    "$$ \\frac{\\Delta_i}{\\delta i} - \\frac{\\delta_i}{3}(c_{i+1} + 2c_i) + 2c_i\\delta_i + (c_{i+1} - c_i)\\delta_i = \n",
    "\\frac{\\Delta_{i+1}}{\\delta_{i+1}} - \\frac{\\delta_{i+1}}{3}(c_{i+2} + 2c_{i+1}) $$\n",
    "which reduces to\n",
    "$$ \\delta_i c_i + 2(\\delta_i + \\delta_{i+1}) c_{i+1} + \\delta_{i+1} c_{i+2} = 3\\left(\\frac{\\Delta_{i+1}}{\\delta_{i+1}} - \\frac{\\Delta_i}{\\delta_i}\\right) . $$\n",
    "To impose boundary conditions, we add a dummy interval on the right end (the actual value of $x_{n+1}>x_n$ cancels out) so that the equation above is valid for $i = 0,\\dotsc,n-2$ and the right boundary condition $s_{n-1}''(x_n) = s_n''(x_n)$ becomes $c_n = 0$. The left boundary condition $s_0''(x_0) = 0$ yields $c_0 = 0$, so we must solve\n",
    "\\begin{equation}\n",
    "\\begin{bmatrix}\n",
    "1 & & & & & & \\\\\n",
    "\\delta_0 & 2(\\delta_0+\\delta_1) & \\delta_1 & & & & \\\\\n",
    "& \\delta_1 & 2(\\delta_1+\\delta_2) & \\delta_2 & & & \\\\\n",
    "& & \\ddots & \\ddots & \\ddots & & \\\\\n",
    "& & & & \\delta_{n-2} & 2(\\delta_{n-2}+\\delta_{n-1}) & \\delta_{n-1} \\\\\n",
    "& & & & & & 1 \\\\\n",
    "\\end{bmatrix}\n",
    "\\begin{bmatrix} c_0 \\\\ c_1 \\\\ \\vdots \\\\ \\\\ c_{n-1} \\\\ c_n \\end{bmatrix} = \n",
    "\\begin{bmatrix} 0 \\\\ 3\\left(\\frac{\\Delta_1}{\\delta_1} - \\frac{\\Delta_0}{\\delta_0} \\right) \\\\ \\vdots \\\\ 3\\left(\\frac{\\Delta_{n-1}}{\\delta_{n-1}} - \\frac{\\Delta_{n-2}}{\\delta_{n-2}}\\right) \\\\ 0 \\end{bmatrix} .\n",
    "\\end{equation}\n",
    "After solving this equation for $c_i$, we will recover $b_i$ and $d_i$, and then can evaluate the spline at arbitrary points."
   ]
  },
  {
   "cell_type": "code",
   "execution_count": null,
   "metadata": {},
   "outputs": [],
   "source": [
    "# Cubic spline interpolation code\n",
    "\n",
    "function spline_interp_and_eval(x, s)\n",
    "    n = length(x) - 1\n",
    "    function s_interp(y)\n",
    "        delta = x[2:end] - x[1:end-1] # diff(x)\n",
    "        Delta = diff(y)\n",
    "        T = zeros(n+1, n+1)\n",
    "        T[1,1] = 1\n",
    "        for i in 2:n\n",
    "            T[i, i-1:i+1] = [delta[i-1], 2*(delta[i-1] + delta[i]), delta[i]]\n",
    "        end\n",
    "        T[end,end] = 1\n",
    "        rhs = zeros(n+1)\n",
    "        rhs[2:end-1] = 3*(Delta[2:end] ./ delta[2:end] - Delta[1:end-1] ./ delta[1:end-1])\n",
    "        c = T \\ rhs\n",
    "        S = zeros(n, 5)\n",
    "        S[:, 1] = x[1:end-1]\n",
    "        S[:, 3] = c[1:end-1]\n",
    "        S[:, 5] = y[1:end-1]\n",
    "        S[:, 2] = diff(c) ./ (3 * delta)\n",
    "        S[:, 4] = Delta ./ delta - delta/3 .* (2*c[1:end-1] + c[2:end])\n",
    "        S\n",
    "    end\n",
    "\n",
    "    function polyval(p, x)\n",
    "        f = p[1]\n",
    "        for c in p[2:end]\n",
    "            f = f * x + c\n",
    "        end\n",
    "        f\n",
    "    end\n",
    "\n",
    "    function s_eval(S, s)\n",
    "        f = zero(s)\n",
    "        for (i, t) in enumerate(s)\n",
    "            left = max(1, searchsortedfirst(S[:,1], t) - 1)\n",
    "            f[i] = polyval(S[left, 2:end], t - S[left, 1])\n",
    "        end\n",
    "        f\n",
    "    end\n",
    "\n",
    "    A = zeros(length(s), length(x))\n",
    "    aye = diagm(ones(length(x)))\n",
    "    for i in 1:length(x)\n",
    "        e = aye[:, i]\n",
    "        S = s_interp(e)\n",
    "        A[:, i] = s_eval(S, s)\n",
    "    end\n",
    "    A\n",
    "end\n",
    "\n",
    "# End of Cubic spline interpolation code"
   ]
  },
  {
   "cell_type": "markdown",
   "metadata": {},
   "source": [
    "### How well do splines work?"
   ]
  },
  {
   "cell_type": "code",
   "execution_count": null,
   "metadata": {},
   "outputs": [],
   "source": [
    "x = LinRange(-1, 1, 14)\n",
    "y = runge.(x)\n",
    "s = LinRange(-1, 1, 100)\n",
    "A = spline_interp_and_eval(x, s)\n",
    "plot(s, [runge.(s) A * y])\n",
    "scatter!(x, y)"
   ]
  },
  {
   "cell_type": "code",
   "execution_count": null,
   "metadata": {},
   "outputs": [],
   "source": [
    "@show cond(A)\n",
    "plot(s, A[:,8])"
   ]
  },
  {
   "cell_type": "markdown",
   "metadata": {},
   "source": [
    "## 3. Interpolations.jl Library"
   ]
  },
  {
   "cell_type": "code",
   "execution_count": null,
   "metadata": {},
   "outputs": [],
   "source": [
    "using Interpolations\n",
    "\n",
    "x = LinRange(-1, 1, 14)\n",
    "y = runge.(x)\n",
    "flin = LinearInterpolation(x, y)\n",
    "\n",
    "plot([runge, t -> flin(t)], xlims=(-1, 1))\n",
    "scatter!(x, y)"
   ]
  },
  {
   "cell_type": "code",
   "execution_count": null,
   "metadata": {},
   "outputs": [],
   "source": [
    "x = LinRange(-1, 1, 14)\n",
    "y = runge.(x)\n",
    "\n",
    "fspline = CubicSplineInterpolation(x, y)\n",
    "plot([runge, t -> fspline(t)], xlims=(-1, 1))\n",
    "scatter!(x, y)"
   ]
  },
  {
   "cell_type": "code",
   "execution_count": null,
   "metadata": {},
   "outputs": [],
   "source": [
    "xx = LinRange(-1, 1, 100)\n",
    "norm(runge.(xx) - fspline.(xx))"
   ]
  },
  {
   "cell_type": "code",
   "execution_count": null,
   "metadata": {},
   "outputs": [],
   "source": [
    "# Let's check the condition number\n",
    "# First we make a matrix so we can compute condition number\n",
    "s = LinRange(-1, 1, 100)\n",
    "A = zeros(100, length(x))\n",
    "for i in 1:length(x)\n",
    "    y = zero.(x)\n",
    "    y[i] = 1\n",
    "    f = CubicSplineInterpolation(x, y)\n",
    "    A[:, i] = f.(s)\n",
    "end\n",
    "@show cond(A)\n",
    "plot(s, A[:, 5])"
   ]
  },
  {
   "cell_type": "markdown",
   "metadata": {},
   "source": []
  }
 ],
 "metadata": {
  "kernelspec": {
   "display_name": "Julia 1.10.4",
   "language": "julia",
   "name": "julia-1.10"
  },
  "language_info": {
   "file_extension": ".jl",
   "mimetype": "application/julia",
   "name": "julia",
   "version": "1.10.4"
  }
 },
 "nbformat": 4,
 "nbformat_minor": 2
}
