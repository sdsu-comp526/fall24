{
 "cells": [
  {
   "cell_type": "markdown",
   "id": "4159be0e",
   "metadata": {
    "hideCode": false,
    "hidePrompt": false,
    "slideshow": {
     "slide_type": "slide"
    }
   },
   "source": [
    "# 17) Householder QR\n",
    "\n",
    "## Last time\n",
    "\n",
    "* Gram-Schmidt orthogonalization\n",
    "* Classical vs Modified Gram-Schmidt\n",
    "* QR factorization\n",
    "\n",
    "## Today\n",
    "\n",
    "1. Recap from last time\n",
    "2. Householder QR  "
   ]
  },
  {
   "cell_type": "code",
   "execution_count": null,
   "id": "eb781a7a",
   "metadata": {
    "slideshow": {
     "slide_type": "skip"
    }
   },
   "outputs": [],
   "source": [
    "using LinearAlgebra\n",
    "using Plots\n",
    "using Polynomials\n",
    "default(linewidth=4, legendfontsize=12)\n",
    "\n",
    "function vander(x, k=nothing)\n",
    "    if isnothing(k)\n",
    "        k = length(x)\n",
    "    end\n",
    "    m = length(x)\n",
    "    V = ones(m, k)\n",
    "    for j in 2:k\n",
    "        V[:, j] = V[:, j-1] .* x\n",
    "    end\n",
    "    V\n",
    "end"
   ]
  },
  {
   "cell_type": "markdown",
   "id": "efc14559",
   "metadata": {
    "slideshow": {
     "slide_type": "slide"
    }
   },
   "source": [
    "## 1. Recap Gram-Schmidt orthogonalization\n",
    "\n",
    "\n",
    "\n",
    "For many applications, we find ourselves interested in the column spaces of a matrix $A$:\n",
    "\n",
    "$$\n",
    "\\langle a_1 \\rangle  \\subseteq \\langle a_1, a_2 \\rangle \\subseteq \\langle a_1, a_2, a_3 \\rangle \\ldots \n",
    "$$\n",
    "\n",
    "The idea of QR factorization is the construction of a sequence of orthonormal vectors, $q_1, q_2, \\ldots$ that span these successive spaces.\n",
    "\n",
    "Thus, suppose we want to find an orthogonal basis for the span of the columns of $A$:\n",
    "\n",
    "$$ \\Bigg[ a_1 \\Bigg| a_2 \\Bigg] = \\Bigg[ q_1 \\Bigg| q_2 \\Bigg] \\begin{bmatrix} r_{11} & r_{12} \\\\ 0 & r_{22} \\end{bmatrix} $$\n",
    "\n",
    "Given $a_1, a_2, \\dots$, we can construct vectors $q_1, q_2, \\ldots$ and entries $r_{ij}$, by an iterative process of successive orthogonalization.\n",
    "\n"
   ]
  },
  {
   "cell_type": "markdown",
   "id": "147b4437",
   "metadata": {},
   "source": [
    "### Gram-Schmidt with more parallelism\n",
    "\n",
    "\\begin{align}\n",
    "(I - q_2 q_2^T) (I - q_1 q_1^T) v &= (I - q_1 q_1^T - q_2 q_2^T + q_2 q_2^T q_1 q_1^T) v \\\\\n",
    "&= \\Bigg( I - \\Big[ q_1 \\Big| q_2 \\Big] \\begin{bmatrix} q_1^T \\\\ q_2^T \\end{bmatrix} \\Bigg) v\n",
    "\\end{align}"
   ]
  },
  {
   "cell_type": "code",
   "execution_count": null,
   "id": "3ac43046",
   "metadata": {
    "cell_style": "split"
   },
   "outputs": [],
   "source": [
    "function gram_schmidt_classical(A)\n",
    "    m, n = size(A)\n",
    "    Q = zeros(m, n)\n",
    "    R = zeros(n, n)\n",
    "    for j in 1:n\n",
    "        v = A[:,j]\n",
    "        R[1:j-1,j] = Q[:,1:j-1]' * v\n",
    "        v -= Q[:,1:j-1] * R[1:j-1,j]\n",
    "        R[j,j] = norm(v)\n",
    "        Q[:,j] = v / R[j,j]\n",
    "    end\n",
    "    Q, R\n",
    "end"
   ]
  },
  {
   "cell_type": "code",
   "execution_count": null,
   "id": "18964396",
   "metadata": {
    "cell_style": "split"
   },
   "outputs": [],
   "source": [
    "m = 20\n",
    "x = LinRange(-1, 1, m)\n",
    "A = vander(x, m)\n",
    "Q, R = gram_schmidt_classical(A)\n",
    "@show norm(Q' * Q - I) # really not orthogonal; unstable algorithm\n",
    "@show norm(Q * R - A)"
   ]
  },
  {
   "cell_type": "markdown",
   "id": "016784a5",
   "metadata": {},
   "source": [
    "### Why does the order of operations matter?\n",
    "\n",
    "\\begin{align}\n",
    "(I - q_2 q_2^T) (I - q_1 q_1^T) v &= (I - q_1 q_1^T - q_2 q_2^T + q_2 q_2^T q_1 q_1^T) v \\\\\n",
    "&= \\Bigg( I - \\Big[ q_1 \\Big| q_2 \\Big] \\begin{bmatrix} q_1^T \\\\ q_2^T \\end{bmatrix} \\Bigg) v\n",
    "\\end{align}\n",
    "is not exact in finite arithmetic."
   ]
  },
  {
   "cell_type": "markdown",
   "id": "4df6bf9a",
   "metadata": {},
   "source": [
    "###  We can look at the size of what's left over\n",
    "\n",
    "We project out the components of our vectors in the directions of each $q_j$."
   ]
  },
  {
   "cell_type": "code",
   "execution_count": null,
   "id": "5adf434b",
   "metadata": {},
   "outputs": [],
   "source": [
    "x = LinRange(-1, 1, 23)\n",
    "A = vander(x)\n",
    "Q, R = gram_schmidt_classical(A)\n",
    "scatter(diag(R), yscale=:log10)"
   ]
  },
  {
   "cell_type": "markdown",
   "id": "a54d97a6",
   "metadata": {},
   "source": [
    "#### The next vector is almost linearly dependent"
   ]
  },
  {
   "cell_type": "code",
   "execution_count": null,
   "id": "d2700ec2",
   "metadata": {},
   "outputs": [],
   "source": [
    "x = LinRange(-1, 1, 20)\n",
    "A = vander(x)\n",
    "Q, _ = gram_schmidt_classical(A)\n",
    "#Q, _ = qr(A) # try it with Julia's built-in\n",
    "v = A[:,end]\n",
    "@show norm(v)\n",
    "scatter(abs.(Q[:,1:end-1]' * v), yscale=:log10)"
   ]
  },
  {
   "cell_type": "markdown",
   "id": "c5c2b82f",
   "metadata": {
    "slideshow": {
     "slide_type": "slide"
    }
   },
   "source": [
    "### Right-looking modified Gram-Schmidt\n",
    "\n",
    "Each outer step of the modified Gram-Schmidt algorithm can be interpreted as a right-multiplication by a square upper-triangular matrix."
   ]
  },
  {
   "cell_type": "code",
   "execution_count": null,
   "id": "4eee54d5",
   "metadata": {
    "cell_style": "split"
   },
   "outputs": [],
   "source": [
    "function gram_schmidt_modified(A)\n",
    "    m, n = size(A)\n",
    "    Q = copy(A)\n",
    "    R = zeros(n, n)\n",
    "    for j in 1:n\n",
    "        R[j,j] = norm(Q[:,j])\n",
    "        Q[:,j] /= R[j,j]\n",
    "        R[j,j+1:end] = Q[:,j]'*Q[:,j+1:end]\n",
    "        Q[:,j+1:end] -= Q[:,j]*R[j,j+1:end]'\n",
    "    end\n",
    "    Q, R\n",
    "end"
   ]
  },
  {
   "cell_type": "code",
   "execution_count": null,
   "id": "372bd8ba",
   "metadata": {
    "cell_style": "split",
    "slideshow": {
     "slide_type": "fragment"
    }
   },
   "outputs": [],
   "source": [
    "m = 20\n",
    "x = LinRange(-1, 1, m)\n",
    "A = vander(x, m)\n",
    "Q, R = gram_schmidt_modified(A)\n",
    "@show norm(Q' * Q - I) # better, in terms of orthogonality error\n",
    "@show norm(Q * R - A)"
   ]
  },
  {
   "cell_type": "markdown",
   "id": "4e8d5238",
   "metadata": {
    "slideshow": {
     "slide_type": "slide"
    }
   },
   "source": [
    "### Classical versus modified?\n",
    "\n",
    "* Classical\n",
    "  * Really unstable, orthogonality error of size $1 \\gg \\epsilon_{\\text{machine}}$\n",
    "  * Don't need to know all the vectors in advance\n",
    "* Modified\n",
    "  * Needs to be right-looking for efficiency\n",
    "  * Less unstable, but orthogonality error $10^{-9} \\gg \\epsilon_{\\text{machine}}$"
   ]
  },
  {
   "cell_type": "code",
   "execution_count": null,
   "id": "c7afa881",
   "metadata": {
    "slideshow": {
     "slide_type": "fragment"
    }
   },
   "outputs": [],
   "source": [
    "m = 20\n",
    "x = LinRange(-1, 1, m)\n",
    "A = vander(x, m)\n",
    "Q, R = qr(A) # Julia built-in\n",
    "@show norm(Q' * Q - I)"
   ]
  },
  {
   "cell_type": "markdown",
   "id": "c9dea626",
   "metadata": {
    "slideshow": {
     "slide_type": "slide"
    }
   },
   "source": [
    "## 2. Householder triangularization\n",
    "\n",
    "Householder triangularization is numerically more stable than Gram-Schmidt orthogonaliztion, though it lacks the latter's applicability as a basis for iterative methods. The Householder algorithm is a process of \"orthogonal triangularization\", making a matrix triangular by a sequence of unitary matrix operations.\n",
    "\n",
    "Gram-Schmidt constructed a triangular matrix $R$ to orthogonalize $A$ into $Q$. Each step was an orthogonal _projector_, which is a rank-deficient operation. \n",
    "\n",
    "![Oblique projector (Trefethen and Bau, 1999)](../img/TB-oblique-projector.png)\n",
    "\n",
    "![Orthogonal projector (Trefethen and Bau, 1999)](../img/TB-orthogonal-projector.png)\n",
    "\n",
    "\n",
    "\n",
    "Householder uses orthogonal transformations (_reflectors_) to triangularize.\n",
    "\n",
    "$$ \\underbrace{Q_{n} \\dotsb Q_1}_{Q^T} A = R $$\n",
    "\n",
    "![Householder Reflector (Trefethen and Bau, 1999)](../img/TB-Householder.png)\n",
    "\n",
    "The reflection, as depicted above by Trefethen and Bau (1999) can be written $F = I - 2 \\frac{v v^T}{v^T v}$.\n",
    "\n",
    "The structure of the algorithm is\n",
    "\n",
    "$$ \\underbrace{\\begin{bmatrix} * & * & * \\\\ * & * & * \\\\ * & * & * \\\\ * & * & * \\\\ * & * & * \\\\ \\end{bmatrix}}_{A} \\to\n",
    "\\underbrace{\\begin{bmatrix} * & * & * \\\\ 0 & * & * \\\\ 0 & * & * \\\\ 0 & * & * \\\\ 0 & * & * \\\\ \\end{bmatrix}}_{Q_1 A} \\to\n",
    "\\underbrace{\\begin{bmatrix} * & * & * \\\\ 0 & * & * \\\\ 0 & 0 & * \\\\ 0 & 0 & * \\\\ 0 & 0 & * \\\\ \\end{bmatrix}}_{Q_2 Q_1 A} \\to\n",
    "\\underbrace{\\begin{bmatrix} * & * & * \\\\ 0 & * & * \\\\ 0 & 0 & * \\\\ 0 & 0 & 0 \\\\ 0 & 0 & 0 \\\\ \\end{bmatrix}}_{Q_3 Q_2 Q_1 A}\n",
    "$$"
   ]
  },
  {
   "cell_type": "markdown",
   "id": "3f884252",
   "metadata": {
    "slideshow": {
     "slide_type": "slide"
    }
   },
   "source": [
    "### Constructing the $Q_j$\n",
    "\n",
    "$$ \\underbrace{Q_{n-1} \\dotsb Q_0}_{Q^T} A = R $$\n",
    "\n",
    "Each of our $Q_j$ will have the form\n",
    "$$Q_j = \\begin{bmatrix} I_j & 0 \\\\ 0 & F \\end{bmatrix}$$\n",
    "where $F$ is a \"reflection\" that achieves\n",
    "$$ F x = \\begin{bmatrix} \\lVert x \\rVert \\\\ 0 \\\\ 0 \\\\ \\vdots \\end{bmatrix} $$\n",
    "where $x$ is the column of $R$ from the diagonal down.\n",
    "This transformation is a _reflection_ across a plane with normal $v = Fx - x = \\lVert x \\rVert e_1 - x$."
   ]
  },
  {
   "cell_type": "markdown",
   "id": "9e74363d",
   "metadata": {},
   "source": [
    "The two methods can be summarized as follows:\n",
    "- Gram-Schmidt: a triangular orthogonalization\n",
    "- Householder: an orthogonal triangularization"
   ]
  },
  {
   "cell_type": "markdown",
   "id": "24c22c5b",
   "metadata": {
    "slideshow": {
     "slide_type": "slide"
    }
   },
   "source": [
    "### Adventures in reflection"
   ]
  },
  {
   "cell_type": "code",
   "execution_count": null,
   "id": "ba85b79a",
   "metadata": {},
   "outputs": [],
   "source": [
    "A = rand(4, 4); A += A'\n",
    "v = copy(A[:,1])\n",
    "@show norm(v)\n",
    "v[1] -= norm(v)\n",
    "v = normalize(v)\n",
    "F = I - 2 * v * v'\n",
    "B = F * A # we have zeroed-out all entries below the diagonal in the first column"
   ]
  },
  {
   "cell_type": "code",
   "execution_count": null,
   "id": "abd85201",
   "metadata": {},
   "outputs": [],
   "source": [
    "v = copy(B[2:end, 2])\n",
    "v[1] -= norm(v)\n",
    "v = normalize(v)\n",
    "F = I - 2 * v * v'\n",
    "B[2:end, 2:end] = F * B[2:end, 2:end] # we have zeroed-out all entries below the diagonal also in the 2nd column\n",
    "B"
   ]
  },
  {
   "cell_type": "markdown",
   "id": "f2e2c788",
   "metadata": {
    "slideshow": {
     "slide_type": "slide"
    }
   },
   "source": [
    "### Householder: A naive algorithm"
   ]
  },
  {
   "cell_type": "code",
   "execution_count": null,
   "id": "39de6c32",
   "metadata": {
    "cell_style": "split"
   },
   "outputs": [],
   "source": [
    "function qr_householder_naive(A)\n",
    "    m, n = size(A)\n",
    "    R = copy(A)\n",
    "    V = [] # list of reflectors\n",
    "    for j in 1:n\n",
    "        v = copy(R[j:end, j])\n",
    "        v[1] -= norm(v)\n",
    "        v = normalize(v)\n",
    "        R[j:end,j:end] -= 2 * v * (v' * R[j:end,j:end])\n",
    "        push!(V, v)\n",
    "    end\n",
    "    V, R\n",
    "end"
   ]
  },
  {
   "cell_type": "code",
   "execution_count": null,
   "id": "a52053b4",
   "metadata": {
    "cell_style": "split",
    "slideshow": {
     "slide_type": "fragment"
    }
   },
   "outputs": [],
   "source": [
    "m = 4\n",
    "x = LinRange(-1, 1, m)\n",
    "A = vander(x, m)\n",
    "V, R = qr_householder_naive(A)\n",
    "_, R_ = qr(A)\n",
    "R_"
   ]
  },
  {
   "cell_type": "markdown",
   "id": "0bc27992",
   "metadata": {
    "slideshow": {
     "slide_type": "slide"
    }
   },
   "source": [
    "### How to interpret $V$ as $Q$?\n",
    "The following two programs compute a matrix containing vectors that generate the Householder reflectors whose product is Q."
   ]
  },
  {
   "cell_type": "code",
   "execution_count": null,
   "id": "94bacf9d",
   "metadata": {
    "cell_style": "split"
   },
   "outputs": [],
   "source": [
    "function reflectors_mult(V, x)\n",
    "    y = copy(x)\n",
    "    for v in reverse(V)\n",
    "        n = length(v) - 1\n",
    "        y[end-n:end] -= 2 * v * (v' * y[end-n:end])\n",
    "    end\n",
    "    y\n",
    "end\n",
    "\n",
    "function reflectors_to_dense(V)\n",
    "    m = length(V[1])\n",
    "    Q = diagm(ones(m))\n",
    "    for j in 1:m\n",
    "        Q[:,j] = reflectors_mult(V, Q[:,j])\n",
    "    end\n",
    "    Q\n",
    "end"
   ]
  },
  {
   "cell_type": "code",
   "execution_count": null,
   "id": "a2df10d2",
   "metadata": {
    "cell_style": "split"
   },
   "outputs": [],
   "source": [
    "m = 20\n",
    "x = LinRange(-1, 1, m)\n",
    "A = vander(x, m)\n",
    "V, R = qr_householder_naive(A)\n",
    "Q = reflectors_to_dense(V)\n",
    "@show norm(Q' * Q - I)\n",
    "@show norm(Q * R - A);"
   ]
  },
  {
   "cell_type": "markdown",
   "id": "08e782af",
   "metadata": {
    "slideshow": {
     "slide_type": "slide"
    }
   },
   "source": [
    "### Great, but we can still break it"
   ]
  },
  {
   "cell_type": "code",
   "execution_count": null,
   "id": "04ce452c",
   "metadata": {
    "cell_style": "split"
   },
   "outputs": [],
   "source": [
    "A = [1. 0; 0 1.] # identity matrix, with canonical basis vectors in columns\n",
    "V, R = qr_householder_naive(A)"
   ]
  },
  {
   "cell_type": "markdown",
   "id": "a9f593c3",
   "metadata": {
    "cell_style": "split",
    "slideshow": {
     "slide_type": "fragment"
    }
   },
   "source": [
    "We had the lines\n",
    "\n",
    "```julia\n",
    "    v = copy(R[j:end, j])\n",
    "    v[1] -= norm(v)\n",
    "    v = normalize(v)\n",
    "```\n",
    "What happens when `R` is already upper triangular? \n",
    "\n",
    "In this case $$v = \\begin{bmatrix}1 \\\\ 0  \\end{bmatrix} $$"
   ]
  },
  {
   "cell_type": "markdown",
   "id": "dfdc9bdc",
   "metadata": {
    "slideshow": {
     "slide_type": "slide"
    }
   },
   "source": [
    "![Choosing the better of two Householder reflectors (Trefethen and Bau, 1999).](../img/TB-Householder2reflectors.png)\n",
    "\n",
    "In general, there are two possible reflections. For numerical stability, it is important to choose the one that moves $x$ the largest distance, so that it is not too close to $x$ itself.\n",
    "\n",
    "In fact, suppose that in the above figure, angle of $H^{+}$ and the $e_1$ axis is much smaller than $x$ or $|| x || e_1$. Thus, the calculation of $v$ represents a subtraction of nearby quantities and will tend to suffer from cancellation errors. We can pick the sign of $v$ so that we can avoid such effects by ensuring that $||v||$ is never smaller than $||x||$."
   ]
  },
  {
   "cell_type": "markdown",
   "id": "8a394278",
   "metadata": {
    "slideshow": {
     "slide_type": "slide"
    }
   },
   "source": [
    "### Householder: An improved algorithm\n",
    "\n"
   ]
  },
  {
   "cell_type": "code",
   "execution_count": null,
   "id": "20b3e5b3",
   "metadata": {
    "cell_style": "split"
   },
   "outputs": [],
   "source": [
    "function qr_householder(A)\n",
    "    m, n = size(A)\n",
    "    R = copy(A)\n",
    "    V = [] # list of reflectors\n",
    "    for j in 1:n\n",
    "        v = copy(R[j:end, j])\n",
    "        v[1] += sign(v[1]) * norm(v) # <--- here we pick the sign of v so that moves it the largest distance\n",
    "        v = normalize(v)\n",
    "        R[j:end,j:end] -= 2 * v * v' * R[j:end,j:end]\n",
    "        push!(V, v)\n",
    "    end\n",
    "    V, R\n",
    "end"
   ]
  },
  {
   "cell_type": "code",
   "execution_count": null,
   "id": "40de033a",
   "metadata": {
    "cell_style": "split"
   },
   "outputs": [],
   "source": [
    "A = [1 0; 0 1]\n",
    "V, R = qr_householder(A)\n",
    "tau = [2*v[1]^2 for v in V]\n",
    "@show tau\n",
    "V1 = [v ./ v[1] for v in V]\n",
    "@show V1\n",
    "R"
   ]
  },
  {
   "cell_type": "markdown",
   "id": "47bb1f9b",
   "metadata": {
    "slideshow": {
     "slide_type": "slide"
    }
   },
   "source": [
    "### Householder is backward stable"
   ]
  },
  {
   "cell_type": "code",
   "execution_count": null,
   "id": "730f14aa",
   "metadata": {
    "cell_style": "split"
   },
   "outputs": [],
   "source": [
    "m = 40\n",
    "x = LinRange(-1, 1, m)\n",
    "A = vander(x, m)\n",
    "V, R = qr_householder(A)\n",
    "Q = reflectors_to_dense(V)\n",
    "@show norm(Q' * Q - I)\n",
    "@show norm(Q * R - A);"
   ]
  },
  {
   "cell_type": "code",
   "execution_count": null,
   "id": "4665ab0e",
   "metadata": {
    "cell_style": "split"
   },
   "outputs": [],
   "source": [
    "A = [1 0; 0 1.]\n",
    "V, R = qr_householder(A) # we don't get NaNs anymore\n",
    "qr(A) # Julia built-in"
   ]
  },
  {
   "cell_type": "markdown",
   "id": "eeb5a77b",
   "metadata": {
    "slideshow": {
     "slide_type": "slide"
    }
   },
   "source": [
    "### Orthogonality is preserved"
   ]
  },
  {
   "cell_type": "code",
   "execution_count": null,
   "id": "6fb11962",
   "metadata": {
    "cell_style": "split"
   },
   "outputs": [],
   "source": [
    "x = LinRange(-1, 1, 20)\n",
    "A = vander(x) # [1 | x | x^2 | ... x^19]\n",
    "Q, _ = gram_schmidt_classical(A)\n",
    "@show norm(Q' * Q - I)\n",
    "v = A[:,end]\n",
    "@show norm(v)\n",
    "scatter(abs.(Q[:,1:end-1]' * v), yscale=:log10, title=\"Classical Gram-Schmidt\")"
   ]
  },
  {
   "cell_type": "code",
   "execution_count": null,
   "id": "d539b75f",
   "metadata": {},
   "outputs": [],
   "source": [
    "Q = reflectors_to_dense(qr_householder(A)[1])\n",
    "@show norm(Q' * Q - I)\n",
    "scatter(abs.(Q[:,1:end-1]' * v), yscale=:log10, title=\"Householder QR\") # they are less linearly dependent, i.e., more linearly independent"
   ]
  },
  {
   "cell_type": "markdown",
   "id": "460aa246",
   "metadata": {},
   "source": [
    "### Summary: \n",
    "- Classic Gram-Schmidt: Usually very poor orthogonality.\n",
    "- Modified Gram-Schmidt: Depends upon condition of $A$. Fails completely when $A$ is singular.\n",
    "- Householder triangularization: Always good orthogonality and backward stable."
   ]
  }
 ],
 "metadata": {
  "@webio": {
   "lastCommId": null,
   "lastKernelId": null
  },
  "celltoolbar": "Slideshow",
  "hide_code_all_hidden": false,
  "kernelspec": {
   "display_name": "Julia 1.10.4",
   "language": "julia",
   "name": "julia-1.10"
  },
  "language_info": {
   "file_extension": ".jl",
   "mimetype": "application/julia",
   "name": "julia",
   "version": "1.10.4"
  },
  "rise": {
   "enable_chalkboard": true
  }
 },
 "nbformat": 4,
 "nbformat_minor": 5
}
