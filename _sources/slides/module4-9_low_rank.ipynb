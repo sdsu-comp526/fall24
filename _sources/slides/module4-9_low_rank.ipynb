{
 "cells": [
  {
   "cell_type": "markdown",
   "id": "4159be0e",
   "metadata": {
    "hideCode": false,
    "hidePrompt": false,
    "slideshow": {
     "slide_type": "slide"
    }
   },
   "source": [
    "# 21) Low Rank\n",
    "\n",
    "## Last time\n",
    "\n",
    "* Condition number and SVD\n",
    "* SVD for solving systems\n",
    "* Costs of decompositions \n",
    "\n",
    "## Today\n",
    "\n",
    "1. Reflection on algorithm choices\n",
    "2. Low-rank structure\n",
    "3. Primer on interpolation"
   ]
  },
  {
   "cell_type": "code",
   "execution_count": null,
   "id": "eb781a7a",
   "metadata": {
    "slideshow": {
     "slide_type": "skip"
    }
   },
   "outputs": [],
   "source": [
    "using LinearAlgebra\n",
    "using Plots\n",
    "default(linewidth=4, legendfontsize=12)\n",
    "\n",
    "function vander(x, k=nothing)\n",
    "    if isnothing(k)\n",
    "        k = length(x)\n",
    "    end\n",
    "    m = length(x)\n",
    "    V = ones(m, k)\n",
    "    for j in 2:k\n",
    "        V[:, j] = V[:, j-1] .* x\n",
    "    end\n",
    "    V\n",
    "end\n",
    "\n",
    "function gram_schmidt_classical(A)\n",
    "    m, n = size(A)\n",
    "    Q = zeros(m, n)\n",
    "    R = zeros(n, n)\n",
    "    for j in 1:n\n",
    "        v = A[:,j]\n",
    "        R[1:j-1,j] = Q[:,1:j-1]' * v\n",
    "        v -= Q[:,1:j-1] * R[1:j-1,j]\n",
    "        R[j,j] = norm(v)\n",
    "        Q[:,j] = v / R[j,j]\n",
    "    end\n",
    "    Q, R\n",
    "end\n",
    "\n",
    "function qr_householder(A)\n",
    "    m, n = size(A)\n",
    "    R = copy(A)\n",
    "    V = [] # list of reflectors\n",
    "    for j in 1:n\n",
    "        v = copy(R[j:end, j])\n",
    "        v[1] += sign(v[1]) * norm(v) # <--- here we pick the sign of v so that moves it the largest distance\n",
    "        v = normalize(v)\n",
    "        R[j:end,j:end] -= 2 * v * v' * R[j:end,j:end]\n",
    "        push!(V, v)\n",
    "    end\n",
    "    V, R\n",
    "end\n",
    "\n",
    "function qr_chol(A)\n",
    "    R = cholesky(A' * A).U\n",
    "    Q = A / R\n",
    "    Q, R\n",
    "end\n",
    "\n",
    "function qr_chol2(A)\n",
    "    Q, R = qr_chol(A)\n",
    "    Q, R1 = qr_chol(Q)\n",
    "    Q, R1 * R\n",
    "end\n",
    "\n",
    "function peanut()\n",
    "    theta = LinRange(0, 2*pi, 50)\n",
    "    r = 1 .+ .4*sin.(3*theta) + .6*sin.(2*theta)\n",
    "    r' .* [cos.(theta) sin.(theta)]'\n",
    "end\n",
    "\n",
    "function circle()\n",
    "    theta = LinRange(0, 2*pi, 50)\n",
    "    [cos.(theta) sin.(theta)]'\n",
    "end\n",
    "\n",
    "function Aplot(A)\n",
    "    \"Plot a transformation from X to Y\"\n",
    "    X = peanut()\n",
    "    Y = A * X\n",
    "    p = scatter(X[1,:], X[2,:], label=\"in\")\n",
    "    scatter!(p, Y[1,:], Y[2,:], label=\"out\")\n",
    "    X = circle()\n",
    "    Y = A * X\n",
    "    q = scatter(X[1,:], X[2,:], label=\"in\")\n",
    "    scatter!(q, Y[1,:], Y[2,:], label=\"out\")\n",
    "    plot(p, q, layout=2, aspect_ratio=:equal)\n",
    "end"
   ]
  },
  {
   "cell_type": "markdown",
   "id": "ecd15ff5",
   "metadata": {
    "slideshow": {
     "slide_type": "slide"
    }
   },
   "source": [
    "## 1. Reflection on algorithm choices\n",
    "\n",
    "### Recap on Condition number via SVD\n",
    "\n",
    "$$ U \\overbrace{\\begin{bmatrix} \\sigma_{\\max} && \\\\ & \\ddots & \\\\ && \\sigma_{\\min} \\end{bmatrix}}^{\\Sigma} V^T = A $$\n",
    "\n",
    "\\begin{align}\n",
    "\\lVert A \\rVert &= \\sigma_{\\max}  & \\textrm{, and  } \\;\n",
    "\\kappa(A) &= \\frac{\\sigma_{\\max}}{\\sigma_{\\min}} = \\texttt{cond}(A)\n",
    "\\end{align}"
   ]
  },
  {
   "cell_type": "code",
   "execution_count": null,
   "id": "804d0dfa",
   "metadata": {
    "cell_style": "split"
   },
   "outputs": [],
   "source": [
    "A = randn(2,2) # nonsymmetric\n",
    "A = A + A' # make it symmetric"
   ]
  },
  {
   "cell_type": "code",
   "execution_count": null,
   "id": "004dc4c7",
   "metadata": {
    "cell_style": "split"
   },
   "outputs": [],
   "source": [
    "@show svdvals(A) # Julia built-in\n",
    "U, S, V = svd(A) # Julia built-in\n",
    "@show U - U' # U is symmetric\n",
    "Aplot(A)"
   ]
  },
  {
   "cell_type": "markdown",
   "id": "20d44aa4",
   "metadata": {
    "slideshow": {
     "slide_type": "slide"
    }
   },
   "source": [
    "### Real-world example: autonomous vehicles"
   ]
  },
  {
   "cell_type": "markdown",
   "id": "88d99a86",
   "metadata": {
    "cell_style": "split"
   },
   "source": [
    "* Need to solve least squares problems in real time\n",
    "* Weight/cost/size increase with compute\n",
    "* What algorithm to choose?\n",
    "* What precision to use?\n",
    "\n",
    "Factors to consider: \n",
    "\n",
    "* How many objects?\n",
    "* Speed (of robot and objects)\n",
    "* Aerial, wheeled, walking\n",
    "* Fog, light -- longer memory?\n",
    "* Tolerences (how accurate does the solution need to be?)\n",
    "* Consequences of being wrong, who bears those consequences?"
   ]
  },
  {
   "cell_type": "code",
   "execution_count": null,
   "id": "95c8a178",
   "metadata": {
    "cell_style": "split",
    "slideshow": {
     "slide_type": "fragment"
    }
   },
   "outputs": [],
   "source": [
    "A = rand(5000, 500)\n",
    "A_32 = Float32.(A)\n",
    "@show cond(A)\n",
    "@time qr(A);       # Householder; backward stable\n",
    "@time qr_chol(A);  # Unstable\n",
    "@time qr(A_32);    # Julia built-in; best in terms of memory allocations; Run twice!"
   ]
  },
  {
   "cell_type": "code",
   "execution_count": null,
   "id": "f436c0c6",
   "metadata": {
    "cell_style": "split",
    "slideshow": {
     "slide_type": "fragment"
    }
   },
   "outputs": [],
   "source": [
    "V = vander(LinRange(-1, 1, 20))\n",
    "@show cond(V)\n",
    "Q, R = qr(Float32.(V)) # Julia built-in, but with single-precision Floats\n",
    "@show norm(Q' * Q - I)\n",
    "Q, R = qr_chol(V) # Unstable; really not orthogonal\n",
    "@show norm(Q' * Q - I)"
   ]
  },
  {
   "cell_type": "markdown",
   "id": "dd2fe38d",
   "metadata": {
    "slideshow": {
     "slide_type": "slide"
    }
   },
   "source": [
    "## 2. Low-rank structure\n",
    "\n",
    "### Best low rank approximation\n",
    "\n",
    "The SVD can be truncated to yield the best rank-$k$ approximation of a matrix."
   ]
  },
  {
   "cell_type": "code",
   "execution_count": null,
   "id": "dd76fee3",
   "metadata": {
    "cell_style": "split"
   },
   "outputs": [],
   "source": [
    "n, k = 2, 1\n",
    "A = randn(n, n)\n",
    "Aplot(A)"
   ]
  },
  {
   "cell_type": "code",
   "execution_count": null,
   "id": "f1671fe7",
   "metadata": {
    "cell_style": "split",
    "scrolled": true,
    "slideshow": {
     "slide_type": "fragment"
    }
   },
   "outputs": [],
   "source": [
    "@show U, S, V = svd(A)"
   ]
  },
  {
   "cell_type": "code",
   "execution_count": null,
   "id": "6775fafe",
   "metadata": {},
   "outputs": [],
   "source": [
    "@show Uhat = U[:, 1:k] # Uhat is now 2x1\n",
    "@show Shat = S[1:k] # truncate to first k singular values, in this case 1\n",
    "@show Vhat = V[:, 1:k] # Vhat is now 2x1\n",
    "@show Ahat = Uhat * diagm(Shat) * Vhat'\n",
    "@show norm(Ahat)\n",
    "Aplot(Ahat - A) # we have squished every point onto a line"
   ]
  },
  {
   "cell_type": "markdown",
   "id": "e6c94b02",
   "metadata": {
    "slideshow": {
     "slide_type": "slide"
    }
   },
   "source": [
    "### Example: Galaxies\n",
    "\n",
    "Suppose we have two galaxies of size $n_1 = 100$ and $n_2 = 200$, each randomly distributed around their respective centers."
   ]
  },
  {
   "cell_type": "code",
   "execution_count": null,
   "id": "73403b2b",
   "metadata": {},
   "outputs": [],
   "source": [
    "galaxy(center, sigma, n) = reshape(center, 1, 3) .+ sigma*randn(n, 3)\n",
    "g1 = galaxy([0 0 0], 1, 100)\n",
    "g2 = galaxy([10 0 0], 1, 100)\n",
    "\n",
    "scatter(g1[:,1], g1[:,2], aspect_ratio=:equal)\n",
    "scatter!(g2[:,1], g2[:,2])"
   ]
  },
  {
   "cell_type": "markdown",
   "id": "eb29068c",
   "metadata": {
    "slideshow": {
     "slide_type": "slide"
    }
   },
   "source": [
    "#### Forces between stars\n",
    "\n",
    "Consider [Newton's law of universal gravitation](https://en.wikipedia.org/wiki/Newton%27s_law_of_universal_gravitation) between two bodies with spatial extent (i.e., not point masses), then we can write the gravitational force from a star at position $x_2$ acting on a star at position $x_1$,\n",
    "        $$ F_{1,2} = G \\frac{m_1 m_2}{\\lVert \\mathbf{x}_2 - \\mathbf{x}_1 \\rVert^3} (\\mathbf{x}_2 - \\mathbf{x}_1) $$\n",
    "where $m_1$ and $m_2$ are the masses of each star, respectively."
   ]
  },
  {
   "cell_type": "code",
   "execution_count": null,
   "id": "6e82811b",
   "metadata": {},
   "outputs": [],
   "source": [
    "function gravitational_force(g1, g2)\n",
    "    m = size(g1, 1)\n",
    "    n = size(g2, 1)\n",
    "    F = zeros(3*m, n)\n",
    "    for i in 0:m-1\n",
    "        for j in 1:n\n",
    "            r = g2[j,:] - g1[1+i,:]\n",
    "            F[1+3*i:3*(i+1),j] = r / norm(r)^3\n",
    "        end\n",
    "    end\n",
    "    F\n",
    "end\n",
    "\n",
    "# Let's apply it to our two galaxies\n",
    "gravitational_force(g1, g2)"
   ]
  },
  {
   "cell_type": "markdown",
   "id": "0cb49af9",
   "metadata": {
    "slideshow": {
     "slide_type": "slide"
    }
   },
   "source": [
    "#### Spectrum"
   ]
  },
  {
   "cell_type": "code",
   "execution_count": null,
   "id": "1dea1cf9",
   "metadata": {
    "cell_style": "split"
   },
   "outputs": [],
   "source": [
    "g1 = galaxy([0 0 0], 1, 500)\n",
    "g2 = galaxy([10 0 0], 1, 500)\n",
    "F = gravitational_force(g1, g2)\n",
    "@show size(F)\n",
    "U, S, V = svd(F) # U is 1500 x 500, S is 500 long, and V is 500 x 500\n",
    "scatter(S, yscale=:log10, ylims=(1e-10, 10), xlims=(0, 200))"
   ]
  },
  {
   "cell_type": "code",
   "execution_count": null,
   "id": "7651cdc5",
   "metadata": {
    "cell_style": "split"
   },
   "outputs": [],
   "source": [
    "k = 10 # let's truncate at the first 10 singular values\n",
    "Uhat = U[:,1:k]   # Uhat is now 1500 x 10\n",
    "Shat = S[1:k]     # Shat is now 10 long\n",
    "Vhat = V[:,1:k]   # Vhat is now 500 x 10\n",
    "Fhat = Uhat * diagm(Shat) * Vhat' # Fhat is still 1500 x 500\n",
    "@show norm(F)\n",
    "@show norm(F - Fhat) # Fhat is the best rank-10 approximation of F and it is not too far off from F indeed"
   ]
  }
 ],
 "metadata": {
  "@webio": {
   "lastCommId": null,
   "lastKernelId": null
  },
  "celltoolbar": "Slideshow",
  "hide_code_all_hidden": false,
  "kernelspec": {
   "display_name": "Julia 1.10.4",
   "language": "julia",
   "name": "julia-1.10"
  },
  "language_info": {
   "file_extension": ".jl",
   "mimetype": "application/julia",
   "name": "julia",
   "version": "1.10.4"
  },
  "rise": {
   "enable_chalkboard": true
  }
 },
 "nbformat": 4,
 "nbformat_minor": 5
}
