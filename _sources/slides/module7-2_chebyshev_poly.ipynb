{
 "cells": [
  {
   "cell_type": "markdown",
   "metadata": {},
   "source": [
    "# 25) Chebyshev Polynomials and Piecewise Interpolation\n",
    "\n",
    "## Last time:\n",
    "- Interpolation using polynomials and function approximation\n",
    "- Lagrange Interpolating Polynomials\n",
    "- Newton polynomials\n",
    "- Choice of points and choice of bases\n",
    "- Runge phenomenon as a manifestation of ill-conditioning\n",
    "\n",
    "## Today:\n",
    "1. Chebyshev polynomials  \n",
    "  1.1 Chebyshev polynomials are well-conditioned\n",
    "2. Introduction to Piecewise Interpolation"
   ]
  },
  {
   "cell_type": "code",
   "execution_count": null,
   "metadata": {},
   "outputs": [],
   "source": [
    "using LinearAlgebra\n",
    "using Plots\n",
    "using LaTeXStrings\n",
    "default(linewidth=4, legendfontsize=12)\n",
    "\n",
    "function vander(x, k=nothing)\n",
    "    if isnothing(k)\n",
    "        k = length(x)\n",
    "    end\n",
    "    m = length(x)\n",
    "    V = ones(m, k)\n",
    "    for j in 2:k\n",
    "        V[:, j] = V[:, j-1] .* x\n",
    "    end\n",
    "    V\n",
    "end\n",
    "\n",
    "function vander_newton(x, abscissa=nothing)\n",
    "    if isnothing(abscissa)\n",
    "        abscissa = x\n",
    "    end\n",
    "    n = length(abscissa)\n",
    "    A = ones(length(x), n)\n",
    "    for i in 2:n\n",
    "        A[:,i] = A[:,i-1] .* (x .- abscissa[i-1])\n",
    "    end\n",
    "    A\n",
    "end\n",
    "\n",
    "CosRange(a, b, n) = (a + b)/2 .+ (b - a)/2 * cos.(LinRange(-pi, 0, n))"
   ]
  },
  {
   "cell_type": "markdown",
   "metadata": {},
   "source": [
    "So far, we have seen different strategies for Interpolation. \n",
    "\n",
    ":::{note}\n",
    "Interpolation $\\neq$ Function Approximation.\n",
    "\n",
    "But can we _use interpolation_ to accurately _approximate_ continuous functions?\n",
    ":::"
   ]
  },
  {
   "cell_type": "markdown",
   "metadata": {},
   "source": [
    "Suppose the interpolation data come from samples of a continuous function $f$ on $[a, b] \\in \\mathbb{R}$.\n",
    "\n",
    "Then we’d like the interpolant to be \"close to\" $f$ on $[a, b]$."
   ]
  },
  {
   "cell_type": "markdown",
   "metadata": {},
   "source": [
    "## 1. Chebyshev polynomials  \n",
    "\n",
    "We saw that interpolating a set of data points using the _monomial basis_ leads to the Vandermonde matrix. We noticed that when using the monomial basis for $P_n$, that is, ${1, x, x^2, \\dots, x^n}$, these monomial basis functions become increasingly _similar_. This means that the Vandermonde matrix columns become nearly _linearly-dependent_, i.e., it is an ill-conditioned matrix (hence, it is very sensitive to perturbations in the data).\n",
    "\n",
    "### A well-conditioned polynomial basis:\n",
    "\n",
    "Let's construct the Vandermonde matrix, but instead of using the canonical basis for polynomials, we'll use the [Legendre polynomials](https://en.wikipedia.org/wiki/Legendre_polynomials)."
   ]
  },
  {
   "cell_type": "code",
   "execution_count": null,
   "metadata": {},
   "outputs": [],
   "source": [
    "function vander_legendre(x, k=nothing)\n",
    "    if isnothing(k)\n",
    "        k = length(x) # Square by default\n",
    "    end\n",
    "    m = length(x)\n",
    "    Q = ones(m, k)\n",
    "    Q[:, 2] = x\n",
    "    for n in 1:k-2\n",
    "        Q[:, n+2] = ((2*n + 1) * x .* Q[:, n+1] - n * Q[:, n]) / (n + 1) # definition of Legendre's polynomials via the generating function\n",
    "    end\n",
    "    Q\n",
    "end"
   ]
  },
  {
   "cell_type": "code",
   "execution_count": null,
   "metadata": {},
   "outputs": [],
   "source": [
    "vcond(mat, points, nmax) = [cond(mat(points(-1, 1, n))) for n in 2:nmax]\n",
    "plot([vcond(vander_legendre, CosRange, 20)], yscale=:log10, label = \"cond of vander_legendre with cos nodes\")"
   ]
  },
  {
   "cell_type": "markdown",
   "metadata": {},
   "source": [
    "## A different set of points: Chebyshev nodes"
   ]
  },
  {
   "cell_type": "code",
   "execution_count": null,
   "metadata": {},
   "outputs": [],
   "source": [
    "CosRange(a, b, n) = (a + b)/2 .+ (b - a)/2 * cos.(LinRange(-pi, 0, n))\n",
    "\n",
    "plot([vcond(vander, LinRange, 20)], yscale=:log10, size=(1000, 600), label = \"vander LinRange\")\n",
    "plot!([vcond(vander, CosRange, 20)], yscale=:log10, label = \"vander CosRange\")\n",
    "plot!([vcond(vander_legendre, LinRange, 20)], yscale=:log10, label = \"vander_legendre LinRange\")\n",
    "plot!([vcond(vander_legendre, CosRange, 20)], yscale=:log10, label = \"vander_legendre CosRange\", legend = :topleft)"
   ]
  },
  {
   "cell_type": "markdown",
   "metadata": {},
   "source": [
    "### What's wrong with ill-conditioning?"
   ]
  },
  {
   "cell_type": "code",
   "execution_count": null,
   "metadata": {},
   "outputs": [],
   "source": [
    "runge(x) = 1 / (1 + 10*x^2)\n",
    "\n",
    "x_lin = LinRange(-1, 1, 20)\n",
    "x_cos = CosRange(-1, 1, 20)\n",
    "y_lin = runge.(x_lin)\n",
    "y_cos = runge.(x_cos)\n",
    "plot(runge, xlims=(-1, 1))\n",
    "scatter!(x_lin, y_lin)"
   ]
  },
  {
   "cell_type": "code",
   "execution_count": null,
   "metadata": {},
   "outputs": [],
   "source": [
    "plot(runge, xlims=(-1, 1))\n",
    "scatter!(x_cos, y_cos)"
   ]
  },
  {
   "cell_type": "code",
   "execution_count": null,
   "metadata": {},
   "outputs": [],
   "source": [
    "ourvander = vander_legendre\n",
    "p = ourvander(x_cos) \\ y_cos\n",
    "scatter(x_cos, y_cos, label = L\"(x_i,y_i)\")\n",
    "\n",
    "s = LinRange(-1, 1, 100)\n",
    "plot!(s, runge.(s), label = \"runge\")\n",
    "plot!(s, ourvander(s, length(x_cos)) * p, label = \"vander_legendre\")"
   ]
  },
  {
   "cell_type": "code",
   "execution_count": null,
   "metadata": {},
   "outputs": [],
   "source": [
    "# Let's check conditioning with the Chebyshev nodes:\n",
    "svdvals(ourvander(s, length(x_cos)) / ourvander(x_cos))"
   ]
  },
  {
   "cell_type": "code",
   "execution_count": null,
   "metadata": {},
   "outputs": [],
   "source": [
    "cond(ourvander(x_cos))"
   ]
  },
  {
   "cell_type": "markdown",
   "metadata": {},
   "source": [
    "## Definition of [Chebyshev polynomials](https://en.wikipedia.org/wiki/Chebyshev_polynomials)\n",
    "\n",
    "Define $$ T_n(x) = \\cos (n \\arccos(x)) .$$\n",
    "This turns out to be a polynomial, but it's not obvious why. It is a trigonometric polynomial.\n",
    "\n",
    "Recall $$ \\cos(a + b) = \\cos a \\cos b - \\sin a \\sin b .$$\n",
    "Let $y = \\arccos x$ and check\n",
    "$$ \\begin{split}\n",
    "    T_{n+1}(x) &= \\cos \\big( (n+1) y \\big) = \\cos ny \\cos y - \\sin ny \\sin y \\\\\n",
    "    T_{n-1}(x) &= \\cos \\big( (n-1) y \\big) = \\cos ny \\cos y + \\sin ny \\sin y\n",
    "\\end{split}$$\n",
    "Adding these together produces\n",
    "$$ T_{n+1}(x) + T_{n-1}(x) = 2\\cos ny \\cos y = 2 x \\cos ny = 2 x T_n(x) $$\n",
    "which yields a convenient recurrence:\n",
    "$$\\begin{split}\n",
    "T_0(x) &= 1 \\\\\n",
    "T_1(x) &= x \\\\\n",
    "T_{n+1}(x) &= 2 x T_n(x) - T_{n-1}(x)\n",
    "\\end{split}$$"
   ]
  },
  {
   "cell_type": "markdown",
   "metadata": {},
   "source": [
    "### Yet another basis:\n",
    "\n",
    "Let's construct again the Vandermonde matrix, but instead of using the canonical basis for polynomials, we'll use the [Chebyshev polynomials](https://en.wikipedia.org/wiki/Chebyshev_polynomials)."
   ]
  },
  {
   "cell_type": "code",
   "execution_count": null,
   "metadata": {},
   "outputs": [],
   "source": [
    "function vander_chebyshev(x, n=nothing)\n",
    "    if isnothing(n)\n",
    "        n = length(x) # Square by default\n",
    "    end\n",
    "    m = length(x)\n",
    "    T = ones(m, n)\n",
    "    if n > 1\n",
    "        T[:, 2] = x\n",
    "    end\n",
    "    for k in 3:n\n",
    "        T[:, k] = 2 * x .* T[:,k-1] - T[:, k-2]\n",
    "    end\n",
    "    T\n",
    "end"
   ]
  },
  {
   "cell_type": "code",
   "execution_count": null,
   "metadata": {},
   "outputs": [],
   "source": [
    "x = LinRange(-1, 1, 50)\n",
    "plot(x, vander_chebyshev(x, 5), title=\"Chebyshev polynomials\")"
   ]
  },
  {
   "cell_type": "markdown",
   "metadata": {},
   "source": [
    "### 1.1 Chebyshev polynomials are well-conditioned\n"
   ]
  },
  {
   "cell_type": "code",
   "execution_count": null,
   "metadata": {},
   "outputs": [],
   "source": [
    "plot_vcond(mat, points) = plot!([\n",
    "        cond(mat(points(-1, 1, n)))\n",
    "        for n in 2:30], label=\"$mat/$points\", marker=:auto, yscale=:log10)\n",
    "\n",
    "plot(title=\"Vandermonde condition numbers\", legend=:topleft, size=(1000, 600))\n",
    "plot_vcond(vander, LinRange)\n",
    "plot_vcond(vander, CosRange)\n",
    "plot_vcond(vander_chebyshev, LinRange)\n",
    "plot_vcond(vander_chebyshev, CosRange)"
   ]
  },
  {
   "cell_type": "markdown",
   "metadata": {},
   "source": [
    "### Lagrange interpolating polynomials revisited\n",
    "\n",
    "Let's re-examine the Lagrange polynomials as we vary the points.\n",
    "\n",
    "When using Chebyshev nodes in a Vandermonde matrix, the corresponding Lagrange basis functions are constructed using these nodes, allowing for a well-conditioned interpolation process."
   ]
  },
  {
   "cell_type": "code",
   "execution_count": null,
   "metadata": {},
   "outputs": [],
   "source": [
    "x_cos = CosRange(-1, 1, 11)\n",
    "x_lin = LinRange(-1, 1, 100)\n",
    "A = vander_chebyshev(x_lin, length(x_cos)) /\n",
    "    vander_chebyshev(x_cos)\n",
    "plot(x_lin, A[:,1:5], size=(800, 600))\n",
    "scatter!(x_cos[1:5], ones(5), color=:black, label=nothing)\n",
    "scatter!(x_cos, zero(x_cos), color=:black, label=nothing)"
   ]
  },
  {
   "cell_type": "code",
   "execution_count": null,
   "metadata": {},
   "outputs": [],
   "source": [
    "y = abs.(x_cos) # not a smooth function\n",
    "plot(x_lin, [abs.(x_lin) A * y])"
   ]
  },
  {
   "cell_type": "markdown",
   "metadata": {},
   "source": [
    "* Are there artifacts?"
   ]
  },
  {
   "cell_type": "markdown",
   "metadata": {},
   "source": [
    "## 2. Introduction to Piecewise Interpolation\n",
    "\n",
    "\n",
    "Main idea: Break the domain into subdomains, apply polynomial interpolation on each subdomain (interpolation points/nodes now called \"knots\").\n",
    "\n",
    "The simplest piecewise interpolation is the [piecewise constant interpolation](https://en.wikipedia.org/wiki/Interpolation#Piecewise_constant_interpolation).\n"
   ]
  },
  {
   "cell_type": "code",
   "execution_count": null,
   "metadata": {},
   "outputs": [],
   "source": [
    "function interp_nearest(x, s)\n",
    "    A = zeros(length(s), length(x))\n",
    "    for (i, t) in enumerate(s)\n",
    "        loc = nothing\n",
    "        dist = Inf\n",
    "        for (j, u) in enumerate(x)\n",
    "            if abs(t - u) < dist\n",
    "                loc = j\n",
    "                dist = abs(t - u)\n",
    "            end\n",
    "        end\n",
    "        A[i, loc] = 1\n",
    "    end\n",
    "    A\n",
    "end\n",
    "\n",
    "interp_nearest(LinRange(-1, 1, 3), LinRange(0, 1, 4))"
   ]
  },
  {
   "cell_type": "code",
   "execution_count": null,
   "metadata": {},
   "outputs": [],
   "source": [
    "A = interp_nearest(x_cos, x_lin)\n",
    "plot(x_lin, A[:, 1:5])\n",
    "scatter!(x_cos, ones(length(x_cos)))"
   ]
  },
  {
   "cell_type": "markdown",
   "metadata": {},
   "source": [
    "Are there any visual artifacts?"
   ]
  },
  {
   "cell_type": "code",
   "execution_count": null,
   "metadata": {},
   "outputs": [],
   "source": [
    "x = LinRange(-1, 1, 40)\n",
    "A = interp_nearest(x, x_lin)\n",
    "cond(A)"
   ]
  },
  {
   "cell_type": "code",
   "execution_count": null,
   "metadata": {},
   "outputs": [],
   "source": [
    "plot(x_lin, A * runge.(x))\n",
    "plot!(x_lin, runge.(x_lin))\n",
    "scatter!(x, runge.(x), title = \"Function approximation with piecewise constant polynomials\", size=(800, 600))"
   ]
  },
  {
   "cell_type": "code",
   "execution_count": null,
   "metadata": {},
   "outputs": [],
   "source": [
    "function interp_chebyshev(x, xx)\n",
    "    vander_chebyshev(xx, length(x)) * inv(vander_chebyshev(x))\n",
    "end\n",
    "\n",
    "function interp_monomial(x, xx)\n",
    "    vander(xx, length(x)) * inv(vander(x))\n",
    "end\n",
    "\n",
    "function interp_error(ieval, x, xx, test)\n",
    "    \"\"\"Compute norm of interpolation error for function test\n",
    "    using method interp_and_eval from points x to points xx.\n",
    "    \"\"\"\n",
    "    A = ieval(x, xx)\n",
    "    y = test.(x)\n",
    "    yy = test.(xx)\n",
    "    norm(A * y - yy, Inf)\n",
    "end\n",
    "\n",
    "function plot_convergence(ievals, ptspaces; xscale=:log10, yscale=:log10, maxpts=40)\n",
    "    \"\"\"Plot convergence rates for an interpolation scheme applied\n",
    "    to a set of tests.\n",
    "    \"\"\"\n",
    "    xx = LinRange(-1, 1, 100)\n",
    "    ns = 2:maxpts\n",
    "    fig = plot(title=\"Convergence\",\n",
    "        xlabel=\"Number of points\",\n",
    "        ylabel=\"Interpolation error\",\n",
    "        xscale=xscale,\n",
    "        yscale=yscale,\n",
    "        legend=:bottomleft,\n",
    "        size=(1000, 700))\n",
    "    for ieval in ievals\n",
    "        for ptspace in ptspaces\n",
    "            for test in [runge]\n",
    "                errors = [interp_error(ieval, ptspace(-1, 1, n), xx, test)\n",
    "                         for n in ns]\n",
    "                plot!(ns, errors, marker=:circle, label=\"$ieval/$ptspace\")\n",
    "            end\n",
    "        end\n",
    "    end\n",
    "    for k in [1, 2, 3]\n",
    "        plot!(ns, ns .^ (-1.0*k), color=:black, label=\"\\$n^{-$k}\\$\")\n",
    "    end\n",
    "    fig\n",
    "end\n"
   ]
  },
  {
   "cell_type": "markdown",
   "metadata": {},
   "source": [
    "### So how accurate is it?"
   ]
  },
  {
   "cell_type": "code",
   "execution_count": null,
   "metadata": {},
   "outputs": [],
   "source": [
    "plot_convergence([interp_monomial, interp_chebyshev, interp_nearest], [LinRange, CosRange])"
   ]
  },
  {
   "cell_type": "markdown",
   "metadata": {},
   "source": [
    "Note that this convergence plot is specifically for the Runge function example given above, i.e., $f(x) = \\frac{1}{1+x^2}$. In general, convergence rates depend on smoothness of $f$.\n",
    "\n",
    "In general, a smoother f $\\Rightarrow$ faster convergence."
   ]
  },
  {
   "cell_type": "markdown",
   "metadata": {},
   "source": []
  }
 ],
 "metadata": {
  "kernelspec": {
   "display_name": "Julia 1.10.4",
   "language": "julia",
   "name": "julia-1.10"
  },
  "language_info": {
   "file_extension": ".jl",
   "mimetype": "application/julia",
   "name": "julia",
   "version": "1.10.4"
  }
 },
 "nbformat": 4,
 "nbformat_minor": 2
}
