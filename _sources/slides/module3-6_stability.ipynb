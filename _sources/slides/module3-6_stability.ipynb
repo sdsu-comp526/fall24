{
 "cells": [
  {
   "cell_type": "markdown",
   "id": "4159be0e",
   "metadata": {
    "hideCode": false,
    "hidePrompt": false,
    "slideshow": {
     "slide_type": "slide"
    }
   },
   "source": [
    "# 13) Stability\n",
    "\n",
    "\n",
    "## Last time\n",
    "\n",
    "* Newton's method\n",
    "* Convergence of fixed-point method\n",
    "* Different formulation of Newton's method\n",
    "\n",
    "## Today\n",
    "\n",
    " 1. Forward and backward stability  \n",
    " 2. Recap and Q/A\n"
   ]
  },
  {
   "cell_type": "code",
   "execution_count": 1,
   "id": "eb781a7a",
   "metadata": {
    "slideshow": {
     "slide_type": "skip"
    }
   },
   "outputs": [],
   "source": [
    "using Plots\n",
    "default(linewidth=4, legendfontsize=12)\n"
   ]
  },
  {
   "cell_type": "markdown",
   "id": "2fd4e416",
   "metadata": {
    "cell_style": "split",
    "slideshow": {
     "slide_type": "slide"
    }
   },
   "source": [
    "## 1. Stability\n",
    "- Reading on [forward vs backward error and stability](https://fncbook.com/stability/#backward-error)"
   ]
  },
  {
   "cell_type": "markdown",
   "id": "61c50caa",
   "metadata": {
    "cell_style": "split",
    "slideshow": {
     "slide_type": "slide"
    }
   },
   "source": [
    "<img src=\"https://fncbook.com/build/backwarderror-55621e558c526e24b8fc1d61b00b65a3.svg\" width=\"90%\" />"
   ]
  },
  {
   "cell_type": "markdown",
   "id": "03bc4b23",
   "metadata": {
    "cell_style": "split",
    "slideshow": {
     "slide_type": ""
    }
   },
   "source": [
    "### (Forward) Stability\n",
    "**\"nearly the right answer to nearly the right question\"**\n",
    "$$ \\frac{\\lvert \\tilde f(x) - f(\\tilde x) \\rvert}{| f(\\tilde x) |} \\in O(\\epsilon_{\\text{machine}}) $$\n",
    "for some $\\tilde x$ that is close to $x$\n",
    "\n",
    "### Backward Stability\n",
    "**\"exactly the right answer to nearly the right question\"**\n",
    "$$ \\tilde f(x) = f(\\tilde x) $$\n",
    "for some $\\tilde x$ that is close to $x$\n",
    "\n",
    "Note:\n",
    "* Every backward stable algorithm is ($\\implies$) stable.\n",
    "* Not every stable algorithm is backward stable.\n",
    "* The difference is in the _focus_: forward analysis is concerned with what the method reaches, while backward analysis looks at the problem being solved (which is why we can speak of ill-conditioned methods and ill-conditioned problems). \n",
    "* In a backward stable algorithm the errors introduced during the algorithm have the same effect as a small perturbation in the data. \n",
    "* If the backward error is the same size as any uncertainty in the data then the algorithm produces as good a result as we can expect.\n",
    "\n",
    "#### Reading: [What is Numerical Stability?](https://nhigham.com/2020/08/04/what-is-numerical-stability/)"
   ]
  },
  {
   "cell_type": "markdown",
   "id": "365d2fcd",
   "metadata": {
    "slideshow": {
     "slide_type": "slide"
    }
   },
   "source": [
    "### Accuracy of backward stable algorithms (Theorem)\n",
    "\n",
    "A backward stable algorithm for computing $f(x)$ has relative accuracy\n",
    "$$ \\left\\lvert \\frac{\\tilde f(x) - f(x)}{f(x)} \\right\\rvert \\lesssim \\kappa(f) \\epsilon_{\\text{machine}} . $$\n",
    "Backward stability is generally the best we can hope for.\n",
    "\n",
    "In practice, it is rarely possible for a function to be backward stable when the output space is higher dimensional than the input space."
   ]
  },
  {
   "cell_type": "markdown",
   "id": "8f5afbbf",
   "metadata": {},
   "source": [
    "## 2. Recap and Q/A"
   ]
  },
  {
   "cell_type": "markdown",
   "id": "aa20b9eb",
   "metadata": {},
   "source": []
  }
 ],
 "metadata": {
  "@webio": {
   "lastCommId": "cd1892c1e2064686902fbdf399e6e3e3",
   "lastKernelId": "6eae1736-6531-4224-a6c2-38e7ff163d19"
  },
  "celltoolbar": "Slideshow",
  "hide_code_all_hidden": false,
  "kernelspec": {
   "display_name": "Julia 1.10.4",
   "language": "julia",
   "name": "julia-1.10"
  },
  "language_info": {
   "file_extension": ".jl",
   "mimetype": "application/julia",
   "name": "julia",
   "version": "1.10.4"
  },
  "rise": {
   "enable_chalkboard": true
  }
 },
 "nbformat": 4,
 "nbformat_minor": 5
}
