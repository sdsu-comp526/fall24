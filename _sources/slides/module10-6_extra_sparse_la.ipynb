{
 "cells": [
  {
   "cell_type": "markdown",
   "metadata": {},
   "source": [
    "# 40) Extra: Sparse Linear Algebra\n",
    "\n",
    "1. Sparse direct solvers  \n",
    "  1.1 Matrix orderings  \n",
    "  1.2 Impact on formulation  \n",
    "  1.3 Cost scaling  \n",
    "2. Iterative solvers"
   ]
  },
  {
   "cell_type": "code",
   "execution_count": null,
   "metadata": {},
   "outputs": [],
   "source": [
    "using Plots\n",
    "default(linewidth=3)\n",
    "using LinearAlgebra\n",
    "using SparseArrays\n",
    "\n",
    "function my_spy(A)\n",
    "    cmax = norm(vec(A), Inf)\n",
    "    s = max(1, ceil(120 / size(A, 1)))\n",
    "    spy(A, marker=(:square, s), c=:diverging_rainbow_bgymr_45_85_c67_n256, clims=(-cmax, cmax))\n",
    "end\n",
    "\n",
    "function laplacian_matrix(n)\n",
    "    h = 2 / n\n",
    "    rows = Vector{Int64}()\n",
    "    cols = Vector{Int64}()\n",
    "    vals = Vector{Float64}()\n",
    "    wrap(i) = (i + n - 1) % n + 1\n",
    "    idx(i, j) = (wrap(i)-1)*n + wrap(j)\n",
    "    stencil_diffuse = [-1, -1, 4, -1, -1] / h^2\n",
    "    for i in 1:n\n",
    "        for j in 1:n\n",
    "            append!(rows, repeat([idx(i,j)], 5))\n",
    "            append!(cols, [idx(i-1,j), idx(i,j-1), idx(i,j), idx(i+1,j), idx(i,j+1)])\n",
    "            append!(vals, stencil_diffuse)\n",
    "        end\n",
    "    end\n",
    "    sparse(rows, cols, vals)\n",
    "end"
   ]
  },
  {
   "cell_type": "markdown",
   "metadata": {},
   "source": [
    "## 1. Sparse Direct Solvers\n",
    "\n",
    "### Example: Advection-diffusion operator in 2D\n",
    "\n",
    "* Eliminate Dirichlet boundary conditions around all sides"
   ]
  },
  {
   "cell_type": "code",
   "execution_count": null,
   "metadata": {},
   "outputs": [],
   "source": [
    "function advdiff_matrix(n; kappa=1, wind=[0, 0])\n",
    "    h = 2 / (n + 1)\n",
    "    rows = Vector{Int64}()\n",
    "    cols = Vector{Int64}()\n",
    "    vals = Vector{Float64}()\n",
    "    idx((i, j),) = (i-1)*n + j\n",
    "    in_domain((i, j),) = 1 <= i <= n && 1 <= j <= n\n",
    "    stencil_advect = [-wind[1], -wind[2], 0, wind[1], wind[2]] / h\n",
    "    stencil_diffuse = [-1, -1, 4, -1, -1] * kappa / h^2\n",
    "    stencil = stencil_advect + stencil_diffuse\n",
    "    for i in 1:n\n",
    "        for j in 1:n\n",
    "            neighbors = [(i-1, j), (i, j-1), (i, j), (i+1, j), (i, j+1)]\n",
    "            mask = in_domain.(neighbors)\n",
    "            append!(rows, idx.(repeat([(i,j)], 5))[mask])\n",
    "            append!(cols, idx.(neighbors)[mask])\n",
    "            append!(vals, stencil[mask])\n",
    "        end\n",
    "    end\n",
    "    sparse(rows, cols, vals)\n",
    "end"
   ]
  },
  {
   "cell_type": "code",
   "execution_count": null,
   "metadata": {},
   "outputs": [],
   "source": [
    "A = advdiff_matrix(5, wind=[0, 0])\n",
    "@show norm(A - A')\n",
    "my_spy(A)"
   ]
  },
  {
   "cell_type": "markdown",
   "metadata": {},
   "source": [
    "### Gaussian elimination and Cholesky\n",
    "\n",
    "Performing Gaussian Elimination, we obtain the following decomposition:\n",
    "\n",
    "$$ A = LU$$\n",
    "\n",
    "Given a $2\\times 2$ block matrix, the algorithm proceeds as\n",
    "\\begin{split}\n",
    "  \\begin{bmatrix} A & B \\\\ C & D \\end{bmatrix} &=\n",
    "  \\begin{bmatrix} L_A & \\\\ C U_A^{-1} & 1 \\end{bmatrix}\n",
    "  \\begin{bmatrix} U_A & L_A^{-1} B \\\\ & S \\end{bmatrix}\n",
    "\\end{split}\n",
    "where $L_A U_A = A$ and\n",
    "$$S = D - C \\underbrace{U_A^{-1} L_A^{-1}}_{A^{-1}} B .$$\n",
    "\n",
    "#### Cholesky \n",
    "\n",
    "With Cholesky factorization, we obtain the following decomposition:\n",
    "\n",
    "$$A = L L^T $$\n",
    "\n",
    "Which means, that for a $2\\times 2$ block matrix, we have:\n",
    "\n",
    "\\begin{split}\n",
    "  \\begin{bmatrix} A & B^T \\\\ B & D \\end{bmatrix} &=\n",
    "  \\begin{bmatrix} L_A & \\\\ B L_A^{-T} & 1 \\end{bmatrix}\n",
    "  \\begin{bmatrix} L_A^T & L_A^{-1} B^T \\\\ & S \\end{bmatrix}\n",
    "\\end{split}\n",
    "where $L_A L_A^T = A$ and\n",
    "$$ S = D - B \\underbrace{L_A^{-T} L_A^{-1}}_{A^{-1}} B^T .$$"
   ]
  },
  {
   "cell_type": "code",
   "execution_count": null,
   "metadata": {},
   "outputs": [],
   "source": [
    "A = advdiff_matrix(10)\n",
    "N = size(A, 1)\n",
    "ch = cholesky(A, perm=1:N)\n",
    "my_spy(A)\n",
    "my_spy(sparse(ch.L))"
   ]
  },
  {
   "cell_type": "markdown",
   "metadata": {},
   "source": [
    "### Cost of a banded solve\n",
    "\n",
    "Consider an $N\\times N$ matrix with bandwidth $b$, $1 \\le b \\le N$.\n",
    "\n",
    "* Work one row at a time\n",
    "* Each row/column of panel has $b$ nonzeros\n",
    "* Schur complement update affects $b\\times b$ sub-matrix\n",
    "* Total compute cost $N b^2$\n",
    "* Storage cost $N b$\n",
    "\n",
    "#### Question\n",
    "* What bandwidth $b$ is needed for an $N = n\\times n \\times n$ cube in 3 dimensions?\n",
    "* What is the memory cost?\n",
    "* What is the compute cost?"
   ]
  },
  {
   "cell_type": "code",
   "execution_count": null,
   "metadata": {},
   "outputs": [],
   "source": [
    "my_spy(sparse(ch.L))"
   ]
  },
  {
   "cell_type": "markdown",
   "metadata": {},
   "source": [
    "### 1.1 Matrix orderings"
   ]
  },
  {
   "cell_type": "code",
   "execution_count": null,
   "metadata": {},
   "outputs": [],
   "source": [
    "n = 20\n",
    "A = advdiff_matrix(n)\n",
    "heatmap(reshape(1:n^2, n, n))"
   ]
  },
  {
   "cell_type": "code",
   "execution_count": null,
   "metadata": {},
   "outputs": [],
   "source": [
    "using Pkg\n",
    "Pkg.add(\"Metis\")\n",
    "\n",
    "import Metis\n",
    "perm, iperm = Metis.permutation(A)\n",
    "heatmap(reshape(iperm, n, n))"
   ]
  },
  {
   "cell_type": "code",
   "execution_count": null,
   "metadata": {},
   "outputs": [],
   "source": [
    "cholesky(A, perm=1:n^2)"
   ]
  },
  {
   "cell_type": "code",
   "execution_count": null,
   "metadata": {},
   "outputs": [],
   "source": [
    "cholesky(A, perm=Vector{Int64}(perm))"
   ]
  },
  {
   "cell_type": "markdown",
   "metadata": {},
   "source": [
    "### 1.2 Impact on formulation \n",
    "#### Cholesky factors in nested dissection"
   ]
  },
  {
   "cell_type": "code",
   "execution_count": null,
   "metadata": {},
   "outputs": [],
   "source": [
    "n = 10\n",
    "A = advdiff_matrix(n)\n",
    "perm, iperm = Metis.permutation(A)\n",
    "my_spy(A[perm, perm])"
   ]
  },
  {
   "cell_type": "code",
   "execution_count": null,
   "metadata": {},
   "outputs": [],
   "source": [
    "ch = cholesky(A, perm=Vector{Int64}(perm))\n",
    "my_spy(sparse(ch.L))"
   ]
  },
  {
   "cell_type": "markdown",
   "metadata": {},
   "source": [
    "* The dense blocks in factor $L$ are \"supernodes\"\n",
    "* They correspond to \"vertex separators\" in the ordering"
   ]
  },
  {
   "cell_type": "markdown",
   "metadata": {},
   "source": [
    "### 1.3 Cost scaling  \n",
    "\n",
    "#### Cost in nested dissection\n",
    "\n",
    "* Cost is dominated by dense factorization of the largest supernode\n",
    "* Its size comes from the vertex separator size"
   ]
  },
  {
   "cell_type": "markdown",
   "metadata": {},
   "source": [
    "#### Example: 2D square\n",
    "\n",
    "* $N = n^2$ dofs\n",
    "* Vertex separator of size $n$\n",
    "* Compute cost $v^3 = N^{3/2}$\n",
    "* Storage cost $N \\log N$"
   ]
  },
  {
   "cell_type": "markdown",
   "metadata": {},
   "source": [
    "#### Example: 3D Cube\n",
    "\n",
    "* $N = n^3$ dofs\n",
    "* Vertex separator of size $v = n^2$\n",
    "* Compute cost $v^3 = n^6 = N^2$\n",
    "* Storage cost $v^2 = n^4 = N^{4/3}$"
   ]
  },
  {
   "cell_type": "markdown",
   "metadata": {},
   "source": [
    "#### Questions\n",
    "\n",
    "1. How much does the cost change if we switch from Dirichlet to periodic boundary conditions in 2D?\n",
    "2. How much does the cost change if we move from 5-point stencil ($O(h^2)$ accuracy) to 9-point \"star\" stencil ($O(h^4)$ accuracy)?\n",
    "3. Would you rather solve a 3D problem on a $10\\times 10\\times 10000$ grid or $100\\times 100 \\times 100$?"
   ]
  },
  {
   "cell_type": "markdown",
   "metadata": {},
   "source": [
    "Let's test our intuition"
   ]
  },
  {
   "cell_type": "code",
   "execution_count": null,
   "metadata": {},
   "outputs": [],
   "source": [
    "n = 80\n",
    "A_dirichlet = advdiff_matrix(n)\n",
    "perm, iperm = Metis.permutation(A_dirichlet)\n",
    "cholesky(A_dirichlet, perm=Vector{Int64}(perm))\n",
    "#cholesky(A_dirichlet)"
   ]
  },
  {
   "cell_type": "code",
   "execution_count": null,
   "metadata": {},
   "outputs": [],
   "source": [
    "A_periodic = laplacian_matrix(n) + 1e-10*I\n",
    "perm, iperm = Metis.permutation(A_periodic)\n",
    "cholesky(A_periodic, perm=Vector{Int64}(perm))\n",
    "# cholesky(A_periodic) # try this"
   ]
  },
  {
   "cell_type": "markdown",
   "metadata": {},
   "source": [
    "#### How expensive and how fast?\n",
    "\n",
    "Suppose we have a second order accurate method in 3D."
   ]
  },
  {
   "cell_type": "code",
   "execution_count": null,
   "metadata": {},
   "outputs": [],
   "source": [
    "n = 2. .^ (2:13)\n",
    "N = n.^3\n",
    "error = (50 ./ n) .^ 2\n",
    "seconds = 1e-10 * N.^2\n",
    "hours = seconds / 3600\n",
    "cloud_dollars = 3 * hours\n",
    "kW_hours = 0.2 * hours\n",
    "barrel_of_oil = kW_hours / 1700\n",
    "kg_CO2 = kW_hours * 0.709\n",
    ";"
   ]
  },
  {
   "cell_type": "code",
   "execution_count": null,
   "metadata": {},
   "outputs": [],
   "source": [
    "cost = hours\n",
    "plot(cost, error, xlabel=\"cost\", ylabel=\"error\", xscale=:log10, yscale=:log10, label = \"error\")"
   ]
  },
  {
   "cell_type": "markdown",
   "metadata": {},
   "source": [
    "#### Remember: There is always an environmental cost\n",
    "\n",
    "* [Barrel of oil equivalent](https://en.wikipedia.org/wiki/Barrel_of_oil_equivalent)\n",
    "* [Electricity emission factor](https://www.epa.gov/energy/greenhouse-gases-equivalencies-calculator-calculations-and-references)"
   ]
  },
  {
   "cell_type": "markdown",
   "metadata": {},
   "source": [
    "### Outlook on sparse direct solvers\n",
    "\n",
    "* Sparse direct works well for 2D and almost-2D problems to medium large sizes\n",
    "  * High order FD methods make sparse direct cry\n",
    "  * High order finite element are okay, but [not high-continuity splines](https://doi.org/10.1016/j.cma.2011.11.002)\n",
    "  * Almost-2D includes a lot of industrial solid mechanics applications\n",
    "    * The body of a car, the frame of an airplane\n",
    "* Sparse direct is rarely usable in \"fully 3D\" problems\n",
    "  * \"thick\" structures\n",
    "    * soil mechanics, hydrology, building foundations, bones, tires\n",
    "  * fluid mechanics\n",
    "    * aerodynamics, heating/cooling systems, atmosphere/ocean\n",
    "* Setup cost (factorization) is much more expensive than solve\n",
    "  * Amortize cost in time-dependent problems\n",
    "    * Rosenbrock methods: factorization reused across stages\n",
    "    * \"lag\" Jacobian in Newton (results in \"modified Newton\")\n",
    "    * \"lag\" preconditioner with matrix-free iterative methods (Sundials, PETSc)\n",
    "  * Factorization pays off if you have many right hand sides"
   ]
  },
  {
   "cell_type": "markdown",
   "metadata": {},
   "source": [
    "## 2. Iterative solvers\n",
    "\n",
    "* Less reliable, more leaky abstraction\n",
    "* More sensitive to problem formulation\n",
    "* Slower for small problems\n",
    "* Several different strategies, each with tuning knobs\n",
    "* Accuracy tolerances needed"
   ]
  },
  {
   "cell_type": "markdown",
   "metadata": {},
   "source": [
    "### $O(N)$ solvers exist for many important problems\n",
    "\n",
    "* High-order discretization *can* be okay\n",
    "* Need multi-level representations (hierarchy of approximations)\n",
    "  * This can be interpreted very generally"
   ]
  }
 ],
 "metadata": {
  "kernelspec": {
   "display_name": "Julia 1.10.6",
   "language": "julia",
   "name": "julia-1.10"
  },
  "language_info": {
   "file_extension": ".jl",
   "mimetype": "application/julia",
   "name": "julia",
   "version": "1.10.6"
  }
 },
 "nbformat": 4,
 "nbformat_minor": 2
}
